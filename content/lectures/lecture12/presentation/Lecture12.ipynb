{
 "cells": [
  {
   "cell_type": "markdown",
   "metadata": {},
   "source": [
    "# <img style=\"float: left; padding-right: 10px; width: 45px\" src=\"https://github.com/Harvard-IACS/2018-CS109A/blob/master/content/styles/iacs.png?raw=true\"> CS109A Introduction to Data Science \n",
    "\n",
    "## Lecture 12 ($k$-NN Classification and Missingness)\n",
    "\n",
    "**Harvard University**<br>\n",
    "**Fall 2019**<br>\n",
    "**Instructors:** Pavlos Protopapas, Kevin Rader, and Chris Tanner<br>\n",
    "\n",
    "\n",
    "---"
   ]
  },
  {
   "cell_type": "code",
   "execution_count": null,
   "metadata": {
    "scrolled": true,
    "slideshow": {
     "slide_type": "slide"
    }
   },
   "outputs": [],
   "source": [
    "%matplotlib inline\n",
    "import sys\n",
    "import numpy as np\n",
    "import pylab as pl\n",
    "import pandas as pd\n",
    "import statsmodels.api as sm\n",
    "import matplotlib.pyplot as plt\n",
    "import matplotlib\n",
    "import sklearn as sk\n",
    "\n",
    "\n",
    "from sklearn.linear_model import LogisticRegression\n",
    "from sklearn.neighbors import KNeighborsClassifier \n",
    "import sklearn.metrics as met"
   ]
  },
  {
   "cell_type": "code",
   "execution_count": null,
   "metadata": {},
   "outputs": [],
   "source": [
    "df_heart = pd.read_csv('Heart.csv')\n",
    "df_heart.head()"
   ]
  },
  {
   "cell_type": "code",
   "execution_count": null,
   "metadata": {},
   "outputs": [],
   "source": [
    "data_x = df_heart.MaxHR\n",
    "data_y = df_heart.AHD.map(lambda x: 0 if x=='No' else 1)\n",
    "\n",
    "\n",
    "knn1 = KNeighborsClassifier(n_neighbors=1)\n",
    "knn5 = KNeighborsClassifier(n_neighbors=5)\n",
    "knn10 = KNeighborsClassifier(n_neighbors=10)\n",
    "knn50 = KNeighborsClassifier(n_neighbors=50)\n",
    "\n",
    "knn1.fit(data_x.values.reshape(-1,1), data_y);\n",
    "knn5.fit(data_x.values.reshape(-1,1), data_y);\n",
    "knn10.fit(data_x.values.reshape(-1,1), data_y);\n",
    "knn50.fit(data_x.values.reshape(-1,1), data_y);\n",
    "\n",
    "\n",
    "fig = plt.figure()\n",
    "fig.patch.set_alpha(0.0)\n",
    "plt.xkcd(scale=0.1, length=0.0)\n",
    "plt.gcf().subplots_adjust(bottom=0.20, left = 0.16, right=0.86)\n",
    "\n",
    "\n",
    "x=np.linspace(np.min(data_x),np.max(data_x))\n",
    "yhat1 = knn1.predict(x.reshape(-1,1))\n",
    "yhat5 = knn5.predict(x.reshape(-1,1))\n",
    "yhat10 = knn10.predict(x.reshape(-1,1))\n",
    "yhat50 = knn50.predict(x.reshape(-1,1))\n",
    "\n",
    "plt.plot(data_x, data_y, 'o' ,alpha=0.1, label='Data')\n",
    "plt.plot(x,yhat1, label='knn1')\n",
    "plt.plot(x,yhat5, label='knn5')\n",
    "plt.plot(x,yhat10, label='knn10')\n",
    "plt.plot(x,yhat50, label='knn50')\n",
    "\n",
    "plt.legend()\n",
    "\n",
    "plt.xlabel(\"MaxHR\")\n",
    "plt.ylabel(\"Heart disease (AHD)\")\n",
    "\n",
    "plt.show()\n"
   ]
  },
  {
   "cell_type": "code",
   "execution_count": null,
   "metadata": {},
   "outputs": [],
   "source": [
    "phat1 = knn1.predict_proba(x.reshape(-1,1))[:,1]\n",
    "phat5 = knn5.predict_proba(x.reshape(-1,1))[:,1]\n",
    "phat10 = knn10.predict_proba(x.reshape(-1,1))[:,1]\n",
    "phat50 = knn50.predict_proba(x.reshape(-1,1))[:,1]\n",
    "\n",
    "plt.plot(data_x, data_y, 'o' ,alpha=0.1, label='Data')\n",
    "plt.plot(x,phat1, label='knn1')\n",
    "plt.plot(x,phat5, label='knn5')\n",
    "plt.plot(x,phat10, label='knn10')\n",
    "plt.plot(x,phat50, label='knn50')\n",
    "\n",
    "plt.legend()\n",
    "\n",
    "plt.xlabel(\"MaxHR\")\n",
    "plt.ylabel(\"Heart disease (AHD)\")\n",
    "\n",
    "plt.show()"
   ]
  },
  {
   "cell_type": "code",
   "execution_count": null,
   "metadata": {},
   "outputs": [],
   "source": [
    "#two predictors\n",
    "\n",
    "knn1 = KNeighborsClassifier(n_neighbors=1)\n",
    "knn5 = KNeighborsClassifier(n_neighbors=5)\n",
    "knn10 = KNeighborsClassifier(n_neighbors=10)\n",
    "knn50 = KNeighborsClassifier(n_neighbors=50)\n",
    "\n",
    "data_x = df_heart[['MaxHR','RestBP']]\n",
    "data_y = df_heart.AHD.map(lambda x: 0 if x=='No' else 1)\n",
    "\n",
    "knn1.fit(data_x, data_y);\n",
    "knn5.fit(data_x, data_y);\n",
    "knn10.fit(data_x, data_y);\n",
    "knn50.fit(data_x, data_y);\n",
    "\n",
    "print(knn1.score(data_x, data_y))\n",
    "print(knn5.score(data_x, data_y))\n",
    "print(knn10.score(data_x, data_y))\n",
    "print(knn50.score(data_x, data_y))"
   ]
  },
  {
   "cell_type": "code",
   "execution_count": null,
   "metadata": {},
   "outputs": [],
   "source": [
    "# Don't forget to split into train and test \n",
    "# (or better yet, use cross-validation) \n",
    "# to determine what k is actually best!"
   ]
  },
  {
   "cell_type": "markdown",
   "metadata": {},
   "source": [
    "## Dealing with Missingness"
   ]
  },
  {
   "cell_type": "code",
   "execution_count": null,
   "metadata": {},
   "outputs": [],
   "source": [
    "# There are some missing values to begin with\n",
    "print(df_heart.shape)\n",
    "print(df_heart.dropna().shape)"
   ]
  },
  {
   "cell_type": "code",
   "execution_count": null,
   "metadata": {},
   "outputs": [],
   "source": [
    "import numpy.random as random\n",
    "random.seed(109)\n",
    "n = df_heart[\"MaxHR\"].size\n",
    "\n",
    "# create 20 missing completely at random observations\n",
    "miss = random.choice(n,20)\n",
    "\n",
    "heart_mcar = pd.read_csv('Heart.csv')\n",
    "heart_mcar.loc[miss,\"MaxHR\"] = np.nan\n",
    "print(heart_mcar[\"MaxHR\"][miss].head())\n",
    "print(heart_mcar.dropna().shape)"
   ]
  },
  {
   "cell_type": "code",
   "execution_count": null,
   "metadata": {},
   "outputs": [],
   "source": [
    "# create 20 missing at random observations \n",
    "miss = random.binomial(1,0.1+0.2*df_heart[\"Sex\"],n)\n",
    "\n",
    "heart_mar = pd.read_csv('Heart.csv')\n",
    "heart_mar.loc[miss==1,\"MaxHR\"]=np.nan\n",
    "print(heart_mar.loc[miss==1,\"MaxHR\"].head())\n",
    "print(heart_mar.dropna().shape)"
   ]
  },
  {
   "cell_type": "code",
   "execution_count": null,
   "metadata": {},
   "outputs": [],
   "source": [
    "# create 20 missing not at random observations \n",
    "miss = random.binomial(1,0.1*(df_heart[\"MaxHR\"]>df_heart[\"MaxHR\"].mean()),n)\n",
    "\n",
    "heart_mnar = pd.read_csv('Heart.csv')\n",
    "heart_mnar.loc[miss==1,\"MaxHR\"]=np.nan\n",
    "print(heart_mnar.loc[miss==1,\"MaxHR\"].head())\n",
    "print(heart_mnar.dropna().shape)"
   ]
  },
  {
   "cell_type": "code",
   "execution_count": null,
   "metadata": {},
   "outputs": [],
   "source": [
    "# sklearn is not happy when you give it missing values\n",
    "knn50 = KNeighborsClassifier(n_neighbors=50)\n",
    "\n",
    "data_x = heart_mcar[['MaxHR','RestBP']]\n",
    "data_y = df_heart.AHD.map(lambda x: 0 if x=='No' else 1)\n",
    "\n",
    "knn50.fit(data_x, data_y);"
   ]
  },
  {
   "cell_type": "code",
   "execution_count": null,
   "metadata": {},
   "outputs": [],
   "source": [
    "# So let's just fill in the mean to make it happy\n",
    "\n",
    "data_x = data_x.fillna(data_x.mean())\n",
    "\n",
    "knn50.fit(data_x, data_y);"
   ]
  },
  {
   "cell_type": "code",
   "execution_count": null,
   "metadata": {},
   "outputs": [],
   "source": []
  }
 ],
 "metadata": {
  "anaconda-cloud": {},
  "celltoolbar": "Slideshow",
  "kernelspec": {
   "display_name": "Python 3",
   "language": "python",
   "name": "python3"
  },
  "language_info": {
   "codemirror_mode": {
    "name": "ipython",
    "version": 3
   },
   "file_extension": ".py",
   "mimetype": "text/x-python",
   "name": "python",
   "nbconvert_exporter": "python",
   "pygments_lexer": "ipython3",
   "version": "3.7.3"
  }
 },
 "nbformat": 4,
 "nbformat_minor": 1
}
