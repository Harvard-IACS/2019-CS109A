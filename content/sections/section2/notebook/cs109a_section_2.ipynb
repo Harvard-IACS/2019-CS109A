{
 "cells": [
  {
   "cell_type": "markdown",
   "metadata": {},
   "source": [
    "# <img style=\"float: left; padding-right: 10px; width: 45px\" src=\"https://raw.githubusercontent.com/Harvard-IACS/2018-CS109A/master/content/styles/iacs.png\"> CS109A Introduction to Data Science \n",
    "\n",
    "## Standard Section 2: kNN and Linear Regression\n",
    "\n",
    "**Harvard University**<br/>\n",
    "**Fall 2019**<br/>\n",
    "**Instructors**: Pavlos Protopapas, Kevin Rader, and Chris Tanner<br/>\n",
    "**Section Leaders**: Marios Mattheakis, Abhimanyu (Abhi) Vasishth, Robbert (Rob) Struyven<br/>\n",
    "\n",
    "\n",
    "\n",
    "<hr style='height:2px'>"
   ]
  },
  {
   "cell_type": "code",
   "execution_count": null,
   "metadata": {
    "collapsed": true
   },
   "outputs": [],
   "source": [
    "#RUN THIS CELL \n",
    "import requests\n",
    "from IPython.core.display import HTML\n",
    "styles = requests.get(\"http://raw.githubusercontent.com/Harvard-IACS/2018-CS109A/master/content/styles/cs109.css\").text\n",
    "HTML(styles)"
   ]
  },
  {
   "cell_type": "markdown",
   "metadata": {},
   "source": [
    "For this section, our goal is to get you familiarized with k-Nearest Neighbors (kNN) and Linear Regression. We have learned how some aspects of dealing with data (loading in data files, scraping data from the web, visualizing data) and now we're moving to data modeling.\n",
    "\n",
    "Specifically, we will: \n",
    "    \n",
    "- Load in the Bikeshare dataset\n",
    "- Do some basic exploratory data analysis (EDA) of the dataset\n",
    "- Split it into a training and test dataset and understand why this is needed\n",
    "- Learn to use kNN using the sklearn package (bonus: we will also look at writing the algorithm without sklearn)\n",
    "- Learn to use the statsmodels and sklearn packages for Linear Regression.\n",
    "- Learn about confidence intervals and how to extract them."
   ]
  },
  {
   "cell_type": "markdown",
   "metadata": {},
   "source": [
    "For this section we will be using the following packages:"
   ]
  },
  {
   "cell_type": "code",
   "execution_count": null,
   "metadata": {
    "collapsed": true
   },
   "outputs": [],
   "source": [
    "#Matrices, Dataframe and Plotting Operations\n",
    "import numpy as np\n",
    "import pandas as pd\n",
    "import seaborn as sns\n",
    "import matplotlib\n",
    "import matplotlib.pyplot as plt\n",
    "%matplotlib inline"
   ]
  },
  {
   "cell_type": "markdown",
   "metadata": {},
   "source": [
    "# Working with Dataframes"
   ]
  },
  {
   "cell_type": "markdown",
   "metadata": {},
   "source": [
    "## Load in the Bikeshare dataset and perform EDA:"
   ]
  },
  {
   "cell_type": "markdown",
   "metadata": {},
   "source": [
    "The task is to build a regression model for a bike share system to **predict the total number of bike rentals in a given day**, based on attributes about the day. Such a demand forecasting model would be useful in planning the number of bikes that need to be available in the system on any given day, and also in monitoring traffic in the city. The data for this problem was collected from the Capital Bikeshare program in Washington D.C. over two years.   \n",
    "\n",
    "The data set is provided in the file 'bikeshare.csv'. Each row in these files contains 10 attributes describing a day and its weather.\n",
    "\n",
    "**Description of variables**\n",
    "\n",
    "- season (1 = spring, 2 = summer, 3 = fall, 4 = winter)\n",
    "- month (1 through 12, with 1 denoting Jan)\n",
    "- holiday (1 = the day is a holiday, 0 = otherwise)\n",
    "- day_of_week (0 through 6, with 0 denoting Sunday)\n",
    "- workingday (1 = the day is neither a holiday or weekend, 0 = otherwise)\n",
    "- weather \n",
    "    - 1: Clear, Few clouds, Partly cloudy, Partly cloudy\n",
    "    - 2: Mist + Cloudy, Mist + Broken clouds, Mist + Few clouds, Mist\n",
    "    - 3: Light Snow, Light Rain + Thunderstorm + Scattered clouds, Light Rain + Scattered clouds\n",
    "    - 4: Heavy Rain + Ice Pallets + Thunderstorm + Mist, Snow + Fog \n",
    "- temp (temperature in Celsius)\n",
    "- atemp (apparent, or relative outdoor, or real feel temperature, in Celsius)\n",
    "- humidity (relative humidity)\n",
    "- windspeed (wind speed)\n",
    "- **count** (response variable i.e. total number of bike rentals on the day)\n"
   ]
  },
  {
   "cell_type": "markdown",
   "metadata": {},
   "source": [
    "**Load the BikeShare dataset and drop the unnecessary columns**\n"
   ]
  },
  {
   "cell_type": "code",
   "execution_count": null,
   "metadata": {
    "collapsed": true
   },
   "outputs": [],
   "source": [
    "bikeshare = pd.read_csv('../data/bikeshare.csv').drop(columns=['Unnamed: 0'])\n",
    "print(\"Length of Dataset:\",len(bikeshare))\n",
    "display(bikeshare.head())"
   ]
  },
  {
   "cell_type": "code",
   "execution_count": null,
   "metadata": {
    "collapsed": true
   },
   "outputs": [],
   "source": [
    "display(bikeshare.describe())"
   ]
  },
  {
   "cell_type": "markdown",
   "metadata": {},
   "source": [
    "**We can also use the groupby function to look at mean stats aggregated by month**"
   ]
  },
  {
   "cell_type": "code",
   "execution_count": null,
   "metadata": {
    "collapsed": true
   },
   "outputs": [],
   "source": [
    "# Your code here\n",
    "\n"
   ]
  },
  {
   "cell_type": "code",
   "execution_count": null,
   "metadata": {
    "collapsed": true
   },
   "outputs": [],
   "source": [
    "# %load '../solutions/sol1.py'"
   ]
  },
  {
   "cell_type": "markdown",
   "metadata": {},
   "source": [
    "**Let's plot the variation of count with month. Is  there a seasonal change?**"
   ]
  },
  {
   "cell_type": "code",
   "execution_count": null,
   "metadata": {
    "collapsed": true
   },
   "outputs": [],
   "source": [
    "# Your code here\n",
    "\n"
   ]
  },
  {
   "cell_type": "code",
   "execution_count": null,
   "metadata": {
    "collapsed": true
   },
   "outputs": [],
   "source": [
    "# %load '../solutions/sol2.py'"
   ]
  },
  {
   "cell_type": "markdown",
   "metadata": {},
   "source": [
    "**What is temp, a_temp, is there a difference? Let us plot them both**"
   ]
  },
  {
   "cell_type": "code",
   "execution_count": null,
   "metadata": {
    "collapsed": true
   },
   "outputs": [],
   "source": [
    "# Your code here\n",
    "\n"
   ]
  },
  {
   "cell_type": "code",
   "execution_count": null,
   "metadata": {
    "collapsed": true
   },
   "outputs": [],
   "source": [
    "# %load '../solutions/sol3.py'"
   ]
  },
  {
   "cell_type": "markdown",
   "metadata": {},
   "source": [
    "**What did we do wrong here? Why does the plot look like this?**"
   ]
  },
  {
   "cell_type": "markdown",
   "metadata": {},
   "source": [
    "**Sorting!** Whenever your plot makes zig-zag changes across the scale, it is because ```matplotlib``` is trying to connect the points *sequentially* from the top (using a line plot) and skipping across the scale when $x_{i+1}$ is lower than $x_{i}$. So let's sort."
   ]
  },
  {
   "cell_type": "code",
   "execution_count": null,
   "metadata": {
    "collapsed": true
   },
   "outputs": [],
   "source": [
    "# Sorting\n",
    "new = bikeshare.sort_values(['temp'])\n",
    "\n",
    "plt.plot(new['temp'], new['atemp'],'-b',alpha=1)\n",
    "plt.xlabel('Temp')\n",
    "plt.ylabel('A - Temp')\n",
    "plt.title('A - Temp vs Temp')\n",
    "plt.show()"
   ]
  },
  {
   "cell_type": "markdown",
   "metadata": {},
   "source": [
    "**It still looks weird, why?**"
   ]
  },
  {
   "cell_type": "markdown",
   "metadata": {},
   "source": [
    "Let's have a closer look at the dataframe:"
   ]
  },
  {
   "cell_type": "code",
   "execution_count": null,
   "metadata": {
    "collapsed": true
   },
   "outputs": [],
   "source": [
    "display(new.head(10))"
   ]
  },
  {
   "cell_type": "markdown",
   "metadata": {},
   "source": [
    "There are multiple ```atemp``` values for each ```temp``` value, which if not sorted will bounce around at the same x-value. Thus, we need to sort both axes simultaneously."
   ]
  },
  {
   "cell_type": "code",
   "execution_count": null,
   "metadata": {
    "collapsed": true
   },
   "outputs": [],
   "source": [
    "new = bikeshare.sort_values(['temp','atemp'])\n",
    "plt.plot(new['temp'], new['atemp'],'-b')\n",
    "plt.xlabel('Temp')\n",
    "plt.ylabel('A - Temp')\n",
    "plt.title('A - Temp vs Temp')\n",
    "plt.show()"
   ]
  },
  {
   "cell_type": "markdown",
   "metadata": {},
   "source": [
    "By plotting efficiently, we found an anomaly we would have otherwise overlooked. It looks like there is a problem with the data around ```temp greater than 30``` and ```atemp less than 10```."
   ]
  },
  {
   "cell_type": "markdown",
   "metadata": {},
   "source": [
    "**Show all rows in the dataframe where the temp is greater than 30 and the atemp is less than 10**"
   ]
  },
  {
   "cell_type": "code",
   "execution_count": null,
   "metadata": {
    "collapsed": true
   },
   "outputs": [],
   "source": [
    "# Your code here\n",
    "\n"
   ]
  },
  {
   "cell_type": "code",
   "execution_count": null,
   "metadata": {
    "collapsed": true
   },
   "outputs": [],
   "source": [
    "# %load '../solutions/sol4.py'"
   ]
  },
  {
   "cell_type": "markdown",
   "metadata": {},
   "source": [
    "Anomaly! ```atemp``` and ```temp``` are usually lineary related except at this one datapoint. Now, we get to make a judgement call as to whether we should keep the datapoint? We'll come back to this question after the lecture on Missing Data and Imputation. Worth a thought though."
   ]
  },
  {
   "cell_type": "code",
   "execution_count": null,
   "metadata": {
    "collapsed": true
   },
   "outputs": [],
   "source": [
    "bikeshare= bikeshare.drop([188])"
   ]
  },
  {
   "cell_type": "markdown",
   "metadata": {},
   "source": [
    "We can now try what we wrote and we should end up with no rows in the dataframe where the temp is greater than 30 and the atemp is less than 10"
   ]
  },
  {
   "cell_type": "code",
   "execution_count": null,
   "metadata": {
    "collapsed": true
   },
   "outputs": [],
   "source": [
    "# %load '../solutions/sol4.py'"
   ]
  },
  {
   "cell_type": "markdown",
   "metadata": {},
   "source": [
    "## Split up the data into a training set and a test set using the 'train_test_split' function from sklearn:"
   ]
  },
  {
   "cell_type": "markdown",
   "metadata": {},
   "source": [
    "Having an idea of what the data looks like, we want to predict count. We will be breaking up the data into a **training** and a **testing** set. The **training** set will be used to train the model, while the **testing** set will be used to quantify how well our model does. The **testing** set is a way for us to ensure our model doesn't overfit our training data."
   ]
  },
  {
   "cell_type": "markdown",
   "metadata": {},
   "source": [
    "**Let us first create a function that will randomly split the data up into a 70-30 split, with 70% of the data going into the training set:**"
   ]
  },
  {
   "cell_type": "code",
   "execution_count": null,
   "metadata": {
    "collapsed": true
   },
   "outputs": [],
   "source": [
    "from sklearn.model_selection import train_test_split\n",
    "\n",
    "train_data, test_data = train_test_split(bikeshare, test_size=0.30, random_state=42)\n",
    "\n",
    "print(\"Length of Training set = \",len(train_data))\n",
    "print(\"Length of Testing set  = \",len(test_data))"
   ]
  },
  {
   "cell_type": "markdown",
   "metadata": {},
   "source": [
    "**Calculate the ratio of the number of points in the training set to the number of points in the testing set to see if we have split the data correctly**"
   ]
  },
  {
   "cell_type": "code",
   "execution_count": null,
   "metadata": {
    "collapsed": true
   },
   "outputs": [],
   "source": [
    "# Your code here\n",
    "\n"
   ]
  },
  {
   "cell_type": "code",
   "execution_count": null,
   "metadata": {
    "collapsed": true
   },
   "outputs": [],
   "source": [
    "# %load '../solutions/sol5.py'"
   ]
  },
  {
   "cell_type": "markdown",
   "metadata": {},
   "source": [
    "# kNN Regression\n",
    "\n",
    "![knn](../fig/knn_1.png)\n",
    "![knn](../fig/knn_2.png)\n",
    "![knn](../fig/knn_3.png)\n",
    "\n",
    "\n",
    "## Using sklearn to implement kNN:"
   ]
  },
  {
   "cell_type": "markdown",
   "metadata": {},
   "source": [
    "We will now use the [scikit learn (sklearn)](https://scikit-learn.org/stable/index.html) package to implement kNN. Then, we can fit the model and use various metrics to assess our accuracy.\n",
    "\n",
    "**General sklearn model fitting code-structure :**\n",
    "\n",
    "```\n",
    "#Split Data into Train and Test Set\n",
    "x_train, y_train = training_data.drop('Response_Variable', axis=1), training_data['Response_Variable']\n",
    "x_test, y_test = test_data.drop('Response_Variable', axis=1), test_data['Response_Variable']\n",
    "\n",
    "#Define Model\n",
    "model = sklearn_model_name(hyper_parameter1 = value1, hyper_parameter2 = value2)\n",
    "\n",
    "#Fit Model\n",
    "model.fit(x_train, y_train)\n",
    "\n",
    "#Get Prediction\n",
    "y_pred_train = model.predict(x_train)\n",
    "y_pred_test = model.predict(x_test)\n",
    "\n",
    "#Evaluate Model\n",
    "r2_train = model.score(y_train, y_pred_train)\n",
    "r2_test = model.score(y_test, y_pred_test)\n",
    "\n",
    "#Print Results\n",
    "print(\"Score for Model (Training):\", r2_train)\n",
    "print(\"Score for Model (Testing) :\", r2_test)\n",
    "```\n",
    "\n",
    "* Every model has a list of hyperparameters that can be set using sklearn for the specific problem. In practice it is advisable to cross-validate a list of values to find best model fit.\n",
    "\n",
    "* ```model.fit``` calculates the parameters of your model corresponding to the training data and hyperparameters you provided.\n",
    "\n",
    "* ```model.predict(X)``` is the standard method called to make the model predict values for a specific X. Depending on if you feed x_train or x_test, you will get a y_prediction_train or y_prediction_test respectively.\n",
    "\n",
    "* Evaluation of model can vary according to the task at hand i.e. Regression or Classification. For Regression, $R^2$ Score is standard while for Classification, Accuracy (%) is standard."
   ]
  },
  {
   "cell_type": "code",
   "execution_count": null,
   "metadata": {
    "collapsed": true
   },
   "outputs": [],
   "source": [
    "from sklearn.neighbors import KNeighborsRegressor\n",
    "\n",
    "# Set kNN parameter:\n",
    "k = 5\n",
    "\n",
    "# Now we can fit the model, predict our variable of interest, and then evaluate our fit:\n",
    "# First, we create the classifier object:\n",
    "neighbors = KNeighborsRegressor(n_neighbors=k)\n",
    "\n",
    "# Then, we fit the model using x_train as training data and y_train as target values:\n",
    "neighbors.fit(train_data[['temp']], train_data['count'])\n",
    "\n",
    "# Retreieve our predictions:\n",
    "prediction_knn = neighbors.predict(test_data[['temp']])\n",
    "\n",
    "# This returns the mean accuracy on the given test data and labels, or in other words, \n",
    "# the R squared value -- A constant model that always predicts the expected value of y, \n",
    "# disregarding the input features, would get a R^2 score of 1.\n",
    "r2_train = neighbors.score(train_data[['temp']], train_data['count'])\n",
    "r2_test = neighbors.score(test_data[['temp']], test_data['count'])\n",
    "print(\"Length of Test Data:\", len(test_data['count']))\n",
    "print(\"R^2 Score of kNN on training set:\", r2_train)\n",
    "print(\"R^2 Score of kNN on testing set: \", r2_test)"
   ]
  },
  {
   "cell_type": "code",
   "execution_count": null,
   "metadata": {
    "collapsed": true
   },
   "outputs": [],
   "source": [
    "# SubPlots\n",
    "fig, axes = plt.subplots(nrows=1, ncols=2, figsize=(20,6))\n",
    "axes[0].set_ylim([0,10000])\n",
    "axes[0].plot(train_data['temp'], train_data['count'], 'o', label = 'Data' )\n",
    "\n",
    "sorted_temp = train_data.sort_values(['temp'])\n",
    "prediction_knn = neighbors.predict(sorted_temp[['temp']])\n",
    "\n",
    "axes[0].plot(sorted_temp['temp'], prediction_knn, '*-', label = 'Prediction')\n",
    "axes[0].set_xlabel('Temperature')\n",
    "axes[0].set_ylabel('# of Rides')\n",
    "axes[0].set_title(\"Temp vs Count kNN Regression Training Set (k={})\".format(k))\n",
    "axes[0].legend()\n",
    "\n",
    "axes[1].set_ylim([0,10000])\n",
    "axes[1].plot(test_data['temp'], test_data['count'],'o', label = 'Data' )#, '*')\n",
    "\n",
    "sorted_temp = test_data.sort_values(['temp'])\n",
    "prediction_knn = neighbors.predict(sorted_temp[['temp']])\n",
    "\n",
    "axes[1].plot(sorted_temp['temp'], prediction_knn, '*-', label = 'Prediction')\n",
    "axes[1].set_xlabel('Temperature')\n",
    "axes[1].set_ylabel('# of Rides')\n",
    "axes[1].set_title(\"Temp vs Count kNN Regression Test Set (k={})\".format(k))\n",
    "axes[1].legend()\n",
    "\n",
    "fig.suptitle(\"Bike Rides\");"
   ]
  },
  {
   "cell_type": "markdown",
   "metadata": {},
   "source": [
    "# Linear Regression\n",
    "\n",
    "![linear regression](../fig/linear_regression.png)"
   ]
  },
  {
   "cell_type": "markdown",
   "metadata": {},
   "source": [
    "We just went over the kNN prediction method. Now, we will fit the same data with Linear Regression model. We will use a the same training/testing dataset as before and create our linear regression objects."
   ]
  },
  {
   "cell_type": "code",
   "execution_count": null,
   "metadata": {
    "collapsed": true
   },
   "outputs": [],
   "source": [
    "from sklearn.linear_model import LinearRegression\n",
    "from statsmodels.api import OLS\n",
    "import statsmodels.api as sm\n",
    "\n",
    "#Split Data into X,Y\n",
    "x_train, y_train = train_data['temp'], train_data['count']\n",
    "x_test, y_test = test_data['temp'], test_data['count']\n",
    "\n",
    "#Add constant\n",
    "x_train_ca = sm.add_constant(x_train)\n",
    "x_test_ca = sm.add_constant(x_test)"
   ]
  },
  {
   "cell_type": "markdown",
   "metadata": {},
   "source": [
    "**Fit a Linear Regression (OLS) model using statsmodels and print out the coefficients of `temp` and `const`**\n",
    "\n",
    "*Hint*: StatsModels use a Y followed by X structure while feeding data in contrast to sklearn that uses X followed by Y.\n",
    "\n",
    "Give the name *results* to your fit model"
   ]
  },
  {
   "cell_type": "code",
   "execution_count": null,
   "metadata": {
    "collapsed": true
   },
   "outputs": [],
   "source": [
    "# Your code here\n",
    "\n"
   ]
  },
  {
   "cell_type": "code",
   "execution_count": null,
   "metadata": {
    "collapsed": true
   },
   "outputs": [],
   "source": [
    "# %load '../solutions/sol6.py'\n"
   ]
  },
  {
   "cell_type": "code",
   "execution_count": null,
   "metadata": {
    "collapsed": true
   },
   "outputs": [],
   "source": [
    "# Plotting our model\n",
    "fig, axes = plt.subplots(1,2,figsize=(20,6))\n",
    "axes = axes.ravel()\n",
    "\n",
    "axes[0].plot(x_train, y_train, 'o')\n",
    "sorted_temp = train_data.sort_values(['temp'])\n",
    "prediction_lr = results.predict(sm.add_constant(sorted_temp[['temp']]))\n",
    "axes[0].plot(sorted_temp['temp'], prediction_lr, '*-', label = 'Prediction')\n",
    "axes[0].set_title('Temp vs Count Linear Regression for Training Set')\n",
    "\n",
    "axes[1].plot(x_test, y_test, 'o')\n",
    "sorted_temp = test_data.sort_values(['temp'])\n",
    "prediction_lr = results.predict(sm.add_constant(sorted_temp[['temp']]))\n",
    "axes[1].plot(sorted_temp['temp'], prediction_lr, '*-', label = 'Prediction')\n",
    "axes[1].set_title('Temp vs Count Linear Regression for Test Set')\n",
    "\n",
    "for i, ax in enumerate(axes):\n",
    "    ax.set_ylim(0,10000)\n",
    "    ax.set_xlabel('Temperature')\n",
    "    ax.set_ylabel('# of Rides')\n",
    "    ax.legend()"
   ]
  },
  {
   "cell_type": "code",
   "execution_count": null,
   "metadata": {
    "collapsed": true
   },
   "outputs": [],
   "source": [
    "# Metrics, Performance Evaluation and Helpful functions\n",
    "\n",
    "from sklearn import metrics\n",
    "\n",
    "# To compute the mean squared error (notice that we are now using the TEST set):\n",
    "print(\"R^2 Score for Linear Regression (Training):\", metrics.r2_score(y_train, results.predict(x_train_ca)))\n",
    "print(\"R^2 Score for Linear Regression (Testing) :\", metrics.r2_score(y_test, results.predict(x_test_ca)))"
   ]
  },
  {
   "cell_type": "markdown",
   "metadata": {},
   "source": [
    "**Check out `results.summary()` and pay close attention to the table that shows up**"
   ]
  },
  {
   "cell_type": "code",
   "execution_count": null,
   "metadata": {
    "collapsed": true
   },
   "outputs": [],
   "source": [
    "results.summary()"
   ]
  },
  {
   "cell_type": "markdown",
   "metadata": {},
   "source": [
    "### Confidence Intervals\n",
    "\n",
    "In Data Science, a confidence interval (CI) is a type of interval estimate, computed from the statistics of the observed data, that might contain the true value of an unknown population parameter. Simply speaking, a Confidence Interval is a range of values we are fairly sure our true value lies in. \n",
    "\n",
    "It is important to remind ourselves here that Confidence Intervals belong to a parameter and not a statistic. Thus, they represent the window in which the true value exists for the entire population when all we have is a sample.\n",
    "\n",
    "![ci](../fig/confidence_intervals.png)\n",
    "\n",
    "**See if you can implement a 95% confidence interval using statsmodels**"
   ]
  },
  {
   "cell_type": "code",
   "execution_count": null,
   "metadata": {
    "collapsed": true
   },
   "outputs": [],
   "source": [
    "# Your code here"
   ]
  },
  {
   "cell_type": "code",
   "execution_count": null,
   "metadata": {
    "collapsed": true
   },
   "outputs": [],
   "source": [
    "# %load '../solutions/sol7.py'\n",
    "# Confidence Interval using Stats Model Summary\n",
    "thresh = 0.05 \n",
    "intervals = results.conf_int(alpha=thresh)\n",
    "\n",
    "# Renaming column names\n",
    "first_col = str(thresh/2*100)+\"%\"\n",
    "second_col = str((1-thresh/2)*100)+\"%\"\n",
    "intervals = intervals.rename(columns={0:first_col,1:second_col})\n",
    "display(intervals)"
   ]
  },
  {
   "cell_type": "markdown",
   "metadata": {},
   "source": [
    "In the above block of code, ```results.conf_int(alpha=thresh)``` returns a dataframe with columns 0 and 1. We explained Confidence Intervals above where because we assume normal symetric distribution of data, the 95% Confidence Interval means there's 2.5% chance of the true value lying below the values in Column 0 and 2.5% chance of the true value lying above Column 1. "
   ]
  },
  {
   "cell_type": "markdown",
   "metadata": {},
   "source": [
    "----------------\n",
    "### End of Standard Section\n",
    "---------------"
   ]
  },
  {
   "cell_type": "markdown",
   "metadata": {},
   "source": [
    "## Extra: Train-Test Split using a mask"
   ]
  },
  {
   "cell_type": "code",
   "execution_count": null,
   "metadata": {
    "collapsed": true
   },
   "outputs": [],
   "source": [
    "#Function to Split data into Train and Test Set\n",
    "def split_data(data):\n",
    "    \n",
    "    #Calculate Length of Dataset\n",
    "    length = len(data)\n",
    "    \n",
    "    #Define Split\n",
    "    split = 0.7\n",
    "    \n",
    "    #Set a random Seed For Shuffling\n",
    "    np.random.seed(9001)\n",
    "    \n",
    "    #Generate a Mask with a X:Y Split\n",
    "    mask = np.random.rand(length) < split\n",
    "    \n",
    "    #Separate train and test data\n",
    "    data_train = data[mask]\n",
    "    data_test = data[~mask]\n",
    "    \n",
    "    #Return Separately\n",
    "    return data_train, data_test"
   ]
  },
  {
   "cell_type": "code",
   "execution_count": null,
   "metadata": {
    "collapsed": true
   },
   "outputs": [],
   "source": [
    "#Split data using defined function\n",
    "train_data_manual, test_data_manual = split_data(bikeshare)\n",
    "print(\"Length of Training set:\",len(train_data_manual))\n",
    "print(\"Length of Testing set:\",len(test_data_manual))"
   ]
  },
  {
   "cell_type": "code",
   "execution_count": null,
   "metadata": {
    "collapsed": true
   },
   "outputs": [],
   "source": [
    "## Check that the ratio between test and train sets is right\n",
    "test_data_manual.shape[0]/(test_data_manual.shape[0]+train_data_manual.shape[0])"
   ]
  },
  {
   "cell_type": "markdown",
   "metadata": {},
   "source": [
    "## Extra: Implementing the kNN Algorithm by hand"
   ]
  },
  {
   "cell_type": "markdown",
   "metadata": {},
   "source": [
    "To really understand how the kNN algorithm works, it helps to go through the algorithm line by line in code."
   ]
  },
  {
   "cell_type": "code",
   "execution_count": null,
   "metadata": {
    "collapsed": true
   },
   "outputs": [],
   "source": [
    "#kNN Algorithm\n",
    "def knn_algorithm(train, test, k):\n",
    "    \n",
    "    #Create any empty list to store our predictions in\n",
    "    predictions = []\n",
    "    \n",
    "    #Separate the response and predictor variables from training and test set:\n",
    "    train_x = train['temp']\n",
    "    train_y = train['count']\n",
    "    test_x  = test['temp']\n",
    "    test_y  = test['count']\n",
    "    \n",
    "    for i, ele in enumerate(test_x):\n",
    "        \n",
    "        #For each test point, store the distance between all training points and test point\n",
    "        distances = pd.DataFrame((train_x.values - ele)**2 , index=train.index)\n",
    "        distances.columns =['dist']\n",
    "        \n",
    "        #display(distances)\n",
    "        #Then, we sum across the columns per row to obtain the Euclidean distance squared\n",
    "        ##distances = vec_distances.sum(axis = 1)\n",
    "        \n",
    "        #Sort the distances to training points (in ascending order) and take first k points\n",
    "        nearest_k = distances.sort_values(by='dist').iloc[:k]\n",
    "        \n",
    "        #For simplicity, we omitted the square rooting of the Euclidean distance because the\n",
    "        #square root function preserves order. \n",
    "        \n",
    "        #Take the mean of the y-values of training set corresponding to the nearest k points\n",
    "        k_mean = train_y[nearest_k.index].mean()\n",
    "        \n",
    "        #Add on the mean to our predicted y-value list\n",
    "        predictions.append(k_mean)\n",
    "    \n",
    "    #Create a dataframe with the x-values from test and predicted y-values  \n",
    "    predict = test.copy()  \n",
    "    predict['predicted_count'] = pd.Series(predictions, index=test.index)\n",
    "    \n",
    "    return predict"
   ]
  },
  {
   "cell_type": "markdown",
   "metadata": {},
   "source": [
    "Now to run the algorithm on our dataset with $k = 5$:"
   ]
  },
  {
   "cell_type": "code",
   "execution_count": null,
   "metadata": {
    "collapsed": true
   },
   "outputs": [],
   "source": [
    "#Run the kNN function \n",
    "\n",
    "k = 5\n",
    "predicted_knn = knn_algorithm(train_data, test_data, k)\n",
    "predicted_knn.head()"
   ]
  },
  {
   "cell_type": "markdown",
   "metadata": {},
   "source": [
    "We want to have a way to evaluate our predictions from the kNN algorithm with $k=5$. One way is to compute the $R^2$ coefficient. Let's create a function for that:"
   ]
  },
  {
   "cell_type": "code",
   "execution_count": null,
   "metadata": {
    "collapsed": true
   },
   "outputs": [],
   "source": [
    "#Test predictions in comparison to true value of test set\n",
    "def evaluate(predicted, true):\n",
    "    \n",
    "    #Find the squared error:\n",
    "    squared_error = (predicted['predicted_count'] - true['count'])**2\n",
    "    \n",
    "    #Finding the mean squared error:\n",
    "    error_var = squared_error.sum()\n",
    "    sample_var = ((true['count'] - true['count'].mean())**2).sum()\n",
    "    r = (1 - (error_var / sample_var))\n",
    "    return r"
   ]
  },
  {
   "cell_type": "markdown",
   "metadata": {},
   "source": [
    "Then let's apply this function to our predictions:"
   ]
  },
  {
   "cell_type": "code",
   "execution_count": null,
   "metadata": {
    "collapsed": true
   },
   "outputs": [],
   "source": [
    "print(\"Length of Test Data:\",len(test_data))\n",
    "print(\"R^2 Score of kNN test:\", evaluate(predicted_knn, test_data))"
   ]
  },
  {
   "cell_type": "code",
   "execution_count": null,
   "metadata": {
    "collapsed": true
   },
   "outputs": [],
   "source": [
    "predicted_knn_train = knn_algorithm(test_data, train_data, k)\n",
    "print(\"R^2 Score of kNN train:\", evaluate(predicted_knn_train, train_data))"
   ]
  },
  {
   "cell_type": "markdown",
   "metadata": {},
   "source": [
    "## Extra: Computing different performance metrics by hand"
   ]
  },
  {
   "cell_type": "markdown",
   "metadata": {},
   "source": [
    "Now, we will compute metrics that can be used to assess fit.\n",
    "\n",
    "**Note: sklearn.metrics is class of functions that consists of all the metrics we care about to evaluate our models. While it is not hard to implement them yourself, it is helpful to go through http://scikit-learn.org/stable/modules/classes.html#module-sklearn.metrics.**"
   ]
  },
  {
   "cell_type": "code",
   "execution_count": null,
   "metadata": {
    "collapsed": true
   },
   "outputs": [],
   "source": [
    "model = sm.OLS(y_train, x_train_ca)\n",
    "results = model.fit()\n",
    "\n",
    "#Find the squared error:\n",
    "y_pred_train = results.predict(x_train_ca)\n",
    "squared_error_train = (y_pred_train - y_train)**2\n",
    "\n",
    " #Finding the mean squared error:\n",
    "error_var_train = squared_error_train.mean()\n",
    "sample_var_train = ((y_train - y_train.mean())**2).mean()\n",
    "\n",
    "y_pred_test = results.predict(x_test_ca)\n",
    "squared_error_test = (y_pred_test - y_test)**2\n",
    "\n",
    " #Finding the mean squared error:\n",
    "error_var_test = squared_error_test.mean()\n",
    "\n",
    "sample_var_test = ((y_test - y_test.mean())**2).mean()\n",
    "\n",
    "print(error_var_train, sample_var_train, 1 - error_var_train/sample_var_train)\n",
    "print(error_var_test, sample_var_test, 1 - error_var_test/sample_var_test)"
   ]
  },
  {
   "cell_type": "markdown",
   "metadata": {},
   "source": [
    "---"
   ]
  }
 ],
 "metadata": {
  "anaconda-cloud": {},
  "kernelspec": {
   "display_name": "Python 3",
   "language": "python",
   "name": "python3"
  },
  "language_info": {
   "codemirror_mode": {
    "name": "ipython",
    "version": 3
   },
   "file_extension": ".py",
   "mimetype": "text/x-python",
   "name": "python",
   "nbconvert_exporter": "python",
   "pygments_lexer": "ipython3",
   "version": "3.6.6"
  }
 },
 "nbformat": 4,
 "nbformat_minor": 2
}
