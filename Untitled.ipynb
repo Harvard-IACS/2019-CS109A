{
 "cells": [
  {
   "cell_type": "code",
   "execution_count": 1,
   "metadata": {},
   "outputs": [
    {
     "name": "stdout",
     "output_type": "stream",
     "text": [
      "/home/chris/Work/2019-CS109A\r\n"
     ]
    }
   ],
   "source": [
    "!pwd"
   ]
  },
  {
   "cell_type": "code",
   "execution_count": 9,
   "metadata": {},
   "outputs": [
    {
     "name": "stdout",
     "output_type": "stream",
     "text": [
      "\u001b[1;31mERROR\u001b[0;m: Could not process labs/lab03/notebook/cs109a_lab3_prelab.ipynb\n",
      "  | NotJSONError: Notebook does not appear to be JSON: '{\\n \"cells\": [\\n  {\\n   \"cell_type\": \"m...\n",
      "\u001b[1;33mWARNING\u001b[0;m: Meta tag in file cs109a_lab2_web_scraping.ipynb does not have a 'name' attribute, skipping. Attributes: itemscope=\"None\", itemtype=\"https://schema.org/SpeakableSpecification\", itemref=\"speakable\"\n",
      "\u001b[1;33mWARNING\u001b[0;m: Meta tag in file cs109a_lab2_web_scraping.ipynb does not have a 'name' attribute, skipping. Attributes: id=\"speakable\", itemprop=\"cssSelector\", content=\"[data-is-speakable]\"\n",
      "\u001b[1;33mWARNING\u001b[0;m: Meta tag in file cs109a_lab2_web_scraping.ipynb does not have a 'name' attribute, skipping. Attributes: charset=\"utf-8\"\n",
      "\u001b[1;33mWARNING\u001b[0;m: Meta tag in file cs109a_lab2_web_scraping.ipynb does not have a 'name' attribute, skipping. Attributes: property=\"og:title\", content=\"What If The Polls Are Wrong Again? 4 Scenarios For What Might Happen In The Elections\"\n",
      "\u001b[1;33mWARNING\u001b[0;m: Meta tag in file cs109a_lab2_web_scraping.ipynb does not have a 'name' attribute, skipping. Attributes: property=\"og:url\", content=\"https://www.npr.org/2018/11/05/664395755/what-if-the-polls-are-wrong-again-4-scenarios-for-what-might-happen-in-the-elect\"\n",
      "\u001b[1;33mWARNING\u001b[0;m: Meta tag in file cs109a_lab2_web_scraping.ipynb does not have a 'name' attribute, skipping. Attributes: property=\"og:type\", content=\"article\"\n",
      "\u001b[1;33mWARNING\u001b[0;m: Meta tag in file cs109a_lab2_web_scraping.ipynb does not have a 'name' attribute, skipping. Attributes: property=\"og:description\", content=\"The polls show a Democratic advantage in the House and a Republican one in the Senate. But be ready for anything because surprises in politics always happen.\"\n",
      "\u001b[1;33mWARNING\u001b[0;m: Meta tag in file cs109a_lab2_web_scraping.ipynb does not have a 'name' attribute, skipping. Attributes: property=\"og:image\", content=\"https://media.npr.org/assets/img/2018/11/05/gettyimages-1057663456vote_wide-9fc473c80fc1f9d825f563fd94d01c766f5ff669.jpg?s=1400\"\n",
      "\u001b[1;33mWARNING\u001b[0;m: Meta tag in file cs109a_lab2_web_scraping.ipynb does not have a 'name' attribute, skipping. Attributes: property=\"og:image\", content=\"https://media.npr.org/assets/img/2018/11/05/gettyimages-1063521758trumptenn_wide-75d4737201e2a39478b2253c9d5d9c12aec54d44.jpg?s=1400\"\n",
      "\u001b[1;33mWARNING\u001b[0;m: Meta tag in file cs109a_lab2_web_scraping.ipynb does not have a 'name' attribute, skipping. Attributes: property=\"og:image\", content=\"https://media.npr.org/assets/img/2018/11/05/gettyimages-982602238capitollights_wide-e860d528189800297e88db8d5e739f659b4c228b.jpg?s=1400\"\n",
      "\u001b[1;33mWARNING\u001b[0;m: Meta tag in file cs109a_lab2_web_scraping.ipynb does not have a 'name' attribute, skipping. Attributes: property=\"og:site_name\", content=\"NPR.org\"\n",
      "\u001b[1;33mWARNING\u001b[0;m: Meta tag in file cs109a_lab2_web_scraping.ipynb does not have a 'name' attribute, skipping. Attributes: property=\"fb:app_id\", content=\"138837436154588\"\n",
      "\u001b[1;33mWARNING\u001b[0;m: Meta tag in file cs109a_lab2_web_scraping.ipynb does not have a 'name' attribute, skipping. Attributes: property=\"fb:pages\", content=\"10643211755\"\n",
      "\u001b[1;33mWARNING\u001b[0;m: Meta tag in file cs109a_lab2_web_scraping.ipynb does not have a 'name' attribute, skipping. Attributes: property=\"article:content_tier\", content=\"free\"\n",
      "\u001b[1;33mWARNING\u001b[0;m: Meta tag in file cs109a_lab2_web_scraping.ipynb does not have a 'name' attribute, skipping. Attributes: property=\"article:opinion\", content=\"false\"\n",
      "\u001b[1;33mWARNING\u001b[0;m: Meta tag in file cs109a_lab2_web_scraping.ipynb does not have a 'name' attribute, skipping. Attributes: itemref=\"speakable\", itemscope=\"\", itemtype=\"https://schema.org/SpeakableSpecification\"\n",
      "\u001b[1;33mWARNING\u001b[0;m: Meta tag in file cs109a_lab2_web_scraping.ipynb does not have a 'name' attribute, skipping. Attributes: content=\"[data-is-speakable]\", id=\"speakable\", itemprop=\"cssSelector\"\n",
      "\u001b[1;33mWARNING\u001b[0;m: Meta tag in file cs109a_lab2_web_scraping.ipynb does not have a 'name' attribute, skipping. Attributes: content=\"What If The Polls Are Wrong Again? 4 Scenarios For What Might Happen In The Elections\", property=\"og:title\"\n",
      "\u001b[1;33mWARNING\u001b[0;m: Meta tag in file cs109a_lab2_web_scraping.ipynb does not have a 'name' attribute, skipping. Attributes: content=\"https://www.npr.org/2018/11/05/664395755/what-if-the-polls-are-wrong-again-4-scenarios-for-what-might-happen-in-the-elect\", property=\"og:url\"\n",
      "\u001b[1;33mWARNING\u001b[0;m: Meta tag in file cs109a_lab2_web_scraping.ipynb does not have a 'name' attribute, skipping. Attributes: content=\"article\", property=\"og:type\"\n",
      "\u001b[1;33mWARNING\u001b[0;m: Meta tag in file cs109a_lab2_web_scraping.ipynb does not have a 'name' attribute, skipping. Attributes: content=\"The polls show a Democratic advantage in the House and a Republican one in the Senate. But be ready for anything because surprises in politics always happen.\", property=\"og:description\"\n",
      "\u001b[1;33mWARNING\u001b[0;m: Meta tag in file cs109a_lab2_web_scraping.ipynb does not have a 'name' attribute, skipping. Attributes: content=\"https://media.npr.org/assets/img/2018/11/05/gettyimages-1057663456vote_wide-9fc473c80fc1f9d825f563fd94d01c766f5ff669.jpg?s=1400\", property=\"og:image\"\n",
      "\u001b[1;33mWARNING\u001b[0;m: Meta tag in file cs109a_lab2_web_scraping.ipynb does not have a 'name' attribute, skipping. Attributes: content=\"https://media.npr.org/assets/img/2018/11/05/gettyimages-1063521758trumptenn_wide-75d4737201e2a39478b2253c9d5d9c12aec54d44.jpg?s=1400\", property=\"og:image\"\n",
      "\u001b[1;33mWARNING\u001b[0;m: Meta tag in file cs109a_lab2_web_scraping.ipynb does not have a 'name' attribute, skipping. Attributes: content=\"https://media.npr.org/assets/img/2018/11/05/gettyimages-982602238capitollights_wide-e860d528189800297e88db8d5e739f659b4c228b.jpg?s=1400\", property=\"og:image\"\n",
      "\u001b[1;33mWARNING\u001b[0;m: Meta tag in file cs109a_lab2_web_scraping.ipynb does not have a 'name' attribute, skipping. Attributes: content=\"NPR.org\", property=\"og:site_name\"\n",
      "\u001b[1;33mWARNING\u001b[0;m: Meta tag in file cs109a_lab2_web_scraping.ipynb does not have a 'name' attribute, skipping. Attributes: content=\"138837436154588\", property=\"fb:app_id\"\n",
      "\u001b[1;33mWARNING\u001b[0;m: Meta tag in file cs109a_lab2_web_scraping.ipynb does not have a 'name' attribute, skipping. Attributes: content=\"10643211755\", property=\"fb:pages\"\n",
      "\u001b[1;33mWARNING\u001b[0;m: Meta tag in file cs109a_lab2_web_scraping.ipynb does not have a 'name' attribute, skipping. Attributes: content=\"free\", property=\"article:content_tier\"\n",
      "\u001b[1;33mWARNING\u001b[0;m: Meta tag in file cs109a_lab2_web_scraping.ipynb does not have a 'name' attribute, skipping. Attributes: content=\"false\", property=\"article:opinion\"\n",
      "\u001b[1;33mWARNING\u001b[0;m: Could not save cache cache/ArticlesGenerator-Readers\n",
      "  |  ... PicklingError: Can't pickle <function <lambda> at 0x7fd08eebee18>: attribute lookup <lambda> on config failed\n",
      "Done: Processed 77 articles, 0 drafts, 8 pages, 0 hidden pages and 0 draft pages in 37.09 seconds.\n"
     ]
    }
   ],
   "source": [
    "!iacs publish"
   ]
  },
  {
   "cell_type": "code",
   "execution_count": null,
   "metadata": {},
   "outputs": [],
   "source": []
  }
 ],
 "metadata": {
  "kernelspec": {
   "display_name": "Python 3",
   "language": "python",
   "name": "python3"
  },
  "language_info": {
   "codemirror_mode": {
    "name": "ipython",
    "version": 3
   },
   "file_extension": ".py",
   "mimetype": "text/x-python",
   "name": "python",
   "nbconvert_exporter": "python",
   "pygments_lexer": "ipython3",
   "version": "3.7.3"
  }
 },
 "nbformat": 4,
 "nbformat_minor": 2
}
