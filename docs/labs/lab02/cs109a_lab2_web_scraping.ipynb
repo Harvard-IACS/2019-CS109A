{
 "cells": [
  {
   "cell_type": "markdown",
   "metadata": {},
   "source": [
    "# <img style=\"float: left; padding-right: 10px; width: 45px\" src=\"https://github.com/Harvard-IACS/2018-CS109A/blob/master/content/styles/iacs.png?raw=true\"> CS109A Introduction to Data Science \n",
    "\n",
    "## Lab 2: Web Scraping with Beautiful Soup\n",
    "\n",
    "**Harvard University**<br>\n",
    "**Fall 2019**<br>\n",
    "**Instructors:** Pavlos Protopapas, Kevin Rader, and Chris Tanner <br>\n",
    "**Lab Instructors:** Chris Tanner and Eleni Kaxiras<br>\n",
    "\n",
    "**Authors:** Rahul Dave, David Sondak, Will Claybaugh, Pavlos Protopapas, Chris Tanner, and Eleni Kaxiras\n",
    "\n",
    "---"
   ]
  },
  {
   "cell_type": "code",
   "execution_count": 11,
   "metadata": {},
   "outputs": [
    {
     "data": {
      "text/html": [
       "<style>\n",
       "blockquote { background: #AEDE94; }\n",
       "h1 { \n",
       "    padding-top: 25px;\n",
       "    padding-bottom: 25px;\n",
       "    text-align: left; \n",
       "    padding-left: 10px;\n",
       "    background-color: #DDDDDD; \n",
       "    color: black;\n",
       "}\n",
       "h2 { \n",
       "    padding-top: 10px;\n",
       "    padding-bottom: 10px;\n",
       "    text-align: left; \n",
       "    padding-left: 5px;\n",
       "    background-color: #EEEEEE; \n",
       "    color: black;\n",
       "}\n",
       "\n",
       "div.exercise {\n",
       "\tbackground-color: #ffcccc;\n",
       "\tborder-color: #E9967A; \t\n",
       "\tborder-left: 5px solid #800080; \n",
       "\tpadding: 0.5em;\n",
       "}\n",
       "div.theme {\n",
       "\tbackground-color: #DDDDDD;\n",
       "\tborder-color: #E9967A; \t\n",
       "\tborder-left: 5px solid #800080; \n",
       "\tpadding: 0.5em;\n",
       "\tfont-size: 18pt;\n",
       "}\n",
       "div.gc { \n",
       "\tbackground-color: #AEDE94;\n",
       "\tborder-color: #E9967A; \t \n",
       "\tborder-left: 5px solid #800080; \n",
       "\tpadding: 0.5em;\n",
       "\tfont-size: 12pt;\n",
       "}\n",
       "p.q1 { \n",
       "    padding-top: 5px;\n",
       "    padding-bottom: 5px;\n",
       "    text-align: left; \n",
       "    padding-left: 5px;\n",
       "    background-color: #EEEEEE; \n",
       "    color: black;\n",
       "}\n",
       "header {\n",
       "   padding-top: 35px;\n",
       "    padding-bottom: 35px;\n",
       "    text-align: left; \n",
       "    padding-left: 10px;\n",
       "    background-color: #DDDDDD; \n",
       "    color: black;\n",
       "}\n",
       "</style>\n",
       "\n"
      ],
      "text/plain": [
       "<IPython.core.display.HTML object>"
      ]
     },
     "execution_count": 11,
     "metadata": {},
     "output_type": "execute_result"
    }
   ],
   "source": [
    "## RUN THIS CELL TO GET THE RIGHT FORMATTING \n",
    "from IPython.core.display import HTML\n",
    "def css_styling():\n",
    "    styles = open(\"../../styles/cs109.css\", \"r\").read()\n",
    "    return HTML(styles)\n",
    "css_styling()"
   ]
  },
  {
   "cell_type": "code",
   "execution_count": 12,
   "metadata": {
    "collapsed": true
   },
   "outputs": [],
   "source": [
    "%matplotlib inline\n",
    "import numpy as np\n",
    "import matplotlib.pyplot as plt\n",
    "import pandas as pd\n",
    "import seaborn.apionly as sns\n",
    "import time"
   ]
  },
  {
   "cell_type": "markdown",
   "metadata": {},
   "source": [
    "# Table of Contents \n",
    "<ol start=\"0\">\n",
    "<li> Learning Goals </li>\n",
    "<li> Introduction to Web Servers and HTTP </li>\n",
    "<li> Download webpages and get basic properties </li>\n",
    "<li> Parse the page with Beautiful Soup</li>\n",
    "<li> String formatting</li>\n",
    "<li> Additonal Python/Homework Comment</li>\n",
    "<li> Walkthrough Example</li>\n",
    "</ol>"
   ]
  },
  {
   "cell_type": "markdown",
   "metadata": {},
   "source": [
    "# Learning Goals\n",
    "\n",
    "- Understand the structure of a web page\n",
    "- Understand how to use Beautiful soup to scrape content from web pages.\n",
    "- Feel comfortable storing and manipulating the content in various formats.\n",
    "- Understand how to convert structured format into a Pandas DataFrame\n",
    "\n",
    "In this lab, we'll scrape Goodread's Best Books list:\n",
    "\n",
    "https://www.goodreads.com/list/show/1.Best_Books_Ever?page=1 .\n",
    "\n",
    "We'll walk through scraping the list pages for the book names/urls. First, we start with an even simpler example.\n",
    "\n",
    "*This lab corresponds to lectures #2 and #3 and maps on to Homework #1 and further.*"
   ]
  },
  {
   "cell_type": "markdown",
   "metadata": {},
   "source": [
    "# 1. Introduction to Web Servers and HTTP\n",
    "\n",
    "A web server is just a computer -- usually a powerful one, but ultimately it's just another computer -- that runs a long/continuous process that listens for requests on a pre-specified (Internet) _port_ on your computer. It responds to those requests via a protocol called HTTP (HyperText Transfer Protocol). HTTPS is the secure version. When we use a web browser and navigate to a web page, our browser is actually sending a request on our behalf to a specific web server. The browser request is essentially saying \"hey, please give me the web page contents\", and it's up to the browser to correctly render that raw content into a coherent manner, dependent on the format of the file. For example, HTML is one format, XML is another format, and so on.\n",
    "\n",
    "Ideally (and usually), the web server complies with the request and all is fine. As part of this communication exchange with web servers, the server also sends a status code.\n",
    "- If the code starts with a **2**, it means the request was successful.\n",
    "- If the code starts with a **4**, it means there was a client error (you, as the user, are the client). For example, ever receive a 404 File Not Found error because a web page doesn't exist? This is an example of a client error, because you are requesting a bogus item.\n",
    "- If the code starts with a **5**, it means there was a server error (often that your request was incorrectly formed).\n",
    "\n",
    "[Click here](https://www.restapitutorial.com/httpstatuscodes.html) for a full list of status codes.\n",
    "\n",
    "As an analogy, you can think of a web server as being like a server at a restaurant; its goal is _serve_ you your requests. When you try to order something not on the menu (i.e., ask for a web page at a wrong location), the server says 'sorry, we don't have that' (i.e., 404, client error; your mistake).\n",
    "\n",
    "**IMPORTANT:**\n",
    "As humans, we visit pages in a sane, reasonable rate. However, as we start to scrape web pages with our computers, we will be sending requests with our code, and thus, we can make requests at an incredible rate. This is potentially dangerous because it's akin to going to a restaurant and bombarding the server(s) with thousands of food orders. Very often, the restaurant will ban you (i.e., Harvard's network gets banned from the website, and you are potentially held responsible in some capacity?). It is imperative to be responsible and careful. In fact, this act of flooding web pages with requests is the single-most popular, yet archiac, method for maliciously attacking websites / computers with Internet connections. In short, be respectful and careful with your decisions and code. It is better to err on the side of caution, which includes using the **``time.sleep()`` function** to pause your code's execution between subsequent requests. ``time.sleep(2)`` should be fine when making just a few dozen requests. Each site has its own rules, which are often visible via their site's ``robots.txt`` file.\n",
    "\n",
    "### Additional Resources\n",
    "\n",
    "**HTML:** if you are not familiar with HTML see https://www.w3schools.com/html/ or one of the many tutorials on the internet.\n",
    "\n",
    "**Document Object Model (DOM):** for more on this programming interface for HTML and XML documents see https://www.w3schools.com/js/js_htmldom.asp."
   ]
  },
  {
   "cell_type": "markdown",
   "metadata": {},
   "source": [
    "# 2. Download webpages and get basic properties\n",
    "\n",
    "``Requests`` is a highly useful Python library that allows us to fetch web pages.\n",
    "``BeautifulSoup`` is a phenomenal Python library that allows us to easily parse web content and perform basic extraction.\n",
    "\n",
    "If one wishes to scrape webpages, one usually uses ``requests`` to fetch the page and ``BeautifulSoup`` to parse the page's meaningful components. Webpages can be messy, despite having a structured format, which is why BeautifulSoup is so handy.\n",
    "\n",
    "Let's get started:"
   ]
  },
  {
   "cell_type": "code",
   "execution_count": 3,
   "metadata": {
    "collapsed": true
   },
   "outputs": [],
   "source": [
    "from bs4 import BeautifulSoup\n",
    "import requests"
   ]
  },
  {
   "cell_type": "markdown",
   "metadata": {},
   "source": [
    "To fetch a webpage's content, we can simply use the ``get()`` function within the requests library:"
   ]
  },
  {
   "cell_type": "code",
   "execution_count": 4,
   "metadata": {
    "collapsed": true
   },
   "outputs": [],
   "source": [
    "url = \"https://www.npr.org/2018/11/05/664395755/what-if-the-polls-are-wrong-again-4-scenarios-for-what-might-happen-in-the-elect\"\n",
    "response = requests.get(url) # you can use any URL that you wish"
   ]
  },
  {
   "cell_type": "markdown",
   "metadata": {},
   "source": [
    "The response variable has many highly useful attributes, such as:\n",
    "- status_code\n",
    "- text\n",
    "- content\n",
    "\n",
    "Let's try each of them!"
   ]
  },
  {
   "cell_type": "markdown",
   "metadata": {},
   "source": [
    "### response.status_code"
   ]
  },
  {
   "cell_type": "code",
   "execution_count": 5,
   "metadata": {},
   "outputs": [
    {
     "data": {
      "text/plain": [
       "200"
      ]
     },
     "execution_count": 5,
     "metadata": {},
     "output_type": "execute_result"
    }
   ],
   "source": [
    "response.status_code"
   ]
  },
  {
   "cell_type": "markdown",
   "metadata": {},
   "source": [
    "You should have received a status code of 200, which means the page was successfully found on the server and sent to receiver (aka client/user/you). [Again, you can click here](https://www.restapitutorial.com/httpstatuscodes.html) for a full list of status codes.\n",
    "\n",
    "### response.text\n"
   ]
  },
  {
   "cell_type": "code",
   "execution_count": 13,
   "metadata": {},
   "outputs": [
    {
     "data": {
      "text/plain": [
       "'<!doctype html><html class=\"no-js\" lang=\"en\"><head><script>\\n   try {var _sf_startpt=(new Date()).getTime();} catch(e){}\\n</script>\\n<meta itemscope itemtype=\"https://schema.org/SpeakableSpecification\" itemref=\"speakable\" /><title>What If The Polls Are Wrong Again? 4 Scenarios For What Might Happen In The Elections : NPR</title><meta id=\"speakable\" itemprop=\"cssSelector\" content=\"[data-is-speakable]\" /><meta id=\"google-site-verification\" name=\"google-site-verification\" content=\"1VqzbDm4ukeFVHOoq5LjIKA2fVKZD-EYv8cXZhKXSfU\" /><meta charset=\"utf-8\" /><meta name=\"robots\" content=\"noarchive,index,follow\" /><meta name=\"Rating\" content=\"General\" /><meta name=\"viewport\" content=\"width=device-width, initial-scale=1, shrink-to-fit=no\" /><meta name=\"npr-pjax\" /><meta name=\"date\" content=\"2018-11-05\" /><link rel=\"canonical\" href=\"https://www.npr.org/2018/11/05/664395755/what-if-the-polls-are-wrong-again-4-scenarios-for-what-might-happen-in-the-elect\" /><meta name=\"description\" content=\"The polls show a Democratic advantage in the House and a Republican one in the Senate. But be ready for anything because surprises in politics always happen.\" /><link rel=\"alternate\" type=\"application/rss+xml\" title=\"Elections\" href=\"/rss/rss.php?id=139482413\" /><link rel=\"alternate\" type=\"application/json\" title=\"Elections\" href=\"https://www.npr.org/feeds/139482413/feed.json\" /><link rel=\"apple-touch-icon\" sizes=\"180x180\" href=\"https://media.npr.org/templates/favicon/favicon-180x180.png\" /><link rel=\"icon\" sizes=\"96x96\" href=\"https://media.npr.org/templates/favicon/favicon-96x96.png\" /><link rel=\"icon\" sizes=\"32x32\" href=\"https://media.npr.org/templates/favicon/favicon-32x32.png\" /><link rel=\"icon\" sizes=\"16x16\" href=\"https://media.npr.org/templates/favicon/favicon-16x16.png\" /><meta property=\"og:title\" content=\"What If The Polls Are Wrong Again? 4 Scenarios For What Might Happen In The Elections\" /><meta property=\"og:url\" content=\"https://www.npr.org/2018/11/05/664395755/what-if-the-polls-are-wrong-again-4-scenarios-for-what-might-happen-in-the-elect\" /><meta property=\"og:type\" content=\"article\" /><meta property=\"og:description\" content=\"The polls show a Democratic advantage in the House and a Republican one in the Senate. But be ready for anything because surprises in politics always happen.\" /><meta property=\"og:image\" content=\"https://media.npr.org/assets/img/2018/11/05/gettyimages-1057663456vote_wide-9fc473c80fc1f9d825f563fd94d01c766f5ff669.jpg?s=1400\" /><meta property=\"og:image\" content=\"https://media.npr.org/assets/img/2018/11/05/gettyimages-1063521758trumptenn_wide-75d4737201e2a39478b2253c9d5d9c12aec54d44.jpg?s=1400\" /><meta property=\"og:image\" content=\"https://media.npr.org/assets/img/2018/11/05/gettyimages-982602238capitollights_wide-e860d528189800297e88db8d5e739f659b4c228b.jpg?s=1400\" /><meta property=\"og:site_name\" content=\"NPR.org\" /><meta property=\"fb:app_id\" content=\"138837436154588\" /><meta property=\"fb:pages\" content=\"10643211755\" /><meta property=\"article:content_tier\" content=\"free\" /><meta property=\"article:opinion\" content=\"false\" /><meta name=\"twitter:card\" content=\"summary_large_image\" /><meta name=\"twitter:title\" content=\"What If The Polls Are Wrong Again? 4 Scenarios For What Might Happen In The Elections\" /><meta name=\"twitter:site\" content=\"@NPR\" /><meta name=\"twitter:domain\" content=\"npr.org\" /><meta name=\"twitter:image:src\" content=\"https://media.npr.org/assets/img/2018/11/05/gettyimages-1057663456vote_wide-9fc473c80fc1f9d825f563fd94d01c766f5ff669.jpg?s=1400\" /><script id=\"npr-vars\">\\n   window.NPR = window.NPR || {};\\nNPR.ServerConstants = {\"cbHost\":\"npr.org\",\"webHost\":\"https:\\\\/\\\\/www.npr.org\",\"embedHost\":\"https:\\\\/\\\\/www.npr.org\",\"webHostSecure\":\"https:\\\\/\\\\/secure.npr.org\",\"apiHost\":\"https:\\\\/\\\\/api.npr.org\",\"serverMediaCache\":\"https:\\\\/\\\\/media.npr.org\",\"googleAnalyticsAccount\":\"UA-5828686-4\",\"nielsenSFCode\":\"dcr\",\"nielsenAPN\":\"NPR-dcr\",\"shouldShowHPLocalContent\":true,\"readingServiceHostname\":\"https:\\\\/\\\\/reading.api.npr.org\"};\\nNPR.serverVars = {\"storyId\":\"664395755\",\"facebookAppId\":\"138837436154588\",\"webpackPublicPath\":\"https:\\\\/\\\\/s.npr.org\\\\/templates\\\\/javascript\\\\/dist\\\\/bundles\\\\/\",\"persistenceVersion\":\"e2193dbd58d7e71fdaffbd399767e8dc\",\"isBuildOut\":true,\"topicIds\":[\"P139482413\",\"1001\",\"1002\",\"1003\",\"1014\",\"1059\"],\"primaryTopic\":\"Elections\",\"topics\":[\"Elections\",\"News\",\"Home Page Top Stories\",\"National\",\"Politics\",\"Analysis\"],\"theme\":\"139482413\",\"aggIds\":[\"1001\",\"1002\",\"1003\",\"1014\",\"1059\",\"125950998\",\"125951073\",\"126931907\",\"126944326\",\"126953005\",\"127115490\",\"139482413\",\"162174434\",\"191676894\",\"219323468\",\"312150170\",\"360452518\",\"428799323\",\"432805936\",\"434975886\",\"497806639\",\"520216945\"],\"tagIds\":[\"2016\",\"2018\",\"2020\",\"Democrats\",\"GOP\",\"House\",\"Republican\",\"Senate\",\"election\",\"election day\",\"election night\",\"polling\",\"trump\"],\"byline\":[\"Domenico Montanaro\"],\"pubDate\":\"2018110516\",\"pageTypeId\":\"1\",\"title\":\"What If The Polls Are Wrong Again? 4 Scenarios For What Might Happen In The Elections\",\"publisherOrgId\":\"1\",\"rocketfuelCode\":20501671};\\n</script>\\n<script type=\"text/javascript\" src=\"https://cdn.optimizely.com/js/11107397707.js\">\\n   </script>\\n<script type=\"text/javascript\" src=\"https://s.npr.org/templates/javascript/lib/modernizr/modernizr.custom.js\">\\n   </script>\\n<script>\\n   !function(a){function e(d){if(c[d])return c[d].exports;var f=c[d]={exports:{},id:d,loaded:!1};return a[d].call(f.exports,f,f.exports,e),f.loaded=!0,f.exports}var d=window.webpackJsonp;window.webpackJsonp=function(b,t){for(var n,r,o=0,i=[];o<b.length;o++)r=b[o],f[r]&&i.push.apply(i,f[r]),f[r]=0;for(n in t){var s=t[n];switch(typeof s){case\"object\":a[n]=function(e){var d=e.slice(1),c=e[0];return function(e,f,b){a[c].apply(this,[e,f,b].concat(d))}}(s);break;case\"function\":a[n]=s;break;default:a[n]=a[s]}}for(d&&d(b,t);i.length;)i.shift().call(null,e);if(t[0])return c[0]=0,e(0)};var c={},f={25:0};e.e=function(a,d){if(0===f[a])return d.call(null,e);if(void 0!==f[a])f[a].push(d);else{f[a]=[d];var c=document.getElementsByTagName(\"head\")[0],b=document.createElement(\"script\");b.type=\"text/javascript\",b.charset=\"utf-8\",b.async=!0,b.src=e.p+\"\"+a+\".\"+{0:\"49fa2af9befd8dbc30e6\",1:\"69edd3e871fc479eb8c4\",2:\"3872b3b03c3b0931da22\",3:\"956a99d7884e901e36cc\",4:\"f9aecab03b57f03ba253\",5:\"aee467c94af974e07087\",6:\"7996e4a910b135aa5a79\",7:\"21bed47254a36b33bbe4\",8:\"9be2e58ebfb46b745b1c\",9:\"49cab39d7a6f7fb9e7d2\",10:\"547114f11f850b9fa1fa\",11:\"8d080cdbd52ca97eb224\",12:\"8d5b1e7c21e2e4e2046e\",13:\"b0a0d682da6781b44ee2\",14:\"55fd59b9685011904ec3\",15:\"2cf00a04fb3475ebbe1d\",16:\"41426d2a26b3fcc9a511\",17:\"ea9d73affa9029cd58b8\",18:\"52692ca5ed2fd9d95412\",19:\"a42fc478315f6ded6a21\",20:\"50f54ba8c521cc1e4639\",21:\"1ae4d9830b90eb9074d3\",22:\"16a03e418a1e3303b525\",23:\"3663bbe4d7838b502ccd\",24:\"d118095c3fc5bfb33da1\",26:\"4d1f88ba95dfe94137d4\",27:\"aea4226da3ca9bfb67aa\",28:\"ccb1659a86d7746b048d\",29:\"ed2dd58790d98a9e341d\",30:\"03a8f050e4ce4e514187\",31:\"9edc89972627c3aa824a\",32:\"66d600fa8af2ed7b80a4\",33:\"98a85a2015d5d1da13b2\",34:\"332356c3462ede49fdc3\",35:\"b8aedd9580c82b654818\",36:\"719151635f84ad4f3d1a\",37:\"05169bb54299ab3ed446\",38:\"d0e270cf87a3d8d23c39\",39:\"176d9f0688e3977d0720\",40:\"f9db1daaf5f52eb8ea20\",41:\"db8c0f3e8d0191b63bde\",42:\"587fa775bd4d80b3fcad\",43:\"7d1b618a13b168f39061\",44:\"6f8616162a956a01d29a\",45:\"43885405840f8a15b9f3\",46:\"982875db8605ce73126b\",47:\"0f67f0f9a2648922e23b\",48:\"1f78d5f1e53a5bfccfdc\",49:\"49c6a90429ae47c93f12\",50:\"fb051afd23c3a9555c4e\",51:\"e169249c1dbd3d93f496\",52:\"42158cb15f746b5275e7\",53:\"7327d028fd39dda3b1ef\",54:\"333f4325f11d14cc2416\",55:\"ea607402a72ea48af3db\",56:\"b6fe4c5c04bf78d40092\",57:\"c4968b1ebe10a3c844aa\",58:\"6a7c4ae2f77e5e8ef4d4\",59:\"e8f53685884b3615c752\",60:\"12192cd74746693c33d1\",61:\"9bb9a3c7dee82a824793\",62:\"beafbe078b04d8c91a74\",63:\"3b64b41fb887b26e87d9\",64:\"60993ed17bd80c9d1f0d\",65:\"f4505f98cc650d7bdd1a\",66:\"7056e116c0a09ad6a16a\",67:\"2b41ea759717ab03c014\",68:\"42fa59d4ebe0d1246621\",69:\"28bfa03ba196effa6622\",70:\"0d52762c253a8eb70fc7\",71:\"95135f0052fe32b1fad4\",72:\"64978efdc5e0457351f5\",73:\"e6baf483431fab9d40b3\",74:\"ee3688db87d27a26bcce\",75:\"61286cc78ffee0dcdb6e\",76:\"6aca752f7cd5102228c9\",77:\"3b36a7b3221cb06c7944\",78:\"ac06be6a4710d119c354\",79:\"239660d5b1266e6dd66f\",80:\"c9903d8f4df8f6e9cff2\",81:\"55a0717a22649bdb4a34\",82:\"74ad754dfe1a479aa0e4\",83:\"40a44ca4f990252bb248\",84:\"13ea4ee4e3a55788a36a\",85:\"5f80a09e98ed012e83d1\"}[a]+\".chunk.js\",c.appendChild(b)}},e.m=a,e.c=c,e.p=\"/templates/javascript/dist/bundles/\"}(function(a){for(var e in a)if(Object.prototype.hasOwnProperty.call(a,e))switch(typeof a[e]){case\"function\":break;case\"object\":a[e]=function(e){var d=e.slice(1),c=a[e[0]];return function(a,e,f){c.apply(this,[a,e,f].concat(d))}}(a[e]);break;default:a[e]=a[a[e]]}return a}([]));\\n</script>\\n<script type=\"text/javascript\" src=\"https://s.npr.org/templates/javascript/dist/bundles/globalNavigationDropdowns-aea4226da3ca9bfb67aa.js\">\\n   </script>\\n<link rel=\"stylesheet\" data-persist=\"true\" media=\"screen, print\" href=\"https://s.npr.org/templates/javascript/dist/bundles/persistent-css-2497a8623936494b5950.css\" /><link rel=\"stylesheet\" media=\"screen, print\" href=\"https://s.npr.org/templates/javascript/dist/bundles/newsStory-css-2497a8623936494b5950.css\" /><link rel=\"stylesheet\" media=\"screen\" href=\"https://s.npr.org/branding/sections/elections/branding.css\" /><link rel=\"stylesheet\" media=\"screen\" href=\"https://s.npr.org/include/overridecss/theme139482413.css\" /><script type=\"text/javascript\">\\n   document.domain=\"npr.org\";\\n</script>\\n</head><body id=\"news\" class=\"news tmplNewsStory  story-layout is-buildout no-transcript has-no-branding id664395755 \" data-pjax-modules=\"util/env images/lazy-load chartbeat comscore metrics nielsen nielsenDCR rocketfuel copyright auto-refresh navigation/global-navigation fitvids dfp globalfooter persistent-audio player/more-options what-input metrics/doubleclickFloodlight metrics/facebookTracking story/replace-centerstage ecommerce recommendations/end-of-story-recommendations-callout jw social/share slideshow images/enlargement swfbuilder contentfooter story/sticky-header story/date-tooltip callout/end-of-story-callout social/sharepop podcast-cards search/faceting-param local/newsletter/callout social/recaptcha\"><div class=\"skip-links\">\\n      <span>Accessibility links</span>   <ul>\\n            <li><a href=\"#mainContent\" class=\"skiplink\">Skip to main content</a></li>\\n      <li><a href=\"https://help.npr.org/customer/en/portal/articles/2535181-what-are-the-keyboard-shortcuts-for-using-the-npr-org-audio-player-\" class=\"skiplink\">Keyboard shortcuts for audio player</a></li>\\n   </ul>\\n</div>\\n<header class=\"npr-header\" id=\"globalheader\" aria-label=\"NPR header\"><nav class=\"navigation\" aria-label=\"main navigation\">\\n    <div class=\"navigation__top-level-wrap\" data-metrics-all data-metrics-category=\"global navigation\">\\n        <ul class=\"navigation__top-level\">\\n            <li class=\"navigation__home\">\\n                <a href=\"/\" data-metrics-action=\"click npr logo\">\\n                    <img src=\"https://media.npr.org/chrome_svg/npr-logo.svg\" alt=\"NPR logo\"/>\\n                </a>\\n            </li>\\n\\n            <li id=\"navigation__station-mount\"></li>\\n\\n            <li id=\"user-account-dropdown-mount\" class=\"navigation__account\"></li>\\n\\n            <li class=\"navigation__shop\">\\n                <a href=\"https://shop.npr.org\" data-metrics-action=\"click npr shop\">NPR Shop</a>\\n            </li>\\n\\n            <li id=\"navigation__station-donate-mount\"></li>\\n\\n            <li class=\"navigation__toggle-wrap\">\\n                <button id=\"navigation__toggle--open\" class=\"navigation__toggle navigation__toggle--open\" aria-haspopup=\"true\" aria-expanded=\"false\" data-metrics-action=\"open navigation menu\">\\n                    Open Navigation Menu\\n                </button>\\n            </li>\\n        </ul>\\n    </div>\\n    <section id=\"main-menu\" class=\"menu menu--main\" data-metrics-all data-metrics-category=\"global navigation\">\\n        <div class=\"menu__inner\">\\n            <header class=\"menu__header\">\\n                <button id=\"navigation__toggle--close\" class=\"navigation__toggle navigation__toggle--close\" aria-haspopup=\"true\" aria-expanded=\"true\" data-metrics-action=\"close navigation menu\">\\n                    Close <span>Navigation Menu</span>\\n                </button>\\n            </header>\\n            <ul class=\"menu__list\">\\n                <li class=\"menu__item menu__item--home\">\\n                    <div class=\"menu__item-inner\"><a href=\"/\" data-metrics-action=\"click npr logo\">Home</a></div>\\n                </li>\\n                <li class=\"menu__item menu__item--news menu__item--has-submenu\" data-metrics-hover=\"toggle news drawer\">\\n                    <div class=\"menu__item-inner\">\\n                        <a href=\"/sections/news/\" data-metrics-action=\"click news\">News</a>\\n                        <button class=\"menu__toggle-submenu\" data-metrics-action=\"toggle news drawer\">Expand/collapse submenu for News</button>\\n                    </div>\\n\\n                    <ul class=\"submenu submenu--news\">\\n                        <li class=\"submenu__item\"><a href=\"/sections/national/\" data-metrics-action=\"click national\">National</a></li>\\n                        <li class=\"submenu__item\"><a href=\"/sections/world/\" data-metrics-action=\"click world\">World</a></li>\\n                        <li class=\"submenu__item\"><a href=\"/sections/politics/\" data-metrics-action=\"click politics\">Politics</a></li>\\n                        <li class=\"submenu__item\"><a href=\"/sections/business/\" data-metrics-action=\"click business\">Business</a></li>\\n                        <li class=\"submenu__item\"><a href=\"/sections/health/\" data-metrics-action=\"click health\">Health</a></li>\\n                        <li class=\"submenu__item\"><a href=\"/sections/science/\" data-metrics-action=\"click science\">Science</a></li>\\n                        <li class=\"submenu__item\"><a href=\"/sections/technology/\" data-metrics-action=\"click technology\">Technology</a></li>\\n                        <li class=\"submenu__item\"><a href=\"/sections/codeswitch/\" data-metrics-action=\"click race & culture\">Race &amp; Culture</a></li>\\n                    </ul>\\n                </li>\\n                <li class=\"menu__item menu__item--arts-life menu__item--has-submenu\" data-metrics-hover=\"toggle arts drawer\">\\n                    <div class=\"menu__item-inner\">\\n                        <a href=\"/sections/arts/\" data-metrics-action=\"click arts & life\">Arts &amp; Life</a>\\n                        <button class=\"menu__toggle-submenu\" data-metrics-action=\"toggle arts drawer\">Expand/collapse submenu for Arts &amp; Life</button>\\n                    </div>\\n\\n                    <ul class=\"submenu submenu--arts-life\">\\n                        <li class=\"submenu__item\"><a href=\"/books/\" data-metrics-action=\"click books\">Books</a></li>\\n                        <li class=\"submenu__item\"><a href=\"/sections/movies/\" data-metrics-action=\"click movies\">Movies</a></li>\\n                        <li class=\"submenu__item\"><a href=\"/sections/television/\" data-metrics-action=\"click television\">Television</a></li>\\n                        <li class=\"submenu__item\"><a href=\"/sections/pop-culture/\" data-metrics-action=\"click pop culture\">Pop Culture</a></li>\\n                        <li class=\"submenu__item\"><a href=\"/sections/food/\" data-metrics-action=\"click food\">Food</a></li>\\n                        <li class=\"submenu__item\"><a href=\"/sections/art-design/\" data-metrics-action=\"click art & design\">Art &amp; Design</a> </li>\\n                        <li class=\"submenu__item\"><a href=\"/sections/performing-arts/\" data-metrics-action=\"click performing arts\">Performing Arts</a></li>\\n                    </ul>\\n                </li>\\n                <li class=\"menu__item menu__item--music menu__item--has-submenu\" data-metrics-hover=\"toggle music drawer\">\\n                    <div class=\"menu__item-inner\">\\n                        <a href=\"/music/\" data-metrics-action=\"click music\">Music</a>\\n                        <button class=\"menu__toggle-submenu\" data-metrics-action=\"toggle music drawer\">Expand/collapse submenu for Music</button>\\n                    </div>\\n\\n                    <ul class=\"submenu submenu--music\"><li class=\"submenu__item\">\\n    <a href=\"https://www.npr.org/series/tiny-desk-concerts/\" data-metrics-action=\"click tiny desk\">\\n        Tiny Desk\\n    </a>\\n</li><li class=\"submenu__item\">\\n    <a href=\"https://www.npr.org/sections/allsongs/\" data-metrics-action=\"click all songs considered\">\\n        All Songs Considered\\n    </a>\\n</li><li class=\"submenu__item\">\\n    <a href=\"https://www.npr.org/series/538009815/turning-the-tables\" data-metrics-action=\"click turning the tables\">\\n        Turning The Tables\\n    </a>\\n</li><li class=\"submenu__item\">\\n    <a href=\"https://www.npr.org/sections/music-news/\" data-metrics-action=\"click music news\">\\n        Music News\\n    </a>\\n</li><li class=\"submenu__item\">\\n    <a href=\"https://www.npr.org/sections/new-music/\" data-metrics-action=\"click new music\">\\n        New Music\\n    </a>\\n</li><li class=\"submenu__item\">\\n    <a href=\"https://www.npr.org/series/689345495/best-music-of-2019\" data-metrics-action=\"click best music of 2019\">\\n        Best Music Of 2019\\n    </a>\\n</li></ul>\\n\\n                </li>\\n                <li class=\"menu__item menu__item--shows-podcasts menu__item--has-submenu\" data-metrics-hover=\"toggle programs &amp; podcasts drawer\">\\n                    <div class=\"menu__item-inner\">\\n                        <a href=\"/programs/\" data-metrics-action=\"click shows & podcasts\">Shows &amp; Podcasts</a>\\n                        <button class=\"menu__toggle-submenu\" data-metrics-action=\"toggle programs &amp; podcasts drawer\">Expand/collapse submenu for Shows &amp; Podcasts</button>\\n                    </div>\\n\\n                    <div class=\"submenu submenu--shows-podcasts\">\\n                        <span class=\"submenu__category submenu__category--daily\">Daily</span>\\n                        <ul class=\"submenu__list submenu__list--daily\">\\n                            <li class=\"submenu__item submenu__item--timed submenu__item--weekday hidden\">\\n                                <a href=\"/programs/morning-edition/\" data-metrics-action=\"click morning edition\">\\n                                    <img src=\"https://media.npr.org/chrome/programs/logos/morning-edition.jpg\" alt=\"\" />\\n                                    Morning Edition\\n                                </a>\\n                            </li>\\n                            <li class=\"submenu__item submenu__item--timed submenu__item--saturday hidden\" >\\n                                <a href=\"/programs/weekend-edition-saturday/\" data-metrics-action=\"click weekend edition saturday\">\\n                                    <img src=\"https://media.npr.org/assets/img/2019/02/26/we_otherentitiestemplatesat_sq-cbde87a2fa31b01047441e6f34d2769b0287bcd4-s100-c85.png\" alt=\"\" />\\n                                    Weekend Edition Saturday\\n                                </a>\\n                            </li>\\n                            <li class=\"submenu__item submenu__item--timed submenu__item--sunday hidden\">\\n                                <a href=\"/programs/weekend-edition-sunday/\" data-metrics-action=\"click weekend edition sunday\">\\n                                    <img src=\"https://media.npr.org/assets/img/2019/02/26/we_otherentitiestemplatesun_sq-4a03b35e7e5adfa446aec374523a578d54dc9bf5-s100-c85.png\" alt=\"\" />\\n                                    Weekend Edition Sunday\\n                                </a>\\n                            </li>  \\n                            <li class=\"submenu__item\">\\n                                <a href=\"/programs/all-things-considered/\" data-metrics-action=\"click all things considered\">\\n                                    <img src=\"https://media.npr.org/chrome/programs/logos/all-things-considered.png\" alt=\"\" />\\n                                    All Things Considered\\n                                </a>\\n                            </li>\\n                            <li class=\"submenu__item\">\\n                                <a href=\"/programs/fresh-air/\" data-metrics-action=\"click fresh air\">\\n                                    <img src=\"https://media.npr.org/chrome/programs/logos/fresh-air.png\" alt=\"\" />\\n                                    Fresh Air\\n                                </a>\\n                            </li>\\n                            <li class=\"submenu__item\">\\n                                <a href=\"/podcasts/510318/up-first\" data-metrics-action=\"click up first\">\\n                                    <img src=\"https://media.npr.org/chrome/programs/logos/up-first.jpg\" alt=\"\" />\\n                                    Up First\\n                                </a>\\n                            </li>\\n                        </ul>\\n                        <span class=\"submenu__category submenu__category--featured\">Featured</span>\\n\\n                        <ul class=\"submenu__list submenu__list--featured\"><li class=\"submenu__item\">\\n    <a href=\"https://www.npr.org/podcasts/510313/how-i-built-this\" data-metrics-action=\"click how i built this with guy raz\">\\n        <img src=\"https://media.npr.org/assets/img/2018/08/03/npr_hibt_podcasttile_sq-98320b282169a8cea04a406530e6e7b957665b3f.jpg?s=100\" alt=\"\" />\\n        How I Built This with Guy Raz\\n    </a>\\n</li><li class=\"submenu__item\">\\n    <a href=\"https://www.npr.org/podcasts/344098539/wait-wait-don-t-tell-me\" data-metrics-action=\"click wait wait...don\\'t tell me!\">\\n        <img src=\"https://media.npr.org/assets/img/2019/05/23/screen-shot-2019-05-23-at-8.46.21-am_sq-7dcea391e7a87ca3569fe3d2047dda0144e5d86f.png?s=100\" alt=\"\" />\\n        Wait Wait...Don\\'t Tell Me!\\n    </a>\\n</li><li class=\"submenu__item\">\\n    <a href=\"https://www.npr.org/podcasts/510289/planet-money\" data-metrics-action=\"click planet money\">\\n        <img src=\"https://media.npr.org/assets/img/2018/08/02/npr_planetmoney_podcasttile_sq-7b7fab0b52fd72826936c3dbe51cff94889797a0.jpg?s=100\" alt=\"\" />\\n        Planet Money\\n    </a>\\n</li><li class=\"submenu__item\">\\n    <a href=\"https://www.npr.org/podcasts/510308/hidden-brain\" data-metrics-action=\"click hidden brain\">\\n        <img src=\"https://media.npr.org/assets/img/2018/08/03/npr_hiddenbrain_podcasttile_sq-270ab642de6948802f485c6ad1f087239ef6e324.jpg?s=100\" alt=\"\" />\\n        Hidden Brain\\n    </a>\\n</li></ul>\\n\\n                        <ul class=\"submenu__list submenu__list--directories\">\\n                            <li class=\"submenu__item\"><a href=\"/programs/\" data-metrics-action=\"click all programs\">More Shows &amp; Podcasts</a></li>\\n                        </ul>\\n                    </div>\\n                </li>\\n                <li class=\"menu__item menu__item--search\">\\n                    <div class=\"menu__item-inner\">\\n                        <a href=\"/search\" id=\"navigation_dropdown-search\" data-metrics-action=\"click search\">Search</a>\\n                    </div>\\n                </li>\\n                <li id=\"user-account-dropdown-mount-two\" class=\"menu__item menu__item--account\"></li>\\n                <li class=\"menu__item menu__item--shop\">\\n                    <div class=\"menu__item-inner\">\\n                        <a href=\"https://shop.npr.org\" data-metrics-action=\"click npr shop\">NPR Shop</a>\\n                    </div>\\n                </li>\\n            </ul>\\n        </div>\\n    </section>\\n    <section class=\"menu menu--music\" data-metrics-all data-metrics-category=\"music ecosystem navigation\">\\n        <div class=\"menu__list-wrap\">\\n            <ul class=\"menu__list menu__list--ecosystem menu__list--music\">\\n                <li class=\"menu__item menu__item--music-home\">\\n                    <a href=\"/music/\" data-metrics-action=\"click npr music logo\">\\n                        <img src=\"https://media.npr.org/chrome_svg/music-logo-dark.svg\" class=\"music-logo\"  alt=\"NPR Music\" />\\n                        <img src=\"https://media.npr.org/chrome_svg/music-logo-light.svg\" class=\"music-logo-alt\" alt=\"NPR Music\" />\\n                    </a>\\n                </li>\\n                \\n                <li class=\"menu__item\">\\n    <a href=\"https://www.npr.org/series/tiny-desk-concerts/\" data-metrics-action=\"click tiny desk\">\\n        Tiny Desk\\n    </a>\\n</li><li class=\"menu__item\">\\n    <a href=\"https://www.npr.org/sections/allsongs/\" data-metrics-action=\"click all songs considered\">\\n        All Songs Considered\\n    </a>\\n</li><li class=\"menu__item\">\\n    <a href=\"https://www.npr.org/series/538009815/turning-the-tables\" data-metrics-action=\"click turning the tables\">\\n        Turning The Tables\\n    </a>\\n</li><li class=\"menu__item\">\\n    <a href=\"https://www.npr.org/sections/music-news/\" data-metrics-action=\"click music news\">\\n        Music News\\n    </a>\\n</li><li class=\"menu__item\">\\n    <a href=\"https://www.npr.org/sections/new-music/\" data-metrics-action=\"click new music\">\\n        New Music\\n    </a>\\n</li><li class=\"menu__item\">\\n    <a href=\"https://www.npr.org/series/689345495/best-music-of-2019\" data-metrics-action=\"click best music of 2019\">\\n        Best Music Of 2019\\n    </a>\\n</li>\\n            </ul>\\n        </div>\\n    </section>\\n    <section class=\"menu menu--about\" data-metrics-all data-metrics-category=\"about ecosystem navigation\">\\n        <div class=\"menu__list-wrap\">\\n            <ul class=\"menu__list menu__list--ecosystem menu__list--about\">\\n                <li class=\"menu__item menu__item--about-home\"><a href=\"/about/\" data-metrics-action=\"click about npr\">About NPR</a></li>\\n                <li class=\"menu__item menu__item--about-overview\"><a href=\"/overview/\" data-metrics-action=\"click overview\">Overview</a></li>\\n                <li class=\"menu__item menu__item--about-support\"><a href=\"/support/\" data-metrics-action=\"click support\">Support</a></li>\\n                <li class=\"menu__item menu__item--about-careers\"><a href=\"/careers/\" data-metrics-action=\"click careers\">Careers</a></li>\\n                <li class=\"menu__item menu__item--about-connect\"><a href=\"/connect/\" data-metrics-action=\"click connect\">Connect</a></li>\\n                <li class=\"menu__item menu__item--about-press\"><a href=\"/press/\" data-metrics-action=\"click press\">Press</a></li>\\n                <li class=\"menu__item menu__item--about-ethics\"><a href=\"/ethics/\" data-metrics-action=\"click ethics\">Ethics</a></li>\\n            </ul>\\n        </div>\\n    </section>\\n</nav></header><main aria-label=\"main content\"><div class=\"speakable\">\\n      <b data-is-speakable>What If The Polls Are Wrong Again? 4 Scenarios For What Might Happen In The Elections</b>   <b data-is-speakable>The polls show a Democratic advantage in the House and a Republican one in the Senate. But be ready for anything because surprises in politics always happen.</b>\\n</div>\\n<div id=\"wrapper\">\\n      <header class=\"contentheader contentheader--one\" data-metrics=\\'{\"category\":\"Elections\"}\\' ></header>   <div class=\"story-sticky-header\">\\n    <div class=\"story-sticky-header-inner\">\\n        <a href=\"/\" class=\"nprhome nprhome-news\"  data-metrics=\\'{&quot;category&quot;:&quot;global navigation&quot;,&quot;action&quot;:&quot;click npr logo&quot;,&quot;label&quot;:&quot;\\\\/&quot;}\\' >\\n            <img src=\"https://media.npr.org/chrome_svg/npr-logo.svg\" alt=\"NPR logo\"/>\\n        </a>\\n\\n        \\n\\n        <a href=\"#\" class=\"title\">\\n          <b>What If The Polls Are Wrong Again? 4 Scenarios For What Might Happen In The Elections</b>\\n          \\n        </a>\\n    </div>\\n</div>   <section id=\"main-section\"><article class=\"story\"><a id=\"mainContent\"></a><div class=\"slug-wrap\">\\n\\n    <h3 class=\"slug\">\\n        <a href=\"https://www.npr.org/sections/elections/\">Elections</a>\\n    </h3>\\n</div>\\n<div class=\"storytitle\">\\n      <h1>What If The Polls Are Wrong Again? 4 Scenarios For What Might Happen In The Elections</h1>\\n   <input type=\"hidden\" id=\"title664395755\" value=\"What If The Polls Are Wrong Again? 4 Scenarios For What Might Happen In The Elections\" />\\n   <input type=\"hidden\" id=\"shortTitle664395755\" value=\"What If The Polls Are Wrong Again? 4 Scenarios For What Might Happen In The Elections\" />\\n   <input type=\"hidden\" id=\"modelShortUrl664395755\" value=\"https://n.pr/2Pff0wF\" />\\n   <input type=\"hidden\" id=\"modelFullUrl664395755\" value=\"https://www.npr.org/2018/11/05/664395755/what-if-the-polls-are-wrong-again-4-scenarios-for-what-might-happen-in-the-elect\" />\\n</div>\\n\\n<!-- END CLASS=\"STORYTITLE\" -->\\n<div class=\"story-tools\">\\n      <div class=\"share-tools share-tools--primary\" aria-label=\"Share tools\">\\n            <ul>\\n                  <li class=\"share-tools__service share-tools__service--facebook\"><button class=\"fbStory664395755\" data-share-facebook=\\'{\"storyId\": 664395755 }\\'  data-metrics=\\'{\"action\":\"Click Facebook\",\"category\":\"Share Tools\",\"label\":\"https:\\\\/\\\\/www.npr.org\\\\/2018\\\\/11\\\\/05\\\\/664395755\\\\/what-if-the-polls-are-wrong-again-4-scenarios-for-what-might-happen-in-the-elect\"}\\' ><b class=\"share-tools__service-name\">Facebook</b></button></li>\\n         <li class=\"share-tools__service share-tools__service--twitter\"><button class=\"story664395755\" data-share-twitter=\\'{\"storyId\": 664395755 }\\'  data-metrics=\\'{\"action\":\"Click Twitter\",\"category\":\"Share Tools\",\"label\":\"https:\\\\/\\\\/www.npr.org\\\\/2018\\\\/11\\\\/05\\\\/664395755\\\\/what-if-the-polls-are-wrong-again-4-scenarios-for-what-might-happen-in-the-elect\"}\\' ><b class=\"share-tools__service-name\">Twitter</b></button></li>\\n         <li class=\"share-tools__service share-tools__service--flipboard\"><button class=\"story664395755\" data-share-flipboard=\\'{\"storyId\": 664395755 }\\'  data-metrics=\\'{\"action\":\"Click Flipboard\",\"category\":\"Share Tools\",\"label\":\"https:\\\\/\\\\/www.npr.org\\\\/2018\\\\/11\\\\/05\\\\/664395755\\\\/what-if-the-polls-are-wrong-again-4-scenarios-for-what-might-happen-in-the-elect\"}\\' ><b class=\"share-tools__service-name\">Flipboard</b></button></li>\\n         <li class=\"share-tools__service share-tools__service--email\"><button class=\\'share-tools__email-link\\' data-story-id=\\'664395755\\'  data-metrics=\\'{\"action\":\"Click Email a Friend\",\"category\":\"Share Tools\",\"label\":\"https:\\\\/\\\\/www.npr.org\\\\/2018\\\\/11\\\\/05\\\\/664395755\\\\/what-if-the-polls-are-wrong-again-4-scenarios-for-what-might-happen-in-the-elect\"}\\' ><b class=\"share-tools__service-name\">Email</b></button></li>\\n      </ul>\\n   </div>\\n   \\n<!-- END CLASS=\"SHARE-TOOLS SHARE-TOOLS--PRIMARY\" ARIA-LABEL=\"SHARE TOOLS\" -->\\n</div>\\n\\n<!-- END CLASS=\"STORY-TOOLS\" -->\\n<div id=\"story-meta\" class=\"story-meta has-byline\">\\n      <div class=\"story-meta__one\">\\n            <div class=\"dateblock\">\\n    <time datetime=\"2018-11-05T16:49:00-05:00\">\\n            <span class=\"date\">November 5, 2018</span><span class=\"time\">4:49 PM ET</span>\\n    </time>\\n</div>\\n   </div>\\n   \\n<!-- END CLASS=\"STORY-META__ONE\" -->\\n   <div class=\"story-meta__two\">\\n            <div id=\"storybyline\" class=\"storybyline-wrap linkLocation\">\\n                  <div class=\"bucketwrap byline\" id=\"res664395888\" previewTitle=\"bylines\">\\n                        <div class=\"byline-container--block\">\\n                              <div class=\"byline byline--block byline--has-link\" aria-label=\"Byline\">\\n    <div class=\"byline__photo\">\\n      <a href=\"https://www.npr.org/people/392602474/domenico-montanaro\" rel=\"author\"  data-metrics=\\'{\"action\":\"Click Byline\",\"category\":\"Story Metadata\"}\\' >\\n        <img src=\"https://media.npr.org/assets/img/2015/03/24/domenico_montanaro_npr_007_sq-91c49487814945192035ed885c8239a7fcbed9bd-s100-c85.jpg\" class=\"img\"  alt=\"Domenico Montanaro - 2015\" />\\n      </a>\\n    </div>\\n\\n  <p class=\"byline__name byline__name--block\">\\n    <a href=\"https://www.npr.org/people/392602474/domenico-montanaro\" rel=\"author\"  data-metrics=\\'{\"action\":\"Click Byline\",\"category\":\"Story Metadata\"}\\' >\\n      Domenico Montanaro\\n    </a>\\n  </p>\\n\\n    <a class=\"byline__social-handle byline__social-handle--5\" href=\"https://www.twitter.com/DomenicoNPR\"  data-metrics=\\'{\"action\":\"Click Social Handle\",\"category\":\"Story Metadata\"}\\' >\\n      Twitter\\n    </a>\\n</div>\\n            </div>\\n         </div>\\n         \\n<!-- END CLASS=\"BUCKETWRAP BYLINE\" ID=\"RES664395888\" PREVIEWTITLE=\"BYLINES\" -->\\n      </div>\\n   </div>\\n   \\n<!-- END CLASS=\"STORY-META__TWO\" -->\\n</div>\\n\\n<!-- END ID=\"STORY-META\" CLASS=\"STORY-META HAS-BYLINE\" -->\\n<div id=\"storytext\" class=\"storytext storylocation linkLocation\">\\n      <div id=\"res664470819\" class=\"bucketwrap image large\">\\n            <div class=\"imagewrap\" data-crop-type=\"\">\\n    <img src=\"https://media.npr.org/assets/img/2018/11/05/gettyimages-1057663456vote_wide-9fc473c80fc1f9d825f563fd94d01c766f5ff669-s1100-c15.jpg\" data-original=\"https://media.npr.org/assets/img/2018/11/05/gettyimages-1057663456vote_wide-9fc473c80fc1f9d825f563fd94d01c766f5ff669-s1100.jpg\" class=\"img lazyOnLoad\"  alt=\"\" />\\n        <div class=\"enlarge-options\">\\n            <a class=\"enlargelink\" href=\"https://media.npr.org/assets/img/2018/11/05/gettyimages-1057663456vote_wide-9fc473c80fc1f9d825f563fd94d01c766f5ff669-s1200.jpg\">Enlarge this image</a>\\n        </div>\\n</div>\\n<div class=\"credit-caption\">\\n    <div class=\"caption-wrap\">\\n        <div class=\"caption\" aria-label=\"Image caption\">\\n            <p>\\n                Supporters of Missouri Democratic Sen. Claire McCaskill wait for her to arrive at a campaign stop in St. Louis on Monday.\\n                \\n                <b class=\"credit\" aria-label=\"Image credit\">\\n                    \\n                    Scott Olson/Getty Images\\n                    \\n                </b>\\n                <b class=\"hide-caption\"><b>hide caption</b></b>\\n            </p>\\n        </div>\\n\\n\\n            <b class=\"toggle-caption\"><b>toggle caption</b></b>\\n    </div>\\n\\n    <span class=\"credit\" aria-label=\"Image credit\">\\n        \\n        Scott Olson/Getty Images\\n        \\n    </span>\\n</div>\\n<div class=\"enlarge_measure\">\\n    <div class=\"img_wrap\">\\n        <img data-original=\"https://media.npr.org/assets/img/2018/11/05/gettyimages-1057663456vote_wide-9fc473c80fc1f9d825f563fd94d01c766f5ff669-s1200.jpg\" alt=\"\" />\\n    </div>\\n</div>\\n<div class=\"enlarge_html\">\\n    <div class=\"image_data\">\\n        <p class=\"caption\">Supporters of Missouri Democratic Sen. Claire McCaskill wait for her to arrive at a campaign stop in St. Louis on Monday.</p>\\n        <span class=\"credit\" aria-label=\"Image credit\">\\n            \\n            Scott Olson/Getty Images\\n            \\n        </span>\\n    </div>\\n</div>\\n   </div>\\n   <p>There\\'s a lot that can happen Tuesday, the culmination of a long midterm election campaign that will provide the first nationwide measure of the U.S. electorate since Donald Trump was elected president.</p>   <p>One narrative has become dominant: that Democrats are likely to gain control of the House and Republicans hold the Senate, if not expand their majority there. That narrative is based largely on national polls, and caution should be urged. Pollsters have made a lot of adjustments to hopefully correct what they got wrong in 2016, but they can\\'t tell you precisely who is going to show up to vote.</p>   <div id=\"res664445643\" class=\"bucketwrap internallink insettwocolumn inset2col \">\\n            <div class=\"bucket img\">\\n                  <a id=\"featuredStackSquareImage663968176\" href=\"https://www.npr.org/2018/11/04/663968176/key-questions-the-2018-election-will-answer\"  data-metrics=\\'{\"category\":\"Story to Story\",\"action\":\"Click Internal Link\",\"label\":\"https:\\\\/\\\\/www.npr.org\\\\/2018\\\\/11\\\\/04\\\\/663968176\\\\/key-questions-the-2018-election-will-answer\"}\\' ><img src=\"https://media.npr.org/assets/img/2018/11/03/ap_18306730245179_sq-5e7137b77f967ca66c441eaa938895edd248264e-s100-c15.jpg\" data-original=\"https://media.npr.org/assets/img/2018/11/03/ap_18306730245179_sq-5e7137b77f967ca66c441eaa938895edd248264e-s100.jpg\" class=\"img lazyOnLoad\"  alt=\"Key Questions The 2018 Election Will Answer\" /></a>         <div class=\"bucketblock\">\\n                        <h3 class=\"slug\"><a href=\"https://www.npr.org/sections/analysis/\">Analysis </a></h3>\\n            <h3><a href=\"https://www.npr.org/2018/11/04/663968176/key-questions-the-2018-election-will-answer\"  data-metrics=\\'{\"category\":\"Story to Story\",\"action\":\"Click Internal Link\",\"label\":\"https:\\\\/\\\\/www.npr.org\\\\/2018\\\\/11\\\\/04\\\\/663968176\\\\/key-questions-the-2018-election-will-answer\"}\\' >Key Questions The 2018 Election Will Answer</a></h3>\\n         </div>\\n         \\n<!-- END CLASS=\"BUCKETBLOCK\" -->\\n      </div>\\n      \\n<!-- END CLASS=\"BUCKET IMG\" -->\\n   </div>\\n   \\n<!-- END ID=\"RES664445643\" CLASS=\"BUCKETWRAP INTERNALLINK INSETTWOCOLUMN INSET2COL \" -->\\n   <p>What\\'s more, there have been far fewer statewide and district-specific surveys than in past midterm elections. And, as it is, there are data both parties can take solace in that buoy their respective cases. So everyone should be prepared for surprises — because there always are some. That\\'s the beauty of campaigns and voting.</p>   <p>Here are four scenarios for how election night might play out and what each could mean.</p>   <h3 class=\"edTag\">1. Democrats win the House, and Republicans hold the Senate<strong> </strong></h3>   <p>This is the most likely outcome, based not just on the polls but also on conversations with strategists in both parties. But they urge caution, because the races in the many districts across the country that are up for grabs are still very close.</p>   <aside id=\"ad-backstage-wrap\" aria-label=\"advertisement\">\\n    \\n\\n    <div id=\"ad-backstage-News_Politics_Elections\" class=\"ad-backstage\" data-ad-config=\\'{\"network\":\"\\\\/6735\\\\/\",\"site\":{\"default\":\"n6735.NPR\",\"mobile\":\"n6735.NPRMOBILE\"},\"zone\":\"News_Politics_Elections\",\"targets\":{\"testserver\":\"false\",\"storyId\":\"664395755\",\"agg\":[\"312150170\",\"191676894\",\"434975886\"]},\"location\":\"backstage\",\"deferred\":false,\"isBetweenContent\":true,\"isAggSponsorship\":false,\"borderClass\":\"\"}\\'></div>\\n\\n</aside>   <div id=\"res664447135\" class=\"bucketwrap internallink insettwocolumn inset2col \">\\n            <div class=\"bucket img\">\\n                  <a id=\"featuredStackSquareImage662794792\" href=\"https://www.npr.org/2018/11/01/662794792/heres-why-democrats-are-confident-they-ll-win-the-house\"  data-metrics=\\'{\"category\":\"Story to Story\",\"action\":\"Click Internal Link\",\"label\":\"https:\\\\/\\\\/www.npr.org\\\\/2018\\\\/11\\\\/01\\\\/662794792\\\\/heres-why-democrats-are-confident-they-ll-win-the-house\"}\\' ><img src=\"https://media.npr.org/assets/img/2018/10/31/gettyimages-974323074_sq-86948ba36a45648f6813632f4ae09a61f6278565-s100-c15.jpg\" data-original=\"https://media.npr.org/assets/img/2018/10/31/gettyimages-974323074_sq-86948ba36a45648f6813632f4ae09a61f6278565-s100.jpg\" class=\"img lazyOnLoad\"  alt=\"Here\\'s Why Democrats Are Confident They\\'ll Win The House \" /></a>         <div class=\"bucketblock\">\\n                        <h3 class=\"slug\"><a href=\"https://www.npr.org/sections/politics/\">Politics </a></h3>\\n            <h3><a href=\"https://www.npr.org/2018/11/01/662794792/heres-why-democrats-are-confident-they-ll-win-the-house\"  data-metrics=\\'{\"category\":\"Story to Story\",\"action\":\"Click Internal Link\",\"label\":\"https:\\\\/\\\\/www.npr.org\\\\/2018\\\\/11\\\\/01\\\\/662794792\\\\/heres-why-democrats-are-confident-they-ll-win-the-house\"}\\' >Here\\'s Why Democrats Are Confident They\\'ll Win The House </a></h3>\\n         </div>\\n         \\n<!-- END CLASS=\"BUCKETBLOCK\" -->\\n      </div>\\n      \\n<!-- END CLASS=\"BUCKET IMG\" -->\\n   </div>\\n   \\n<!-- END ID=\"RES664447135\" CLASS=\"BUCKETWRAP INTERNALLINK INSETTWOCOLUMN INSET2COL \" -->\\n   <p><strong>How it would happen: </strong>Forget the polls; <a href=\"https://www.npr.org/2018/11/01/662794792/heres-why-democrats-are-confident-they-ll-win-the-house\">Democrats are favored to take back the House</a> for more reasons than that. There have been a record number of retirements, reducing the built-in advantage incumbents tend to have; record numbers of candidates, <a href=\"https://www.npr.org/2018/11/03/663466805/democratic-women-house-candidates-set-for-a-much-easier-election-day-than-gop-wo\">especially Democratic women</a>, have run for public office; Democrats won the off-year elections in Virginia and New Jersey; they won or fared better than expected in special elections across the country; there was high primary turnout for Democrats in many states; and there is very high early voting turnout.</p>   <div id=\"res664447640\" class=\"bucketwrap internallink insettwocolumn inset2col \">\\n            <div class=\"bucket img\">\\n                  <a id=\"featuredStackSquareImage663466805\" href=\"https://www.npr.org/2018/11/03/663466805/democratic-women-house-candidates-set-for-a-much-easier-election-day-than-gop-wo\"  data-metrics=\\'{\"category\":\"Story to Story\",\"action\":\"Click Internal Link\",\"label\":\"https:\\\\/\\\\/www.npr.org\\\\/2018\\\\/11\\\\/03\\\\/663466805\\\\/democratic-women-house-candidates-set-for-a-much-easier-election-day-than-gop-wo\"}\\' ><img src=\"https://media.npr.org/assets/img/2018/11/02/gettyimages-1062257472_sq-23dd8a592523eb63d7b263e3fc2dcd46a7e2600f-s100-c15.jpg\" data-original=\"https://media.npr.org/assets/img/2018/11/02/gettyimages-1062257472_sq-23dd8a592523eb63d7b263e3fc2dcd46a7e2600f-s100.jpg\" class=\"img lazyOnLoad\"  alt=\"Female Democratic House Candidates Set For A Much Easier Election Day Than GOP Women\" /></a>         <div class=\"bucketblock\">\\n                        <h3 class=\"slug\"><a href=\"https://www.npr.org/sections/elections/\">Elections </a></h3>\\n            <h3><a href=\"https://www.npr.org/2018/11/03/663466805/democratic-women-house-candidates-set-for-a-much-easier-election-day-than-gop-wo\"  data-metrics=\\'{\"category\":\"Story to Story\",\"action\":\"Click Internal Link\",\"label\":\"https:\\\\/\\\\/www.npr.org\\\\/2018\\\\/11\\\\/03\\\\/663466805\\\\/democratic-women-house-candidates-set-for-a-much-easier-election-day-than-gop-wo\"}\\' >Female Democratic House Candidates Set For A Much Easier Election Day Than GOP Women</a></h3>\\n         </div>\\n         \\n<!-- END CLASS=\"BUCKETBLOCK\" -->\\n      </div>\\n      \\n<!-- END CLASS=\"BUCKET IMG\" -->\\n   </div>\\n   \\n<!-- END ID=\"RES664447640\" CLASS=\"BUCKETWRAP INTERNALLINK INSETTWOCOLUMN INSET2COL \" -->\\n   <p>And just look at how wide the playing field is — Democrats need to pick up 23 seats to take back the House,<strong> </strong>and they are targeting some 80 Republican-held seats. Republicans are competing in just eight held by Democrats. That right there is and has been a huge flashing red light for the GOP. So many of those races are running through the suburbs, where independents and wealthy, college-educated women live, both of which have consistently in polling said they disapproved of the job the president is doing and prefer to vote for a Democrat in their district.</p>   <div id=\"res664449455\" class=\"bucketwrap internallink insettwocolumn inset2col \">\\n            <div class=\"bucket img\">\\n                  <a id=\"featuredStackSquareImage662730647\" href=\"https://www.npr.org/2018/11/01/662730647/poll-nearly-4-in-5-voters-concerned-incivility-will-lead-to-violence\"  data-metrics=\\'{\"category\":\"Story to Story\",\"action\":\"Click Internal Link\",\"label\":\"https:\\\\/\\\\/www.npr.org\\\\/2018\\\\/11\\\\/01\\\\/662730647\\\\/poll-nearly-4-in-5-voters-concerned-incivility-will-lead-to-violence\"}\\' ><img src=\"https://media.npr.org/assets/img/2018/10/31/gettyimages-1055522638trumpprotest_sq-ee84b30f7a28a6e9f4b9bfc59ce4c4b90fd1cd27-s100-c15.jpg\" data-original=\"https://media.npr.org/assets/img/2018/10/31/gettyimages-1055522638trumpprotest_sq-ee84b30f7a28a6e9f4b9bfc59ce4c4b90fd1cd27-s100.jpg\" class=\"img lazyOnLoad\"  alt=\"Poll: Nearly 4 In 5 Voters Concerned Incivility Will Lead To Violence\" /></a>         <div class=\"bucketblock\">\\n                        <h3 class=\"slug\"><a href=\"https://www.npr.org/sections/elections/\">Elections </a></h3>\\n            <h3><a href=\"https://www.npr.org/2018/11/01/662730647/poll-nearly-4-in-5-voters-concerned-incivility-will-lead-to-violence\"  data-metrics=\\'{\"category\":\"Story to Story\",\"action\":\"Click Internal Link\",\"label\":\"https:\\\\/\\\\/www.npr.org\\\\/2018\\\\/11\\\\/01\\\\/662730647\\\\/poll-nearly-4-in-5-voters-concerned-incivility-will-lead-to-violence\"}\\' >Poll: Nearly 4 In 5 Voters Concerned Incivility Will Lead To Violence</a></h3>\\n         </div>\\n         \\n<!-- END CLASS=\"BUCKETBLOCK\" -->\\n      </div>\\n      \\n<!-- END CLASS=\"BUCKET IMG\" -->\\n   </div>\\n   \\n<!-- END ID=\"RES664449455\" CLASS=\"BUCKETWRAP INTERNALLINK INSETTWOCOLUMN INSET2COL \" -->\\n   <p>One other overlooked number from <a href=\"https://www.npr.org/2018/11/01/662730647/poll-nearly-4-in-5-voters-concerned-incivility-will-lead-to-violence\">the last NPR/PBS NewsHour/Marist poll</a>: Just 54 percent of Republican women who are registered voters said they were very enthusiastic about voting in this election. Compare that with 78 percent of Republican men who are registered voters. And where do a lot of those women live? The suburbs. If GOP women, an important group that Republicans need to bolster them, stay home, that\\'s one way Democrats clean up in the House.</p>   <div id=\"res664452930\" class=\"bucketwrap internallink insettwocolumn inset2col \">\\n            <div class=\"bucket img\">\\n                  <a id=\"featuredStackSquareImage656970406\" href=\"https://www.npr.org/2018/10/16/656970406/battle-for-the-senate-10-races-that-will-determine-control\"  data-metrics=\\'{\"category\":\"Story to Story\",\"action\":\"Click Internal Link\",\"label\":\"https:\\\\/\\\\/www.npr.org\\\\/2018\\\\/10\\\\/16\\\\/656970406\\\\/battle-for-the-senate-10-races-that-will-determine-control\"}\\' ><img src=\"https://media.npr.org/assets/img/2018/10/15/senate-race-nd_sq-17ab1a5762ec244f5e7876df2b4ecef7ea1675d4-s100-c15.png\" data-original=\"https://media.npr.org/assets/img/2018/10/15/senate-race-nd_sq-17ab1a5762ec244f5e7876df2b4ecef7ea1675d4-s100.png\" class=\"img lazyOnLoad\"  alt=\"Battle For The Senate: 10 Races That Will Determine Control\" /></a>         <div class=\"bucketblock\">\\n                        <h3 class=\"slug\"><a href=\"https://www.npr.org/sections/politics/\">Politics </a></h3>\\n            <h3><a href=\"https://www.npr.org/2018/10/16/656970406/battle-for-the-senate-10-races-that-will-determine-control\"  data-metrics=\\'{\"category\":\"Story to Story\",\"action\":\"Click Internal Link\",\"label\":\"https:\\\\/\\\\/www.npr.org\\\\/2018\\\\/10\\\\/16\\\\/656970406\\\\/battle-for-the-senate-10-races-that-will-determine-control\"}\\' >Battle For The Senate: 10 Races That Will Determine Control</a></h3>\\n         </div>\\n         \\n<!-- END CLASS=\"BUCKETBLOCK\" -->\\n      </div>\\n      \\n<!-- END CLASS=\"BUCKET IMG\" -->\\n   </div>\\n   \\n<!-- END ID=\"RES664452930\" CLASS=\"BUCKETWRAP INTERNALLINK INSETTWOCOLUMN INSET2COL \" -->\\n   <p>In the Senate, on the other hand, Republicans have a very favorable landscape and <a href=\"https://www.npr.org/2018/10/16/656970406/battle-for-the-senate-10-races-that-will-determine-control\">are competing in conservative states held by Democrats</a>. The fundamentals favor the GOP in these states, and if Republicans win where they should win, they will hold the Senate.</p>   <div id=\"res664453284\" class=\"bucketwrap internallink insettwocolumn inset2col \">\\n            <div class=\"bucket img\">\\n                  <a id=\"featuredStackSquareImage662112853\" href=\"https://www.npr.org/2018/11/02/662112853/democrats-say-house-majority-would-mean-investigative-barrage-not-impeachment\"  data-metrics=\\'{\"category\":\"Story to Story\",\"action\":\"Click Internal Link\",\"label\":\"https:\\\\/\\\\/www.npr.org\\\\/2018\\\\/11\\\\/02\\\\/662112853\\\\/democrats-say-house-majority-would-mean-investigative-barrage-not-impeachment\"}\\' ><img src=\"https://media.npr.org/assets/img/2018/10/31/gettyimages-973240628_sq-2732f652e321498f69cd62e21eda3b0f2aa49c91-s100-c15.jpg\" data-original=\"https://media.npr.org/assets/img/2018/10/31/gettyimages-973240628_sq-2732f652e321498f69cd62e21eda3b0f2aa49c91-s100.jpg\" class=\"img lazyOnLoad\"  alt=\"As Dems Prepare Investigative Barrage, Key White House Lawyer Jobs Remain Vacant\" /></a>         <div class=\"bucketblock\">\\n                        <h3 class=\"slug\"><a href=\"https://www.npr.org/sections/politics/\">Politics </a></h3>\\n            <h3><a href=\"https://www.npr.org/2018/11/02/662112853/democrats-say-house-majority-would-mean-investigative-barrage-not-impeachment\"  data-metrics=\\'{\"category\":\"Story to Story\",\"action\":\"Click Internal Link\",\"label\":\"https:\\\\/\\\\/www.npr.org\\\\/2018\\\\/11\\\\/02\\\\/662112853\\\\/democrats-say-house-majority-would-mean-investigative-barrage-not-impeachment\"}\\' >As Dems Prepare Investigative Barrage, Key White House Lawyer Jobs Remain Vacant</a></h3>\\n         </div>\\n         \\n<!-- END CLASS=\"BUCKETBLOCK\" -->\\n      </div>\\n      \\n<!-- END CLASS=\"BUCKET IMG\" -->\\n   </div>\\n   \\n<!-- END ID=\"RES664453284\" CLASS=\"BUCKETWRAP INTERNALLINK INSETTWOCOLUMN INSET2COL \" -->\\n   <p><strong>What it would mean: </strong>This would be a huge win for Democrats, as they\\'d be able to gum up Trump\\'s agenda <a href=\"https://www.npr.org/2018/11/02/662112853/democrats-say-house-majority-would-mean-investigative-barrage-not-impeachment\">and begin to investigate his administration</a>, something the GOP has not done very much of. In the Senate, <a href=\"https://www.npr.org/2018/10/27/660643999/trump-republicans-continue-remaking-the-federal-courts-even-as-senate-on-recess\">Republicans could still approve federal judges and Trump Supreme Court nominees</a>, but if they want to get any big legislation done they\\'re going to have to negotiate with Democrats in the House, and possibly a Speaker Nancy Pelosi.</p>   <p>Democrats feel they need to limit the losses in the Senate. If they can hold Republicans to net even, keeping the Senate at 51-49, or maybe lose a net of one seat, then they will be very happy. They have a much more favorable Senate landscape in 2020 and believe they will be able to take back the Senate then.</p>   <h3 class=\"edTag\">2. Republicans hold the House and Senate</h3>   <p>This would be a huge win for the GOP.</p>   <div id=\"res664456331\" class=\"bucketwrap internallink insettwocolumn inset2col \">\\n            <div class=\"bucket img\">\\n                  <a id=\"featuredStackSquareImage656900971\" href=\"https://www.npr.org/sections/health-shots/2018/10/16/656900971/npr-poll-rural-americans-are-worried-about-addiction-and-jobs-but-remain-optimis\"  data-metrics=\\'{\"category\":\"Story to Story\",\"action\":\"Click Internal Link\",\"label\":\"https:\\\\/\\\\/www.npr.org\\\\/sections\\\\/health-shots\\\\/2018\\\\/10\\\\/16\\\\/656900971\\\\/npr-poll-rural-americans-are-worried-about-addiction-and-jobs-but-remain-optimis\"}\\' ><img src=\"https://media.npr.org/assets/img/2018/10/15/rural-poll-promo-1_sq-de12fba6c18d0e3e6eb007f2a211b4c867456c1d-s100-c15.png\" data-original=\"https://media.npr.org/assets/img/2018/10/15/rural-poll-promo-1_sq-de12fba6c18d0e3e6eb007f2a211b4c867456c1d-s100.png\" class=\"img lazyOnLoad\"  alt=\"NPR Poll: Rural Americans Are Worried About Addiction And Jobs, But Remain Optimistic\" /></a>         <div class=\"bucketblock\">\\n                        <h3 class=\"slug\"><a href=\"https://www.npr.org/sections/health-shots/\">Shots - Health News </a></h3>\\n            <h3><a href=\"https://www.npr.org/sections/health-shots/2018/10/16/656900971/npr-poll-rural-americans-are-worried-about-addiction-and-jobs-but-remain-optimis\"  data-metrics=\\'{\"category\":\"Story to Story\",\"action\":\"Click Internal Link\",\"label\":\"https:\\\\/\\\\/www.npr.org\\\\/sections\\\\/health-shots\\\\/2018\\\\/10\\\\/16\\\\/656900971\\\\/npr-poll-rural-americans-are-worried-about-addiction-and-jobs-but-remain-optimis\"}\\' >NPR Poll: Rural Americans Are Worried About Addiction And Jobs, But Remain Optimistic</a></h3>\\n         </div>\\n         \\n<!-- END CLASS=\"BUCKETBLOCK\" -->\\n      </div>\\n      \\n<!-- END CLASS=\"BUCKET IMG\" -->\\n   </div>\\n   \\n<!-- END ID=\"RES664456331\" CLASS=\"BUCKETWRAP INTERNALLINK INSETTWOCOLUMN INSET2COL \" -->\\n   <p><strong>How it would happen: </strong><a href=\"https://www.npr.org/2018/10/18/658255884/voter-turnout-could-hit-50-year-record-for-midterm-elections\">A record turnout is expected Tuesday</a> — perhaps higher than any time in the past 50 years for a midterm — but, as in 2016, Trump voters would have to dominate. Rural voters would have to turn out at higher-than-expected rates, causing the polls to be wrong (again). Meanwhile, young voters and Latinos would have to stay home. (<a href=\"https://www.usatoday.com/story/news/nation/2018/11/05/election-day-weather-forecast-big-storm-blast-eastern-us/1891149002/\">It is supposed to rain on the East Coast Tuesday</a>, which could depress low-propensity-voter turnout.)</p>   <div id=\"res664463985\" class=\"bucketwrap internallink insettwocolumn inset2col \">\\n            <div class=\"bucket img\">\\n                  <a id=\"featuredStackSquareImage662122877\" href=\"https://www.npr.org/2018/11/05/662122877/taking-back-the-house-could-be-life-and-death-for-democrats\"  data-metrics=\\'{\"category\":\"Story to Story\",\"action\":\"Click Internal Link\",\"label\":\"https:\\\\/\\\\/www.npr.org\\\\/2018\\\\/11\\\\/05\\\\/662122877\\\\/taking-back-the-house-could-be-life-and-death-for-democrats\"}\\' ><img src=\"https://media.npr.org/assets/img/2018/11/02/ap_18249605913127_sq-92d88328b6f3471cb745cefc23bc840acaaac281-s100-c15.jpg\" data-original=\"https://media.npr.org/assets/img/2018/11/02/ap_18249605913127_sq-92d88328b6f3471cb745cefc23bc840acaaac281-s100.jpg\" class=\"img lazyOnLoad\"  alt=\"Taking Back The House Could Be \\'Life And Death\\' For Democrats \" /></a>         <div class=\"bucketblock\">\\n                        <h3 class=\"slug\"><a href=\"https://www.npr.org/sections/elections/\">Elections </a></h3>\\n            <h3><a href=\"https://www.npr.org/2018/11/05/662122877/taking-back-the-house-could-be-life-and-death-for-democrats\"  data-metrics=\\'{\"category\":\"Story to Story\",\"action\":\"Click Internal Link\",\"label\":\"https:\\\\/\\\\/www.npr.org\\\\/2018\\\\/11\\\\/05\\\\/662122877\\\\/taking-back-the-house-could-be-life-and-death-for-democrats\"}\\' >Taking Back The House Could Be \\'Life And Death\\' For Democrats </a></h3>\\n         </div>\\n         \\n<!-- END CLASS=\"BUCKETBLOCK\" -->\\n      </div>\\n      \\n<!-- END CLASS=\"BUCKET IMG\" -->\\n   </div>\\n   \\n<!-- END ID=\"RES664463985\" CLASS=\"BUCKETWRAP INTERNALLINK INSETTWOCOLUMN INSET2COL \" -->\\n   <p>All of those close House races would have to tip Republicans\\' way, something that\\'s very possible given the conservative lean of those districts and the distrust of the media, purposefully stoked by the president. And who pays for polls for the most part? Big media organizations.</p>   <div id=\"res664468363\" class=\"bucketwrap image large\">\\n            <div class=\"imagewrap\" data-crop-type=\"\">\\n    <img src=\"https://media.npr.org/assets/img/2018/11/05/gettyimages-1063521758trumptenn_wide-75d4737201e2a39478b2253c9d5d9c12aec54d44-s1100-c15.jpg\" data-original=\"https://media.npr.org/assets/img/2018/11/05/gettyimages-1063521758trumptenn_wide-75d4737201e2a39478b2253c9d5d9c12aec54d44-s1100.jpg\" class=\"img lazyOnLoad\"  alt=\"\" />\\n        <div class=\"enlarge-options\">\\n            <a class=\"enlargelink\" href=\"https://media.npr.org/assets/img/2018/11/05/gettyimages-1063521758trumptenn_wide-75d4737201e2a39478b2253c9d5d9c12aec54d44-s1200.jpg\">Enlarge this image</a>\\n        </div>\\n</div>\\n<div class=\"credit-caption\">\\n    <div class=\"caption-wrap\">\\n        <div class=\"caption\" aria-label=\"Image caption\">\\n            <p>\\n                President Trump acknowledges supporters during a campaign rally for Rep. Marsha Blackburn, R-Tenn., and other Tennessee Republican candidates on Monday in Chattanooga, Tenn.\\n                \\n                <b class=\"credit\" aria-label=\"Image credit\">\\n                    \\n                    Alex Wong/Getty Images\\n                    \\n                </b>\\n                <b class=\"hide-caption\"><b>hide caption</b></b>\\n            </p>\\n        </div>\\n\\n\\n            <b class=\"toggle-caption\"><b>toggle caption</b></b>\\n    </div>\\n\\n    <span class=\"credit\" aria-label=\"Image credit\">\\n        \\n        Alex Wong/Getty Images\\n        \\n    </span>\\n</div>\\n<div class=\"enlarge_measure\">\\n    <div class=\"img_wrap\">\\n        <img data-original=\"https://media.npr.org/assets/img/2018/11/05/gettyimages-1063521758trumptenn_wide-75d4737201e2a39478b2253c9d5d9c12aec54d44-s1200.jpg\" alt=\"\" />\\n    </div>\\n</div>\\n<div class=\"enlarge_html\">\\n    <div class=\"image_data\">\\n        <p class=\"caption\">President Trump acknowledges supporters during a campaign rally for Rep. Marsha Blackburn, R-Tenn., and other Tennessee Republican candidates on Monday in Chattanooga, Tenn.</p>\\n        <span class=\"credit\" aria-label=\"Image credit\">\\n            \\n            Alex Wong/Getty Images\\n            \\n        </span>\\n    </div>\\n</div>\\n   </div>\\n   <p><strong>What it would mean: </strong>President Trump and Republicans would step on the gas, validated by an election cycle dominated by negative news coverage and polling that said the GOP had its back against the wall. The Affordable Care Act (aka Obamacare) would very likely be repealed once and for all. And Trump could set his sights on ousting Attorney General Jeff Sessions and other key figures at the Justice Department, possibly ending the department\\'s investigation of Russia\\'s attack on the 2016 election.</p>   <div id=\"res664461265\" class=\"bucketwrap internallink insettwocolumn inset2col \">\\n            <div class=\"bucket img\">\\n                  <a id=\"featuredStackSquareImage663532238\" href=\"https://www.npr.org/2018/11/02/663532238/fact-check-migrants-are-not-overwhelming-the-southwest-border\"  data-metrics=\\'{\"category\":\"Story to Story\",\"action\":\"Click Internal Link\",\"label\":\"https:\\\\/\\\\/www.npr.org\\\\/2018\\\\/11\\\\/02\\\\/663532238\\\\/fact-check-migrants-are-not-overwhelming-the-southwest-border\"}\\' ><img src=\"https://media.npr.org/assets/img/2018/11/02/ap_18229761384723_sq-3660f8f1a9e4aaa52829cf059b68219818ae1d62-s100-c15.jpg\" data-original=\"https://media.npr.org/assets/img/2018/11/02/ap_18229761384723_sq-3660f8f1a9e4aaa52829cf059b68219818ae1d62-s100.jpg\" class=\"img lazyOnLoad\"  alt=\"FACT CHECK: Migrants Are Not Overwhelming The Southwest Border \" /></a>         <div class=\"bucketblock\">\\n                        <h3 class=\"slug\"><a href=\"https://www.npr.org/sections/national/\">National </a></h3>\\n            <h3><a href=\"https://www.npr.org/2018/11/02/663532238/fact-check-migrants-are-not-overwhelming-the-southwest-border\"  data-metrics=\\'{\"category\":\"Story to Story\",\"action\":\"Click Internal Link\",\"label\":\"https:\\\\/\\\\/www.npr.org\\\\/2018\\\\/11\\\\/02\\\\/663532238\\\\/fact-check-migrants-are-not-overwhelming-the-southwest-border\"}\\' >FACT CHECK: Migrants Are Not Overwhelming The Southwest Border </a></h3>\\n         </div>\\n         \\n<!-- END CLASS=\"BUCKETBLOCK\" -->\\n      </div>\\n      \\n<!-- END CLASS=\"BUCKET IMG\" -->\\n   </div>\\n   \\n<!-- END ID=\"RES664461265\" CLASS=\"BUCKETWRAP INTERNALLINK INSETTWOCOLUMN INSET2COL \" -->\\n   <p>What\\'s more, Trump\\'s strategy of demonizing immigrants would have worked — again. That was rewarded, and what message would that send? He is only going to do more of it between Wednesday and November 2020 when he stands for re-election.</p>   <div id=\"res664462395\" class=\"bucketwrap internallink insettwocolumn inset2col \">\\n            <div class=\"bucket img\">\\n                  <a id=\"featuredStackSquareImage662946236\" href=\"https://www.npr.org/2018/11/05/662946236/how-to-make-sense-of-exit-polls-on-election-night\"  data-metrics=\\'{\"category\":\"Story to Story\",\"action\":\"Click Internal Link\",\"label\":\"https:\\\\/\\\\/www.npr.org\\\\/2018\\\\/11\\\\/05\\\\/662946236\\\\/how-to-make-sense-of-exit-polls-on-election-night\"}\\' ><img src=\"https://media.npr.org/assets/img/2018/11/03/gettyimages-621808780_sq-b826a8f30ac379d9d49f87f50bdb0956af1bc5ae-s100-c15.jpg\" data-original=\"https://media.npr.org/assets/img/2018/11/03/gettyimages-621808780_sq-b826a8f30ac379d9d49f87f50bdb0956af1bc5ae-s100.jpg\" class=\"img lazyOnLoad\"  alt=\"How To Make Sense Of Exit Polls On Election Night\" /></a>         <div class=\"bucketblock\">\\n                        <h3 class=\"slug\"><a href=\"https://www.npr.org/sections/politics/\">Politics </a></h3>\\n            <h3><a href=\"https://www.npr.org/2018/11/05/662946236/how-to-make-sense-of-exit-polls-on-election-night\"  data-metrics=\\'{\"category\":\"Story to Story\",\"action\":\"Click Internal Link\",\"label\":\"https:\\\\/\\\\/www.npr.org\\\\/2018\\\\/11\\\\/05\\\\/662946236\\\\/how-to-make-sense-of-exit-polls-on-election-night\"}\\' >How To Make Sense Of Exit Polls On Election Night</a></h3>\\n         </div>\\n         \\n<!-- END CLASS=\"BUCKETBLOCK\" -->\\n      </div>\\n      \\n<!-- END CLASS=\"BUCKET IMG\" -->\\n   </div>\\n   \\n<!-- END ID=\"RES664462395\" CLASS=\"BUCKETWRAP INTERNALLINK INSETTWOCOLUMN INSET2COL \" -->\\n   <p>It would also be yet another reckoning for pollsters and media organizations that pay for the surveys. The polls currently show Democrats with a razor-thin, but consistent advantage heading into Election Day. But if the polls are wrong, it should induce more than a shoulder shrug from outlets that conduct them and the news media organizations that report on them.</p>   <h3 class=\"edTag\">3. Democrats win both the House and Senate</h3>   <p>This is not seen as the likeliest of scenarios, but it\\'s not out of the realm of possibility either. It would very likely mean a massive wave and a massive shift against Trump and Republicans tied to him nationally.</p>   <p>A lot would have to happen, especially in the Senate, for this to happen.</p>   <div id=\"res664462972\" class=\"bucketwrap internallink insettwocolumn inset2col \">\\n            <div class=\"bucket img\">\\n                  <a id=\"featuredStackSquareImage662912609\" href=\"https://www.npr.org/2018/11/05/662912609/miserable-and-emboldened-if-republicans-lose-the-house-they-ll-be-on-defense\"  data-metrics=\\'{\"category\":\"Story to Story\",\"action\":\"Click Internal Link\",\"label\":\"https:\\\\/\\\\/www.npr.org\\\\/2018\\\\/11\\\\/05\\\\/662912609\\\\/miserable-and-emboldened-if-republicans-lose-the-house-they-ll-be-on-defense\"}\\' ><img src=\"https://media.npr.org/assets/img/2018/11/04/ap_18172039998456_sq-2a60e862dfa4c7fd802425033e42eaf4f65bceb4-s100-c15.jpg\" data-original=\"https://media.npr.org/assets/img/2018/11/04/ap_18172039998456_sq-2a60e862dfa4c7fd802425033e42eaf4f65bceb4-s100.jpg\" class=\"img lazyOnLoad\"  alt=\"\\'Miserable And Emboldened\\': If Republicans Lose The House, They\\'ll Be On Defense\" /></a>         <div class=\"bucketblock\">\\n                        <h3 class=\"slug\"><a href=\"https://www.npr.org/sections/elections/\">Elections </a></h3>\\n            <h3><a href=\"https://www.npr.org/2018/11/05/662912609/miserable-and-emboldened-if-republicans-lose-the-house-they-ll-be-on-defense\"  data-metrics=\\'{\"category\":\"Story to Story\",\"action\":\"Click Internal Link\",\"label\":\"https:\\\\/\\\\/www.npr.org\\\\/2018\\\\/11\\\\/05\\\\/662912609\\\\/miserable-and-emboldened-if-republicans-lose-the-house-they-ll-be-on-defense\"}\\' >\\'Miserable And Emboldened\\': If Republicans Lose The House, They\\'ll Be On Defense</a></h3>\\n         </div>\\n         \\n<!-- END CLASS=\"BUCKETBLOCK\" -->\\n      </div>\\n      \\n<!-- END CLASS=\"BUCKET IMG\" -->\\n   </div>\\n   \\n<!-- END ID=\"RES664462972\" CLASS=\"BUCKETWRAP INTERNALLINK INSETTWOCOLUMN INSET2COL \" -->\\n   <p><strong>How it would happen: </strong>The path for Democrats in the House is through the suburbs, as in Scenario 1. That doesn\\'t change. But for Democrats to pull this off in the Senate, not only would voters have to side with Democratic incumbents in conservative states, but Democratic challengers would have to win in places like Nevada and Arizona, and possibly Tennessee and Texas.</p>   <p><strong>What it would mean: </strong>It would be a repudiation of Trump and the Republicans tied to him nationwide. It would have to trigger a degree of soul-searching — in at least some Republican corners.</p>   <p>Trump would be faced with the choice of moderating and working with Democrats or being a lame-duck president starting in January 2019 when a new Democratic Congress is sworn in — as talk ramps up about Democratic 2020 challengers.</p>   <h3 class=\"edTag\">4. Overtime</h3>   <p>It\\'s very possible control of both the House and Senate will not be clear on election night.</p>   <div id=\"res664473136\" class=\"bucketwrap image large\">\\n            <div class=\"imagewrap\" data-crop-type=\"\">\\n    <img src=\"https://media.npr.org/assets/img/2018/11/05/gettyimages-982602238capitollights_wide-e860d528189800297e88db8d5e739f659b4c228b-s1100-c15.jpg\" data-original=\"https://media.npr.org/assets/img/2018/11/05/gettyimages-982602238capitollights_wide-e860d528189800297e88db8d5e739f659b4c228b-s1100.jpg\" class=\"img lazyOnLoad\"  alt=\"\" />\\n        <div class=\"enlarge-options\">\\n            <a class=\"enlargelink\" href=\"https://media.npr.org/assets/img/2018/11/05/gettyimages-982602238capitollights_wide-e860d528189800297e88db8d5e739f659b4c228b-s1200.jpg\">Enlarge this image</a>\\n        </div>\\n</div>\\n<div class=\"credit-caption\">\\n    <div class=\"caption-wrap\">\\n        <div class=\"caption\" aria-label=\"Image caption\">\\n            <p>\\n                A number of races are so close that it may not be possible to declare a winner on election night, leaving control of the House and Senate up in the air.\\n                \\n                <b class=\"credit\" aria-label=\"Image credit\">\\n                    \\n                    Joe Sohm/Visions of America/UIG via Getty Images\\n                    \\n                </b>\\n                <b class=\"hide-caption\"><b>hide caption</b></b>\\n            </p>\\n        </div>\\n\\n\\n            <b class=\"toggle-caption\"><b>toggle caption</b></b>\\n    </div>\\n\\n    <span class=\"credit\" aria-label=\"Image credit\">\\n        \\n        Joe Sohm/Visions of America/UIG via Getty Images\\n        \\n    </span>\\n</div>\\n<div class=\"enlarge_measure\">\\n    <div class=\"img_wrap\">\\n        <img data-original=\"https://media.npr.org/assets/img/2018/11/05/gettyimages-982602238capitollights_wide-e860d528189800297e88db8d5e739f659b4c228b-s1200.jpg\" alt=\"\" />\\n    </div>\\n</div>\\n<div class=\"enlarge_html\">\\n    <div class=\"image_data\">\\n        <p class=\"caption\">A number of races are so close that it may not be possible to declare a winner on election night, leaving control of the House and Senate up in the air.</p>\\n        <span class=\"credit\" aria-label=\"Image credit\">\\n            \\n            Joe Sohm/Visions of America/UIG via Getty Images\\n            \\n        </span>\\n    </div>\\n</div>\\n   </div>\\n   <p><strong>How it would happen:</strong> There are a half-dozen congressional races in California, for example, that are very close heading into Election Day. It\\'s possible those races are so close they will not be called on election night. They might not be called for days and possibly weeks later, especially because the vote there is counted slowly.</p>   <div id=\"res664465748\" class=\"bucketwrap internallink insettwocolumn inset2col \">\\n            <div class=\"bucket img\">\\n                  <a id=\"featuredStackSquareImage664172876\" href=\"https://www.npr.org/2018/11/05/664172876/voter-purges-are-up-but-most-americans-wont-see-problems-at-the-polls\"  data-metrics=\\'{\"category\":\"Story to Story\",\"action\":\"Click Internal Link\",\"label\":\"https:\\\\/\\\\/www.npr.org\\\\/2018\\\\/11\\\\/05\\\\/664172876\\\\/voter-purges-are-up-but-most-americans-wont-see-problems-at-the-polls\"}\\' ><img src=\"https://media.npr.org/assets/img/2018/11/05/ap_18304708017054-2-_sq-bba35f7cc8247e748007256ada6483606e15ec2f-s100-c15.jpg\" data-original=\"https://media.npr.org/assets/img/2018/11/05/ap_18304708017054-2-_sq-bba35f7cc8247e748007256ada6483606e15ec2f-s100.jpg\" class=\"img lazyOnLoad\"  alt=\"Voter Purges Are Up, But Most Americans Won\\'t See Problems At The Polls\" /></a>         <div class=\"bucketblock\">\\n                        <h3 class=\"slug\"><a href=\"https://www.npr.org/sections/politics/\">Politics </a></h3>\\n            <h3><a href=\"https://www.npr.org/2018/11/05/664172876/voter-purges-are-up-but-most-americans-wont-see-problems-at-the-polls\"  data-metrics=\\'{\"category\":\"Story to Story\",\"action\":\"Click Internal Link\",\"label\":\"https:\\\\/\\\\/www.npr.org\\\\/2018\\\\/11\\\\/05\\\\/664172876\\\\/voter-purges-are-up-but-most-americans-wont-see-problems-at-the-polls\"}\\' >Voter Purges Are Up, But Most Americans Won\\'t See Problems At The Polls</a></h3>\\n         </div>\\n         \\n<!-- END CLASS=\"BUCKETBLOCK\" -->\\n      </div>\\n      \\n<!-- END CLASS=\"BUCKET IMG\" -->\\n   </div>\\n   \\n<!-- END ID=\"RES664465748\" CLASS=\"BUCKETWRAP INTERNALLINK INSETTWOCOLUMN INSET2COL \" -->\\n   <p>Additionally, early and absentee ballots can get counted slowly and there is <a href=\"http://time.com/5439236/mail-absentee-ballot-concerns/\">growing concern </a>that many voters\\' absentee and mailed ballots could be rejected. In 2016, to the surprise of many, 319,000 absentee ballots were rejected for one reason or another.</p>   <p>In the Senate, depending on how results from other races shake out, there is the possibility that control is not known on election night or for weeks after. Specifically, it could all come down to Mississippi. There, no candidate is polling above 50 percent heading into Election Day, and if no one gets at least 50 percent, the race heads to a runoff three weeks later.</p>   <p><strong>What it would mean: </strong>Imagine a scenario in which Democrats lead 50-49 on Election Day in the Senate, and the eyes of the country — and the deep pockets of out-of-state money — descend on Mississippi. The consequences would be enormous, the rancor pitched and the tension thick.</p>\\n</div>\\n<div class=\"tags\">\\n      <ul>\\n            <li><a class=\"tag tag--story\" data-metrics=\\'{\"category\":\"story actions\",\"action\":\"click tag\"}\\' href=\"https://www.npr.org/tags/520216945/2018\">2018</a></li>\\n      <li><a class=\"tag tag--story\" data-metrics=\\'{\"category\":\"story actions\",\"action\":\"click tag\"}\\' href=\"https://www.npr.org/tags/497806639/election-day\">election day</a></li>\\n      <li><a class=\"tag tag--story\" data-metrics=\\'{\"category\":\"story actions\",\"action\":\"click tag\"}\\' href=\"https://www.npr.org/tags/432805936/2016\">2016</a></li>\\n      <li><a class=\"tag tag--story\" data-metrics=\\'{\"category\":\"story actions\",\"action\":\"click tag\"}\\' href=\"https://www.npr.org/tags/428799323/trump\">trump</a></li>\\n      <li><a class=\"tag tag--story\" data-metrics=\\'{\"category\":\"story actions\",\"action\":\"click tag\"}\\' href=\"https://www.npr.org/tags/360452518/election-night\">election night</a></li>\\n      <li><a class=\"tag tag--story\" data-metrics=\\'{\"category\":\"story actions\",\"action\":\"click tag\"}\\' href=\"https://www.npr.org/tags/219323468/2020\">2020</a></li>\\n      <li><a class=\"tag tag--story\" data-metrics=\\'{\"category\":\"story actions\",\"action\":\"click tag\"}\\' href=\"https://www.npr.org/tags/162174434/polling\">polling</a></li>\\n      <li><a class=\"tag tag--story\" data-metrics=\\'{\"category\":\"story actions\",\"action\":\"click tag\"}\\' href=\"https://www.npr.org/tags/127115490/senate\">Senate</a></li>\\n      <li><a class=\"tag tag--story\" data-metrics=\\'{\"category\":\"story actions\",\"action\":\"click tag\"}\\' href=\"https://www.npr.org/tags/126953005/house\">House</a></li>\\n      <li><a class=\"tag tag--story\" data-metrics=\\'{\"category\":\"story actions\",\"action\":\"click tag\"}\\' href=\"https://www.npr.org/tags/126944326/democrats\">Democrats</a></li>\\n      <li><a class=\"tag tag--story\" data-metrics=\\'{\"category\":\"story actions\",\"action\":\"click tag\"}\\' href=\"https://www.npr.org/tags/126931907/gop\">GOP</a></li>\\n      <li><a class=\"tag tag--story\" data-metrics=\\'{\"category\":\"story actions\",\"action\":\"click tag\"}\\' href=\"https://www.npr.org/tags/125951073/republican\">Republican</a></li>\\n      <li><a class=\"tag tag--story\" data-metrics=\\'{\"category\":\"story actions\",\"action\":\"click tag\"}\\' href=\"https://www.npr.org/tags/125950998/election\">election</a></li>\\n   </ul>\\n</div>\\n\\n<!-- END CLASS=\"TAGS\" -->\\n<div class=\"share-tools share-tools--secondary\" aria-label=\"Share tools\">\\n      <ul>\\n            <li class=\"share-tools__service share-tools__service--facebook\"><button class=\"fbStory664395755\" data-share-facebook=\\'{\"storyId\": 664395755 }\\'  data-metrics=\\'{\"action\":\"Click Facebook\",\"category\":\"Share Tools\",\"label\":\"https:\\\\/\\\\/www.npr.org\\\\/2018\\\\/11\\\\/05\\\\/664395755\\\\/what-if-the-polls-are-wrong-again-4-scenarios-for-what-might-happen-in-the-elect\"}\\' ><b class=\"share-tools__service-name\">Facebook</b></button></li>\\n      <li class=\"share-tools__service share-tools__service--twitter\"><button class=\"story664395755\" data-share-twitter=\\'{\"storyId\": 664395755 }\\'  data-metrics=\\'{\"action\":\"Click Twitter\",\"category\":\"Share Tools\",\"label\":\"https:\\\\/\\\\/www.npr.org\\\\/2018\\\\/11\\\\/05\\\\/664395755\\\\/what-if-the-polls-are-wrong-again-4-scenarios-for-what-might-happen-in-the-elect\"}\\' ><b class=\"share-tools__service-name\">Twitter</b></button></li>\\n      <li class=\"share-tools__service share-tools__service--flipboard\"><button class=\"story664395755\" data-share-flipboard=\\'{\"storyId\": 664395755 }\\'  data-metrics=\\'{\"action\":\"Click Flipboard\",\"category\":\"Share Tools\",\"label\":\"https:\\\\/\\\\/www.npr.org\\\\/2018\\\\/11\\\\/05\\\\/664395755\\\\/what-if-the-polls-are-wrong-again-4-scenarios-for-what-might-happen-in-the-elect\"}\\' ><b class=\"share-tools__service-name\">Flipboard</b></button></li>\\n      <li class=\"share-tools__service share-tools__service--email\"><button class=\\'share-tools__email-link\\' data-story-id=\\'664395755\\'  data-metrics=\\'{\"action\":\"Click Email a Friend\",\"category\":\"Share Tools\",\"label\":\"https:\\\\/\\\\/www.npr.org\\\\/2018\\\\/11\\\\/05\\\\/664395755\\\\/what-if-the-polls-are-wrong-again-4-scenarios-for-what-might-happen-in-the-elect\"}\\' ><b class=\"share-tools__service-name\">Email</b></button></li>\\n   </ul>\\n</div>\\n\\n<!-- END CLASS=\"SHARE-TOOLS SHARE-TOOLS--SECONDARY\" ARIA-LABEL=\"SHARE TOOLS\" -->\\n<div id=\"newsletter-acquisition-callout-data\" data-newsletter=\"{&quot;newsletterId&quot;:&quot;politics&quot;,&quot;title&quot;:&quot;Politics&quot;,&quot;marketingHeader&quot;:&quot;Sign Up For The NPR Politics Newsletter&quot;,&quot;frequency&quot;:&quot;every week&quot;,&quot;shortDescription&quot;:&quot;From the White House to your home \\\\u2014 political news and analysis that matter, sent weekly.&quot;,&quot;contentImage&quot;:&quot;https:\\\\/\\\\/media.npr.org\\\\/assets\\\\/img\\\\/2018\\\\/08\\\\/03\\\\/newsletters\\\\/politics.png&quot;,&quot;staticMarkupDir&quot;:&quot; &quot;,&quot;brandingDir&quot;:&quot;\\\\/branding\\\\/sections\\\\/politics\\\\/&quot;,&quot;brandingLink&quot;:&quot;https:\\\\/\\\\/www.npr.org\\\\/sections\\\\/politics\\\\/&quot;,&quot;organizationId&quot;:1,&quot;recaptchaSiteKey&quot;:&quot;6LfD6CYUAAAAAIBeUekwZ9KCjF4UyLFtu7NWNaEK&quot;}\">\\n   </div>\\n\\n<!-- END ID=\"NEWSLETTER-ACQUISITION-CALLOUT-DATA\" DATA-NEWSLETTER=\"{&QUOT;NEWSLETTERID&QUOT;:&QUOT;POLITICS&QUOT;,&QUOT;TITLE&QUOT;:&QUOT;POLITICS&QUOT;,&QUOT;MARKETINGHEADER&QUOT;:&QUOT;SIGN UP FOR THE NPR POLITICS NEWSLETTER&QUOT;,&QUOT;FREQUENCY&QUOT;:&QUOT;EVERY WEEK&QUOT;,&QUOT;SHORTDESCRIPTION&QUOT;:&QUOT;FROM THE WHITE HOUSE TO YOUR HOME \\\\U2014 POLITICAL NEWS AND ANALYSIS THAT MATTER, SENT WEEKLY.&QUOT;,&QUOT;CONTENTIMAGE&QUOT;:&QUOT;HTTPS:\\\\/\\\\/MEDIA.NPR.ORG\\\\/ASSETS\\\\/IMG\\\\/2018\\\\/08\\\\/03\\\\/NEWSLETTERS\\\\/POLITICS.PNG&QUOT;,&QUOT;STATICMARKUPDIR&QUOT;:&QUOT; &QUOT;,&QUOT;BRANDINGDIR&QUOT;:&QUOT;\\\\/BRANDING\\\\/SECTIONS\\\\/POLITICS\\\\/&QUOT;,&QUOT;BRANDINGLINK&QUOT;:&QUOT;HTTPS:\\\\/\\\\/WWW.NPR.ORG\\\\/SECTIONS\\\\/POLITICS\\\\/&QUOT;,&QUOT;ORGANIZATIONID&QUOT;:1,&QUOT;RECAPTCHASITEKEY&QUOT;:&QUOT;6LFD6CYUAAAAAIBEUEKWZ9KCJF4UYLFTU7NWNAEK&QUOT;}\" -->\\n<div id=\"podcast-callout-data\" data-podcast=\"{&quot;name&quot;:&quot;The NPR Politics Podcast&quot;,&quot;itunesUrl&quot;:&quot;https:\\\\/\\\\/podcasts.apple.com\\\\/podcast\\\\/id1057255460?mt=2&amp;at=11l79Y&amp;ct=nprdirectory&quot;,&quot;googlePodcastsUrl&quot;:&quot;https:\\\\/\\\\/www.google.com\\\\/podcasts?feed=aHR0cHM6Ly93d3cubnByLm9yZy9yc3MvcG9kY2FzdC5waHA_aWQ9NTEwMzEw&quot;,&quot;rssUrl&quot;:&quot;https:\\\\/\\\\/www.npr.org\\\\/rss\\\\/podcast.php?id=510310&quot;,&quot;jsonFeedUrl&quot;:&quot;https:\\\\/\\\\/www.npr.org\\\\/feeds\\\\/664395755\\\\/feed.json&quot;,&quot;nprOneUniversalUrl&quot;:&quot;https:\\\\/\\\\/rpb3r.app.goo.gl\\\\/XDGl&quot;,&quot;amazonAlexaUrl&quot;:null,&quot;pocketCastsUrl&quot;:&quot;https:\\\\/\\\\/pca.st\\\\/npr-politics&quot;,&quot;spotifyUrl&quot;:&quot;https:\\\\/\\\\/open.spotify.com\\\\/show\\\\/2PnWnDNwU3wKesCHCpy252&quot;}\">\\n   </div>\\n\\n<!-- END ID=\"PODCAST-CALLOUT-DATA\" DATA-PODCAST=\"{&QUOT;NAME&QUOT;:&QUOT;THE NPR POLITICS PODCAST&QUOT;,&QUOT;ITUNESURL&QUOT;:&QUOT;HTTPS:\\\\/\\\\/PODCASTS.APPLE.COM\\\\/PODCAST\\\\/ID1057255460?MT=2&AMP;AT=11L79Y&AMP;CT=NPRDIRECTORY&QUOT;,&QUOT;GOOGLEPODCASTSURL&QUOT;:&QUOT;HTTPS:\\\\/\\\\/WWW.GOOGLE.COM\\\\/PODCASTS?FEED=AHR0CHM6LY93D3CUBNBYLM9YZY9YC3MVCG9KY2FZDC5WAHA_AWQ9NTEWMZEW&QUOT;,&QUOT;RSSURL&QUOT;:&QUOT;HTTPS:\\\\/\\\\/WWW.NPR.ORG\\\\/RSS\\\\/PODCAST.PHP?ID=510310&QUOT;,&QUOT;JSONFEEDURL&QUOT;:&QUOT;HTTPS:\\\\/\\\\/WWW.NPR.ORG\\\\/FEEDS\\\\/664395755\\\\/FEED.JSON&QUOT;,&QUOT;NPRONEUNIVERSALURL&QUOT;:&QUOT;HTTPS:\\\\/\\\\/RPB3R.APP.GOO.GL\\\\/XDGL&QUOT;,&QUOT;AMAZONALEXAURL&QUOT;:NULL,&QUOT;POCKETCASTSURL&QUOT;:&QUOT;HTTPS:\\\\/\\\\/PCA.ST\\\\/NPR-POLITICS&QUOT;,&QUOT;SPOTIFYURL&QUOT;:&QUOT;HTTPS:\\\\/\\\\/OPEN.SPOTIFY.COM\\\\/SHOW\\\\/2PNWNDNWU3WKESCHCPY252&QUOT;}\" -->\\n<div id=\"callout-end-of-story-mount\">\\n   </div>\\n\\n<!-- END ID=\"CALLOUT-END-OF-STORY-MOUNT\" -->\\n<aside id=\"end-of-story-recommendations-mount\" class=\"recommended-stories\" aria-label=\"recommended stories\"></aside>\\n<!-- END ID=\"END-OF-STORY-RECOMMENDATIONS-MOUNT\" CLASS=\"RECOMMENDED-STORIES\" ARIA-LABEL=\"RECOMMENDED STORIES\" -->\\n</article><header class=\"contentheader contentheader--two\" data-metrics=\\'{\"category\":\"Elections\"}\\' ></header><footer id=\"npr-footer\" class=\"npr-footer\" role=\"contentinfo\" aria-label=\"NPR footer\"><div class=\"npr-footer__content\" data-metrics-category=\"Global Footer\" data-metrics-label=\"Footer\">\\n    <div class=\"npr-footer__module-group\">\\n        <div class=\"npr-footer__module\">\\n            <h6 class=\"npr-footer__header\">Read &amp; Listen</h6>\\n\\n            <ul>\\n                <li class=\"npr-footer__item\"><a href=\"/\" data-metrics-action=\"Click Homepage\">Home</a></li>\\n                <li class=\"npr-footer__item\"><a href=\"/sections/news/\" data-metrics-action=\"Click News\">News</a></li>\\n                <li class=\"npr-footer__item\"><a href=\"/sections/arts/\" data-metrics-action=\"Click Arts &amp; Life\">Arts &amp; Life</a></li>\\n                <li class=\"npr-footer__item\"><a href=\"/music/\" data-metrics-action=\"Click Music\">Music</a></li>\\n                <li class=\"npr-footer__item\"><a href=\"/podcasts/\" data-metrics-action=\"Click Podcasts\">Podcasts</a></li>\\n                <li class=\"npr-footer__item\"><a href=\"/programs/\" data-metrics-action=\"Click Programs\">Programs</a></li>\\n            </ul>\\n        </div>\\n\\n        <div class=\"npr-footer__module\">\\n            <h6 class=\"npr-footer__header\">Connect</h6>\\n\\n            <ul>\\n                <li class=\"npr-footer__item\"><a href=\"/newsletters/\" data-metrics-action=\"Click Newsletters\">Newsletters</a></li>\\n                <li class=\"npr-footer__item\"><a href=\"https://www.facebook.com/NPR/\" data-metrics-action=\"Click Facebook\">Facebook</a></li>\\n                <li class=\"npr-footer__item\"><a href=\"https://twitter.com/NPR\" data-metrics-action=\"Click Twitter\">Twitter</a></li>\\n                <li class=\"npr-footer__item\"><a href=\"https://www.instagram.com/npr/\" data-metrics-action=\"Click Instagram\">Instagram</a></li>\\n                <li class=\"npr-footer__item\"><a href=\"https://www.npr.org/contact\" data-metrics-action=\"Click Contact\">Contact</a></li>\\n                <li class=\"npr-footer__item\"><a href=\"https://help.npr.org\" data-metrics-action=\"Click Help\">Help</a></li>\\n            </ul>\\n        </div>\\n\\n        <div class=\"npr-footer__module\">\\n            <h6 class=\"npr-footer__header\">About NPR</h6>\\n\\n            <ul>\\n                <li class=\"npr-footer__item\"><a href=\"/about/\" data-metrics-action=\"Click Overview\">Overview</a></li>\\n                <li class=\"npr-footer__item\"><a href=\"/about-npr/178660742/public-radio-finances\" data-metrics-action=\"Click Finances\">Finances</a></li>\\n                <li class=\"npr-footer__item\"><a href=\"/about-npr/179803822/people-at-npr\" data-metrics-action=\"Click People\">People</a></li>\\n                <li class=\"npr-footer__item\"><a href=\"/press/\" data-metrics-action=\"Click Press\">Press</a></li>\\n                <li class=\"npr-footer__item\"><a href=\"/sections/publiceditor/\" data-metrics-action=\"Click Public Editor\">Public Editor</a></li>\\n                <li class=\"npr-footer__item\"><a href=\"/corrections/\" data-metrics-action=\"Click Corrections\">Corrections</a></li>\\n            </ul>\\n        </div>\\n\\n        <div class=\"npr-footer__module\">\\n            <h6 class=\"npr-footer__header\">Get Involved</h6>\\n\\n            <ul>\\n                <li class=\"npr-footer__item\"><a href=\"/support/\" data-metrics-action=\"Click Support Public Radio\">Support Public Radio</a></li>\\n                <li class=\"npr-footer__item\"><a href=\"/about-npr/186948703/corporate-sponsorship\" data-metrics-action=\"Click Sponsor NPR\">Sponsor NPR</a></li>\\n                <li class=\"npr-footer__item\"><a href=\"/careers/\" data-metrics-action=\"Click NPR Careers\">NPR Careers</a></li>\\n                <li class=\"npr-footer__item\"><a href=\"https://shop.npr.org/\" data-metrics-action=\"Click NPR Shop\">NPR Shop</a></li>\\n                <li class=\"npr-footer__item\"><a href=\"https://www.nprpresents.org\" data-metrics-action=\"Click NPR Events\">NPR Events</a></li>\\n                <li class=\"npr-footer__item\"><a href=\"/about-npr/177066727/visit-npr\" data-metrics-action=\"Click Visit NPR\">Visit NPR</a></li>\\n            </ul>\\n        </div>\\n    </div>\\n\\n    <div class=\"npr-footer__module npr-footer__module--secondary\">\\n        <ul>\\n            <li class=\"npr-footer__item\"><a href=\"/about-npr/179876898/terms-of-use\" data-metrics-action=\"Click Terms of Use\">Terms of Use</a></li>\\n            <li class=\"npr-footer__item\"><a href=\"/about-npr/179878450/privacy-policy\" data-metrics-action=\"Click Privacy\">Privacy</a></li>\\n            <li class=\"npr-footer__item\"><a href=\"/about-npr/179878450/privacy-policy#yourchoices\" data-metrics-action=\"Click Your Privacy Choices\">Your Privacy Choices</a></li>\\n            <li class=\"npr-footer__item\"><a href=\"https://text.npr.org/\" data-metrics-action=\"Click Text Only\">Text Only</a></li>\\n            <li class=\"npr-footer__item\"><span class=\"copy-year\"></span></li>\\n        </ul>\\n    </div>\\n</div></footer></section>   <div id=\"main-sidebar\">\\n            <aside id=\"ad-standard-wrap\" aria-label=\"advertisement\">\\n    \\n\\n    <div id=\"ad-standard-News_Politics_Elections\" class=\"ad-standard\" data-ad-config=\\'{\"network\":\"\\\\/6735\\\\/\",\"site\":{\"default\":\"n6735.NPR\",\"mobile\":\"n6735.NPRMOBILE\"},\"zone\":\"News_Politics_Elections\",\"targets\":{\"testserver\":\"false\",\"storyId\":\"664395755\",\"agg\":[\"312150170\",\"191676894\",\"434975886\"]},\"location\":\"standard\",\"deferred\":false,\"isBetweenContent\":false,\"isAggSponsorship\":false,\"borderClass\":\"\"}\\'></div>\\n    <p class=\"left\">NPR thanks our sponsors</p><p class=\"right\"><a href=\"/about-npr/186948703/corporate-sponsorship\">Become an NPR sponsor</a></p>\\n\\n</aside>\\n   </div>\\n   \\n<!-- END ID=\"MAIN-SIDEBAR\" -->\\n</div>\\n\\n<!-- END ID=\"WRAPPER\" -->\\n<script type=\"text/javascript\">\\n   (function () {\\n    var loadPageJs = function () { webpackJsonp([82,25],{0:function(n,t,c){n.exports=c(1823)},1823:function(n,t,c){\"use strict\";c.p=NPR.serverVars.webpackPublicPath,function(){var n=2,t=function(){--n<1&&function(n){c(45),c(2232),c(366),c(373),c(263),c(794),c(408),c(2237),c(407),c(2236),c(2235),c(1402),c(589),c(2229),c(1563),c(2222),c(355)}(c)}.bind(this);c.e(0,t),c.e(4,t)}.call(this)}}); };\\n    if (document.readyState === \\'complete\\') {\\n        loadPageJs();\\n    } else {\\n        window.addEventListener(\\'load\\', function load() {\\n            window.removeEventListener(\\'load\\', load, false);\\n            loadPageJs();\\n        });\\n    }\\n})();\\n</script>\\n</main><noscript><iframe style=\"display:none;padding:0;margin:0;\" width=\"0\" height=\"0\" src=\"//20655831p.rfihub.com/ca.html?rb=3035&ca=20501671&ra=gtmcb\"></iframe></noscript><noscript><iframe><img height=\"1\" width=\"1\" style=\"display:none\" src=\"https://www.facebook.com/tr?id=1621557368158968&ev=PageView&noscript=1\" /></iframe></noscript><script type=\\'text/javascript\\'>\\n    var _sf_async_config = _sf_async_config || {};\\n    /** CONFIGURATION START **/\\n    _sf_async_config.uid = \\'18888\\';\\n    _sf_async_config.domain = NPR.ServerConstants.cbHost;\\n    _sf_async_config.useCanonical = true;\\n\\n    /** CONFIGURATION END **/\\n    (function() {\\n        function loadChartbeat() {\\n            // Wait until the metric for chartbeat have been setup\\n            // in templates/javascript/metrics/chartbeat.js\\n            if( !!NPR.ChartbeatLoaded) {\\n                var e = document.createElement(\\'script\\');\\n                e.setAttribute(\\'language\\', \\'javascript\\');\\n                e.setAttribute(\\'type\\', \\'text/javascript\\');\\n                e.setAttribute(\\'src\\', \\'https://static.chartbeat.com/js/chartbeat.js\\');\\n                document.body.appendChild(e);\\n            } else {\\n                setTimeout(loadChartbeat, 1000);\\n            }\\n        }\\n\\n        var oldonload = window.onload;\\n        window.onload = (typeof window.onload != \\'function\\') ?\\n                loadChartbeat : function() {\\n            oldonload();\\n            window._sf_endpt = (new Date()).getTime();\\n            loadChartbeat();\\n        };\\n    })();\\n</script></body></html>'"
      ]
     },
     "execution_count": 13,
     "metadata": {},
     "output_type": "execute_result"
    }
   ],
   "source": [
    "response.text"
   ]
  },
  {
   "cell_type": "markdown",
   "metadata": {},
   "source": [
    "Holy moly! That looks awful. If we use our browser to visit the URL, then right-click the page and click 'View Page Source', we see that it is identical to this chunk of glorious text.\n",
    "\n",
    "### response.content"
   ]
  },
  {
   "cell_type": "code",
   "execution_count": 14,
   "metadata": {},
   "outputs": [
    {
     "data": {
      "text/plain": [
       "b'<!doctype html><html class=\"no-js\" lang=\"en\"><head><script>\\n   try {var _sf_startpt=(new Date()).getTime();} catch(e){}\\n</script>\\n<meta itemscope itemtype=\"https://schema.org/SpeakableSpecification\" itemref=\"speakable\" /><title>What If The Polls Are Wrong Again? 4 Scenarios For What Might Happen In The Elections : NPR</title><meta id=\"speakable\" itemprop=\"cssSelector\" content=\"[data-is-speakable]\" /><meta id=\"google-site-verification\" name=\"google-site-verification\" content=\"1VqzbDm4ukeFVHOoq5LjIKA2fVKZD-EYv8cXZhKXSfU\" /><meta charset=\"utf-8\" /><meta name=\"robots\" content=\"noarchive,index,follow\" /><meta name=\"Rating\" content=\"General\" /><meta name=\"viewport\" content=\"width=device-width, initial-scale=1, shrink-to-fit=no\" /><meta name=\"npr-pjax\" /><meta name=\"date\" content=\"2018-11-05\" /><link rel=\"canonical\" href=\"https://www.npr.org/2018/11/05/664395755/what-if-the-polls-are-wrong-again-4-scenarios-for-what-might-happen-in-the-elect\" /><meta name=\"description\" content=\"The polls show a Democratic advantage in the House and a Republican one in the Senate. But be ready for anything because surprises in politics always happen.\" /><link rel=\"alternate\" type=\"application/rss+xml\" title=\"Elections\" href=\"/rss/rss.php?id=139482413\" /><link rel=\"alternate\" type=\"application/json\" title=\"Elections\" href=\"https://www.npr.org/feeds/139482413/feed.json\" /><link rel=\"apple-touch-icon\" sizes=\"180x180\" href=\"https://media.npr.org/templates/favicon/favicon-180x180.png\" /><link rel=\"icon\" sizes=\"96x96\" href=\"https://media.npr.org/templates/favicon/favicon-96x96.png\" /><link rel=\"icon\" sizes=\"32x32\" href=\"https://media.npr.org/templates/favicon/favicon-32x32.png\" /><link rel=\"icon\" sizes=\"16x16\" href=\"https://media.npr.org/templates/favicon/favicon-16x16.png\" /><meta property=\"og:title\" content=\"What If The Polls Are Wrong Again? 4 Scenarios For What Might Happen In The Elections\" /><meta property=\"og:url\" content=\"https://www.npr.org/2018/11/05/664395755/what-if-the-polls-are-wrong-again-4-scenarios-for-what-might-happen-in-the-elect\" /><meta property=\"og:type\" content=\"article\" /><meta property=\"og:description\" content=\"The polls show a Democratic advantage in the House and a Republican one in the Senate. But be ready for anything because surprises in politics always happen.\" /><meta property=\"og:image\" content=\"https://media.npr.org/assets/img/2018/11/05/gettyimages-1057663456vote_wide-9fc473c80fc1f9d825f563fd94d01c766f5ff669.jpg?s=1400\" /><meta property=\"og:image\" content=\"https://media.npr.org/assets/img/2018/11/05/gettyimages-1063521758trumptenn_wide-75d4737201e2a39478b2253c9d5d9c12aec54d44.jpg?s=1400\" /><meta property=\"og:image\" content=\"https://media.npr.org/assets/img/2018/11/05/gettyimages-982602238capitollights_wide-e860d528189800297e88db8d5e739f659b4c228b.jpg?s=1400\" /><meta property=\"og:site_name\" content=\"NPR.org\" /><meta property=\"fb:app_id\" content=\"138837436154588\" /><meta property=\"fb:pages\" content=\"10643211755\" /><meta property=\"article:content_tier\" content=\"free\" /><meta property=\"article:opinion\" content=\"false\" /><meta name=\"twitter:card\" content=\"summary_large_image\" /><meta name=\"twitter:title\" content=\"What If The Polls Are Wrong Again? 4 Scenarios For What Might Happen In The Elections\" /><meta name=\"twitter:site\" content=\"@NPR\" /><meta name=\"twitter:domain\" content=\"npr.org\" /><meta name=\"twitter:image:src\" content=\"https://media.npr.org/assets/img/2018/11/05/gettyimages-1057663456vote_wide-9fc473c80fc1f9d825f563fd94d01c766f5ff669.jpg?s=1400\" /><script id=\"npr-vars\">\\n   window.NPR = window.NPR || {};\\nNPR.ServerConstants = {\"cbHost\":\"npr.org\",\"webHost\":\"https:\\\\/\\\\/www.npr.org\",\"embedHost\":\"https:\\\\/\\\\/www.npr.org\",\"webHostSecure\":\"https:\\\\/\\\\/secure.npr.org\",\"apiHost\":\"https:\\\\/\\\\/api.npr.org\",\"serverMediaCache\":\"https:\\\\/\\\\/media.npr.org\",\"googleAnalyticsAccount\":\"UA-5828686-4\",\"nielsenSFCode\":\"dcr\",\"nielsenAPN\":\"NPR-dcr\",\"shouldShowHPLocalContent\":true,\"readingServiceHostname\":\"https:\\\\/\\\\/reading.api.npr.org\"};\\nNPR.serverVars = {\"storyId\":\"664395755\",\"facebookAppId\":\"138837436154588\",\"webpackPublicPath\":\"https:\\\\/\\\\/s.npr.org\\\\/templates\\\\/javascript\\\\/dist\\\\/bundles\\\\/\",\"persistenceVersion\":\"e2193dbd58d7e71fdaffbd399767e8dc\",\"isBuildOut\":true,\"topicIds\":[\"P139482413\",\"1001\",\"1002\",\"1003\",\"1014\",\"1059\"],\"primaryTopic\":\"Elections\",\"topics\":[\"Elections\",\"News\",\"Home Page Top Stories\",\"National\",\"Politics\",\"Analysis\"],\"theme\":\"139482413\",\"aggIds\":[\"1001\",\"1002\",\"1003\",\"1014\",\"1059\",\"125950998\",\"125951073\",\"126931907\",\"126944326\",\"126953005\",\"127115490\",\"139482413\",\"162174434\",\"191676894\",\"219323468\",\"312150170\",\"360452518\",\"428799323\",\"432805936\",\"434975886\",\"497806639\",\"520216945\"],\"tagIds\":[\"2016\",\"2018\",\"2020\",\"Democrats\",\"GOP\",\"House\",\"Republican\",\"Senate\",\"election\",\"election day\",\"election night\",\"polling\",\"trump\"],\"byline\":[\"Domenico Montanaro\"],\"pubDate\":\"2018110516\",\"pageTypeId\":\"1\",\"title\":\"What If The Polls Are Wrong Again? 4 Scenarios For What Might Happen In The Elections\",\"publisherOrgId\":\"1\",\"rocketfuelCode\":20501671};\\n</script>\\n<script type=\"text/javascript\" src=\"https://cdn.optimizely.com/js/11107397707.js\">\\n   </script>\\n<script type=\"text/javascript\" src=\"https://s.npr.org/templates/javascript/lib/modernizr/modernizr.custom.js\">\\n   </script>\\n<script>\\n   !function(a){function e(d){if(c[d])return c[d].exports;var f=c[d]={exports:{},id:d,loaded:!1};return a[d].call(f.exports,f,f.exports,e),f.loaded=!0,f.exports}var d=window.webpackJsonp;window.webpackJsonp=function(b,t){for(var n,r,o=0,i=[];o<b.length;o++)r=b[o],f[r]&&i.push.apply(i,f[r]),f[r]=0;for(n in t){var s=t[n];switch(typeof s){case\"object\":a[n]=function(e){var d=e.slice(1),c=e[0];return function(e,f,b){a[c].apply(this,[e,f,b].concat(d))}}(s);break;case\"function\":a[n]=s;break;default:a[n]=a[s]}}for(d&&d(b,t);i.length;)i.shift().call(null,e);if(t[0])return c[0]=0,e(0)};var c={},f={25:0};e.e=function(a,d){if(0===f[a])return d.call(null,e);if(void 0!==f[a])f[a].push(d);else{f[a]=[d];var c=document.getElementsByTagName(\"head\")[0],b=document.createElement(\"script\");b.type=\"text/javascript\",b.charset=\"utf-8\",b.async=!0,b.src=e.p+\"\"+a+\".\"+{0:\"49fa2af9befd8dbc30e6\",1:\"69edd3e871fc479eb8c4\",2:\"3872b3b03c3b0931da22\",3:\"956a99d7884e901e36cc\",4:\"f9aecab03b57f03ba253\",5:\"aee467c94af974e07087\",6:\"7996e4a910b135aa5a79\",7:\"21bed47254a36b33bbe4\",8:\"9be2e58ebfb46b745b1c\",9:\"49cab39d7a6f7fb9e7d2\",10:\"547114f11f850b9fa1fa\",11:\"8d080cdbd52ca97eb224\",12:\"8d5b1e7c21e2e4e2046e\",13:\"b0a0d682da6781b44ee2\",14:\"55fd59b9685011904ec3\",15:\"2cf00a04fb3475ebbe1d\",16:\"41426d2a26b3fcc9a511\",17:\"ea9d73affa9029cd58b8\",18:\"52692ca5ed2fd9d95412\",19:\"a42fc478315f6ded6a21\",20:\"50f54ba8c521cc1e4639\",21:\"1ae4d9830b90eb9074d3\",22:\"16a03e418a1e3303b525\",23:\"3663bbe4d7838b502ccd\",24:\"d118095c3fc5bfb33da1\",26:\"4d1f88ba95dfe94137d4\",27:\"aea4226da3ca9bfb67aa\",28:\"ccb1659a86d7746b048d\",29:\"ed2dd58790d98a9e341d\",30:\"03a8f050e4ce4e514187\",31:\"9edc89972627c3aa824a\",32:\"66d600fa8af2ed7b80a4\",33:\"98a85a2015d5d1da13b2\",34:\"332356c3462ede49fdc3\",35:\"b8aedd9580c82b654818\",36:\"719151635f84ad4f3d1a\",37:\"05169bb54299ab3ed446\",38:\"d0e270cf87a3d8d23c39\",39:\"176d9f0688e3977d0720\",40:\"f9db1daaf5f52eb8ea20\",41:\"db8c0f3e8d0191b63bde\",42:\"587fa775bd4d80b3fcad\",43:\"7d1b618a13b168f39061\",44:\"6f8616162a956a01d29a\",45:\"43885405840f8a15b9f3\",46:\"982875db8605ce73126b\",47:\"0f67f0f9a2648922e23b\",48:\"1f78d5f1e53a5bfccfdc\",49:\"49c6a90429ae47c93f12\",50:\"fb051afd23c3a9555c4e\",51:\"e169249c1dbd3d93f496\",52:\"42158cb15f746b5275e7\",53:\"7327d028fd39dda3b1ef\",54:\"333f4325f11d14cc2416\",55:\"ea607402a72ea48af3db\",56:\"b6fe4c5c04bf78d40092\",57:\"c4968b1ebe10a3c844aa\",58:\"6a7c4ae2f77e5e8ef4d4\",59:\"e8f53685884b3615c752\",60:\"12192cd74746693c33d1\",61:\"9bb9a3c7dee82a824793\",62:\"beafbe078b04d8c91a74\",63:\"3b64b41fb887b26e87d9\",64:\"60993ed17bd80c9d1f0d\",65:\"f4505f98cc650d7bdd1a\",66:\"7056e116c0a09ad6a16a\",67:\"2b41ea759717ab03c014\",68:\"42fa59d4ebe0d1246621\",69:\"28bfa03ba196effa6622\",70:\"0d52762c253a8eb70fc7\",71:\"95135f0052fe32b1fad4\",72:\"64978efdc5e0457351f5\",73:\"e6baf483431fab9d40b3\",74:\"ee3688db87d27a26bcce\",75:\"61286cc78ffee0dcdb6e\",76:\"6aca752f7cd5102228c9\",77:\"3b36a7b3221cb06c7944\",78:\"ac06be6a4710d119c354\",79:\"239660d5b1266e6dd66f\",80:\"c9903d8f4df8f6e9cff2\",81:\"55a0717a22649bdb4a34\",82:\"74ad754dfe1a479aa0e4\",83:\"40a44ca4f990252bb248\",84:\"13ea4ee4e3a55788a36a\",85:\"5f80a09e98ed012e83d1\"}[a]+\".chunk.js\",c.appendChild(b)}},e.m=a,e.c=c,e.p=\"/templates/javascript/dist/bundles/\"}(function(a){for(var e in a)if(Object.prototype.hasOwnProperty.call(a,e))switch(typeof a[e]){case\"function\":break;case\"object\":a[e]=function(e){var d=e.slice(1),c=a[e[0]];return function(a,e,f){c.apply(this,[a,e,f].concat(d))}}(a[e]);break;default:a[e]=a[a[e]]}return a}([]));\\n</script>\\n<script type=\"text/javascript\" src=\"https://s.npr.org/templates/javascript/dist/bundles/globalNavigationDropdowns-aea4226da3ca9bfb67aa.js\">\\n   </script>\\n<link rel=\"stylesheet\" data-persist=\"true\" media=\"screen, print\" href=\"https://s.npr.org/templates/javascript/dist/bundles/persistent-css-2497a8623936494b5950.css\" /><link rel=\"stylesheet\" media=\"screen, print\" href=\"https://s.npr.org/templates/javascript/dist/bundles/newsStory-css-2497a8623936494b5950.css\" /><link rel=\"stylesheet\" media=\"screen\" href=\"https://s.npr.org/branding/sections/elections/branding.css\" /><link rel=\"stylesheet\" media=\"screen\" href=\"https://s.npr.org/include/overridecss/theme139482413.css\" /><script type=\"text/javascript\">\\n   document.domain=\"npr.org\";\\n</script>\\n</head><body id=\"news\" class=\"news tmplNewsStory  story-layout is-buildout no-transcript has-no-branding id664395755 \" data-pjax-modules=\"util/env images/lazy-load chartbeat comscore metrics nielsen nielsenDCR rocketfuel copyright auto-refresh navigation/global-navigation fitvids dfp globalfooter persistent-audio player/more-options what-input metrics/doubleclickFloodlight metrics/facebookTracking story/replace-centerstage ecommerce recommendations/end-of-story-recommendations-callout jw social/share slideshow images/enlargement swfbuilder contentfooter story/sticky-header story/date-tooltip callout/end-of-story-callout social/sharepop podcast-cards search/faceting-param local/newsletter/callout social/recaptcha\"><div class=\"skip-links\">\\n      <span>Accessibility links</span>   <ul>\\n            <li><a href=\"#mainContent\" class=\"skiplink\">Skip to main content</a></li>\\n      <li><a href=\"https://help.npr.org/customer/en/portal/articles/2535181-what-are-the-keyboard-shortcuts-for-using-the-npr-org-audio-player-\" class=\"skiplink\">Keyboard shortcuts for audio player</a></li>\\n   </ul>\\n</div>\\n<header class=\"npr-header\" id=\"globalheader\" aria-label=\"NPR header\"><nav class=\"navigation\" aria-label=\"main navigation\">\\n    <div class=\"navigation__top-level-wrap\" data-metrics-all data-metrics-category=\"global navigation\">\\n        <ul class=\"navigation__top-level\">\\n            <li class=\"navigation__home\">\\n                <a href=\"/\" data-metrics-action=\"click npr logo\">\\n                    <img src=\"https://media.npr.org/chrome_svg/npr-logo.svg\" alt=\"NPR logo\"/>\\n                </a>\\n            </li>\\n\\n            <li id=\"navigation__station-mount\"></li>\\n\\n            <li id=\"user-account-dropdown-mount\" class=\"navigation__account\"></li>\\n\\n            <li class=\"navigation__shop\">\\n                <a href=\"https://shop.npr.org\" data-metrics-action=\"click npr shop\">NPR Shop</a>\\n            </li>\\n\\n            <li id=\"navigation__station-donate-mount\"></li>\\n\\n            <li class=\"navigation__toggle-wrap\">\\n                <button id=\"navigation__toggle--open\" class=\"navigation__toggle navigation__toggle--open\" aria-haspopup=\"true\" aria-expanded=\"false\" data-metrics-action=\"open navigation menu\">\\n                    Open Navigation Menu\\n                </button>\\n            </li>\\n        </ul>\\n    </div>\\n    <section id=\"main-menu\" class=\"menu menu--main\" data-metrics-all data-metrics-category=\"global navigation\">\\n        <div class=\"menu__inner\">\\n            <header class=\"menu__header\">\\n                <button id=\"navigation__toggle--close\" class=\"navigation__toggle navigation__toggle--close\" aria-haspopup=\"true\" aria-expanded=\"true\" data-metrics-action=\"close navigation menu\">\\n                    Close <span>Navigation Menu</span>\\n                </button>\\n            </header>\\n            <ul class=\"menu__list\">\\n                <li class=\"menu__item menu__item--home\">\\n                    <div class=\"menu__item-inner\"><a href=\"/\" data-metrics-action=\"click npr logo\">Home</a></div>\\n                </li>\\n                <li class=\"menu__item menu__item--news menu__item--has-submenu\" data-metrics-hover=\"toggle news drawer\">\\n                    <div class=\"menu__item-inner\">\\n                        <a href=\"/sections/news/\" data-metrics-action=\"click news\">News</a>\\n                        <button class=\"menu__toggle-submenu\" data-metrics-action=\"toggle news drawer\">Expand/collapse submenu for News</button>\\n                    </div>\\n\\n                    <ul class=\"submenu submenu--news\">\\n                        <li class=\"submenu__item\"><a href=\"/sections/national/\" data-metrics-action=\"click national\">National</a></li>\\n                        <li class=\"submenu__item\"><a href=\"/sections/world/\" data-metrics-action=\"click world\">World</a></li>\\n                        <li class=\"submenu__item\"><a href=\"/sections/politics/\" data-metrics-action=\"click politics\">Politics</a></li>\\n                        <li class=\"submenu__item\"><a href=\"/sections/business/\" data-metrics-action=\"click business\">Business</a></li>\\n                        <li class=\"submenu__item\"><a href=\"/sections/health/\" data-metrics-action=\"click health\">Health</a></li>\\n                        <li class=\"submenu__item\"><a href=\"/sections/science/\" data-metrics-action=\"click science\">Science</a></li>\\n                        <li class=\"submenu__item\"><a href=\"/sections/technology/\" data-metrics-action=\"click technology\">Technology</a></li>\\n                        <li class=\"submenu__item\"><a href=\"/sections/codeswitch/\" data-metrics-action=\"click race & culture\">Race &amp; Culture</a></li>\\n                    </ul>\\n                </li>\\n                <li class=\"menu__item menu__item--arts-life menu__item--has-submenu\" data-metrics-hover=\"toggle arts drawer\">\\n                    <div class=\"menu__item-inner\">\\n                        <a href=\"/sections/arts/\" data-metrics-action=\"click arts & life\">Arts &amp; Life</a>\\n                        <button class=\"menu__toggle-submenu\" data-metrics-action=\"toggle arts drawer\">Expand/collapse submenu for Arts &amp; Life</button>\\n                    </div>\\n\\n                    <ul class=\"submenu submenu--arts-life\">\\n                        <li class=\"submenu__item\"><a href=\"/books/\" data-metrics-action=\"click books\">Books</a></li>\\n                        <li class=\"submenu__item\"><a href=\"/sections/movies/\" data-metrics-action=\"click movies\">Movies</a></li>\\n                        <li class=\"submenu__item\"><a href=\"/sections/television/\" data-metrics-action=\"click television\">Television</a></li>\\n                        <li class=\"submenu__item\"><a href=\"/sections/pop-culture/\" data-metrics-action=\"click pop culture\">Pop Culture</a></li>\\n                        <li class=\"submenu__item\"><a href=\"/sections/food/\" data-metrics-action=\"click food\">Food</a></li>\\n                        <li class=\"submenu__item\"><a href=\"/sections/art-design/\" data-metrics-action=\"click art & design\">Art &amp; Design</a> </li>\\n                        <li class=\"submenu__item\"><a href=\"/sections/performing-arts/\" data-metrics-action=\"click performing arts\">Performing Arts</a></li>\\n                    </ul>\\n                </li>\\n                <li class=\"menu__item menu__item--music menu__item--has-submenu\" data-metrics-hover=\"toggle music drawer\">\\n                    <div class=\"menu__item-inner\">\\n                        <a href=\"/music/\" data-metrics-action=\"click music\">Music</a>\\n                        <button class=\"menu__toggle-submenu\" data-metrics-action=\"toggle music drawer\">Expand/collapse submenu for Music</button>\\n                    </div>\\n\\n                    <ul class=\"submenu submenu--music\"><li class=\"submenu__item\">\\n    <a href=\"https://www.npr.org/series/tiny-desk-concerts/\" data-metrics-action=\"click tiny desk\">\\n        Tiny Desk\\n    </a>\\n</li><li class=\"submenu__item\">\\n    <a href=\"https://www.npr.org/sections/allsongs/\" data-metrics-action=\"click all songs considered\">\\n        All Songs Considered\\n    </a>\\n</li><li class=\"submenu__item\">\\n    <a href=\"https://www.npr.org/series/538009815/turning-the-tables\" data-metrics-action=\"click turning the tables\">\\n        Turning The Tables\\n    </a>\\n</li><li class=\"submenu__item\">\\n    <a href=\"https://www.npr.org/sections/music-news/\" data-metrics-action=\"click music news\">\\n        Music News\\n    </a>\\n</li><li class=\"submenu__item\">\\n    <a href=\"https://www.npr.org/sections/new-music/\" data-metrics-action=\"click new music\">\\n        New Music\\n    </a>\\n</li><li class=\"submenu__item\">\\n    <a href=\"https://www.npr.org/series/689345495/best-music-of-2019\" data-metrics-action=\"click best music of 2019\">\\n        Best Music Of 2019\\n    </a>\\n</li></ul>\\n\\n                </li>\\n                <li class=\"menu__item menu__item--shows-podcasts menu__item--has-submenu\" data-metrics-hover=\"toggle programs &amp; podcasts drawer\">\\n                    <div class=\"menu__item-inner\">\\n                        <a href=\"/programs/\" data-metrics-action=\"click shows & podcasts\">Shows &amp; Podcasts</a>\\n                        <button class=\"menu__toggle-submenu\" data-metrics-action=\"toggle programs &amp; podcasts drawer\">Expand/collapse submenu for Shows &amp; Podcasts</button>\\n                    </div>\\n\\n                    <div class=\"submenu submenu--shows-podcasts\">\\n                        <span class=\"submenu__category submenu__category--daily\">Daily</span>\\n                        <ul class=\"submenu__list submenu__list--daily\">\\n                            <li class=\"submenu__item submenu__item--timed submenu__item--weekday hidden\">\\n                                <a href=\"/programs/morning-edition/\" data-metrics-action=\"click morning edition\">\\n                                    <img src=\"https://media.npr.org/chrome/programs/logos/morning-edition.jpg\" alt=\"\" />\\n                                    Morning Edition\\n                                </a>\\n                            </li>\\n                            <li class=\"submenu__item submenu__item--timed submenu__item--saturday hidden\" >\\n                                <a href=\"/programs/weekend-edition-saturday/\" data-metrics-action=\"click weekend edition saturday\">\\n                                    <img src=\"https://media.npr.org/assets/img/2019/02/26/we_otherentitiestemplatesat_sq-cbde87a2fa31b01047441e6f34d2769b0287bcd4-s100-c85.png\" alt=\"\" />\\n                                    Weekend Edition Saturday\\n                                </a>\\n                            </li>\\n                            <li class=\"submenu__item submenu__item--timed submenu__item--sunday hidden\">\\n                                <a href=\"/programs/weekend-edition-sunday/\" data-metrics-action=\"click weekend edition sunday\">\\n                                    <img src=\"https://media.npr.org/assets/img/2019/02/26/we_otherentitiestemplatesun_sq-4a03b35e7e5adfa446aec374523a578d54dc9bf5-s100-c85.png\" alt=\"\" />\\n                                    Weekend Edition Sunday\\n                                </a>\\n                            </li>  \\n                            <li class=\"submenu__item\">\\n                                <a href=\"/programs/all-things-considered/\" data-metrics-action=\"click all things considered\">\\n                                    <img src=\"https://media.npr.org/chrome/programs/logos/all-things-considered.png\" alt=\"\" />\\n                                    All Things Considered\\n                                </a>\\n                            </li>\\n                            <li class=\"submenu__item\">\\n                                <a href=\"/programs/fresh-air/\" data-metrics-action=\"click fresh air\">\\n                                    <img src=\"https://media.npr.org/chrome/programs/logos/fresh-air.png\" alt=\"\" />\\n                                    Fresh Air\\n                                </a>\\n                            </li>\\n                            <li class=\"submenu__item\">\\n                                <a href=\"/podcasts/510318/up-first\" data-metrics-action=\"click up first\">\\n                                    <img src=\"https://media.npr.org/chrome/programs/logos/up-first.jpg\" alt=\"\" />\\n                                    Up First\\n                                </a>\\n                            </li>\\n                        </ul>\\n                        <span class=\"submenu__category submenu__category--featured\">Featured</span>\\n\\n                        <ul class=\"submenu__list submenu__list--featured\"><li class=\"submenu__item\">\\n    <a href=\"https://www.npr.org/podcasts/510313/how-i-built-this\" data-metrics-action=\"click how i built this with guy raz\">\\n        <img src=\"https://media.npr.org/assets/img/2018/08/03/npr_hibt_podcasttile_sq-98320b282169a8cea04a406530e6e7b957665b3f.jpg?s=100\" alt=\"\" />\\n        How I Built This with Guy Raz\\n    </a>\\n</li><li class=\"submenu__item\">\\n    <a href=\"https://www.npr.org/podcasts/344098539/wait-wait-don-t-tell-me\" data-metrics-action=\"click wait wait...don\\'t tell me!\">\\n        <img src=\"https://media.npr.org/assets/img/2019/05/23/screen-shot-2019-05-23-at-8.46.21-am_sq-7dcea391e7a87ca3569fe3d2047dda0144e5d86f.png?s=100\" alt=\"\" />\\n        Wait Wait...Don\\'t Tell Me!\\n    </a>\\n</li><li class=\"submenu__item\">\\n    <a href=\"https://www.npr.org/podcasts/510289/planet-money\" data-metrics-action=\"click planet money\">\\n        <img src=\"https://media.npr.org/assets/img/2018/08/02/npr_planetmoney_podcasttile_sq-7b7fab0b52fd72826936c3dbe51cff94889797a0.jpg?s=100\" alt=\"\" />\\n        Planet Money\\n    </a>\\n</li><li class=\"submenu__item\">\\n    <a href=\"https://www.npr.org/podcasts/510308/hidden-brain\" data-metrics-action=\"click hidden brain\">\\n        <img src=\"https://media.npr.org/assets/img/2018/08/03/npr_hiddenbrain_podcasttile_sq-270ab642de6948802f485c6ad1f087239ef6e324.jpg?s=100\" alt=\"\" />\\n        Hidden Brain\\n    </a>\\n</li></ul>\\n\\n                        <ul class=\"submenu__list submenu__list--directories\">\\n                            <li class=\"submenu__item\"><a href=\"/programs/\" data-metrics-action=\"click all programs\">More Shows &amp; Podcasts</a></li>\\n                        </ul>\\n                    </div>\\n                </li>\\n                <li class=\"menu__item menu__item--search\">\\n                    <div class=\"menu__item-inner\">\\n                        <a href=\"/search\" id=\"navigation_dropdown-search\" data-metrics-action=\"click search\">Search</a>\\n                    </div>\\n                </li>\\n                <li id=\"user-account-dropdown-mount-two\" class=\"menu__item menu__item--account\"></li>\\n                <li class=\"menu__item menu__item--shop\">\\n                    <div class=\"menu__item-inner\">\\n                        <a href=\"https://shop.npr.org\" data-metrics-action=\"click npr shop\">NPR Shop</a>\\n                    </div>\\n                </li>\\n            </ul>\\n        </div>\\n    </section>\\n    <section class=\"menu menu--music\" data-metrics-all data-metrics-category=\"music ecosystem navigation\">\\n        <div class=\"menu__list-wrap\">\\n            <ul class=\"menu__list menu__list--ecosystem menu__list--music\">\\n                <li class=\"menu__item menu__item--music-home\">\\n                    <a href=\"/music/\" data-metrics-action=\"click npr music logo\">\\n                        <img src=\"https://media.npr.org/chrome_svg/music-logo-dark.svg\" class=\"music-logo\"  alt=\"NPR Music\" />\\n                        <img src=\"https://media.npr.org/chrome_svg/music-logo-light.svg\" class=\"music-logo-alt\" alt=\"NPR Music\" />\\n                    </a>\\n                </li>\\n                \\n                <li class=\"menu__item\">\\n    <a href=\"https://www.npr.org/series/tiny-desk-concerts/\" data-metrics-action=\"click tiny desk\">\\n        Tiny Desk\\n    </a>\\n</li><li class=\"menu__item\">\\n    <a href=\"https://www.npr.org/sections/allsongs/\" data-metrics-action=\"click all songs considered\">\\n        All Songs Considered\\n    </a>\\n</li><li class=\"menu__item\">\\n    <a href=\"https://www.npr.org/series/538009815/turning-the-tables\" data-metrics-action=\"click turning the tables\">\\n        Turning The Tables\\n    </a>\\n</li><li class=\"menu__item\">\\n    <a href=\"https://www.npr.org/sections/music-news/\" data-metrics-action=\"click music news\">\\n        Music News\\n    </a>\\n</li><li class=\"menu__item\">\\n    <a href=\"https://www.npr.org/sections/new-music/\" data-metrics-action=\"click new music\">\\n        New Music\\n    </a>\\n</li><li class=\"menu__item\">\\n    <a href=\"https://www.npr.org/series/689345495/best-music-of-2019\" data-metrics-action=\"click best music of 2019\">\\n        Best Music Of 2019\\n    </a>\\n</li>\\n            </ul>\\n        </div>\\n    </section>\\n    <section class=\"menu menu--about\" data-metrics-all data-metrics-category=\"about ecosystem navigation\">\\n        <div class=\"menu__list-wrap\">\\n            <ul class=\"menu__list menu__list--ecosystem menu__list--about\">\\n                <li class=\"menu__item menu__item--about-home\"><a href=\"/about/\" data-metrics-action=\"click about npr\">About NPR</a></li>\\n                <li class=\"menu__item menu__item--about-overview\"><a href=\"/overview/\" data-metrics-action=\"click overview\">Overview</a></li>\\n                <li class=\"menu__item menu__item--about-support\"><a href=\"/support/\" data-metrics-action=\"click support\">Support</a></li>\\n                <li class=\"menu__item menu__item--about-careers\"><a href=\"/careers/\" data-metrics-action=\"click careers\">Careers</a></li>\\n                <li class=\"menu__item menu__item--about-connect\"><a href=\"/connect/\" data-metrics-action=\"click connect\">Connect</a></li>\\n                <li class=\"menu__item menu__item--about-press\"><a href=\"/press/\" data-metrics-action=\"click press\">Press</a></li>\\n                <li class=\"menu__item menu__item--about-ethics\"><a href=\"/ethics/\" data-metrics-action=\"click ethics\">Ethics</a></li>\\n            </ul>\\n        </div>\\n    </section>\\n</nav></header><main aria-label=\"main content\"><div class=\"speakable\">\\n      <b data-is-speakable>What If The Polls Are Wrong Again? 4 Scenarios For What Might Happen In The Elections</b>   <b data-is-speakable>The polls show a Democratic advantage in the House and a Republican one in the Senate. But be ready for anything because surprises in politics always happen.</b>\\n</div>\\n<div id=\"wrapper\">\\n      <header class=\"contentheader contentheader--one\" data-metrics=\\'{\"category\":\"Elections\"}\\' ></header>   <div class=\"story-sticky-header\">\\n    <div class=\"story-sticky-header-inner\">\\n        <a href=\"/\" class=\"nprhome nprhome-news\"  data-metrics=\\'{&quot;category&quot;:&quot;global navigation&quot;,&quot;action&quot;:&quot;click npr logo&quot;,&quot;label&quot;:&quot;\\\\/&quot;}\\' >\\n            <img src=\"https://media.npr.org/chrome_svg/npr-logo.svg\" alt=\"NPR logo\"/>\\n        </a>\\n\\n        \\n\\n        <a href=\"#\" class=\"title\">\\n          <b>What If The Polls Are Wrong Again? 4 Scenarios For What Might Happen In The Elections</b>\\n          \\n        </a>\\n    </div>\\n</div>   <section id=\"main-section\"><article class=\"story\"><a id=\"mainContent\"></a><div class=\"slug-wrap\">\\n\\n    <h3 class=\"slug\">\\n        <a href=\"https://www.npr.org/sections/elections/\">Elections</a>\\n    </h3>\\n</div>\\n<div class=\"storytitle\">\\n      <h1>What If The Polls Are Wrong Again? 4 Scenarios For What Might Happen In The Elections</h1>\\n   <input type=\"hidden\" id=\"title664395755\" value=\"What If The Polls Are Wrong Again? 4 Scenarios For What Might Happen In The Elections\" />\\n   <input type=\"hidden\" id=\"shortTitle664395755\" value=\"What If The Polls Are Wrong Again? 4 Scenarios For What Might Happen In The Elections\" />\\n   <input type=\"hidden\" id=\"modelShortUrl664395755\" value=\"https://n.pr/2Pff0wF\" />\\n   <input type=\"hidden\" id=\"modelFullUrl664395755\" value=\"https://www.npr.org/2018/11/05/664395755/what-if-the-polls-are-wrong-again-4-scenarios-for-what-might-happen-in-the-elect\" />\\n</div>\\n\\n<!-- END CLASS=\"STORYTITLE\" -->\\n<div class=\"story-tools\">\\n      <div class=\"share-tools share-tools--primary\" aria-label=\"Share tools\">\\n            <ul>\\n                  <li class=\"share-tools__service share-tools__service--facebook\"><button class=\"fbStory664395755\" data-share-facebook=\\'{\"storyId\": 664395755 }\\'  data-metrics=\\'{\"action\":\"Click Facebook\",\"category\":\"Share Tools\",\"label\":\"https:\\\\/\\\\/www.npr.org\\\\/2018\\\\/11\\\\/05\\\\/664395755\\\\/what-if-the-polls-are-wrong-again-4-scenarios-for-what-might-happen-in-the-elect\"}\\' ><b class=\"share-tools__service-name\">Facebook</b></button></li>\\n         <li class=\"share-tools__service share-tools__service--twitter\"><button class=\"story664395755\" data-share-twitter=\\'{\"storyId\": 664395755 }\\'  data-metrics=\\'{\"action\":\"Click Twitter\",\"category\":\"Share Tools\",\"label\":\"https:\\\\/\\\\/www.npr.org\\\\/2018\\\\/11\\\\/05\\\\/664395755\\\\/what-if-the-polls-are-wrong-again-4-scenarios-for-what-might-happen-in-the-elect\"}\\' ><b class=\"share-tools__service-name\">Twitter</b></button></li>\\n         <li class=\"share-tools__service share-tools__service--flipboard\"><button class=\"story664395755\" data-share-flipboard=\\'{\"storyId\": 664395755 }\\'  data-metrics=\\'{\"action\":\"Click Flipboard\",\"category\":\"Share Tools\",\"label\":\"https:\\\\/\\\\/www.npr.org\\\\/2018\\\\/11\\\\/05\\\\/664395755\\\\/what-if-the-polls-are-wrong-again-4-scenarios-for-what-might-happen-in-the-elect\"}\\' ><b class=\"share-tools__service-name\">Flipboard</b></button></li>\\n         <li class=\"share-tools__service share-tools__service--email\"><button class=\\'share-tools__email-link\\' data-story-id=\\'664395755\\'  data-metrics=\\'{\"action\":\"Click Email a Friend\",\"category\":\"Share Tools\",\"label\":\"https:\\\\/\\\\/www.npr.org\\\\/2018\\\\/11\\\\/05\\\\/664395755\\\\/what-if-the-polls-are-wrong-again-4-scenarios-for-what-might-happen-in-the-elect\"}\\' ><b class=\"share-tools__service-name\">Email</b></button></li>\\n      </ul>\\n   </div>\\n   \\n<!-- END CLASS=\"SHARE-TOOLS SHARE-TOOLS--PRIMARY\" ARIA-LABEL=\"SHARE TOOLS\" -->\\n</div>\\n\\n<!-- END CLASS=\"STORY-TOOLS\" -->\\n<div id=\"story-meta\" class=\"story-meta has-byline\">\\n      <div class=\"story-meta__one\">\\n            <div class=\"dateblock\">\\n    <time datetime=\"2018-11-05T16:49:00-05:00\">\\n            <span class=\"date\">November 5, 2018</span><span class=\"time\">4:49 PM ET</span>\\n    </time>\\n</div>\\n   </div>\\n   \\n<!-- END CLASS=\"STORY-META__ONE\" -->\\n   <div class=\"story-meta__two\">\\n            <div id=\"storybyline\" class=\"storybyline-wrap linkLocation\">\\n                  <div class=\"bucketwrap byline\" id=\"res664395888\" previewTitle=\"bylines\">\\n                        <div class=\"byline-container--block\">\\n                              <div class=\"byline byline--block byline--has-link\" aria-label=\"Byline\">\\n    <div class=\"byline__photo\">\\n      <a href=\"https://www.npr.org/people/392602474/domenico-montanaro\" rel=\"author\"  data-metrics=\\'{\"action\":\"Click Byline\",\"category\":\"Story Metadata\"}\\' >\\n        <img src=\"https://media.npr.org/assets/img/2015/03/24/domenico_montanaro_npr_007_sq-91c49487814945192035ed885c8239a7fcbed9bd-s100-c85.jpg\" class=\"img\"  alt=\"Domenico Montanaro - 2015\" />\\n      </a>\\n    </div>\\n\\n  <p class=\"byline__name byline__name--block\">\\n    <a href=\"https://www.npr.org/people/392602474/domenico-montanaro\" rel=\"author\"  data-metrics=\\'{\"action\":\"Click Byline\",\"category\":\"Story Metadata\"}\\' >\\n      Domenico Montanaro\\n    </a>\\n  </p>\\n\\n    <a class=\"byline__social-handle byline__social-handle--5\" href=\"https://www.twitter.com/DomenicoNPR\"  data-metrics=\\'{\"action\":\"Click Social Handle\",\"category\":\"Story Metadata\"}\\' >\\n      Twitter\\n    </a>\\n</div>\\n            </div>\\n         </div>\\n         \\n<!-- END CLASS=\"BUCKETWRAP BYLINE\" ID=\"RES664395888\" PREVIEWTITLE=\"BYLINES\" -->\\n      </div>\\n   </div>\\n   \\n<!-- END CLASS=\"STORY-META__TWO\" -->\\n</div>\\n\\n<!-- END ID=\"STORY-META\" CLASS=\"STORY-META HAS-BYLINE\" -->\\n<div id=\"storytext\" class=\"storytext storylocation linkLocation\">\\n      <div id=\"res664470819\" class=\"bucketwrap image large\">\\n            <div class=\"imagewrap\" data-crop-type=\"\">\\n    <img src=\"https://media.npr.org/assets/img/2018/11/05/gettyimages-1057663456vote_wide-9fc473c80fc1f9d825f563fd94d01c766f5ff669-s1100-c15.jpg\" data-original=\"https://media.npr.org/assets/img/2018/11/05/gettyimages-1057663456vote_wide-9fc473c80fc1f9d825f563fd94d01c766f5ff669-s1100.jpg\" class=\"img lazyOnLoad\"  alt=\"\" />\\n        <div class=\"enlarge-options\">\\n            <a class=\"enlargelink\" href=\"https://media.npr.org/assets/img/2018/11/05/gettyimages-1057663456vote_wide-9fc473c80fc1f9d825f563fd94d01c766f5ff669-s1200.jpg\">Enlarge this image</a>\\n        </div>\\n</div>\\n<div class=\"credit-caption\">\\n    <div class=\"caption-wrap\">\\n        <div class=\"caption\" aria-label=\"Image caption\">\\n            <p>\\n                Supporters of Missouri Democratic Sen. Claire McCaskill wait for her to arrive at a campaign stop in St. Louis on Monday.\\n                \\n                <b class=\"credit\" aria-label=\"Image credit\">\\n                    \\n                    Scott Olson/Getty Images\\n                    \\n                </b>\\n                <b class=\"hide-caption\"><b>hide caption</b></b>\\n            </p>\\n        </div>\\n\\n\\n            <b class=\"toggle-caption\"><b>toggle caption</b></b>\\n    </div>\\n\\n    <span class=\"credit\" aria-label=\"Image credit\">\\n        \\n        Scott Olson/Getty Images\\n        \\n    </span>\\n</div>\\n<div class=\"enlarge_measure\">\\n    <div class=\"img_wrap\">\\n        <img data-original=\"https://media.npr.org/assets/img/2018/11/05/gettyimages-1057663456vote_wide-9fc473c80fc1f9d825f563fd94d01c766f5ff669-s1200.jpg\" alt=\"\" />\\n    </div>\\n</div>\\n<div class=\"enlarge_html\">\\n    <div class=\"image_data\">\\n        <p class=\"caption\">Supporters of Missouri Democratic Sen. Claire McCaskill wait for her to arrive at a campaign stop in St. Louis on Monday.</p>\\n        <span class=\"credit\" aria-label=\"Image credit\">\\n            \\n            Scott Olson/Getty Images\\n            \\n        </span>\\n    </div>\\n</div>\\n   </div>\\n   <p>There\\'s a lot that can happen Tuesday, the culmination of a long midterm election campaign that will provide the first nationwide measure of the U.S. electorate since Donald Trump was elected president.</p>   <p>One narrative has become dominant: that Democrats are likely to gain control of the House and Republicans hold the Senate, if not expand their majority there. That narrative is based largely on national polls, and caution should be urged. Pollsters have made a lot of adjustments to hopefully correct what they got wrong in 2016, but they can\\'t tell you precisely who is going to show up to vote.</p>   <div id=\"res664445643\" class=\"bucketwrap internallink insettwocolumn inset2col \">\\n            <div class=\"bucket img\">\\n                  <a id=\"featuredStackSquareImage663968176\" href=\"https://www.npr.org/2018/11/04/663968176/key-questions-the-2018-election-will-answer\"  data-metrics=\\'{\"category\":\"Story to Story\",\"action\":\"Click Internal Link\",\"label\":\"https:\\\\/\\\\/www.npr.org\\\\/2018\\\\/11\\\\/04\\\\/663968176\\\\/key-questions-the-2018-election-will-answer\"}\\' ><img src=\"https://media.npr.org/assets/img/2018/11/03/ap_18306730245179_sq-5e7137b77f967ca66c441eaa938895edd248264e-s100-c15.jpg\" data-original=\"https://media.npr.org/assets/img/2018/11/03/ap_18306730245179_sq-5e7137b77f967ca66c441eaa938895edd248264e-s100.jpg\" class=\"img lazyOnLoad\"  alt=\"Key Questions The 2018 Election Will Answer\" /></a>         <div class=\"bucketblock\">\\n                        <h3 class=\"slug\"><a href=\"https://www.npr.org/sections/analysis/\">Analysis </a></h3>\\n            <h3><a href=\"https://www.npr.org/2018/11/04/663968176/key-questions-the-2018-election-will-answer\"  data-metrics=\\'{\"category\":\"Story to Story\",\"action\":\"Click Internal Link\",\"label\":\"https:\\\\/\\\\/www.npr.org\\\\/2018\\\\/11\\\\/04\\\\/663968176\\\\/key-questions-the-2018-election-will-answer\"}\\' >Key Questions The 2018 Election Will Answer</a></h3>\\n         </div>\\n         \\n<!-- END CLASS=\"BUCKETBLOCK\" -->\\n      </div>\\n      \\n<!-- END CLASS=\"BUCKET IMG\" -->\\n   </div>\\n   \\n<!-- END ID=\"RES664445643\" CLASS=\"BUCKETWRAP INTERNALLINK INSETTWOCOLUMN INSET2COL \" -->\\n   <p>What\\'s more, there have been far fewer statewide and district-specific surveys than in past midterm elections. And, as it is, there are data both parties can take solace in that buoy their respective cases. So everyone should be prepared for surprises \\xe2\\x80\\x94 because there always are some. That\\'s the beauty of campaigns and voting.</p>   <p>Here are four scenarios for how election night might play out and what each could mean.</p>   <h3 class=\"edTag\">1. Democrats win the House, and Republicans hold the Senate<strong> </strong></h3>   <p>This is the most likely outcome, based not just on the polls but also on conversations with strategists in both parties. But they urge caution, because the races in the many districts across the country that are up for grabs are still very close.</p>   <aside id=\"ad-backstage-wrap\" aria-label=\"advertisement\">\\n    \\n\\n    <div id=\"ad-backstage-News_Politics_Elections\" class=\"ad-backstage\" data-ad-config=\\'{\"network\":\"\\\\/6735\\\\/\",\"site\":{\"default\":\"n6735.NPR\",\"mobile\":\"n6735.NPRMOBILE\"},\"zone\":\"News_Politics_Elections\",\"targets\":{\"testserver\":\"false\",\"storyId\":\"664395755\",\"agg\":[\"312150170\",\"191676894\",\"434975886\"]},\"location\":\"backstage\",\"deferred\":false,\"isBetweenContent\":true,\"isAggSponsorship\":false,\"borderClass\":\"\"}\\'></div>\\n\\n</aside>   <div id=\"res664447135\" class=\"bucketwrap internallink insettwocolumn inset2col \">\\n            <div class=\"bucket img\">\\n                  <a id=\"featuredStackSquareImage662794792\" href=\"https://www.npr.org/2018/11/01/662794792/heres-why-democrats-are-confident-they-ll-win-the-house\"  data-metrics=\\'{\"category\":\"Story to Story\",\"action\":\"Click Internal Link\",\"label\":\"https:\\\\/\\\\/www.npr.org\\\\/2018\\\\/11\\\\/01\\\\/662794792\\\\/heres-why-democrats-are-confident-they-ll-win-the-house\"}\\' ><img src=\"https://media.npr.org/assets/img/2018/10/31/gettyimages-974323074_sq-86948ba36a45648f6813632f4ae09a61f6278565-s100-c15.jpg\" data-original=\"https://media.npr.org/assets/img/2018/10/31/gettyimages-974323074_sq-86948ba36a45648f6813632f4ae09a61f6278565-s100.jpg\" class=\"img lazyOnLoad\"  alt=\"Here\\'s Why Democrats Are Confident They\\'ll Win The House \" /></a>         <div class=\"bucketblock\">\\n                        <h3 class=\"slug\"><a href=\"https://www.npr.org/sections/politics/\">Politics </a></h3>\\n            <h3><a href=\"https://www.npr.org/2018/11/01/662794792/heres-why-democrats-are-confident-they-ll-win-the-house\"  data-metrics=\\'{\"category\":\"Story to Story\",\"action\":\"Click Internal Link\",\"label\":\"https:\\\\/\\\\/www.npr.org\\\\/2018\\\\/11\\\\/01\\\\/662794792\\\\/heres-why-democrats-are-confident-they-ll-win-the-house\"}\\' >Here\\'s Why Democrats Are Confident They\\'ll Win The House </a></h3>\\n         </div>\\n         \\n<!-- END CLASS=\"BUCKETBLOCK\" -->\\n      </div>\\n      \\n<!-- END CLASS=\"BUCKET IMG\" -->\\n   </div>\\n   \\n<!-- END ID=\"RES664447135\" CLASS=\"BUCKETWRAP INTERNALLINK INSETTWOCOLUMN INSET2COL \" -->\\n   <p><strong>How it would happen: </strong>Forget the polls; <a href=\"https://www.npr.org/2018/11/01/662794792/heres-why-democrats-are-confident-they-ll-win-the-house\">Democrats are favored to take back the House</a> for more reasons than that. There have been a record number of retirements, reducing the built-in advantage incumbents tend to have; record numbers of candidates, <a href=\"https://www.npr.org/2018/11/03/663466805/democratic-women-house-candidates-set-for-a-much-easier-election-day-than-gop-wo\">especially Democratic women</a>, have run for public office; Democrats won the off-year elections in Virginia and New Jersey; they won or fared better than expected in special elections across the country; there was high primary turnout for Democrats in many states; and there is very high early voting turnout.</p>   <div id=\"res664447640\" class=\"bucketwrap internallink insettwocolumn inset2col \">\\n            <div class=\"bucket img\">\\n                  <a id=\"featuredStackSquareImage663466805\" href=\"https://www.npr.org/2018/11/03/663466805/democratic-women-house-candidates-set-for-a-much-easier-election-day-than-gop-wo\"  data-metrics=\\'{\"category\":\"Story to Story\",\"action\":\"Click Internal Link\",\"label\":\"https:\\\\/\\\\/www.npr.org\\\\/2018\\\\/11\\\\/03\\\\/663466805\\\\/democratic-women-house-candidates-set-for-a-much-easier-election-day-than-gop-wo\"}\\' ><img src=\"https://media.npr.org/assets/img/2018/11/02/gettyimages-1062257472_sq-23dd8a592523eb63d7b263e3fc2dcd46a7e2600f-s100-c15.jpg\" data-original=\"https://media.npr.org/assets/img/2018/11/02/gettyimages-1062257472_sq-23dd8a592523eb63d7b263e3fc2dcd46a7e2600f-s100.jpg\" class=\"img lazyOnLoad\"  alt=\"Female Democratic House Candidates Set For A Much Easier Election Day Than GOP Women\" /></a>         <div class=\"bucketblock\">\\n                        <h3 class=\"slug\"><a href=\"https://www.npr.org/sections/elections/\">Elections </a></h3>\\n            <h3><a href=\"https://www.npr.org/2018/11/03/663466805/democratic-women-house-candidates-set-for-a-much-easier-election-day-than-gop-wo\"  data-metrics=\\'{\"category\":\"Story to Story\",\"action\":\"Click Internal Link\",\"label\":\"https:\\\\/\\\\/www.npr.org\\\\/2018\\\\/11\\\\/03\\\\/663466805\\\\/democratic-women-house-candidates-set-for-a-much-easier-election-day-than-gop-wo\"}\\' >Female Democratic House Candidates Set For A Much Easier Election Day Than GOP Women</a></h3>\\n         </div>\\n         \\n<!-- END CLASS=\"BUCKETBLOCK\" -->\\n      </div>\\n      \\n<!-- END CLASS=\"BUCKET IMG\" -->\\n   </div>\\n   \\n<!-- END ID=\"RES664447640\" CLASS=\"BUCKETWRAP INTERNALLINK INSETTWOCOLUMN INSET2COL \" -->\\n   <p>And just look at how wide the playing field is \\xe2\\x80\\x94 Democrats need to pick up 23 seats to take back the House,<strong> </strong>and they are targeting some 80 Republican-held seats. Republicans are competing in just eight held by Democrats. That right there is and has been a huge flashing red light for the GOP. So many of those races are running through the suburbs, where independents and wealthy, college-educated women live, both of which have consistently in polling said they disapproved of the job the president is doing and prefer to vote for a Democrat in their district.</p>   <div id=\"res664449455\" class=\"bucketwrap internallink insettwocolumn inset2col \">\\n            <div class=\"bucket img\">\\n                  <a id=\"featuredStackSquareImage662730647\" href=\"https://www.npr.org/2018/11/01/662730647/poll-nearly-4-in-5-voters-concerned-incivility-will-lead-to-violence\"  data-metrics=\\'{\"category\":\"Story to Story\",\"action\":\"Click Internal Link\",\"label\":\"https:\\\\/\\\\/www.npr.org\\\\/2018\\\\/11\\\\/01\\\\/662730647\\\\/poll-nearly-4-in-5-voters-concerned-incivility-will-lead-to-violence\"}\\' ><img src=\"https://media.npr.org/assets/img/2018/10/31/gettyimages-1055522638trumpprotest_sq-ee84b30f7a28a6e9f4b9bfc59ce4c4b90fd1cd27-s100-c15.jpg\" data-original=\"https://media.npr.org/assets/img/2018/10/31/gettyimages-1055522638trumpprotest_sq-ee84b30f7a28a6e9f4b9bfc59ce4c4b90fd1cd27-s100.jpg\" class=\"img lazyOnLoad\"  alt=\"Poll: Nearly 4 In 5 Voters Concerned Incivility Will Lead To Violence\" /></a>         <div class=\"bucketblock\">\\n                        <h3 class=\"slug\"><a href=\"https://www.npr.org/sections/elections/\">Elections </a></h3>\\n            <h3><a href=\"https://www.npr.org/2018/11/01/662730647/poll-nearly-4-in-5-voters-concerned-incivility-will-lead-to-violence\"  data-metrics=\\'{\"category\":\"Story to Story\",\"action\":\"Click Internal Link\",\"label\":\"https:\\\\/\\\\/www.npr.org\\\\/2018\\\\/11\\\\/01\\\\/662730647\\\\/poll-nearly-4-in-5-voters-concerned-incivility-will-lead-to-violence\"}\\' >Poll: Nearly 4 In 5 Voters Concerned Incivility Will Lead To Violence</a></h3>\\n         </div>\\n         \\n<!-- END CLASS=\"BUCKETBLOCK\" -->\\n      </div>\\n      \\n<!-- END CLASS=\"BUCKET IMG\" -->\\n   </div>\\n   \\n<!-- END ID=\"RES664449455\" CLASS=\"BUCKETWRAP INTERNALLINK INSETTWOCOLUMN INSET2COL \" -->\\n   <p>One other overlooked number from <a href=\"https://www.npr.org/2018/11/01/662730647/poll-nearly-4-in-5-voters-concerned-incivility-will-lead-to-violence\">the last NPR/PBS NewsHour/Marist poll</a>: Just 54 percent of Republican women who are registered voters said they were very enthusiastic about voting in this election. Compare that with 78 percent of Republican men who are registered voters. And where do a lot of those women live? The suburbs. If GOP women, an important group that Republicans need to bolster them, stay home, that\\'s one way Democrats clean up in the House.</p>   <div id=\"res664452930\" class=\"bucketwrap internallink insettwocolumn inset2col \">\\n            <div class=\"bucket img\">\\n                  <a id=\"featuredStackSquareImage656970406\" href=\"https://www.npr.org/2018/10/16/656970406/battle-for-the-senate-10-races-that-will-determine-control\"  data-metrics=\\'{\"category\":\"Story to Story\",\"action\":\"Click Internal Link\",\"label\":\"https:\\\\/\\\\/www.npr.org\\\\/2018\\\\/10\\\\/16\\\\/656970406\\\\/battle-for-the-senate-10-races-that-will-determine-control\"}\\' ><img src=\"https://media.npr.org/assets/img/2018/10/15/senate-race-nd_sq-17ab1a5762ec244f5e7876df2b4ecef7ea1675d4-s100-c15.png\" data-original=\"https://media.npr.org/assets/img/2018/10/15/senate-race-nd_sq-17ab1a5762ec244f5e7876df2b4ecef7ea1675d4-s100.png\" class=\"img lazyOnLoad\"  alt=\"Battle For The Senate: 10 Races That Will Determine Control\" /></a>         <div class=\"bucketblock\">\\n                        <h3 class=\"slug\"><a href=\"https://www.npr.org/sections/politics/\">Politics </a></h3>\\n            <h3><a href=\"https://www.npr.org/2018/10/16/656970406/battle-for-the-senate-10-races-that-will-determine-control\"  data-metrics=\\'{\"category\":\"Story to Story\",\"action\":\"Click Internal Link\",\"label\":\"https:\\\\/\\\\/www.npr.org\\\\/2018\\\\/10\\\\/16\\\\/656970406\\\\/battle-for-the-senate-10-races-that-will-determine-control\"}\\' >Battle For The Senate: 10 Races That Will Determine Control</a></h3>\\n         </div>\\n         \\n<!-- END CLASS=\"BUCKETBLOCK\" -->\\n      </div>\\n      \\n<!-- END CLASS=\"BUCKET IMG\" -->\\n   </div>\\n   \\n<!-- END ID=\"RES664452930\" CLASS=\"BUCKETWRAP INTERNALLINK INSETTWOCOLUMN INSET2COL \" -->\\n   <p>In the Senate, on the other hand, Republicans have a very favorable landscape and <a href=\"https://www.npr.org/2018/10/16/656970406/battle-for-the-senate-10-races-that-will-determine-control\">are competing in conservative states held by Democrats</a>. The fundamentals favor the GOP in these states, and if Republicans win where they should win, they will hold the Senate.</p>   <div id=\"res664453284\" class=\"bucketwrap internallink insettwocolumn inset2col \">\\n            <div class=\"bucket img\">\\n                  <a id=\"featuredStackSquareImage662112853\" href=\"https://www.npr.org/2018/11/02/662112853/democrats-say-house-majority-would-mean-investigative-barrage-not-impeachment\"  data-metrics=\\'{\"category\":\"Story to Story\",\"action\":\"Click Internal Link\",\"label\":\"https:\\\\/\\\\/www.npr.org\\\\/2018\\\\/11\\\\/02\\\\/662112853\\\\/democrats-say-house-majority-would-mean-investigative-barrage-not-impeachment\"}\\' ><img src=\"https://media.npr.org/assets/img/2018/10/31/gettyimages-973240628_sq-2732f652e321498f69cd62e21eda3b0f2aa49c91-s100-c15.jpg\" data-original=\"https://media.npr.org/assets/img/2018/10/31/gettyimages-973240628_sq-2732f652e321498f69cd62e21eda3b0f2aa49c91-s100.jpg\" class=\"img lazyOnLoad\"  alt=\"As Dems Prepare Investigative Barrage, Key White House Lawyer Jobs Remain Vacant\" /></a>         <div class=\"bucketblock\">\\n                        <h3 class=\"slug\"><a href=\"https://www.npr.org/sections/politics/\">Politics </a></h3>\\n            <h3><a href=\"https://www.npr.org/2018/11/02/662112853/democrats-say-house-majority-would-mean-investigative-barrage-not-impeachment\"  data-metrics=\\'{\"category\":\"Story to Story\",\"action\":\"Click Internal Link\",\"label\":\"https:\\\\/\\\\/www.npr.org\\\\/2018\\\\/11\\\\/02\\\\/662112853\\\\/democrats-say-house-majority-would-mean-investigative-barrage-not-impeachment\"}\\' >As Dems Prepare Investigative Barrage, Key White House Lawyer Jobs Remain Vacant</a></h3>\\n         </div>\\n         \\n<!-- END CLASS=\"BUCKETBLOCK\" -->\\n      </div>\\n      \\n<!-- END CLASS=\"BUCKET IMG\" -->\\n   </div>\\n   \\n<!-- END ID=\"RES664453284\" CLASS=\"BUCKETWRAP INTERNALLINK INSETTWOCOLUMN INSET2COL \" -->\\n   <p><strong>What it would mean: </strong>This would be a huge win for Democrats, as they\\'d be able to gum up Trump\\'s agenda <a href=\"https://www.npr.org/2018/11/02/662112853/democrats-say-house-majority-would-mean-investigative-barrage-not-impeachment\">and begin to investigate his administration</a>, something the GOP has not done very much of. In the Senate, <a href=\"https://www.npr.org/2018/10/27/660643999/trump-republicans-continue-remaking-the-federal-courts-even-as-senate-on-recess\">Republicans could still approve federal judges and Trump Supreme Court nominees</a>, but if they want to get any big legislation done they\\'re going to have to negotiate with Democrats in the House, and possibly a Speaker Nancy Pelosi.</p>   <p>Democrats feel they need to limit the losses in the Senate. If they can hold Republicans to net even, keeping the Senate at 51-49, or maybe lose a net of one seat, then they will be very happy. They have a much more favorable Senate landscape in 2020 and believe they will be able to take back the Senate then.</p>   <h3 class=\"edTag\">2. Republicans hold the House and Senate</h3>   <p>This would be a huge win for the GOP.</p>   <div id=\"res664456331\" class=\"bucketwrap internallink insettwocolumn inset2col \">\\n            <div class=\"bucket img\">\\n                  <a id=\"featuredStackSquareImage656900971\" href=\"https://www.npr.org/sections/health-shots/2018/10/16/656900971/npr-poll-rural-americans-are-worried-about-addiction-and-jobs-but-remain-optimis\"  data-metrics=\\'{\"category\":\"Story to Story\",\"action\":\"Click Internal Link\",\"label\":\"https:\\\\/\\\\/www.npr.org\\\\/sections\\\\/health-shots\\\\/2018\\\\/10\\\\/16\\\\/656900971\\\\/npr-poll-rural-americans-are-worried-about-addiction-and-jobs-but-remain-optimis\"}\\' ><img src=\"https://media.npr.org/assets/img/2018/10/15/rural-poll-promo-1_sq-de12fba6c18d0e3e6eb007f2a211b4c867456c1d-s100-c15.png\" data-original=\"https://media.npr.org/assets/img/2018/10/15/rural-poll-promo-1_sq-de12fba6c18d0e3e6eb007f2a211b4c867456c1d-s100.png\" class=\"img lazyOnLoad\"  alt=\"NPR Poll: Rural Americans Are Worried About Addiction And Jobs, But Remain Optimistic\" /></a>         <div class=\"bucketblock\">\\n                        <h3 class=\"slug\"><a href=\"https://www.npr.org/sections/health-shots/\">Shots - Health News </a></h3>\\n            <h3><a href=\"https://www.npr.org/sections/health-shots/2018/10/16/656900971/npr-poll-rural-americans-are-worried-about-addiction-and-jobs-but-remain-optimis\"  data-metrics=\\'{\"category\":\"Story to Story\",\"action\":\"Click Internal Link\",\"label\":\"https:\\\\/\\\\/www.npr.org\\\\/sections\\\\/health-shots\\\\/2018\\\\/10\\\\/16\\\\/656900971\\\\/npr-poll-rural-americans-are-worried-about-addiction-and-jobs-but-remain-optimis\"}\\' >NPR Poll: Rural Americans Are Worried About Addiction And Jobs, But Remain Optimistic</a></h3>\\n         </div>\\n         \\n<!-- END CLASS=\"BUCKETBLOCK\" -->\\n      </div>\\n      \\n<!-- END CLASS=\"BUCKET IMG\" -->\\n   </div>\\n   \\n<!-- END ID=\"RES664456331\" CLASS=\"BUCKETWRAP INTERNALLINK INSETTWOCOLUMN INSET2COL \" -->\\n   <p><strong>How it would happen: </strong><a href=\"https://www.npr.org/2018/10/18/658255884/voter-turnout-could-hit-50-year-record-for-midterm-elections\">A record turnout is expected Tuesday</a> \\xe2\\x80\\x94 perhaps higher than any time in the past 50 years for a midterm \\xe2\\x80\\x94 but, as in 2016, Trump voters would have to dominate. Rural voters would have to turn out at higher-than-expected rates, causing the polls to be wrong (again). Meanwhile, young voters and Latinos would have to stay home. (<a href=\"https://www.usatoday.com/story/news/nation/2018/11/05/election-day-weather-forecast-big-storm-blast-eastern-us/1891149002/\">It is supposed to rain on the East Coast Tuesday</a>, which could depress low-propensity-voter turnout.)</p>   <div id=\"res664463985\" class=\"bucketwrap internallink insettwocolumn inset2col \">\\n            <div class=\"bucket img\">\\n                  <a id=\"featuredStackSquareImage662122877\" href=\"https://www.npr.org/2018/11/05/662122877/taking-back-the-house-could-be-life-and-death-for-democrats\"  data-metrics=\\'{\"category\":\"Story to Story\",\"action\":\"Click Internal Link\",\"label\":\"https:\\\\/\\\\/www.npr.org\\\\/2018\\\\/11\\\\/05\\\\/662122877\\\\/taking-back-the-house-could-be-life-and-death-for-democrats\"}\\' ><img src=\"https://media.npr.org/assets/img/2018/11/02/ap_18249605913127_sq-92d88328b6f3471cb745cefc23bc840acaaac281-s100-c15.jpg\" data-original=\"https://media.npr.org/assets/img/2018/11/02/ap_18249605913127_sq-92d88328b6f3471cb745cefc23bc840acaaac281-s100.jpg\" class=\"img lazyOnLoad\"  alt=\"Taking Back The House Could Be \\'Life And Death\\' For Democrats \" /></a>         <div class=\"bucketblock\">\\n                        <h3 class=\"slug\"><a href=\"https://www.npr.org/sections/elections/\">Elections </a></h3>\\n            <h3><a href=\"https://www.npr.org/2018/11/05/662122877/taking-back-the-house-could-be-life-and-death-for-democrats\"  data-metrics=\\'{\"category\":\"Story to Story\",\"action\":\"Click Internal Link\",\"label\":\"https:\\\\/\\\\/www.npr.org\\\\/2018\\\\/11\\\\/05\\\\/662122877\\\\/taking-back-the-house-could-be-life-and-death-for-democrats\"}\\' >Taking Back The House Could Be \\'Life And Death\\' For Democrats </a></h3>\\n         </div>\\n         \\n<!-- END CLASS=\"BUCKETBLOCK\" -->\\n      </div>\\n      \\n<!-- END CLASS=\"BUCKET IMG\" -->\\n   </div>\\n   \\n<!-- END ID=\"RES664463985\" CLASS=\"BUCKETWRAP INTERNALLINK INSETTWOCOLUMN INSET2COL \" -->\\n   <p>All of those close House races would have to tip Republicans\\' way, something that\\'s very possible given the conservative lean of those districts and the distrust of the media, purposefully stoked by the president. And who pays for polls for the most part? Big media organizations.</p>   <div id=\"res664468363\" class=\"bucketwrap image large\">\\n            <div class=\"imagewrap\" data-crop-type=\"\">\\n    <img src=\"https://media.npr.org/assets/img/2018/11/05/gettyimages-1063521758trumptenn_wide-75d4737201e2a39478b2253c9d5d9c12aec54d44-s1100-c15.jpg\" data-original=\"https://media.npr.org/assets/img/2018/11/05/gettyimages-1063521758trumptenn_wide-75d4737201e2a39478b2253c9d5d9c12aec54d44-s1100.jpg\" class=\"img lazyOnLoad\"  alt=\"\" />\\n        <div class=\"enlarge-options\">\\n            <a class=\"enlargelink\" href=\"https://media.npr.org/assets/img/2018/11/05/gettyimages-1063521758trumptenn_wide-75d4737201e2a39478b2253c9d5d9c12aec54d44-s1200.jpg\">Enlarge this image</a>\\n        </div>\\n</div>\\n<div class=\"credit-caption\">\\n    <div class=\"caption-wrap\">\\n        <div class=\"caption\" aria-label=\"Image caption\">\\n            <p>\\n                President Trump acknowledges supporters during a campaign rally for Rep. Marsha Blackburn, R-Tenn., and other Tennessee Republican candidates on Monday in Chattanooga, Tenn.\\n                \\n                <b class=\"credit\" aria-label=\"Image credit\">\\n                    \\n                    Alex Wong/Getty Images\\n                    \\n                </b>\\n                <b class=\"hide-caption\"><b>hide caption</b></b>\\n            </p>\\n        </div>\\n\\n\\n            <b class=\"toggle-caption\"><b>toggle caption</b></b>\\n    </div>\\n\\n    <span class=\"credit\" aria-label=\"Image credit\">\\n        \\n        Alex Wong/Getty Images\\n        \\n    </span>\\n</div>\\n<div class=\"enlarge_measure\">\\n    <div class=\"img_wrap\">\\n        <img data-original=\"https://media.npr.org/assets/img/2018/11/05/gettyimages-1063521758trumptenn_wide-75d4737201e2a39478b2253c9d5d9c12aec54d44-s1200.jpg\" alt=\"\" />\\n    </div>\\n</div>\\n<div class=\"enlarge_html\">\\n    <div class=\"image_data\">\\n        <p class=\"caption\">President Trump acknowledges supporters during a campaign rally for Rep. Marsha Blackburn, R-Tenn., and other Tennessee Republican candidates on Monday in Chattanooga, Tenn.</p>\\n        <span class=\"credit\" aria-label=\"Image credit\">\\n            \\n            Alex Wong/Getty Images\\n            \\n        </span>\\n    </div>\\n</div>\\n   </div>\\n   <p><strong>What it would mean: </strong>President Trump and Republicans would step on the gas, validated by an election cycle dominated by negative news coverage and polling that said the GOP had its back against the wall. The Affordable Care Act (aka Obamacare) would very likely be repealed once and for all. And Trump could set his sights on ousting Attorney General Jeff Sessions and other key figures at the Justice Department, possibly ending the department\\'s investigation of Russia\\'s attack on the 2016 election.</p>   <div id=\"res664461265\" class=\"bucketwrap internallink insettwocolumn inset2col \">\\n            <div class=\"bucket img\">\\n                  <a id=\"featuredStackSquareImage663532238\" href=\"https://www.npr.org/2018/11/02/663532238/fact-check-migrants-are-not-overwhelming-the-southwest-border\"  data-metrics=\\'{\"category\":\"Story to Story\",\"action\":\"Click Internal Link\",\"label\":\"https:\\\\/\\\\/www.npr.org\\\\/2018\\\\/11\\\\/02\\\\/663532238\\\\/fact-check-migrants-are-not-overwhelming-the-southwest-border\"}\\' ><img src=\"https://media.npr.org/assets/img/2018/11/02/ap_18229761384723_sq-3660f8f1a9e4aaa52829cf059b68219818ae1d62-s100-c15.jpg\" data-original=\"https://media.npr.org/assets/img/2018/11/02/ap_18229761384723_sq-3660f8f1a9e4aaa52829cf059b68219818ae1d62-s100.jpg\" class=\"img lazyOnLoad\"  alt=\"FACT CHECK: Migrants Are Not Overwhelming The Southwest Border \" /></a>         <div class=\"bucketblock\">\\n                        <h3 class=\"slug\"><a href=\"https://www.npr.org/sections/national/\">National </a></h3>\\n            <h3><a href=\"https://www.npr.org/2018/11/02/663532238/fact-check-migrants-are-not-overwhelming-the-southwest-border\"  data-metrics=\\'{\"category\":\"Story to Story\",\"action\":\"Click Internal Link\",\"label\":\"https:\\\\/\\\\/www.npr.org\\\\/2018\\\\/11\\\\/02\\\\/663532238\\\\/fact-check-migrants-are-not-overwhelming-the-southwest-border\"}\\' >FACT CHECK: Migrants Are Not Overwhelming The Southwest Border </a></h3>\\n         </div>\\n         \\n<!-- END CLASS=\"BUCKETBLOCK\" -->\\n      </div>\\n      \\n<!-- END CLASS=\"BUCKET IMG\" -->\\n   </div>\\n   \\n<!-- END ID=\"RES664461265\" CLASS=\"BUCKETWRAP INTERNALLINK INSETTWOCOLUMN INSET2COL \" -->\\n   <p>What\\'s more, Trump\\'s strategy of demonizing immigrants would have worked \\xe2\\x80\\x94 again. That was rewarded, and what message would that send? He is only going to do more of it between Wednesday and November 2020 when he stands for re-election.</p>   <div id=\"res664462395\" class=\"bucketwrap internallink insettwocolumn inset2col \">\\n            <div class=\"bucket img\">\\n                  <a id=\"featuredStackSquareImage662946236\" href=\"https://www.npr.org/2018/11/05/662946236/how-to-make-sense-of-exit-polls-on-election-night\"  data-metrics=\\'{\"category\":\"Story to Story\",\"action\":\"Click Internal Link\",\"label\":\"https:\\\\/\\\\/www.npr.org\\\\/2018\\\\/11\\\\/05\\\\/662946236\\\\/how-to-make-sense-of-exit-polls-on-election-night\"}\\' ><img src=\"https://media.npr.org/assets/img/2018/11/03/gettyimages-621808780_sq-b826a8f30ac379d9d49f87f50bdb0956af1bc5ae-s100-c15.jpg\" data-original=\"https://media.npr.org/assets/img/2018/11/03/gettyimages-621808780_sq-b826a8f30ac379d9d49f87f50bdb0956af1bc5ae-s100.jpg\" class=\"img lazyOnLoad\"  alt=\"How To Make Sense Of Exit Polls On Election Night\" /></a>         <div class=\"bucketblock\">\\n                        <h3 class=\"slug\"><a href=\"https://www.npr.org/sections/politics/\">Politics </a></h3>\\n            <h3><a href=\"https://www.npr.org/2018/11/05/662946236/how-to-make-sense-of-exit-polls-on-election-night\"  data-metrics=\\'{\"category\":\"Story to Story\",\"action\":\"Click Internal Link\",\"label\":\"https:\\\\/\\\\/www.npr.org\\\\/2018\\\\/11\\\\/05\\\\/662946236\\\\/how-to-make-sense-of-exit-polls-on-election-night\"}\\' >How To Make Sense Of Exit Polls On Election Night</a></h3>\\n         </div>\\n         \\n<!-- END CLASS=\"BUCKETBLOCK\" -->\\n      </div>\\n      \\n<!-- END CLASS=\"BUCKET IMG\" -->\\n   </div>\\n   \\n<!-- END ID=\"RES664462395\" CLASS=\"BUCKETWRAP INTERNALLINK INSETTWOCOLUMN INSET2COL \" -->\\n   <p>It would also be yet another reckoning for pollsters and media organizations that pay for the surveys. The polls currently show Democrats with a razor-thin, but consistent advantage heading into Election Day. But if the polls are wrong, it should induce more than a shoulder shrug from outlets that conduct them and the news media organizations that report on them.</p>   <h3 class=\"edTag\">3. Democrats win both the House and Senate</h3>   <p>This is not seen as the likeliest of scenarios, but it\\'s not out of the realm of possibility either. It would very likely mean a massive wave and a massive shift against Trump and Republicans tied to him nationally.</p>   <p>A lot would have to happen, especially in the Senate, for this to happen.</p>   <div id=\"res664462972\" class=\"bucketwrap internallink insettwocolumn inset2col \">\\n            <div class=\"bucket img\">\\n                  <a id=\"featuredStackSquareImage662912609\" href=\"https://www.npr.org/2018/11/05/662912609/miserable-and-emboldened-if-republicans-lose-the-house-they-ll-be-on-defense\"  data-metrics=\\'{\"category\":\"Story to Story\",\"action\":\"Click Internal Link\",\"label\":\"https:\\\\/\\\\/www.npr.org\\\\/2018\\\\/11\\\\/05\\\\/662912609\\\\/miserable-and-emboldened-if-republicans-lose-the-house-they-ll-be-on-defense\"}\\' ><img src=\"https://media.npr.org/assets/img/2018/11/04/ap_18172039998456_sq-2a60e862dfa4c7fd802425033e42eaf4f65bceb4-s100-c15.jpg\" data-original=\"https://media.npr.org/assets/img/2018/11/04/ap_18172039998456_sq-2a60e862dfa4c7fd802425033e42eaf4f65bceb4-s100.jpg\" class=\"img lazyOnLoad\"  alt=\"\\'Miserable And Emboldened\\': If Republicans Lose The House, They\\'ll Be On Defense\" /></a>         <div class=\"bucketblock\">\\n                        <h3 class=\"slug\"><a href=\"https://www.npr.org/sections/elections/\">Elections </a></h3>\\n            <h3><a href=\"https://www.npr.org/2018/11/05/662912609/miserable-and-emboldened-if-republicans-lose-the-house-they-ll-be-on-defense\"  data-metrics=\\'{\"category\":\"Story to Story\",\"action\":\"Click Internal Link\",\"label\":\"https:\\\\/\\\\/www.npr.org\\\\/2018\\\\/11\\\\/05\\\\/662912609\\\\/miserable-and-emboldened-if-republicans-lose-the-house-they-ll-be-on-defense\"}\\' >\\'Miserable And Emboldened\\': If Republicans Lose The House, They\\'ll Be On Defense</a></h3>\\n         </div>\\n         \\n<!-- END CLASS=\"BUCKETBLOCK\" -->\\n      </div>\\n      \\n<!-- END CLASS=\"BUCKET IMG\" -->\\n   </div>\\n   \\n<!-- END ID=\"RES664462972\" CLASS=\"BUCKETWRAP INTERNALLINK INSETTWOCOLUMN INSET2COL \" -->\\n   <p><strong>How it would happen: </strong>The path for Democrats in the House is through the suburbs, as in Scenario 1. That doesn\\'t change. But for Democrats to pull this off in the Senate, not only would voters have to side with Democratic incumbents in conservative states, but Democratic challengers would have to win in places like Nevada and Arizona, and possibly Tennessee and Texas.</p>   <p><strong>What it would mean: </strong>It would be a repudiation of Trump and the Republicans tied to him nationwide. It would have to trigger a degree of soul-searching \\xe2\\x80\\x94 in at least some Republican corners.</p>   <p>Trump would be faced with the choice of moderating and working with Democrats or being a lame-duck president starting in January 2019 when a new Democratic Congress is sworn in \\xe2\\x80\\x94 as talk ramps up about Democratic 2020 challengers.</p>   <h3 class=\"edTag\">4. Overtime</h3>   <p>It\\'s very possible control of both the House and Senate will not be clear on election night.</p>   <div id=\"res664473136\" class=\"bucketwrap image large\">\\n            <div class=\"imagewrap\" data-crop-type=\"\">\\n    <img src=\"https://media.npr.org/assets/img/2018/11/05/gettyimages-982602238capitollights_wide-e860d528189800297e88db8d5e739f659b4c228b-s1100-c15.jpg\" data-original=\"https://media.npr.org/assets/img/2018/11/05/gettyimages-982602238capitollights_wide-e860d528189800297e88db8d5e739f659b4c228b-s1100.jpg\" class=\"img lazyOnLoad\"  alt=\"\" />\\n        <div class=\"enlarge-options\">\\n            <a class=\"enlargelink\" href=\"https://media.npr.org/assets/img/2018/11/05/gettyimages-982602238capitollights_wide-e860d528189800297e88db8d5e739f659b4c228b-s1200.jpg\">Enlarge this image</a>\\n        </div>\\n</div>\\n<div class=\"credit-caption\">\\n    <div class=\"caption-wrap\">\\n        <div class=\"caption\" aria-label=\"Image caption\">\\n            <p>\\n                A number of races are so close that it may not be possible to declare a winner on election night, leaving control of the House and Senate up in the air.\\n                \\n                <b class=\"credit\" aria-label=\"Image credit\">\\n                    \\n                    Joe Sohm/Visions of America/UIG via Getty Images\\n                    \\n                </b>\\n                <b class=\"hide-caption\"><b>hide caption</b></b>\\n            </p>\\n        </div>\\n\\n\\n            <b class=\"toggle-caption\"><b>toggle caption</b></b>\\n    </div>\\n\\n    <span class=\"credit\" aria-label=\"Image credit\">\\n        \\n        Joe Sohm/Visions of America/UIG via Getty Images\\n        \\n    </span>\\n</div>\\n<div class=\"enlarge_measure\">\\n    <div class=\"img_wrap\">\\n        <img data-original=\"https://media.npr.org/assets/img/2018/11/05/gettyimages-982602238capitollights_wide-e860d528189800297e88db8d5e739f659b4c228b-s1200.jpg\" alt=\"\" />\\n    </div>\\n</div>\\n<div class=\"enlarge_html\">\\n    <div class=\"image_data\">\\n        <p class=\"caption\">A number of races are so close that it may not be possible to declare a winner on election night, leaving control of the House and Senate up in the air.</p>\\n        <span class=\"credit\" aria-label=\"Image credit\">\\n            \\n            Joe Sohm/Visions of America/UIG via Getty Images\\n            \\n        </span>\\n    </div>\\n</div>\\n   </div>\\n   <p><strong>How it would happen:</strong> There are a half-dozen congressional races in California, for example, that are very close heading into Election Day. It\\'s possible those races are so close they will not be called on election night. They might not be called for days and possibly weeks later, especially because the vote there is counted slowly.</p>   <div id=\"res664465748\" class=\"bucketwrap internallink insettwocolumn inset2col \">\\n            <div class=\"bucket img\">\\n                  <a id=\"featuredStackSquareImage664172876\" href=\"https://www.npr.org/2018/11/05/664172876/voter-purges-are-up-but-most-americans-wont-see-problems-at-the-polls\"  data-metrics=\\'{\"category\":\"Story to Story\",\"action\":\"Click Internal Link\",\"label\":\"https:\\\\/\\\\/www.npr.org\\\\/2018\\\\/11\\\\/05\\\\/664172876\\\\/voter-purges-are-up-but-most-americans-wont-see-problems-at-the-polls\"}\\' ><img src=\"https://media.npr.org/assets/img/2018/11/05/ap_18304708017054-2-_sq-bba35f7cc8247e748007256ada6483606e15ec2f-s100-c15.jpg\" data-original=\"https://media.npr.org/assets/img/2018/11/05/ap_18304708017054-2-_sq-bba35f7cc8247e748007256ada6483606e15ec2f-s100.jpg\" class=\"img lazyOnLoad\"  alt=\"Voter Purges Are Up, But Most Americans Won\\'t See Problems At The Polls\" /></a>         <div class=\"bucketblock\">\\n                        <h3 class=\"slug\"><a href=\"https://www.npr.org/sections/politics/\">Politics </a></h3>\\n            <h3><a href=\"https://www.npr.org/2018/11/05/664172876/voter-purges-are-up-but-most-americans-wont-see-problems-at-the-polls\"  data-metrics=\\'{\"category\":\"Story to Story\",\"action\":\"Click Internal Link\",\"label\":\"https:\\\\/\\\\/www.npr.org\\\\/2018\\\\/11\\\\/05\\\\/664172876\\\\/voter-purges-are-up-but-most-americans-wont-see-problems-at-the-polls\"}\\' >Voter Purges Are Up, But Most Americans Won\\'t See Problems At The Polls</a></h3>\\n         </div>\\n         \\n<!-- END CLASS=\"BUCKETBLOCK\" -->\\n      </div>\\n      \\n<!-- END CLASS=\"BUCKET IMG\" -->\\n   </div>\\n   \\n<!-- END ID=\"RES664465748\" CLASS=\"BUCKETWRAP INTERNALLINK INSETTWOCOLUMN INSET2COL \" -->\\n   <p>Additionally, early and absentee ballots can get counted slowly and there is <a href=\"http://time.com/5439236/mail-absentee-ballot-concerns/\">growing concern </a>that many voters\\' absentee and mailed ballots could be rejected. In 2016, to the surprise of many, 319,000 absentee ballots were rejected for one reason or another.</p>   <p>In the Senate, depending on how results from other races shake out, there is the possibility that control is not known on election night or for weeks after. Specifically, it could all come down to Mississippi. There, no candidate is polling above 50 percent heading into Election Day, and if no one gets at least 50 percent, the race heads to a runoff three weeks later.</p>   <p><strong>What it would mean: </strong>Imagine a scenario in which Democrats lead 50-49 on Election Day in the Senate, and the eyes of the country \\xe2\\x80\\x94 and the deep pockets of out-of-state money \\xe2\\x80\\x94 descend on Mississippi. The consequences would be enormous, the rancor pitched and the tension thick.</p>\\n</div>\\n<div class=\"tags\">\\n      <ul>\\n            <li><a class=\"tag tag--story\" data-metrics=\\'{\"category\":\"story actions\",\"action\":\"click tag\"}\\' href=\"https://www.npr.org/tags/520216945/2018\">2018</a></li>\\n      <li><a class=\"tag tag--story\" data-metrics=\\'{\"category\":\"story actions\",\"action\":\"click tag\"}\\' href=\"https://www.npr.org/tags/497806639/election-day\">election day</a></li>\\n      <li><a class=\"tag tag--story\" data-metrics=\\'{\"category\":\"story actions\",\"action\":\"click tag\"}\\' href=\"https://www.npr.org/tags/432805936/2016\">2016</a></li>\\n      <li><a class=\"tag tag--story\" data-metrics=\\'{\"category\":\"story actions\",\"action\":\"click tag\"}\\' href=\"https://www.npr.org/tags/428799323/trump\">trump</a></li>\\n      <li><a class=\"tag tag--story\" data-metrics=\\'{\"category\":\"story actions\",\"action\":\"click tag\"}\\' href=\"https://www.npr.org/tags/360452518/election-night\">election night</a></li>\\n      <li><a class=\"tag tag--story\" data-metrics=\\'{\"category\":\"story actions\",\"action\":\"click tag\"}\\' href=\"https://www.npr.org/tags/219323468/2020\">2020</a></li>\\n      <li><a class=\"tag tag--story\" data-metrics=\\'{\"category\":\"story actions\",\"action\":\"click tag\"}\\' href=\"https://www.npr.org/tags/162174434/polling\">polling</a></li>\\n      <li><a class=\"tag tag--story\" data-metrics=\\'{\"category\":\"story actions\",\"action\":\"click tag\"}\\' href=\"https://www.npr.org/tags/127115490/senate\">Senate</a></li>\\n      <li><a class=\"tag tag--story\" data-metrics=\\'{\"category\":\"story actions\",\"action\":\"click tag\"}\\' href=\"https://www.npr.org/tags/126953005/house\">House</a></li>\\n      <li><a class=\"tag tag--story\" data-metrics=\\'{\"category\":\"story actions\",\"action\":\"click tag\"}\\' href=\"https://www.npr.org/tags/126944326/democrats\">Democrats</a></li>\\n      <li><a class=\"tag tag--story\" data-metrics=\\'{\"category\":\"story actions\",\"action\":\"click tag\"}\\' href=\"https://www.npr.org/tags/126931907/gop\">GOP</a></li>\\n      <li><a class=\"tag tag--story\" data-metrics=\\'{\"category\":\"story actions\",\"action\":\"click tag\"}\\' href=\"https://www.npr.org/tags/125951073/republican\">Republican</a></li>\\n      <li><a class=\"tag tag--story\" data-metrics=\\'{\"category\":\"story actions\",\"action\":\"click tag\"}\\' href=\"https://www.npr.org/tags/125950998/election\">election</a></li>\\n   </ul>\\n</div>\\n\\n<!-- END CLASS=\"TAGS\" -->\\n<div class=\"share-tools share-tools--secondary\" aria-label=\"Share tools\">\\n      <ul>\\n            <li class=\"share-tools__service share-tools__service--facebook\"><button class=\"fbStory664395755\" data-share-facebook=\\'{\"storyId\": 664395755 }\\'  data-metrics=\\'{\"action\":\"Click Facebook\",\"category\":\"Share Tools\",\"label\":\"https:\\\\/\\\\/www.npr.org\\\\/2018\\\\/11\\\\/05\\\\/664395755\\\\/what-if-the-polls-are-wrong-again-4-scenarios-for-what-might-happen-in-the-elect\"}\\' ><b class=\"share-tools__service-name\">Facebook</b></button></li>\\n      <li class=\"share-tools__service share-tools__service--twitter\"><button class=\"story664395755\" data-share-twitter=\\'{\"storyId\": 664395755 }\\'  data-metrics=\\'{\"action\":\"Click Twitter\",\"category\":\"Share Tools\",\"label\":\"https:\\\\/\\\\/www.npr.org\\\\/2018\\\\/11\\\\/05\\\\/664395755\\\\/what-if-the-polls-are-wrong-again-4-scenarios-for-what-might-happen-in-the-elect\"}\\' ><b class=\"share-tools__service-name\">Twitter</b></button></li>\\n      <li class=\"share-tools__service share-tools__service--flipboard\"><button class=\"story664395755\" data-share-flipboard=\\'{\"storyId\": 664395755 }\\'  data-metrics=\\'{\"action\":\"Click Flipboard\",\"category\":\"Share Tools\",\"label\":\"https:\\\\/\\\\/www.npr.org\\\\/2018\\\\/11\\\\/05\\\\/664395755\\\\/what-if-the-polls-are-wrong-again-4-scenarios-for-what-might-happen-in-the-elect\"}\\' ><b class=\"share-tools__service-name\">Flipboard</b></button></li>\\n      <li class=\"share-tools__service share-tools__service--email\"><button class=\\'share-tools__email-link\\' data-story-id=\\'664395755\\'  data-metrics=\\'{\"action\":\"Click Email a Friend\",\"category\":\"Share Tools\",\"label\":\"https:\\\\/\\\\/www.npr.org\\\\/2018\\\\/11\\\\/05\\\\/664395755\\\\/what-if-the-polls-are-wrong-again-4-scenarios-for-what-might-happen-in-the-elect\"}\\' ><b class=\"share-tools__service-name\">Email</b></button></li>\\n   </ul>\\n</div>\\n\\n<!-- END CLASS=\"SHARE-TOOLS SHARE-TOOLS--SECONDARY\" ARIA-LABEL=\"SHARE TOOLS\" -->\\n<div id=\"newsletter-acquisition-callout-data\" data-newsletter=\"{&quot;newsletterId&quot;:&quot;politics&quot;,&quot;title&quot;:&quot;Politics&quot;,&quot;marketingHeader&quot;:&quot;Sign Up For The NPR Politics Newsletter&quot;,&quot;frequency&quot;:&quot;every week&quot;,&quot;shortDescription&quot;:&quot;From the White House to your home \\\\u2014 political news and analysis that matter, sent weekly.&quot;,&quot;contentImage&quot;:&quot;https:\\\\/\\\\/media.npr.org\\\\/assets\\\\/img\\\\/2018\\\\/08\\\\/03\\\\/newsletters\\\\/politics.png&quot;,&quot;staticMarkupDir&quot;:&quot; &quot;,&quot;brandingDir&quot;:&quot;\\\\/branding\\\\/sections\\\\/politics\\\\/&quot;,&quot;brandingLink&quot;:&quot;https:\\\\/\\\\/www.npr.org\\\\/sections\\\\/politics\\\\/&quot;,&quot;organizationId&quot;:1,&quot;recaptchaSiteKey&quot;:&quot;6LfD6CYUAAAAAIBeUekwZ9KCjF4UyLFtu7NWNaEK&quot;}\">\\n   </div>\\n\\n<!-- END ID=\"NEWSLETTER-ACQUISITION-CALLOUT-DATA\" DATA-NEWSLETTER=\"{&QUOT;NEWSLETTERID&QUOT;:&QUOT;POLITICS&QUOT;,&QUOT;TITLE&QUOT;:&QUOT;POLITICS&QUOT;,&QUOT;MARKETINGHEADER&QUOT;:&QUOT;SIGN UP FOR THE NPR POLITICS NEWSLETTER&QUOT;,&QUOT;FREQUENCY&QUOT;:&QUOT;EVERY WEEK&QUOT;,&QUOT;SHORTDESCRIPTION&QUOT;:&QUOT;FROM THE WHITE HOUSE TO YOUR HOME \\\\U2014 POLITICAL NEWS AND ANALYSIS THAT MATTER, SENT WEEKLY.&QUOT;,&QUOT;CONTENTIMAGE&QUOT;:&QUOT;HTTPS:\\\\/\\\\/MEDIA.NPR.ORG\\\\/ASSETS\\\\/IMG\\\\/2018\\\\/08\\\\/03\\\\/NEWSLETTERS\\\\/POLITICS.PNG&QUOT;,&QUOT;STATICMARKUPDIR&QUOT;:&QUOT; &QUOT;,&QUOT;BRANDINGDIR&QUOT;:&QUOT;\\\\/BRANDING\\\\/SECTIONS\\\\/POLITICS\\\\/&QUOT;,&QUOT;BRANDINGLINK&QUOT;:&QUOT;HTTPS:\\\\/\\\\/WWW.NPR.ORG\\\\/SECTIONS\\\\/POLITICS\\\\/&QUOT;,&QUOT;ORGANIZATIONID&QUOT;:1,&QUOT;RECAPTCHASITEKEY&QUOT;:&QUOT;6LFD6CYUAAAAAIBEUEKWZ9KCJF4UYLFTU7NWNAEK&QUOT;}\" -->\\n<div id=\"podcast-callout-data\" data-podcast=\"{&quot;name&quot;:&quot;The NPR Politics Podcast&quot;,&quot;itunesUrl&quot;:&quot;https:\\\\/\\\\/podcasts.apple.com\\\\/podcast\\\\/id1057255460?mt=2&amp;at=11l79Y&amp;ct=nprdirectory&quot;,&quot;googlePodcastsUrl&quot;:&quot;https:\\\\/\\\\/www.google.com\\\\/podcasts?feed=aHR0cHM6Ly93d3cubnByLm9yZy9yc3MvcG9kY2FzdC5waHA_aWQ9NTEwMzEw&quot;,&quot;rssUrl&quot;:&quot;https:\\\\/\\\\/www.npr.org\\\\/rss\\\\/podcast.php?id=510310&quot;,&quot;jsonFeedUrl&quot;:&quot;https:\\\\/\\\\/www.npr.org\\\\/feeds\\\\/664395755\\\\/feed.json&quot;,&quot;nprOneUniversalUrl&quot;:&quot;https:\\\\/\\\\/rpb3r.app.goo.gl\\\\/XDGl&quot;,&quot;amazonAlexaUrl&quot;:null,&quot;pocketCastsUrl&quot;:&quot;https:\\\\/\\\\/pca.st\\\\/npr-politics&quot;,&quot;spotifyUrl&quot;:&quot;https:\\\\/\\\\/open.spotify.com\\\\/show\\\\/2PnWnDNwU3wKesCHCpy252&quot;}\">\\n   </div>\\n\\n<!-- END ID=\"PODCAST-CALLOUT-DATA\" DATA-PODCAST=\"{&QUOT;NAME&QUOT;:&QUOT;THE NPR POLITICS PODCAST&QUOT;,&QUOT;ITUNESURL&QUOT;:&QUOT;HTTPS:\\\\/\\\\/PODCASTS.APPLE.COM\\\\/PODCAST\\\\/ID1057255460?MT=2&AMP;AT=11L79Y&AMP;CT=NPRDIRECTORY&QUOT;,&QUOT;GOOGLEPODCASTSURL&QUOT;:&QUOT;HTTPS:\\\\/\\\\/WWW.GOOGLE.COM\\\\/PODCASTS?FEED=AHR0CHM6LY93D3CUBNBYLM9YZY9YC3MVCG9KY2FZDC5WAHA_AWQ9NTEWMZEW&QUOT;,&QUOT;RSSURL&QUOT;:&QUOT;HTTPS:\\\\/\\\\/WWW.NPR.ORG\\\\/RSS\\\\/PODCAST.PHP?ID=510310&QUOT;,&QUOT;JSONFEEDURL&QUOT;:&QUOT;HTTPS:\\\\/\\\\/WWW.NPR.ORG\\\\/FEEDS\\\\/664395755\\\\/FEED.JSON&QUOT;,&QUOT;NPRONEUNIVERSALURL&QUOT;:&QUOT;HTTPS:\\\\/\\\\/RPB3R.APP.GOO.GL\\\\/XDGL&QUOT;,&QUOT;AMAZONALEXAURL&QUOT;:NULL,&QUOT;POCKETCASTSURL&QUOT;:&QUOT;HTTPS:\\\\/\\\\/PCA.ST\\\\/NPR-POLITICS&QUOT;,&QUOT;SPOTIFYURL&QUOT;:&QUOT;HTTPS:\\\\/\\\\/OPEN.SPOTIFY.COM\\\\/SHOW\\\\/2PNWNDNWU3WKESCHCPY252&QUOT;}\" -->\\n<div id=\"callout-end-of-story-mount\">\\n   </div>\\n\\n<!-- END ID=\"CALLOUT-END-OF-STORY-MOUNT\" -->\\n<aside id=\"end-of-story-recommendations-mount\" class=\"recommended-stories\" aria-label=\"recommended stories\"></aside>\\n<!-- END ID=\"END-OF-STORY-RECOMMENDATIONS-MOUNT\" CLASS=\"RECOMMENDED-STORIES\" ARIA-LABEL=\"RECOMMENDED STORIES\" -->\\n</article><header class=\"contentheader contentheader--two\" data-metrics=\\'{\"category\":\"Elections\"}\\' ></header><footer id=\"npr-footer\" class=\"npr-footer\" role=\"contentinfo\" aria-label=\"NPR footer\"><div class=\"npr-footer__content\" data-metrics-category=\"Global Footer\" data-metrics-label=\"Footer\">\\n    <div class=\"npr-footer__module-group\">\\n        <div class=\"npr-footer__module\">\\n            <h6 class=\"npr-footer__header\">Read &amp; Listen</h6>\\n\\n            <ul>\\n                <li class=\"npr-footer__item\"><a href=\"/\" data-metrics-action=\"Click Homepage\">Home</a></li>\\n                <li class=\"npr-footer__item\"><a href=\"/sections/news/\" data-metrics-action=\"Click News\">News</a></li>\\n                <li class=\"npr-footer__item\"><a href=\"/sections/arts/\" data-metrics-action=\"Click Arts &amp; Life\">Arts &amp; Life</a></li>\\n                <li class=\"npr-footer__item\"><a href=\"/music/\" data-metrics-action=\"Click Music\">Music</a></li>\\n                <li class=\"npr-footer__item\"><a href=\"/podcasts/\" data-metrics-action=\"Click Podcasts\">Podcasts</a></li>\\n                <li class=\"npr-footer__item\"><a href=\"/programs/\" data-metrics-action=\"Click Programs\">Programs</a></li>\\n            </ul>\\n        </div>\\n\\n        <div class=\"npr-footer__module\">\\n            <h6 class=\"npr-footer__header\">Connect</h6>\\n\\n            <ul>\\n                <li class=\"npr-footer__item\"><a href=\"/newsletters/\" data-metrics-action=\"Click Newsletters\">Newsletters</a></li>\\n                <li class=\"npr-footer__item\"><a href=\"https://www.facebook.com/NPR/\" data-metrics-action=\"Click Facebook\">Facebook</a></li>\\n                <li class=\"npr-footer__item\"><a href=\"https://twitter.com/NPR\" data-metrics-action=\"Click Twitter\">Twitter</a></li>\\n                <li class=\"npr-footer__item\"><a href=\"https://www.instagram.com/npr/\" data-metrics-action=\"Click Instagram\">Instagram</a></li>\\n                <li class=\"npr-footer__item\"><a href=\"https://www.npr.org/contact\" data-metrics-action=\"Click Contact\">Contact</a></li>\\n                <li class=\"npr-footer__item\"><a href=\"https://help.npr.org\" data-metrics-action=\"Click Help\">Help</a></li>\\n            </ul>\\n        </div>\\n\\n        <div class=\"npr-footer__module\">\\n            <h6 class=\"npr-footer__header\">About NPR</h6>\\n\\n            <ul>\\n                <li class=\"npr-footer__item\"><a href=\"/about/\" data-metrics-action=\"Click Overview\">Overview</a></li>\\n                <li class=\"npr-footer__item\"><a href=\"/about-npr/178660742/public-radio-finances\" data-metrics-action=\"Click Finances\">Finances</a></li>\\n                <li class=\"npr-footer__item\"><a href=\"/about-npr/179803822/people-at-npr\" data-metrics-action=\"Click People\">People</a></li>\\n                <li class=\"npr-footer__item\"><a href=\"/press/\" data-metrics-action=\"Click Press\">Press</a></li>\\n                <li class=\"npr-footer__item\"><a href=\"/sections/publiceditor/\" data-metrics-action=\"Click Public Editor\">Public Editor</a></li>\\n                <li class=\"npr-footer__item\"><a href=\"/corrections/\" data-metrics-action=\"Click Corrections\">Corrections</a></li>\\n            </ul>\\n        </div>\\n\\n        <div class=\"npr-footer__module\">\\n            <h6 class=\"npr-footer__header\">Get Involved</h6>\\n\\n            <ul>\\n                <li class=\"npr-footer__item\"><a href=\"/support/\" data-metrics-action=\"Click Support Public Radio\">Support Public Radio</a></li>\\n                <li class=\"npr-footer__item\"><a href=\"/about-npr/186948703/corporate-sponsorship\" data-metrics-action=\"Click Sponsor NPR\">Sponsor NPR</a></li>\\n                <li class=\"npr-footer__item\"><a href=\"/careers/\" data-metrics-action=\"Click NPR Careers\">NPR Careers</a></li>\\n                <li class=\"npr-footer__item\"><a href=\"https://shop.npr.org/\" data-metrics-action=\"Click NPR Shop\">NPR Shop</a></li>\\n                <li class=\"npr-footer__item\"><a href=\"https://www.nprpresents.org\" data-metrics-action=\"Click NPR Events\">NPR Events</a></li>\\n                <li class=\"npr-footer__item\"><a href=\"/about-npr/177066727/visit-npr\" data-metrics-action=\"Click Visit NPR\">Visit NPR</a></li>\\n            </ul>\\n        </div>\\n    </div>\\n\\n    <div class=\"npr-footer__module npr-footer__module--secondary\">\\n        <ul>\\n            <li class=\"npr-footer__item\"><a href=\"/about-npr/179876898/terms-of-use\" data-metrics-action=\"Click Terms of Use\">Terms of Use</a></li>\\n            <li class=\"npr-footer__item\"><a href=\"/about-npr/179878450/privacy-policy\" data-metrics-action=\"Click Privacy\">Privacy</a></li>\\n            <li class=\"npr-footer__item\"><a href=\"/about-npr/179878450/privacy-policy#yourchoices\" data-metrics-action=\"Click Your Privacy Choices\">Your Privacy Choices</a></li>\\n            <li class=\"npr-footer__item\"><a href=\"https://text.npr.org/\" data-metrics-action=\"Click Text Only\">Text Only</a></li>\\n            <li class=\"npr-footer__item\"><span class=\"copy-year\"></span></li>\\n        </ul>\\n    </div>\\n</div></footer></section>   <div id=\"main-sidebar\">\\n            <aside id=\"ad-standard-wrap\" aria-label=\"advertisement\">\\n    \\n\\n    <div id=\"ad-standard-News_Politics_Elections\" class=\"ad-standard\" data-ad-config=\\'{\"network\":\"\\\\/6735\\\\/\",\"site\":{\"default\":\"n6735.NPR\",\"mobile\":\"n6735.NPRMOBILE\"},\"zone\":\"News_Politics_Elections\",\"targets\":{\"testserver\":\"false\",\"storyId\":\"664395755\",\"agg\":[\"312150170\",\"191676894\",\"434975886\"]},\"location\":\"standard\",\"deferred\":false,\"isBetweenContent\":false,\"isAggSponsorship\":false,\"borderClass\":\"\"}\\'></div>\\n    <p class=\"left\">NPR thanks our sponsors</p><p class=\"right\"><a href=\"/about-npr/186948703/corporate-sponsorship\">Become an NPR sponsor</a></p>\\n\\n</aside>\\n   </div>\\n   \\n<!-- END ID=\"MAIN-SIDEBAR\" -->\\n</div>\\n\\n<!-- END ID=\"WRAPPER\" -->\\n<script type=\"text/javascript\">\\n   (function () {\\n    var loadPageJs = function () { webpackJsonp([82,25],{0:function(n,t,c){n.exports=c(1823)},1823:function(n,t,c){\"use strict\";c.p=NPR.serverVars.webpackPublicPath,function(){var n=2,t=function(){--n<1&&function(n){c(45),c(2232),c(366),c(373),c(263),c(794),c(408),c(2237),c(407),c(2236),c(2235),c(1402),c(589),c(2229),c(1563),c(2222),c(355)}(c)}.bind(this);c.e(0,t),c.e(4,t)}.call(this)}}); };\\n    if (document.readyState === \\'complete\\') {\\n        loadPageJs();\\n    } else {\\n        window.addEventListener(\\'load\\', function load() {\\n            window.removeEventListener(\\'load\\', load, false);\\n            loadPageJs();\\n        });\\n    }\\n})();\\n</script>\\n</main><noscript><iframe style=\"display:none;padding:0;margin:0;\" width=\"0\" height=\"0\" src=\"//20655831p.rfihub.com/ca.html?rb=3035&ca=20501671&ra=gtmcb\"></iframe></noscript><noscript><iframe><img height=\"1\" width=\"1\" style=\"display:none\" src=\"https://www.facebook.com/tr?id=1621557368158968&ev=PageView&noscript=1\" /></iframe></noscript><script type=\\'text/javascript\\'>\\n    var _sf_async_config = _sf_async_config || {};\\n    /** CONFIGURATION START **/\\n    _sf_async_config.uid = \\'18888\\';\\n    _sf_async_config.domain = NPR.ServerConstants.cbHost;\\n    _sf_async_config.useCanonical = true;\\n\\n    /** CONFIGURATION END **/\\n    (function() {\\n        function loadChartbeat() {\\n            // Wait until the metric for chartbeat have been setup\\n            // in templates/javascript/metrics/chartbeat.js\\n            if( !!NPR.ChartbeatLoaded) {\\n                var e = document.createElement(\\'script\\');\\n                e.setAttribute(\\'language\\', \\'javascript\\');\\n                e.setAttribute(\\'type\\', \\'text/javascript\\');\\n                e.setAttribute(\\'src\\', \\'https://static.chartbeat.com/js/chartbeat.js\\');\\n                document.body.appendChild(e);\\n            } else {\\n                setTimeout(loadChartbeat, 1000);\\n            }\\n        }\\n\\n        var oldonload = window.onload;\\n        window.onload = (typeof window.onload != \\'function\\') ?\\n                loadChartbeat : function() {\\n            oldonload();\\n            window._sf_endpt = (new Date()).getTime();\\n            loadChartbeat();\\n        };\\n    })();\\n</script></body></html>'"
      ]
     },
     "execution_count": 14,
     "metadata": {},
     "output_type": "execute_result"
    }
   ],
   "source": [
    "response.content"
   ]
  },
  {
   "cell_type": "markdown",
   "metadata": {},
   "source": [
    "What?! This seems identical to the ``.text`` field. However, the careful eye would notice that the very 1st characters differ; that is, ``.content`` has a *b'* character at the beginning, which in Python syntax denotes that the data type is bytes, whereas the ``.text`` field did not have it and is a regular String.\n",
    "\n",
    "Ok, so that's great, but how do we make sense of this text? We could manually parse it, but that's tedious and difficult. As mentioned, BeautifulSoup is specifically designed to parse this exact content (any webpage content).\n",
    "\n",
    "## BEAUTIFUL SOUP\n",
    "![title](images/soup_for_you.jpg) (property of NBC)\n",
    "\n",
    "\n",
    "The [documentation for BeautifulSoup is found here](https://www.crummy.com/software/BeautifulSoup/bs4/doc/).\n",
    "\n",
    "A BeautifulSoup object can be initialized with the ``.content`` from request and a flag denoting the type of parser that we should use. For example, we could specify ``html.parser``, ``lxml``, etc [documentation here](https://www.crummy.com/software/BeautifulSoup/bs4/doc/#differences-between-parsers). Since we are interested in standard webpages that use HTML, let's specify the html.parser:"
   ]
  },
  {
   "cell_type": "code",
   "execution_count": 15,
   "metadata": {},
   "outputs": [
    {
     "data": {
      "text/plain": [
       "<!DOCTYPE doctype html>\n",
       "<html class=\"no-js\" lang=\"en\"><head><script>\n",
       "   try {var _sf_startpt=(new Date()).getTime();} catch(e){}\n",
       "</script>\n",
       "<meta itemref=\"speakable\" itemscope=\"\" itemtype=\"https://schema.org/SpeakableSpecification\"/><title>What If The Polls Are Wrong Again? 4 Scenarios For What Might Happen In The Elections : NPR</title><meta content=\"[data-is-speakable]\" id=\"speakable\" itemprop=\"cssSelector\"/><meta content=\"1VqzbDm4ukeFVHOoq5LjIKA2fVKZD-EYv8cXZhKXSfU\" id=\"google-site-verification\" name=\"google-site-verification\"/><meta charset=\"utf-8\"/><meta content=\"noarchive,index,follow\" name=\"robots\"/><meta content=\"General\" name=\"Rating\"/><meta content=\"width=device-width, initial-scale=1, shrink-to-fit=no\" name=\"viewport\"/><meta name=\"npr-pjax\"/><meta content=\"2018-11-05\" name=\"date\"/><link href=\"https://www.npr.org/2018/11/05/664395755/what-if-the-polls-are-wrong-again-4-scenarios-for-what-might-happen-in-the-elect\" rel=\"canonical\"/><meta content=\"The polls show a Democratic advantage in the House and a Republican one in the Senate. But be ready for anything because surprises in politics always happen.\" name=\"description\"/><link href=\"/rss/rss.php?id=139482413\" rel=\"alternate\" title=\"Elections\" type=\"application/rss+xml\"/><link href=\"https://www.npr.org/feeds/139482413/feed.json\" rel=\"alternate\" title=\"Elections\" type=\"application/json\"/><link href=\"https://media.npr.org/templates/favicon/favicon-180x180.png\" rel=\"apple-touch-icon\" sizes=\"180x180\"/><link href=\"https://media.npr.org/templates/favicon/favicon-96x96.png\" rel=\"icon\" sizes=\"96x96\"/><link href=\"https://media.npr.org/templates/favicon/favicon-32x32.png\" rel=\"icon\" sizes=\"32x32\"/><link href=\"https://media.npr.org/templates/favicon/favicon-16x16.png\" rel=\"icon\" sizes=\"16x16\"/><meta content=\"What If The Polls Are Wrong Again? 4 Scenarios For What Might Happen In The Elections\" property=\"og:title\"/><meta content=\"https://www.npr.org/2018/11/05/664395755/what-if-the-polls-are-wrong-again-4-scenarios-for-what-might-happen-in-the-elect\" property=\"og:url\"/><meta content=\"article\" property=\"og:type\"/><meta content=\"The polls show a Democratic advantage in the House and a Republican one in the Senate. But be ready for anything because surprises in politics always happen.\" property=\"og:description\"/><meta content=\"https://media.npr.org/assets/img/2018/11/05/gettyimages-1057663456vote_wide-9fc473c80fc1f9d825f563fd94d01c766f5ff669.jpg?s=1400\" property=\"og:image\"/><meta content=\"https://media.npr.org/assets/img/2018/11/05/gettyimages-1063521758trumptenn_wide-75d4737201e2a39478b2253c9d5d9c12aec54d44.jpg?s=1400\" property=\"og:image\"/><meta content=\"https://media.npr.org/assets/img/2018/11/05/gettyimages-982602238capitollights_wide-e860d528189800297e88db8d5e739f659b4c228b.jpg?s=1400\" property=\"og:image\"/><meta content=\"NPR.org\" property=\"og:site_name\"/><meta content=\"138837436154588\" property=\"fb:app_id\"/><meta content=\"10643211755\" property=\"fb:pages\"/><meta content=\"free\" property=\"article:content_tier\"/><meta content=\"false\" property=\"article:opinion\"/><meta content=\"summary_large_image\" name=\"twitter:card\"/><meta content=\"What If The Polls Are Wrong Again? 4 Scenarios For What Might Happen In The Elections\" name=\"twitter:title\"/><meta content=\"@NPR\" name=\"twitter:site\"/><meta content=\"npr.org\" name=\"twitter:domain\"/><meta content=\"https://media.npr.org/assets/img/2018/11/05/gettyimages-1057663456vote_wide-9fc473c80fc1f9d825f563fd94d01c766f5ff669.jpg?s=1400\" name=\"twitter:image:src\"/><script id=\"npr-vars\">\n",
       "   window.NPR = window.NPR || {};\n",
       "NPR.ServerConstants = {\"cbHost\":\"npr.org\",\"webHost\":\"https:\\/\\/www.npr.org\",\"embedHost\":\"https:\\/\\/www.npr.org\",\"webHostSecure\":\"https:\\/\\/secure.npr.org\",\"apiHost\":\"https:\\/\\/api.npr.org\",\"serverMediaCache\":\"https:\\/\\/media.npr.org\",\"googleAnalyticsAccount\":\"UA-5828686-4\",\"nielsenSFCode\":\"dcr\",\"nielsenAPN\":\"NPR-dcr\",\"shouldShowHPLocalContent\":true,\"readingServiceHostname\":\"https:\\/\\/reading.api.npr.org\"};\n",
       "NPR.serverVars = {\"storyId\":\"664395755\",\"facebookAppId\":\"138837436154588\",\"webpackPublicPath\":\"https:\\/\\/s.npr.org\\/templates\\/javascript\\/dist\\/bundles\\/\",\"persistenceVersion\":\"e2193dbd58d7e71fdaffbd399767e8dc\",\"isBuildOut\":true,\"topicIds\":[\"P139482413\",\"1001\",\"1002\",\"1003\",\"1014\",\"1059\"],\"primaryTopic\":\"Elections\",\"topics\":[\"Elections\",\"News\",\"Home Page Top Stories\",\"National\",\"Politics\",\"Analysis\"],\"theme\":\"139482413\",\"aggIds\":[\"1001\",\"1002\",\"1003\",\"1014\",\"1059\",\"125950998\",\"125951073\",\"126931907\",\"126944326\",\"126953005\",\"127115490\",\"139482413\",\"162174434\",\"191676894\",\"219323468\",\"312150170\",\"360452518\",\"428799323\",\"432805936\",\"434975886\",\"497806639\",\"520216945\"],\"tagIds\":[\"2016\",\"2018\",\"2020\",\"Democrats\",\"GOP\",\"House\",\"Republican\",\"Senate\",\"election\",\"election day\",\"election night\",\"polling\",\"trump\"],\"byline\":[\"Domenico Montanaro\"],\"pubDate\":\"2018110516\",\"pageTypeId\":\"1\",\"title\":\"What If The Polls Are Wrong Again? 4 Scenarios For What Might Happen In The Elections\",\"publisherOrgId\":\"1\",\"rocketfuelCode\":20501671};\n",
       "</script>\n",
       "<script src=\"https://cdn.optimizely.com/js/11107397707.js\" type=\"text/javascript\">\n",
       "</script>\n",
       "<script src=\"https://s.npr.org/templates/javascript/lib/modernizr/modernizr.custom.js\" type=\"text/javascript\">\n",
       "</script>\n",
       "<script>\n",
       "   !function(a){function e(d){if(c[d])return c[d].exports;var f=c[d]={exports:{},id:d,loaded:!1};return a[d].call(f.exports,f,f.exports,e),f.loaded=!0,f.exports}var d=window.webpackJsonp;window.webpackJsonp=function(b,t){for(var n,r,o=0,i=[];o<b.length;o++)r=b[o],f[r]&&i.push.apply(i,f[r]),f[r]=0;for(n in t){var s=t[n];switch(typeof s){case\"object\":a[n]=function(e){var d=e.slice(1),c=e[0];return function(e,f,b){a[c].apply(this,[e,f,b].concat(d))}}(s);break;case\"function\":a[n]=s;break;default:a[n]=a[s]}}for(d&&d(b,t);i.length;)i.shift().call(null,e);if(t[0])return c[0]=0,e(0)};var c={},f={25:0};e.e=function(a,d){if(0===f[a])return d.call(null,e);if(void 0!==f[a])f[a].push(d);else{f[a]=[d];var c=document.getElementsByTagName(\"head\")[0],b=document.createElement(\"script\");b.type=\"text/javascript\",b.charset=\"utf-8\",b.async=!0,b.src=e.p+\"\"+a+\".\"+{0:\"49fa2af9befd8dbc30e6\",1:\"69edd3e871fc479eb8c4\",2:\"3872b3b03c3b0931da22\",3:\"956a99d7884e901e36cc\",4:\"f9aecab03b57f03ba253\",5:\"aee467c94af974e07087\",6:\"7996e4a910b135aa5a79\",7:\"21bed47254a36b33bbe4\",8:\"9be2e58ebfb46b745b1c\",9:\"49cab39d7a6f7fb9e7d2\",10:\"547114f11f850b9fa1fa\",11:\"8d080cdbd52ca97eb224\",12:\"8d5b1e7c21e2e4e2046e\",13:\"b0a0d682da6781b44ee2\",14:\"55fd59b9685011904ec3\",15:\"2cf00a04fb3475ebbe1d\",16:\"41426d2a26b3fcc9a511\",17:\"ea9d73affa9029cd58b8\",18:\"52692ca5ed2fd9d95412\",19:\"a42fc478315f6ded6a21\",20:\"50f54ba8c521cc1e4639\",21:\"1ae4d9830b90eb9074d3\",22:\"16a03e418a1e3303b525\",23:\"3663bbe4d7838b502ccd\",24:\"d118095c3fc5bfb33da1\",26:\"4d1f88ba95dfe94137d4\",27:\"aea4226da3ca9bfb67aa\",28:\"ccb1659a86d7746b048d\",29:\"ed2dd58790d98a9e341d\",30:\"03a8f050e4ce4e514187\",31:\"9edc89972627c3aa824a\",32:\"66d600fa8af2ed7b80a4\",33:\"98a85a2015d5d1da13b2\",34:\"332356c3462ede49fdc3\",35:\"b8aedd9580c82b654818\",36:\"719151635f84ad4f3d1a\",37:\"05169bb54299ab3ed446\",38:\"d0e270cf87a3d8d23c39\",39:\"176d9f0688e3977d0720\",40:\"f9db1daaf5f52eb8ea20\",41:\"db8c0f3e8d0191b63bde\",42:\"587fa775bd4d80b3fcad\",43:\"7d1b618a13b168f39061\",44:\"6f8616162a956a01d29a\",45:\"43885405840f8a15b9f3\",46:\"982875db8605ce73126b\",47:\"0f67f0f9a2648922e23b\",48:\"1f78d5f1e53a5bfccfdc\",49:\"49c6a90429ae47c93f12\",50:\"fb051afd23c3a9555c4e\",51:\"e169249c1dbd3d93f496\",52:\"42158cb15f746b5275e7\",53:\"7327d028fd39dda3b1ef\",54:\"333f4325f11d14cc2416\",55:\"ea607402a72ea48af3db\",56:\"b6fe4c5c04bf78d40092\",57:\"c4968b1ebe10a3c844aa\",58:\"6a7c4ae2f77e5e8ef4d4\",59:\"e8f53685884b3615c752\",60:\"12192cd74746693c33d1\",61:\"9bb9a3c7dee82a824793\",62:\"beafbe078b04d8c91a74\",63:\"3b64b41fb887b26e87d9\",64:\"60993ed17bd80c9d1f0d\",65:\"f4505f98cc650d7bdd1a\",66:\"7056e116c0a09ad6a16a\",67:\"2b41ea759717ab03c014\",68:\"42fa59d4ebe0d1246621\",69:\"28bfa03ba196effa6622\",70:\"0d52762c253a8eb70fc7\",71:\"95135f0052fe32b1fad4\",72:\"64978efdc5e0457351f5\",73:\"e6baf483431fab9d40b3\",74:\"ee3688db87d27a26bcce\",75:\"61286cc78ffee0dcdb6e\",76:\"6aca752f7cd5102228c9\",77:\"3b36a7b3221cb06c7944\",78:\"ac06be6a4710d119c354\",79:\"239660d5b1266e6dd66f\",80:\"c9903d8f4df8f6e9cff2\",81:\"55a0717a22649bdb4a34\",82:\"74ad754dfe1a479aa0e4\",83:\"40a44ca4f990252bb248\",84:\"13ea4ee4e3a55788a36a\",85:\"5f80a09e98ed012e83d1\"}[a]+\".chunk.js\",c.appendChild(b)}},e.m=a,e.c=c,e.p=\"/templates/javascript/dist/bundles/\"}(function(a){for(var e in a)if(Object.prototype.hasOwnProperty.call(a,e))switch(typeof a[e]){case\"function\":break;case\"object\":a[e]=function(e){var d=e.slice(1),c=a[e[0]];return function(a,e,f){c.apply(this,[a,e,f].concat(d))}}(a[e]);break;default:a[e]=a[a[e]]}return a}([]));\n",
       "</script>\n",
       "<script src=\"https://s.npr.org/templates/javascript/dist/bundles/globalNavigationDropdowns-aea4226da3ca9bfb67aa.js\" type=\"text/javascript\">\n",
       "</script>\n",
       "<link data-persist=\"true\" href=\"https://s.npr.org/templates/javascript/dist/bundles/persistent-css-2497a8623936494b5950.css\" media=\"screen, print\" rel=\"stylesheet\"/><link href=\"https://s.npr.org/templates/javascript/dist/bundles/newsStory-css-2497a8623936494b5950.css\" media=\"screen, print\" rel=\"stylesheet\"/><link href=\"https://s.npr.org/branding/sections/elections/branding.css\" media=\"screen\" rel=\"stylesheet\"/><link href=\"https://s.npr.org/include/overridecss/theme139482413.css\" media=\"screen\" rel=\"stylesheet\"/><script type=\"text/javascript\">\n",
       "   document.domain=\"npr.org\";\n",
       "</script>\n",
       "</head><body class=\"news tmplNewsStory story-layout is-buildout no-transcript has-no-branding id664395755\" data-pjax-modules=\"util/env images/lazy-load chartbeat comscore metrics nielsen nielsenDCR rocketfuel copyright auto-refresh navigation/global-navigation fitvids dfp globalfooter persistent-audio player/more-options what-input metrics/doubleclickFloodlight metrics/facebookTracking story/replace-centerstage ecommerce recommendations/end-of-story-recommendations-callout jw social/share slideshow images/enlargement swfbuilder contentfooter story/sticky-header story/date-tooltip callout/end-of-story-callout social/sharepop podcast-cards search/faceting-param local/newsletter/callout social/recaptcha\" id=\"news\"><div class=\"skip-links\">\n",
       "<span>Accessibility links</span> <ul>\n",
       "<li><a class=\"skiplink\" href=\"#mainContent\">Skip to main content</a></li>\n",
       "<li><a class=\"skiplink\" href=\"https://help.npr.org/customer/en/portal/articles/2535181-what-are-the-keyboard-shortcuts-for-using-the-npr-org-audio-player-\">Keyboard shortcuts for audio player</a></li>\n",
       "</ul>\n",
       "</div>\n",
       "<header aria-label=\"NPR header\" class=\"npr-header\" id=\"globalheader\"><nav aria-label=\"main navigation\" class=\"navigation\">\n",
       "<div class=\"navigation__top-level-wrap\" data-metrics-all=\"\" data-metrics-category=\"global navigation\">\n",
       "<ul class=\"navigation__top-level\">\n",
       "<li class=\"navigation__home\">\n",
       "<a data-metrics-action=\"click npr logo\" href=\"/\">\n",
       "<img alt=\"NPR logo\" src=\"https://media.npr.org/chrome_svg/npr-logo.svg\"/>\n",
       "</a>\n",
       "</li>\n",
       "<li id=\"navigation__station-mount\"></li>\n",
       "<li class=\"navigation__account\" id=\"user-account-dropdown-mount\"></li>\n",
       "<li class=\"navigation__shop\">\n",
       "<a data-metrics-action=\"click npr shop\" href=\"https://shop.npr.org\">NPR Shop</a>\n",
       "</li>\n",
       "<li id=\"navigation__station-donate-mount\"></li>\n",
       "<li class=\"navigation__toggle-wrap\">\n",
       "<button aria-expanded=\"false\" aria-haspopup=\"true\" class=\"navigation__toggle navigation__toggle--open\" data-metrics-action=\"open navigation menu\" id=\"navigation__toggle--open\">\n",
       "                    Open Navigation Menu\n",
       "                </button>\n",
       "</li>\n",
       "</ul>\n",
       "</div>\n",
       "<section class=\"menu menu--main\" data-metrics-all=\"\" data-metrics-category=\"global navigation\" id=\"main-menu\">\n",
       "<div class=\"menu__inner\">\n",
       "<header class=\"menu__header\">\n",
       "<button aria-expanded=\"true\" aria-haspopup=\"true\" class=\"navigation__toggle navigation__toggle--close\" data-metrics-action=\"close navigation menu\" id=\"navigation__toggle--close\">\n",
       "                    Close <span>Navigation Menu</span>\n",
       "</button>\n",
       "</header>\n",
       "<ul class=\"menu__list\">\n",
       "<li class=\"menu__item menu__item--home\">\n",
       "<div class=\"menu__item-inner\"><a data-metrics-action=\"click npr logo\" href=\"/\">Home</a></div>\n",
       "</li>\n",
       "<li class=\"menu__item menu__item--news menu__item--has-submenu\" data-metrics-hover=\"toggle news drawer\">\n",
       "<div class=\"menu__item-inner\">\n",
       "<a data-metrics-action=\"click news\" href=\"/sections/news/\">News</a>\n",
       "<button class=\"menu__toggle-submenu\" data-metrics-action=\"toggle news drawer\">Expand/collapse submenu for News</button>\n",
       "</div>\n",
       "<ul class=\"submenu submenu--news\">\n",
       "<li class=\"submenu__item\"><a data-metrics-action=\"click national\" href=\"/sections/national/\">National</a></li>\n",
       "<li class=\"submenu__item\"><a data-metrics-action=\"click world\" href=\"/sections/world/\">World</a></li>\n",
       "<li class=\"submenu__item\"><a data-metrics-action=\"click politics\" href=\"/sections/politics/\">Politics</a></li>\n",
       "<li class=\"submenu__item\"><a data-metrics-action=\"click business\" href=\"/sections/business/\">Business</a></li>\n",
       "<li class=\"submenu__item\"><a data-metrics-action=\"click health\" href=\"/sections/health/\">Health</a></li>\n",
       "<li class=\"submenu__item\"><a data-metrics-action=\"click science\" href=\"/sections/science/\">Science</a></li>\n",
       "<li class=\"submenu__item\"><a data-metrics-action=\"click technology\" href=\"/sections/technology/\">Technology</a></li>\n",
       "<li class=\"submenu__item\"><a data-metrics-action=\"click race &amp; culture\" href=\"/sections/codeswitch/\">Race &amp; Culture</a></li>\n",
       "</ul>\n",
       "</li>\n",
       "<li class=\"menu__item menu__item--arts-life menu__item--has-submenu\" data-metrics-hover=\"toggle arts drawer\">\n",
       "<div class=\"menu__item-inner\">\n",
       "<a data-metrics-action=\"click arts &amp; life\" href=\"/sections/arts/\">Arts &amp; Life</a>\n",
       "<button class=\"menu__toggle-submenu\" data-metrics-action=\"toggle arts drawer\">Expand/collapse submenu for Arts &amp; Life</button>\n",
       "</div>\n",
       "<ul class=\"submenu submenu--arts-life\">\n",
       "<li class=\"submenu__item\"><a data-metrics-action=\"click books\" href=\"/books/\">Books</a></li>\n",
       "<li class=\"submenu__item\"><a data-metrics-action=\"click movies\" href=\"/sections/movies/\">Movies</a></li>\n",
       "<li class=\"submenu__item\"><a data-metrics-action=\"click television\" href=\"/sections/television/\">Television</a></li>\n",
       "<li class=\"submenu__item\"><a data-metrics-action=\"click pop culture\" href=\"/sections/pop-culture/\">Pop Culture</a></li>\n",
       "<li class=\"submenu__item\"><a data-metrics-action=\"click food\" href=\"/sections/food/\">Food</a></li>\n",
       "<li class=\"submenu__item\"><a data-metrics-action=\"click art &amp; design\" href=\"/sections/art-design/\">Art &amp; Design</a> </li>\n",
       "<li class=\"submenu__item\"><a data-metrics-action=\"click performing arts\" href=\"/sections/performing-arts/\">Performing Arts</a></li>\n",
       "</ul>\n",
       "</li>\n",
       "<li class=\"menu__item menu__item--music menu__item--has-submenu\" data-metrics-hover=\"toggle music drawer\">\n",
       "<div class=\"menu__item-inner\">\n",
       "<a data-metrics-action=\"click music\" href=\"/music/\">Music</a>\n",
       "<button class=\"menu__toggle-submenu\" data-metrics-action=\"toggle music drawer\">Expand/collapse submenu for Music</button>\n",
       "</div>\n",
       "<ul class=\"submenu submenu--music\"><li class=\"submenu__item\">\n",
       "<a data-metrics-action=\"click tiny desk\" href=\"https://www.npr.org/series/tiny-desk-concerts/\">\n",
       "        Tiny Desk\n",
       "    </a>\n",
       "</li><li class=\"submenu__item\">\n",
       "<a data-metrics-action=\"click all songs considered\" href=\"https://www.npr.org/sections/allsongs/\">\n",
       "        All Songs Considered\n",
       "    </a>\n",
       "</li><li class=\"submenu__item\">\n",
       "<a data-metrics-action=\"click turning the tables\" href=\"https://www.npr.org/series/538009815/turning-the-tables\">\n",
       "        Turning The Tables\n",
       "    </a>\n",
       "</li><li class=\"submenu__item\">\n",
       "<a data-metrics-action=\"click music news\" href=\"https://www.npr.org/sections/music-news/\">\n",
       "        Music News\n",
       "    </a>\n",
       "</li><li class=\"submenu__item\">\n",
       "<a data-metrics-action=\"click new music\" href=\"https://www.npr.org/sections/new-music/\">\n",
       "        New Music\n",
       "    </a>\n",
       "</li><li class=\"submenu__item\">\n",
       "<a data-metrics-action=\"click best music of 2019\" href=\"https://www.npr.org/series/689345495/best-music-of-2019\">\n",
       "        Best Music Of 2019\n",
       "    </a>\n",
       "</li></ul>\n",
       "</li>\n",
       "<li class=\"menu__item menu__item--shows-podcasts menu__item--has-submenu\" data-metrics-hover=\"toggle programs &amp; podcasts drawer\">\n",
       "<div class=\"menu__item-inner\">\n",
       "<a data-metrics-action=\"click shows &amp; podcasts\" href=\"/programs/\">Shows &amp; Podcasts</a>\n",
       "<button class=\"menu__toggle-submenu\" data-metrics-action=\"toggle programs &amp; podcasts drawer\">Expand/collapse submenu for Shows &amp; Podcasts</button>\n",
       "</div>\n",
       "<div class=\"submenu submenu--shows-podcasts\">\n",
       "<span class=\"submenu__category submenu__category--daily\">Daily</span>\n",
       "<ul class=\"submenu__list submenu__list--daily\">\n",
       "<li class=\"submenu__item submenu__item--timed submenu__item--weekday hidden\">\n",
       "<a data-metrics-action=\"click morning edition\" href=\"/programs/morning-edition/\">\n",
       "<img alt=\"\" src=\"https://media.npr.org/chrome/programs/logos/morning-edition.jpg\"/>\n",
       "                                    Morning Edition\n",
       "                                </a>\n",
       "</li>\n",
       "<li class=\"submenu__item submenu__item--timed submenu__item--saturday hidden\">\n",
       "<a data-metrics-action=\"click weekend edition saturday\" href=\"/programs/weekend-edition-saturday/\">\n",
       "<img alt=\"\" src=\"https://media.npr.org/assets/img/2019/02/26/we_otherentitiestemplatesat_sq-cbde87a2fa31b01047441e6f34d2769b0287bcd4-s100-c85.png\"/>\n",
       "                                    Weekend Edition Saturday\n",
       "                                </a>\n",
       "</li>\n",
       "<li class=\"submenu__item submenu__item--timed submenu__item--sunday hidden\">\n",
       "<a data-metrics-action=\"click weekend edition sunday\" href=\"/programs/weekend-edition-sunday/\">\n",
       "<img alt=\"\" src=\"https://media.npr.org/assets/img/2019/02/26/we_otherentitiestemplatesun_sq-4a03b35e7e5adfa446aec374523a578d54dc9bf5-s100-c85.png\"/>\n",
       "                                    Weekend Edition Sunday\n",
       "                                </a>\n",
       "</li>\n",
       "<li class=\"submenu__item\">\n",
       "<a data-metrics-action=\"click all things considered\" href=\"/programs/all-things-considered/\">\n",
       "<img alt=\"\" src=\"https://media.npr.org/chrome/programs/logos/all-things-considered.png\"/>\n",
       "                                    All Things Considered\n",
       "                                </a>\n",
       "</li>\n",
       "<li class=\"submenu__item\">\n",
       "<a data-metrics-action=\"click fresh air\" href=\"/programs/fresh-air/\">\n",
       "<img alt=\"\" src=\"https://media.npr.org/chrome/programs/logos/fresh-air.png\"/>\n",
       "                                    Fresh Air\n",
       "                                </a>\n",
       "</li>\n",
       "<li class=\"submenu__item\">\n",
       "<a data-metrics-action=\"click up first\" href=\"/podcasts/510318/up-first\">\n",
       "<img alt=\"\" src=\"https://media.npr.org/chrome/programs/logos/up-first.jpg\"/>\n",
       "                                    Up First\n",
       "                                </a>\n",
       "</li>\n",
       "</ul>\n",
       "<span class=\"submenu__category submenu__category--featured\">Featured</span>\n",
       "<ul class=\"submenu__list submenu__list--featured\"><li class=\"submenu__item\">\n",
       "<a data-metrics-action=\"click how i built this with guy raz\" href=\"https://www.npr.org/podcasts/510313/how-i-built-this\">\n",
       "<img alt=\"\" src=\"https://media.npr.org/assets/img/2018/08/03/npr_hibt_podcasttile_sq-98320b282169a8cea04a406530e6e7b957665b3f.jpg?s=100\"/>\n",
       "        How I Built This with Guy Raz\n",
       "    </a>\n",
       "</li><li class=\"submenu__item\">\n",
       "<a data-metrics-action=\"click wait wait...don't tell me!\" href=\"https://www.npr.org/podcasts/344098539/wait-wait-don-t-tell-me\">\n",
       "<img alt=\"\" src=\"https://media.npr.org/assets/img/2019/05/23/screen-shot-2019-05-23-at-8.46.21-am_sq-7dcea391e7a87ca3569fe3d2047dda0144e5d86f.png?s=100\"/>\n",
       "        Wait Wait...Don't Tell Me!\n",
       "    </a>\n",
       "</li><li class=\"submenu__item\">\n",
       "<a data-metrics-action=\"click planet money\" href=\"https://www.npr.org/podcasts/510289/planet-money\">\n",
       "<img alt=\"\" src=\"https://media.npr.org/assets/img/2018/08/02/npr_planetmoney_podcasttile_sq-7b7fab0b52fd72826936c3dbe51cff94889797a0.jpg?s=100\"/>\n",
       "        Planet Money\n",
       "    </a>\n",
       "</li><li class=\"submenu__item\">\n",
       "<a data-metrics-action=\"click hidden brain\" href=\"https://www.npr.org/podcasts/510308/hidden-brain\">\n",
       "<img alt=\"\" src=\"https://media.npr.org/assets/img/2018/08/03/npr_hiddenbrain_podcasttile_sq-270ab642de6948802f485c6ad1f087239ef6e324.jpg?s=100\"/>\n",
       "        Hidden Brain\n",
       "    </a>\n",
       "</li></ul>\n",
       "<ul class=\"submenu__list submenu__list--directories\">\n",
       "<li class=\"submenu__item\"><a data-metrics-action=\"click all programs\" href=\"/programs/\">More Shows &amp; Podcasts</a></li>\n",
       "</ul>\n",
       "</div>\n",
       "</li>\n",
       "<li class=\"menu__item menu__item--search\">\n",
       "<div class=\"menu__item-inner\">\n",
       "<a data-metrics-action=\"click search\" href=\"/search\" id=\"navigation_dropdown-search\">Search</a>\n",
       "</div>\n",
       "</li>\n",
       "<li class=\"menu__item menu__item--account\" id=\"user-account-dropdown-mount-two\"></li>\n",
       "<li class=\"menu__item menu__item--shop\">\n",
       "<div class=\"menu__item-inner\">\n",
       "<a data-metrics-action=\"click npr shop\" href=\"https://shop.npr.org\">NPR Shop</a>\n",
       "</div>\n",
       "</li>\n",
       "</ul>\n",
       "</div>\n",
       "</section>\n",
       "<section class=\"menu menu--music\" data-metrics-all=\"\" data-metrics-category=\"music ecosystem navigation\">\n",
       "<div class=\"menu__list-wrap\">\n",
       "<ul class=\"menu__list menu__list--ecosystem menu__list--music\">\n",
       "<li class=\"menu__item menu__item--music-home\">\n",
       "<a data-metrics-action=\"click npr music logo\" href=\"/music/\">\n",
       "<img alt=\"NPR Music\" class=\"music-logo\" src=\"https://media.npr.org/chrome_svg/music-logo-dark.svg\"/>\n",
       "<img alt=\"NPR Music\" class=\"music-logo-alt\" src=\"https://media.npr.org/chrome_svg/music-logo-light.svg\"/>\n",
       "</a>\n",
       "</li>\n",
       "<li class=\"menu__item\">\n",
       "<a data-metrics-action=\"click tiny desk\" href=\"https://www.npr.org/series/tiny-desk-concerts/\">\n",
       "        Tiny Desk\n",
       "    </a>\n",
       "</li><li class=\"menu__item\">\n",
       "<a data-metrics-action=\"click all songs considered\" href=\"https://www.npr.org/sections/allsongs/\">\n",
       "        All Songs Considered\n",
       "    </a>\n",
       "</li><li class=\"menu__item\">\n",
       "<a data-metrics-action=\"click turning the tables\" href=\"https://www.npr.org/series/538009815/turning-the-tables\">\n",
       "        Turning The Tables\n",
       "    </a>\n",
       "</li><li class=\"menu__item\">\n",
       "<a data-metrics-action=\"click music news\" href=\"https://www.npr.org/sections/music-news/\">\n",
       "        Music News\n",
       "    </a>\n",
       "</li><li class=\"menu__item\">\n",
       "<a data-metrics-action=\"click new music\" href=\"https://www.npr.org/sections/new-music/\">\n",
       "        New Music\n",
       "    </a>\n",
       "</li><li class=\"menu__item\">\n",
       "<a data-metrics-action=\"click best music of 2019\" href=\"https://www.npr.org/series/689345495/best-music-of-2019\">\n",
       "        Best Music Of 2019\n",
       "    </a>\n",
       "</li>\n",
       "</ul>\n",
       "</div>\n",
       "</section>\n",
       "<section class=\"menu menu--about\" data-metrics-all=\"\" data-metrics-category=\"about ecosystem navigation\">\n",
       "<div class=\"menu__list-wrap\">\n",
       "<ul class=\"menu__list menu__list--ecosystem menu__list--about\">\n",
       "<li class=\"menu__item menu__item--about-home\"><a data-metrics-action=\"click about npr\" href=\"/about/\">About NPR</a></li>\n",
       "<li class=\"menu__item menu__item--about-overview\"><a data-metrics-action=\"click overview\" href=\"/overview/\">Overview</a></li>\n",
       "<li class=\"menu__item menu__item--about-support\"><a data-metrics-action=\"click support\" href=\"/support/\">Support</a></li>\n",
       "<li class=\"menu__item menu__item--about-careers\"><a data-metrics-action=\"click careers\" href=\"/careers/\">Careers</a></li>\n",
       "<li class=\"menu__item menu__item--about-connect\"><a data-metrics-action=\"click connect\" href=\"/connect/\">Connect</a></li>\n",
       "<li class=\"menu__item menu__item--about-press\"><a data-metrics-action=\"click press\" href=\"/press/\">Press</a></li>\n",
       "<li class=\"menu__item menu__item--about-ethics\"><a data-metrics-action=\"click ethics\" href=\"/ethics/\">Ethics</a></li>\n",
       "</ul>\n",
       "</div>\n",
       "</section>\n",
       "</nav></header><main aria-label=\"main content\"><div class=\"speakable\">\n",
       "<b data-is-speakable=\"\">What If The Polls Are Wrong Again? 4 Scenarios For What Might Happen In The Elections</b> <b data-is-speakable=\"\">The polls show a Democratic advantage in the House and a Republican one in the Senate. But be ready for anything because surprises in politics always happen.</b>\n",
       "</div>\n",
       "<div id=\"wrapper\">\n",
       "<header class=\"contentheader contentheader--one\" data-metrics='{\"category\":\"Elections\"}'></header> <div class=\"story-sticky-header\">\n",
       "<div class=\"story-sticky-header-inner\">\n",
       "<a class=\"nprhome nprhome-news\" data-metrics='{\"category\":\"global navigation\",\"action\":\"click npr logo\",\"label\":\"\\/\"}' href=\"/\">\n",
       "<img alt=\"NPR logo\" src=\"https://media.npr.org/chrome_svg/npr-logo.svg\"/>\n",
       "</a>\n",
       "<a class=\"title\" href=\"#\">\n",
       "<b>What If The Polls Are Wrong Again? 4 Scenarios For What Might Happen In The Elections</b>\n",
       "</a>\n",
       "</div>\n",
       "</div> <section id=\"main-section\"><article class=\"story\"><a id=\"mainContent\"></a><div class=\"slug-wrap\">\n",
       "<h3 class=\"slug\">\n",
       "<a href=\"https://www.npr.org/sections/elections/\">Elections</a>\n",
       "</h3>\n",
       "</div>\n",
       "<div class=\"storytitle\">\n",
       "<h1>What If The Polls Are Wrong Again? 4 Scenarios For What Might Happen In The Elections</h1>\n",
       "<input id=\"title664395755\" type=\"hidden\" value=\"What If The Polls Are Wrong Again? 4 Scenarios For What Might Happen In The Elections\"/>\n",
       "<input id=\"shortTitle664395755\" type=\"hidden\" value=\"What If The Polls Are Wrong Again? 4 Scenarios For What Might Happen In The Elections\"/>\n",
       "<input id=\"modelShortUrl664395755\" type=\"hidden\" value=\"https://n.pr/2Pff0wF\"/>\n",
       "<input id=\"modelFullUrl664395755\" type=\"hidden\" value=\"https://www.npr.org/2018/11/05/664395755/what-if-the-polls-are-wrong-again-4-scenarios-for-what-might-happen-in-the-elect\"/>\n",
       "</div>\n",
       "<!-- END CLASS=\"STORYTITLE\" -->\n",
       "<div class=\"story-tools\">\n",
       "<div aria-label=\"Share tools\" class=\"share-tools share-tools--primary\">\n",
       "<ul>\n",
       "<li class=\"share-tools__service share-tools__service--facebook\"><button class=\"fbStory664395755\" data-metrics='{\"action\":\"Click Facebook\",\"category\":\"Share Tools\",\"label\":\"https:\\/\\/www.npr.org\\/2018\\/11\\/05\\/664395755\\/what-if-the-polls-are-wrong-again-4-scenarios-for-what-might-happen-in-the-elect\"}' data-share-facebook='{\"storyId\": 664395755 }'><b class=\"share-tools__service-name\">Facebook</b></button></li>\n",
       "<li class=\"share-tools__service share-tools__service--twitter\"><button class=\"story664395755\" data-metrics='{\"action\":\"Click Twitter\",\"category\":\"Share Tools\",\"label\":\"https:\\/\\/www.npr.org\\/2018\\/11\\/05\\/664395755\\/what-if-the-polls-are-wrong-again-4-scenarios-for-what-might-happen-in-the-elect\"}' data-share-twitter='{\"storyId\": 664395755 }'><b class=\"share-tools__service-name\">Twitter</b></button></li>\n",
       "<li class=\"share-tools__service share-tools__service--flipboard\"><button class=\"story664395755\" data-metrics='{\"action\":\"Click Flipboard\",\"category\":\"Share Tools\",\"label\":\"https:\\/\\/www.npr.org\\/2018\\/11\\/05\\/664395755\\/what-if-the-polls-are-wrong-again-4-scenarios-for-what-might-happen-in-the-elect\"}' data-share-flipboard='{\"storyId\": 664395755 }'><b class=\"share-tools__service-name\">Flipboard</b></button></li>\n",
       "<li class=\"share-tools__service share-tools__service--email\"><button class=\"share-tools__email-link\" data-metrics='{\"action\":\"Click Email a Friend\",\"category\":\"Share Tools\",\"label\":\"https:\\/\\/www.npr.org\\/2018\\/11\\/05\\/664395755\\/what-if-the-polls-are-wrong-again-4-scenarios-for-what-might-happen-in-the-elect\"}' data-story-id=\"664395755\"><b class=\"share-tools__service-name\">Email</b></button></li>\n",
       "</ul>\n",
       "</div>\n",
       "<!-- END CLASS=\"SHARE-TOOLS SHARE-TOOLS--PRIMARY\" ARIA-LABEL=\"SHARE TOOLS\" -->\n",
       "</div>\n",
       "<!-- END CLASS=\"STORY-TOOLS\" -->\n",
       "<div class=\"story-meta has-byline\" id=\"story-meta\">\n",
       "<div class=\"story-meta__one\">\n",
       "<div class=\"dateblock\">\n",
       "<time datetime=\"2018-11-05T16:49:00-05:00\">\n",
       "<span class=\"date\">November 5, 2018</span><span class=\"time\">4:49 PM ET</span>\n",
       "</time>\n",
       "</div>\n",
       "</div>\n",
       "<!-- END CLASS=\"STORY-META__ONE\" -->\n",
       "<div class=\"story-meta__two\">\n",
       "<div class=\"storybyline-wrap linkLocation\" id=\"storybyline\">\n",
       "<div class=\"bucketwrap byline\" id=\"res664395888\" previewtitle=\"bylines\">\n",
       "<div class=\"byline-container--block\">\n",
       "<div aria-label=\"Byline\" class=\"byline byline--block byline--has-link\">\n",
       "<div class=\"byline__photo\">\n",
       "<a data-metrics='{\"action\":\"Click Byline\",\"category\":\"Story Metadata\"}' href=\"https://www.npr.org/people/392602474/domenico-montanaro\" rel=\"author\">\n",
       "<img alt=\"Domenico Montanaro - 2015\" class=\"img\" src=\"https://media.npr.org/assets/img/2015/03/24/domenico_montanaro_npr_007_sq-91c49487814945192035ed885c8239a7fcbed9bd-s100-c85.jpg\"/>\n",
       "</a>\n",
       "</div>\n",
       "<p class=\"byline__name byline__name--block\">\n",
       "<a data-metrics='{\"action\":\"Click Byline\",\"category\":\"Story Metadata\"}' href=\"https://www.npr.org/people/392602474/domenico-montanaro\" rel=\"author\">\n",
       "      Domenico Montanaro\n",
       "    </a>\n",
       "</p>\n",
       "<a class=\"byline__social-handle byline__social-handle--5\" data-metrics='{\"action\":\"Click Social Handle\",\"category\":\"Story Metadata\"}' href=\"https://www.twitter.com/DomenicoNPR\">\n",
       "      Twitter\n",
       "    </a>\n",
       "</div>\n",
       "</div>\n",
       "</div>\n",
       "<!-- END CLASS=\"BUCKETWRAP BYLINE\" ID=\"RES664395888\" PREVIEWTITLE=\"BYLINES\" -->\n",
       "</div>\n",
       "</div>\n",
       "<!-- END CLASS=\"STORY-META__TWO\" -->\n",
       "</div>\n",
       "<!-- END ID=\"STORY-META\" CLASS=\"STORY-META HAS-BYLINE\" -->\n",
       "<div class=\"storytext storylocation linkLocation\" id=\"storytext\">\n",
       "<div class=\"bucketwrap image large\" id=\"res664470819\">\n",
       "<div class=\"imagewrap\" data-crop-type=\"\">\n",
       "<img alt=\"\" class=\"img lazyOnLoad\" data-original=\"https://media.npr.org/assets/img/2018/11/05/gettyimages-1057663456vote_wide-9fc473c80fc1f9d825f563fd94d01c766f5ff669-s1100.jpg\" src=\"https://media.npr.org/assets/img/2018/11/05/gettyimages-1057663456vote_wide-9fc473c80fc1f9d825f563fd94d01c766f5ff669-s1100-c15.jpg\"/>\n",
       "<div class=\"enlarge-options\">\n",
       "<a class=\"enlargelink\" href=\"https://media.npr.org/assets/img/2018/11/05/gettyimages-1057663456vote_wide-9fc473c80fc1f9d825f563fd94d01c766f5ff669-s1200.jpg\">Enlarge this image</a>\n",
       "</div>\n",
       "</div>\n",
       "<div class=\"credit-caption\">\n",
       "<div class=\"caption-wrap\">\n",
       "<div aria-label=\"Image caption\" class=\"caption\">\n",
       "<p>\n",
       "                Supporters of Missouri Democratic Sen. Claire McCaskill wait for her to arrive at a campaign stop in St. Louis on Monday.\n",
       "                \n",
       "                <b aria-label=\"Image credit\" class=\"credit\">\n",
       "                    \n",
       "                    Scott Olson/Getty Images\n",
       "                    \n",
       "                </b>\n",
       "<b class=\"hide-caption\"><b>hide caption</b></b>\n",
       "</p>\n",
       "</div>\n",
       "<b class=\"toggle-caption\"><b>toggle caption</b></b>\n",
       "</div>\n",
       "<span aria-label=\"Image credit\" class=\"credit\">\n",
       "        \n",
       "        Scott Olson/Getty Images\n",
       "        \n",
       "    </span>\n",
       "</div>\n",
       "<div class=\"enlarge_measure\">\n",
       "<div class=\"img_wrap\">\n",
       "<img alt=\"\" data-original=\"https://media.npr.org/assets/img/2018/11/05/gettyimages-1057663456vote_wide-9fc473c80fc1f9d825f563fd94d01c766f5ff669-s1200.jpg\"/>\n",
       "</div>\n",
       "</div>\n",
       "<div class=\"enlarge_html\">\n",
       "<div class=\"image_data\">\n",
       "<p class=\"caption\">Supporters of Missouri Democratic Sen. Claire McCaskill wait for her to arrive at a campaign stop in St. Louis on Monday.</p>\n",
       "<span aria-label=\"Image credit\" class=\"credit\">\n",
       "            \n",
       "            Scott Olson/Getty Images\n",
       "            \n",
       "        </span>\n",
       "</div>\n",
       "</div>\n",
       "</div>\n",
       "<p>There's a lot that can happen Tuesday, the culmination of a long midterm election campaign that will provide the first nationwide measure of the U.S. electorate since Donald Trump was elected president.</p> <p>One narrative has become dominant: that Democrats are likely to gain control of the House and Republicans hold the Senate, if not expand their majority there. That narrative is based largely on national polls, and caution should be urged. Pollsters have made a lot of adjustments to hopefully correct what they got wrong in 2016, but they can't tell you precisely who is going to show up to vote.</p> <div class=\"bucketwrap internallink insettwocolumn inset2col\" id=\"res664445643\">\n",
       "<div class=\"bucket img\">\n",
       "<a data-metrics='{\"category\":\"Story to Story\",\"action\":\"Click Internal Link\",\"label\":\"https:\\/\\/www.npr.org\\/2018\\/11\\/04\\/663968176\\/key-questions-the-2018-election-will-answer\"}' href=\"https://www.npr.org/2018/11/04/663968176/key-questions-the-2018-election-will-answer\" id=\"featuredStackSquareImage663968176\"><img alt=\"Key Questions The 2018 Election Will Answer\" class=\"img lazyOnLoad\" data-original=\"https://media.npr.org/assets/img/2018/11/03/ap_18306730245179_sq-5e7137b77f967ca66c441eaa938895edd248264e-s100.jpg\" src=\"https://media.npr.org/assets/img/2018/11/03/ap_18306730245179_sq-5e7137b77f967ca66c441eaa938895edd248264e-s100-c15.jpg\"/></a> <div class=\"bucketblock\">\n",
       "<h3 class=\"slug\"><a href=\"https://www.npr.org/sections/analysis/\">Analysis </a></h3>\n",
       "<h3><a data-metrics='{\"category\":\"Story to Story\",\"action\":\"Click Internal Link\",\"label\":\"https:\\/\\/www.npr.org\\/2018\\/11\\/04\\/663968176\\/key-questions-the-2018-election-will-answer\"}' href=\"https://www.npr.org/2018/11/04/663968176/key-questions-the-2018-election-will-answer\">Key Questions The 2018 Election Will Answer</a></h3>\n",
       "</div>\n",
       "<!-- END CLASS=\"BUCKETBLOCK\" -->\n",
       "</div>\n",
       "<!-- END CLASS=\"BUCKET IMG\" -->\n",
       "</div>\n",
       "<!-- END ID=\"RES664445643\" CLASS=\"BUCKETWRAP INTERNALLINK INSETTWOCOLUMN INSET2COL \" -->\n",
       "<p>What's more, there have been far fewer statewide and district-specific surveys than in past midterm elections. And, as it is, there are data both parties can take solace in that buoy their respective cases. So everyone should be prepared for surprises — because there always are some. That's the beauty of campaigns and voting.</p> <p>Here are four scenarios for how election night might play out and what each could mean.</p> <h3 class=\"edTag\">1. Democrats win the House, and Republicans hold the Senate<strong> </strong></h3> <p>This is the most likely outcome, based not just on the polls but also on conversations with strategists in both parties. But they urge caution, because the races in the many districts across the country that are up for grabs are still very close.</p> <aside aria-label=\"advertisement\" id=\"ad-backstage-wrap\">\n",
       "<div class=\"ad-backstage\" data-ad-config='{\"network\":\"\\/6735\\/\",\"site\":{\"default\":\"n6735.NPR\",\"mobile\":\"n6735.NPRMOBILE\"},\"zone\":\"News_Politics_Elections\",\"targets\":{\"testserver\":\"false\",\"storyId\":\"664395755\",\"agg\":[\"312150170\",\"191676894\",\"434975886\"]},\"location\":\"backstage\",\"deferred\":false,\"isBetweenContent\":true,\"isAggSponsorship\":false,\"borderClass\":\"\"}' id=\"ad-backstage-News_Politics_Elections\"></div>\n",
       "</aside> <div class=\"bucketwrap internallink insettwocolumn inset2col\" id=\"res664447135\">\n",
       "<div class=\"bucket img\">\n",
       "<a data-metrics='{\"category\":\"Story to Story\",\"action\":\"Click Internal Link\",\"label\":\"https:\\/\\/www.npr.org\\/2018\\/11\\/01\\/662794792\\/heres-why-democrats-are-confident-they-ll-win-the-house\"}' href=\"https://www.npr.org/2018/11/01/662794792/heres-why-democrats-are-confident-they-ll-win-the-house\" id=\"featuredStackSquareImage662794792\"><img alt=\"Here's Why Democrats Are Confident They'll Win The House \" class=\"img lazyOnLoad\" data-original=\"https://media.npr.org/assets/img/2018/10/31/gettyimages-974323074_sq-86948ba36a45648f6813632f4ae09a61f6278565-s100.jpg\" src=\"https://media.npr.org/assets/img/2018/10/31/gettyimages-974323074_sq-86948ba36a45648f6813632f4ae09a61f6278565-s100-c15.jpg\"/></a> <div class=\"bucketblock\">\n",
       "<h3 class=\"slug\"><a href=\"https://www.npr.org/sections/politics/\">Politics </a></h3>\n",
       "<h3><a data-metrics='{\"category\":\"Story to Story\",\"action\":\"Click Internal Link\",\"label\":\"https:\\/\\/www.npr.org\\/2018\\/11\\/01\\/662794792\\/heres-why-democrats-are-confident-they-ll-win-the-house\"}' href=\"https://www.npr.org/2018/11/01/662794792/heres-why-democrats-are-confident-they-ll-win-the-house\">Here's Why Democrats Are Confident They'll Win The House </a></h3>\n",
       "</div>\n",
       "<!-- END CLASS=\"BUCKETBLOCK\" -->\n",
       "</div>\n",
       "<!-- END CLASS=\"BUCKET IMG\" -->\n",
       "</div>\n",
       "<!-- END ID=\"RES664447135\" CLASS=\"BUCKETWRAP INTERNALLINK INSETTWOCOLUMN INSET2COL \" -->\n",
       "<p><strong>How it would happen: </strong>Forget the polls; <a href=\"https://www.npr.org/2018/11/01/662794792/heres-why-democrats-are-confident-they-ll-win-the-house\">Democrats are favored to take back the House</a> for more reasons than that. There have been a record number of retirements, reducing the built-in advantage incumbents tend to have; record numbers of candidates, <a href=\"https://www.npr.org/2018/11/03/663466805/democratic-women-house-candidates-set-for-a-much-easier-election-day-than-gop-wo\">especially Democratic women</a>, have run for public office; Democrats won the off-year elections in Virginia and New Jersey; they won or fared better than expected in special elections across the country; there was high primary turnout for Democrats in many states; and there is very high early voting turnout.</p> <div class=\"bucketwrap internallink insettwocolumn inset2col\" id=\"res664447640\">\n",
       "<div class=\"bucket img\">\n",
       "<a data-metrics='{\"category\":\"Story to Story\",\"action\":\"Click Internal Link\",\"label\":\"https:\\/\\/www.npr.org\\/2018\\/11\\/03\\/663466805\\/democratic-women-house-candidates-set-for-a-much-easier-election-day-than-gop-wo\"}' href=\"https://www.npr.org/2018/11/03/663466805/democratic-women-house-candidates-set-for-a-much-easier-election-day-than-gop-wo\" id=\"featuredStackSquareImage663466805\"><img alt=\"Female Democratic House Candidates Set For A Much Easier Election Day Than GOP Women\" class=\"img lazyOnLoad\" data-original=\"https://media.npr.org/assets/img/2018/11/02/gettyimages-1062257472_sq-23dd8a592523eb63d7b263e3fc2dcd46a7e2600f-s100.jpg\" src=\"https://media.npr.org/assets/img/2018/11/02/gettyimages-1062257472_sq-23dd8a592523eb63d7b263e3fc2dcd46a7e2600f-s100-c15.jpg\"/></a> <div class=\"bucketblock\">\n",
       "<h3 class=\"slug\"><a href=\"https://www.npr.org/sections/elections/\">Elections </a></h3>\n",
       "<h3><a data-metrics='{\"category\":\"Story to Story\",\"action\":\"Click Internal Link\",\"label\":\"https:\\/\\/www.npr.org\\/2018\\/11\\/03\\/663466805\\/democratic-women-house-candidates-set-for-a-much-easier-election-day-than-gop-wo\"}' href=\"https://www.npr.org/2018/11/03/663466805/democratic-women-house-candidates-set-for-a-much-easier-election-day-than-gop-wo\">Female Democratic House Candidates Set For A Much Easier Election Day Than GOP Women</a></h3>\n",
       "</div>\n",
       "<!-- END CLASS=\"BUCKETBLOCK\" -->\n",
       "</div>\n",
       "<!-- END CLASS=\"BUCKET IMG\" -->\n",
       "</div>\n",
       "<!-- END ID=\"RES664447640\" CLASS=\"BUCKETWRAP INTERNALLINK INSETTWOCOLUMN INSET2COL \" -->\n",
       "<p>And just look at how wide the playing field is — Democrats need to pick up 23 seats to take back the House,<strong> </strong>and they are targeting some 80 Republican-held seats. Republicans are competing in just eight held by Democrats. That right there is and has been a huge flashing red light for the GOP. So many of those races are running through the suburbs, where independents and wealthy, college-educated women live, both of which have consistently in polling said they disapproved of the job the president is doing and prefer to vote for a Democrat in their district.</p> <div class=\"bucketwrap internallink insettwocolumn inset2col\" id=\"res664449455\">\n",
       "<div class=\"bucket img\">\n",
       "<a data-metrics='{\"category\":\"Story to Story\",\"action\":\"Click Internal Link\",\"label\":\"https:\\/\\/www.npr.org\\/2018\\/11\\/01\\/662730647\\/poll-nearly-4-in-5-voters-concerned-incivility-will-lead-to-violence\"}' href=\"https://www.npr.org/2018/11/01/662730647/poll-nearly-4-in-5-voters-concerned-incivility-will-lead-to-violence\" id=\"featuredStackSquareImage662730647\"><img alt=\"Poll: Nearly 4 In 5 Voters Concerned Incivility Will Lead To Violence\" class=\"img lazyOnLoad\" data-original=\"https://media.npr.org/assets/img/2018/10/31/gettyimages-1055522638trumpprotest_sq-ee84b30f7a28a6e9f4b9bfc59ce4c4b90fd1cd27-s100.jpg\" src=\"https://media.npr.org/assets/img/2018/10/31/gettyimages-1055522638trumpprotest_sq-ee84b30f7a28a6e9f4b9bfc59ce4c4b90fd1cd27-s100-c15.jpg\"/></a> <div class=\"bucketblock\">\n",
       "<h3 class=\"slug\"><a href=\"https://www.npr.org/sections/elections/\">Elections </a></h3>\n",
       "<h3><a data-metrics='{\"category\":\"Story to Story\",\"action\":\"Click Internal Link\",\"label\":\"https:\\/\\/www.npr.org\\/2018\\/11\\/01\\/662730647\\/poll-nearly-4-in-5-voters-concerned-incivility-will-lead-to-violence\"}' href=\"https://www.npr.org/2018/11/01/662730647/poll-nearly-4-in-5-voters-concerned-incivility-will-lead-to-violence\">Poll: Nearly 4 In 5 Voters Concerned Incivility Will Lead To Violence</a></h3>\n",
       "</div>\n",
       "<!-- END CLASS=\"BUCKETBLOCK\" -->\n",
       "</div>\n",
       "<!-- END CLASS=\"BUCKET IMG\" -->\n",
       "</div>\n",
       "<!-- END ID=\"RES664449455\" CLASS=\"BUCKETWRAP INTERNALLINK INSETTWOCOLUMN INSET2COL \" -->\n",
       "<p>One other overlooked number from <a href=\"https://www.npr.org/2018/11/01/662730647/poll-nearly-4-in-5-voters-concerned-incivility-will-lead-to-violence\">the last NPR/PBS NewsHour/Marist poll</a>: Just 54 percent of Republican women who are registered voters said they were very enthusiastic about voting in this election. Compare that with 78 percent of Republican men who are registered voters. And where do a lot of those women live? The suburbs. If GOP women, an important group that Republicans need to bolster them, stay home, that's one way Democrats clean up in the House.</p> <div class=\"bucketwrap internallink insettwocolumn inset2col\" id=\"res664452930\">\n",
       "<div class=\"bucket img\">\n",
       "<a data-metrics='{\"category\":\"Story to Story\",\"action\":\"Click Internal Link\",\"label\":\"https:\\/\\/www.npr.org\\/2018\\/10\\/16\\/656970406\\/battle-for-the-senate-10-races-that-will-determine-control\"}' href=\"https://www.npr.org/2018/10/16/656970406/battle-for-the-senate-10-races-that-will-determine-control\" id=\"featuredStackSquareImage656970406\"><img alt=\"Battle For The Senate: 10 Races That Will Determine Control\" class=\"img lazyOnLoad\" data-original=\"https://media.npr.org/assets/img/2018/10/15/senate-race-nd_sq-17ab1a5762ec244f5e7876df2b4ecef7ea1675d4-s100.png\" src=\"https://media.npr.org/assets/img/2018/10/15/senate-race-nd_sq-17ab1a5762ec244f5e7876df2b4ecef7ea1675d4-s100-c15.png\"/></a> <div class=\"bucketblock\">\n",
       "<h3 class=\"slug\"><a href=\"https://www.npr.org/sections/politics/\">Politics </a></h3>\n",
       "<h3><a data-metrics='{\"category\":\"Story to Story\",\"action\":\"Click Internal Link\",\"label\":\"https:\\/\\/www.npr.org\\/2018\\/10\\/16\\/656970406\\/battle-for-the-senate-10-races-that-will-determine-control\"}' href=\"https://www.npr.org/2018/10/16/656970406/battle-for-the-senate-10-races-that-will-determine-control\">Battle For The Senate: 10 Races That Will Determine Control</a></h3>\n",
       "</div>\n",
       "<!-- END CLASS=\"BUCKETBLOCK\" -->\n",
       "</div>\n",
       "<!-- END CLASS=\"BUCKET IMG\" -->\n",
       "</div>\n",
       "<!-- END ID=\"RES664452930\" CLASS=\"BUCKETWRAP INTERNALLINK INSETTWOCOLUMN INSET2COL \" -->\n",
       "<p>In the Senate, on the other hand, Republicans have a very favorable landscape and <a href=\"https://www.npr.org/2018/10/16/656970406/battle-for-the-senate-10-races-that-will-determine-control\">are competing in conservative states held by Democrats</a>. The fundamentals favor the GOP in these states, and if Republicans win where they should win, they will hold the Senate.</p> <div class=\"bucketwrap internallink insettwocolumn inset2col\" id=\"res664453284\">\n",
       "<div class=\"bucket img\">\n",
       "<a data-metrics='{\"category\":\"Story to Story\",\"action\":\"Click Internal Link\",\"label\":\"https:\\/\\/www.npr.org\\/2018\\/11\\/02\\/662112853\\/democrats-say-house-majority-would-mean-investigative-barrage-not-impeachment\"}' href=\"https://www.npr.org/2018/11/02/662112853/democrats-say-house-majority-would-mean-investigative-barrage-not-impeachment\" id=\"featuredStackSquareImage662112853\"><img alt=\"As Dems Prepare Investigative Barrage, Key White House Lawyer Jobs Remain Vacant\" class=\"img lazyOnLoad\" data-original=\"https://media.npr.org/assets/img/2018/10/31/gettyimages-973240628_sq-2732f652e321498f69cd62e21eda3b0f2aa49c91-s100.jpg\" src=\"https://media.npr.org/assets/img/2018/10/31/gettyimages-973240628_sq-2732f652e321498f69cd62e21eda3b0f2aa49c91-s100-c15.jpg\"/></a> <div class=\"bucketblock\">\n",
       "<h3 class=\"slug\"><a href=\"https://www.npr.org/sections/politics/\">Politics </a></h3>\n",
       "<h3><a data-metrics='{\"category\":\"Story to Story\",\"action\":\"Click Internal Link\",\"label\":\"https:\\/\\/www.npr.org\\/2018\\/11\\/02\\/662112853\\/democrats-say-house-majority-would-mean-investigative-barrage-not-impeachment\"}' href=\"https://www.npr.org/2018/11/02/662112853/democrats-say-house-majority-would-mean-investigative-barrage-not-impeachment\">As Dems Prepare Investigative Barrage, Key White House Lawyer Jobs Remain Vacant</a></h3>\n",
       "</div>\n",
       "<!-- END CLASS=\"BUCKETBLOCK\" -->\n",
       "</div>\n",
       "<!-- END CLASS=\"BUCKET IMG\" -->\n",
       "</div>\n",
       "<!-- END ID=\"RES664453284\" CLASS=\"BUCKETWRAP INTERNALLINK INSETTWOCOLUMN INSET2COL \" -->\n",
       "<p><strong>What it would mean: </strong>This would be a huge win for Democrats, as they'd be able to gum up Trump's agenda <a href=\"https://www.npr.org/2018/11/02/662112853/democrats-say-house-majority-would-mean-investigative-barrage-not-impeachment\">and begin to investigate his administration</a>, something the GOP has not done very much of. In the Senate, <a href=\"https://www.npr.org/2018/10/27/660643999/trump-republicans-continue-remaking-the-federal-courts-even-as-senate-on-recess\">Republicans could still approve federal judges and Trump Supreme Court nominees</a>, but if they want to get any big legislation done they're going to have to negotiate with Democrats in the House, and possibly a Speaker Nancy Pelosi.</p> <p>Democrats feel they need to limit the losses in the Senate. If they can hold Republicans to net even, keeping the Senate at 51-49, or maybe lose a net of one seat, then they will be very happy. They have a much more favorable Senate landscape in 2020 and believe they will be able to take back the Senate then.</p> <h3 class=\"edTag\">2. Republicans hold the House and Senate</h3> <p>This would be a huge win for the GOP.</p> <div class=\"bucketwrap internallink insettwocolumn inset2col\" id=\"res664456331\">\n",
       "<div class=\"bucket img\">\n",
       "<a data-metrics='{\"category\":\"Story to Story\",\"action\":\"Click Internal Link\",\"label\":\"https:\\/\\/www.npr.org\\/sections\\/health-shots\\/2018\\/10\\/16\\/656900971\\/npr-poll-rural-americans-are-worried-about-addiction-and-jobs-but-remain-optimis\"}' href=\"https://www.npr.org/sections/health-shots/2018/10/16/656900971/npr-poll-rural-americans-are-worried-about-addiction-and-jobs-but-remain-optimis\" id=\"featuredStackSquareImage656900971\"><img alt=\"NPR Poll: Rural Americans Are Worried About Addiction And Jobs, But Remain Optimistic\" class=\"img lazyOnLoad\" data-original=\"https://media.npr.org/assets/img/2018/10/15/rural-poll-promo-1_sq-de12fba6c18d0e3e6eb007f2a211b4c867456c1d-s100.png\" src=\"https://media.npr.org/assets/img/2018/10/15/rural-poll-promo-1_sq-de12fba6c18d0e3e6eb007f2a211b4c867456c1d-s100-c15.png\"/></a> <div class=\"bucketblock\">\n",
       "<h3 class=\"slug\"><a href=\"https://www.npr.org/sections/health-shots/\">Shots - Health News </a></h3>\n",
       "<h3><a data-metrics='{\"category\":\"Story to Story\",\"action\":\"Click Internal Link\",\"label\":\"https:\\/\\/www.npr.org\\/sections\\/health-shots\\/2018\\/10\\/16\\/656900971\\/npr-poll-rural-americans-are-worried-about-addiction-and-jobs-but-remain-optimis\"}' href=\"https://www.npr.org/sections/health-shots/2018/10/16/656900971/npr-poll-rural-americans-are-worried-about-addiction-and-jobs-but-remain-optimis\">NPR Poll: Rural Americans Are Worried About Addiction And Jobs, But Remain Optimistic</a></h3>\n",
       "</div>\n",
       "<!-- END CLASS=\"BUCKETBLOCK\" -->\n",
       "</div>\n",
       "<!-- END CLASS=\"BUCKET IMG\" -->\n",
       "</div>\n",
       "<!-- END ID=\"RES664456331\" CLASS=\"BUCKETWRAP INTERNALLINK INSETTWOCOLUMN INSET2COL \" -->\n",
       "<p><strong>How it would happen: </strong><a href=\"https://www.npr.org/2018/10/18/658255884/voter-turnout-could-hit-50-year-record-for-midterm-elections\">A record turnout is expected Tuesday</a> — perhaps higher than any time in the past 50 years for a midterm — but, as in 2016, Trump voters would have to dominate. Rural voters would have to turn out at higher-than-expected rates, causing the polls to be wrong (again). Meanwhile, young voters and Latinos would have to stay home. (<a href=\"https://www.usatoday.com/story/news/nation/2018/11/05/election-day-weather-forecast-big-storm-blast-eastern-us/1891149002/\">It is supposed to rain on the East Coast Tuesday</a>, which could depress low-propensity-voter turnout.)</p> <div class=\"bucketwrap internallink insettwocolumn inset2col\" id=\"res664463985\">\n",
       "<div class=\"bucket img\">\n",
       "<a data-metrics='{\"category\":\"Story to Story\",\"action\":\"Click Internal Link\",\"label\":\"https:\\/\\/www.npr.org\\/2018\\/11\\/05\\/662122877\\/taking-back-the-house-could-be-life-and-death-for-democrats\"}' href=\"https://www.npr.org/2018/11/05/662122877/taking-back-the-house-could-be-life-and-death-for-democrats\" id=\"featuredStackSquareImage662122877\"><img alt=\"Taking Back The House Could Be 'Life And Death' For Democrats \" class=\"img lazyOnLoad\" data-original=\"https://media.npr.org/assets/img/2018/11/02/ap_18249605913127_sq-92d88328b6f3471cb745cefc23bc840acaaac281-s100.jpg\" src=\"https://media.npr.org/assets/img/2018/11/02/ap_18249605913127_sq-92d88328b6f3471cb745cefc23bc840acaaac281-s100-c15.jpg\"/></a> <div class=\"bucketblock\">\n",
       "<h3 class=\"slug\"><a href=\"https://www.npr.org/sections/elections/\">Elections </a></h3>\n",
       "<h3><a data-metrics='{\"category\":\"Story to Story\",\"action\":\"Click Internal Link\",\"label\":\"https:\\/\\/www.npr.org\\/2018\\/11\\/05\\/662122877\\/taking-back-the-house-could-be-life-and-death-for-democrats\"}' href=\"https://www.npr.org/2018/11/05/662122877/taking-back-the-house-could-be-life-and-death-for-democrats\">Taking Back The House Could Be 'Life And Death' For Democrats </a></h3>\n",
       "</div>\n",
       "<!-- END CLASS=\"BUCKETBLOCK\" -->\n",
       "</div>\n",
       "<!-- END CLASS=\"BUCKET IMG\" -->\n",
       "</div>\n",
       "<!-- END ID=\"RES664463985\" CLASS=\"BUCKETWRAP INTERNALLINK INSETTWOCOLUMN INSET2COL \" -->\n",
       "<p>All of those close House races would have to tip Republicans' way, something that's very possible given the conservative lean of those districts and the distrust of the media, purposefully stoked by the president. And who pays for polls for the most part? Big media organizations.</p> <div class=\"bucketwrap image large\" id=\"res664468363\">\n",
       "<div class=\"imagewrap\" data-crop-type=\"\">\n",
       "<img alt=\"\" class=\"img lazyOnLoad\" data-original=\"https://media.npr.org/assets/img/2018/11/05/gettyimages-1063521758trumptenn_wide-75d4737201e2a39478b2253c9d5d9c12aec54d44-s1100.jpg\" src=\"https://media.npr.org/assets/img/2018/11/05/gettyimages-1063521758trumptenn_wide-75d4737201e2a39478b2253c9d5d9c12aec54d44-s1100-c15.jpg\"/>\n",
       "<div class=\"enlarge-options\">\n",
       "<a class=\"enlargelink\" href=\"https://media.npr.org/assets/img/2018/11/05/gettyimages-1063521758trumptenn_wide-75d4737201e2a39478b2253c9d5d9c12aec54d44-s1200.jpg\">Enlarge this image</a>\n",
       "</div>\n",
       "</div>\n",
       "<div class=\"credit-caption\">\n",
       "<div class=\"caption-wrap\">\n",
       "<div aria-label=\"Image caption\" class=\"caption\">\n",
       "<p>\n",
       "                President Trump acknowledges supporters during a campaign rally for Rep. Marsha Blackburn, R-Tenn., and other Tennessee Republican candidates on Monday in Chattanooga, Tenn.\n",
       "                \n",
       "                <b aria-label=\"Image credit\" class=\"credit\">\n",
       "                    \n",
       "                    Alex Wong/Getty Images\n",
       "                    \n",
       "                </b>\n",
       "<b class=\"hide-caption\"><b>hide caption</b></b>\n",
       "</p>\n",
       "</div>\n",
       "<b class=\"toggle-caption\"><b>toggle caption</b></b>\n",
       "</div>\n",
       "<span aria-label=\"Image credit\" class=\"credit\">\n",
       "        \n",
       "        Alex Wong/Getty Images\n",
       "        \n",
       "    </span>\n",
       "</div>\n",
       "<div class=\"enlarge_measure\">\n",
       "<div class=\"img_wrap\">\n",
       "<img alt=\"\" data-original=\"https://media.npr.org/assets/img/2018/11/05/gettyimages-1063521758trumptenn_wide-75d4737201e2a39478b2253c9d5d9c12aec54d44-s1200.jpg\"/>\n",
       "</div>\n",
       "</div>\n",
       "<div class=\"enlarge_html\">\n",
       "<div class=\"image_data\">\n",
       "<p class=\"caption\">President Trump acknowledges supporters during a campaign rally for Rep. Marsha Blackburn, R-Tenn., and other Tennessee Republican candidates on Monday in Chattanooga, Tenn.</p>\n",
       "<span aria-label=\"Image credit\" class=\"credit\">\n",
       "            \n",
       "            Alex Wong/Getty Images\n",
       "            \n",
       "        </span>\n",
       "</div>\n",
       "</div>\n",
       "</div>\n",
       "<p><strong>What it would mean: </strong>President Trump and Republicans would step on the gas, validated by an election cycle dominated by negative news coverage and polling that said the GOP had its back against the wall. The Affordable Care Act (aka Obamacare) would very likely be repealed once and for all. And Trump could set his sights on ousting Attorney General Jeff Sessions and other key figures at the Justice Department, possibly ending the department's investigation of Russia's attack on the 2016 election.</p> <div class=\"bucketwrap internallink insettwocolumn inset2col\" id=\"res664461265\">\n",
       "<div class=\"bucket img\">\n",
       "<a data-metrics='{\"category\":\"Story to Story\",\"action\":\"Click Internal Link\",\"label\":\"https:\\/\\/www.npr.org\\/2018\\/11\\/02\\/663532238\\/fact-check-migrants-are-not-overwhelming-the-southwest-border\"}' href=\"https://www.npr.org/2018/11/02/663532238/fact-check-migrants-are-not-overwhelming-the-southwest-border\" id=\"featuredStackSquareImage663532238\"><img alt=\"FACT CHECK: Migrants Are Not Overwhelming The Southwest Border \" class=\"img lazyOnLoad\" data-original=\"https://media.npr.org/assets/img/2018/11/02/ap_18229761384723_sq-3660f8f1a9e4aaa52829cf059b68219818ae1d62-s100.jpg\" src=\"https://media.npr.org/assets/img/2018/11/02/ap_18229761384723_sq-3660f8f1a9e4aaa52829cf059b68219818ae1d62-s100-c15.jpg\"/></a> <div class=\"bucketblock\">\n",
       "<h3 class=\"slug\"><a href=\"https://www.npr.org/sections/national/\">National </a></h3>\n",
       "<h3><a data-metrics='{\"category\":\"Story to Story\",\"action\":\"Click Internal Link\",\"label\":\"https:\\/\\/www.npr.org\\/2018\\/11\\/02\\/663532238\\/fact-check-migrants-are-not-overwhelming-the-southwest-border\"}' href=\"https://www.npr.org/2018/11/02/663532238/fact-check-migrants-are-not-overwhelming-the-southwest-border\">FACT CHECK: Migrants Are Not Overwhelming The Southwest Border </a></h3>\n",
       "</div>\n",
       "<!-- END CLASS=\"BUCKETBLOCK\" -->\n",
       "</div>\n",
       "<!-- END CLASS=\"BUCKET IMG\" -->\n",
       "</div>\n",
       "<!-- END ID=\"RES664461265\" CLASS=\"BUCKETWRAP INTERNALLINK INSETTWOCOLUMN INSET2COL \" -->\n",
       "<p>What's more, Trump's strategy of demonizing immigrants would have worked — again. That was rewarded, and what message would that send? He is only going to do more of it between Wednesday and November 2020 when he stands for re-election.</p> <div class=\"bucketwrap internallink insettwocolumn inset2col\" id=\"res664462395\">\n",
       "<div class=\"bucket img\">\n",
       "<a data-metrics='{\"category\":\"Story to Story\",\"action\":\"Click Internal Link\",\"label\":\"https:\\/\\/www.npr.org\\/2018\\/11\\/05\\/662946236\\/how-to-make-sense-of-exit-polls-on-election-night\"}' href=\"https://www.npr.org/2018/11/05/662946236/how-to-make-sense-of-exit-polls-on-election-night\" id=\"featuredStackSquareImage662946236\"><img alt=\"How To Make Sense Of Exit Polls On Election Night\" class=\"img lazyOnLoad\" data-original=\"https://media.npr.org/assets/img/2018/11/03/gettyimages-621808780_sq-b826a8f30ac379d9d49f87f50bdb0956af1bc5ae-s100.jpg\" src=\"https://media.npr.org/assets/img/2018/11/03/gettyimages-621808780_sq-b826a8f30ac379d9d49f87f50bdb0956af1bc5ae-s100-c15.jpg\"/></a> <div class=\"bucketblock\">\n",
       "<h3 class=\"slug\"><a href=\"https://www.npr.org/sections/politics/\">Politics </a></h3>\n",
       "<h3><a data-metrics='{\"category\":\"Story to Story\",\"action\":\"Click Internal Link\",\"label\":\"https:\\/\\/www.npr.org\\/2018\\/11\\/05\\/662946236\\/how-to-make-sense-of-exit-polls-on-election-night\"}' href=\"https://www.npr.org/2018/11/05/662946236/how-to-make-sense-of-exit-polls-on-election-night\">How To Make Sense Of Exit Polls On Election Night</a></h3>\n",
       "</div>\n",
       "<!-- END CLASS=\"BUCKETBLOCK\" -->\n",
       "</div>\n",
       "<!-- END CLASS=\"BUCKET IMG\" -->\n",
       "</div>\n",
       "<!-- END ID=\"RES664462395\" CLASS=\"BUCKETWRAP INTERNALLINK INSETTWOCOLUMN INSET2COL \" -->\n",
       "<p>It would also be yet another reckoning for pollsters and media organizations that pay for the surveys. The polls currently show Democrats with a razor-thin, but consistent advantage heading into Election Day. But if the polls are wrong, it should induce more than a shoulder shrug from outlets that conduct them and the news media organizations that report on them.</p> <h3 class=\"edTag\">3. Democrats win both the House and Senate</h3> <p>This is not seen as the likeliest of scenarios, but it's not out of the realm of possibility either. It would very likely mean a massive wave and a massive shift against Trump and Republicans tied to him nationally.</p> <p>A lot would have to happen, especially in the Senate, for this to happen.</p> <div class=\"bucketwrap internallink insettwocolumn inset2col\" id=\"res664462972\">\n",
       "<div class=\"bucket img\">\n",
       "<a data-metrics='{\"category\":\"Story to Story\",\"action\":\"Click Internal Link\",\"label\":\"https:\\/\\/www.npr.org\\/2018\\/11\\/05\\/662912609\\/miserable-and-emboldened-if-republicans-lose-the-house-they-ll-be-on-defense\"}' href=\"https://www.npr.org/2018/11/05/662912609/miserable-and-emboldened-if-republicans-lose-the-house-they-ll-be-on-defense\" id=\"featuredStackSquareImage662912609\"><img alt=\"'Miserable And Emboldened': If Republicans Lose The House, They'll Be On Defense\" class=\"img lazyOnLoad\" data-original=\"https://media.npr.org/assets/img/2018/11/04/ap_18172039998456_sq-2a60e862dfa4c7fd802425033e42eaf4f65bceb4-s100.jpg\" src=\"https://media.npr.org/assets/img/2018/11/04/ap_18172039998456_sq-2a60e862dfa4c7fd802425033e42eaf4f65bceb4-s100-c15.jpg\"/></a> <div class=\"bucketblock\">\n",
       "<h3 class=\"slug\"><a href=\"https://www.npr.org/sections/elections/\">Elections </a></h3>\n",
       "<h3><a data-metrics='{\"category\":\"Story to Story\",\"action\":\"Click Internal Link\",\"label\":\"https:\\/\\/www.npr.org\\/2018\\/11\\/05\\/662912609\\/miserable-and-emboldened-if-republicans-lose-the-house-they-ll-be-on-defense\"}' href=\"https://www.npr.org/2018/11/05/662912609/miserable-and-emboldened-if-republicans-lose-the-house-they-ll-be-on-defense\">'Miserable And Emboldened': If Republicans Lose The House, They'll Be On Defense</a></h3>\n",
       "</div>\n",
       "<!-- END CLASS=\"BUCKETBLOCK\" -->\n",
       "</div>\n",
       "<!-- END CLASS=\"BUCKET IMG\" -->\n",
       "</div>\n",
       "<!-- END ID=\"RES664462972\" CLASS=\"BUCKETWRAP INTERNALLINK INSETTWOCOLUMN INSET2COL \" -->\n",
       "<p><strong>How it would happen: </strong>The path for Democrats in the House is through the suburbs, as in Scenario 1. That doesn't change. But for Democrats to pull this off in the Senate, not only would voters have to side with Democratic incumbents in conservative states, but Democratic challengers would have to win in places like Nevada and Arizona, and possibly Tennessee and Texas.</p> <p><strong>What it would mean: </strong>It would be a repudiation of Trump and the Republicans tied to him nationwide. It would have to trigger a degree of soul-searching — in at least some Republican corners.</p> <p>Trump would be faced with the choice of moderating and working with Democrats or being a lame-duck president starting in January 2019 when a new Democratic Congress is sworn in — as talk ramps up about Democratic 2020 challengers.</p> <h3 class=\"edTag\">4. Overtime</h3> <p>It's very possible control of both the House and Senate will not be clear on election night.</p> <div class=\"bucketwrap image large\" id=\"res664473136\">\n",
       "<div class=\"imagewrap\" data-crop-type=\"\">\n",
       "<img alt=\"\" class=\"img lazyOnLoad\" data-original=\"https://media.npr.org/assets/img/2018/11/05/gettyimages-982602238capitollights_wide-e860d528189800297e88db8d5e739f659b4c228b-s1100.jpg\" src=\"https://media.npr.org/assets/img/2018/11/05/gettyimages-982602238capitollights_wide-e860d528189800297e88db8d5e739f659b4c228b-s1100-c15.jpg\"/>\n",
       "<div class=\"enlarge-options\">\n",
       "<a class=\"enlargelink\" href=\"https://media.npr.org/assets/img/2018/11/05/gettyimages-982602238capitollights_wide-e860d528189800297e88db8d5e739f659b4c228b-s1200.jpg\">Enlarge this image</a>\n",
       "</div>\n",
       "</div>\n",
       "<div class=\"credit-caption\">\n",
       "<div class=\"caption-wrap\">\n",
       "<div aria-label=\"Image caption\" class=\"caption\">\n",
       "<p>\n",
       "                A number of races are so close that it may not be possible to declare a winner on election night, leaving control of the House and Senate up in the air.\n",
       "                \n",
       "                <b aria-label=\"Image credit\" class=\"credit\">\n",
       "                    \n",
       "                    Joe Sohm/Visions of America/UIG via Getty Images\n",
       "                    \n",
       "                </b>\n",
       "<b class=\"hide-caption\"><b>hide caption</b></b>\n",
       "</p>\n",
       "</div>\n",
       "<b class=\"toggle-caption\"><b>toggle caption</b></b>\n",
       "</div>\n",
       "<span aria-label=\"Image credit\" class=\"credit\">\n",
       "        \n",
       "        Joe Sohm/Visions of America/UIG via Getty Images\n",
       "        \n",
       "    </span>\n",
       "</div>\n",
       "<div class=\"enlarge_measure\">\n",
       "<div class=\"img_wrap\">\n",
       "<img alt=\"\" data-original=\"https://media.npr.org/assets/img/2018/11/05/gettyimages-982602238capitollights_wide-e860d528189800297e88db8d5e739f659b4c228b-s1200.jpg\"/>\n",
       "</div>\n",
       "</div>\n",
       "<div class=\"enlarge_html\">\n",
       "<div class=\"image_data\">\n",
       "<p class=\"caption\">A number of races are so close that it may not be possible to declare a winner on election night, leaving control of the House and Senate up in the air.</p>\n",
       "<span aria-label=\"Image credit\" class=\"credit\">\n",
       "            \n",
       "            Joe Sohm/Visions of America/UIG via Getty Images\n",
       "            \n",
       "        </span>\n",
       "</div>\n",
       "</div>\n",
       "</div>\n",
       "<p><strong>How it would happen:</strong> There are a half-dozen congressional races in California, for example, that are very close heading into Election Day. It's possible those races are so close they will not be called on election night. They might not be called for days and possibly weeks later, especially because the vote there is counted slowly.</p> <div class=\"bucketwrap internallink insettwocolumn inset2col\" id=\"res664465748\">\n",
       "<div class=\"bucket img\">\n",
       "<a data-metrics='{\"category\":\"Story to Story\",\"action\":\"Click Internal Link\",\"label\":\"https:\\/\\/www.npr.org\\/2018\\/11\\/05\\/664172876\\/voter-purges-are-up-but-most-americans-wont-see-problems-at-the-polls\"}' href=\"https://www.npr.org/2018/11/05/664172876/voter-purges-are-up-but-most-americans-wont-see-problems-at-the-polls\" id=\"featuredStackSquareImage664172876\"><img alt=\"Voter Purges Are Up, But Most Americans Won't See Problems At The Polls\" class=\"img lazyOnLoad\" data-original=\"https://media.npr.org/assets/img/2018/11/05/ap_18304708017054-2-_sq-bba35f7cc8247e748007256ada6483606e15ec2f-s100.jpg\" src=\"https://media.npr.org/assets/img/2018/11/05/ap_18304708017054-2-_sq-bba35f7cc8247e748007256ada6483606e15ec2f-s100-c15.jpg\"/></a> <div class=\"bucketblock\">\n",
       "<h3 class=\"slug\"><a href=\"https://www.npr.org/sections/politics/\">Politics </a></h3>\n",
       "<h3><a data-metrics='{\"category\":\"Story to Story\",\"action\":\"Click Internal Link\",\"label\":\"https:\\/\\/www.npr.org\\/2018\\/11\\/05\\/664172876\\/voter-purges-are-up-but-most-americans-wont-see-problems-at-the-polls\"}' href=\"https://www.npr.org/2018/11/05/664172876/voter-purges-are-up-but-most-americans-wont-see-problems-at-the-polls\">Voter Purges Are Up, But Most Americans Won't See Problems At The Polls</a></h3>\n",
       "</div>\n",
       "<!-- END CLASS=\"BUCKETBLOCK\" -->\n",
       "</div>\n",
       "<!-- END CLASS=\"BUCKET IMG\" -->\n",
       "</div>\n",
       "<!-- END ID=\"RES664465748\" CLASS=\"BUCKETWRAP INTERNALLINK INSETTWOCOLUMN INSET2COL \" -->\n",
       "<p>Additionally, early and absentee ballots can get counted slowly and there is <a href=\"http://time.com/5439236/mail-absentee-ballot-concerns/\">growing concern </a>that many voters' absentee and mailed ballots could be rejected. In 2016, to the surprise of many, 319,000 absentee ballots were rejected for one reason or another.</p> <p>In the Senate, depending on how results from other races shake out, there is the possibility that control is not known on election night or for weeks after. Specifically, it could all come down to Mississippi. There, no candidate is polling above 50 percent heading into Election Day, and if no one gets at least 50 percent, the race heads to a runoff three weeks later.</p> <p><strong>What it would mean: </strong>Imagine a scenario in which Democrats lead 50-49 on Election Day in the Senate, and the eyes of the country — and the deep pockets of out-of-state money — descend on Mississippi. The consequences would be enormous, the rancor pitched and the tension thick.</p>\n",
       "</div>\n",
       "<div class=\"tags\">\n",
       "<ul>\n",
       "<li><a class=\"tag tag--story\" data-metrics='{\"category\":\"story actions\",\"action\":\"click tag\"}' href=\"https://www.npr.org/tags/520216945/2018\">2018</a></li>\n",
       "<li><a class=\"tag tag--story\" data-metrics='{\"category\":\"story actions\",\"action\":\"click tag\"}' href=\"https://www.npr.org/tags/497806639/election-day\">election day</a></li>\n",
       "<li><a class=\"tag tag--story\" data-metrics='{\"category\":\"story actions\",\"action\":\"click tag\"}' href=\"https://www.npr.org/tags/432805936/2016\">2016</a></li>\n",
       "<li><a class=\"tag tag--story\" data-metrics='{\"category\":\"story actions\",\"action\":\"click tag\"}' href=\"https://www.npr.org/tags/428799323/trump\">trump</a></li>\n",
       "<li><a class=\"tag tag--story\" data-metrics='{\"category\":\"story actions\",\"action\":\"click tag\"}' href=\"https://www.npr.org/tags/360452518/election-night\">election night</a></li>\n",
       "<li><a class=\"tag tag--story\" data-metrics='{\"category\":\"story actions\",\"action\":\"click tag\"}' href=\"https://www.npr.org/tags/219323468/2020\">2020</a></li>\n",
       "<li><a class=\"tag tag--story\" data-metrics='{\"category\":\"story actions\",\"action\":\"click tag\"}' href=\"https://www.npr.org/tags/162174434/polling\">polling</a></li>\n",
       "<li><a class=\"tag tag--story\" data-metrics='{\"category\":\"story actions\",\"action\":\"click tag\"}' href=\"https://www.npr.org/tags/127115490/senate\">Senate</a></li>\n",
       "<li><a class=\"tag tag--story\" data-metrics='{\"category\":\"story actions\",\"action\":\"click tag\"}' href=\"https://www.npr.org/tags/126953005/house\">House</a></li>\n",
       "<li><a class=\"tag tag--story\" data-metrics='{\"category\":\"story actions\",\"action\":\"click tag\"}' href=\"https://www.npr.org/tags/126944326/democrats\">Democrats</a></li>\n",
       "<li><a class=\"tag tag--story\" data-metrics='{\"category\":\"story actions\",\"action\":\"click tag\"}' href=\"https://www.npr.org/tags/126931907/gop\">GOP</a></li>\n",
       "<li><a class=\"tag tag--story\" data-metrics='{\"category\":\"story actions\",\"action\":\"click tag\"}' href=\"https://www.npr.org/tags/125951073/republican\">Republican</a></li>\n",
       "<li><a class=\"tag tag--story\" data-metrics='{\"category\":\"story actions\",\"action\":\"click tag\"}' href=\"https://www.npr.org/tags/125950998/election\">election</a></li>\n",
       "</ul>\n",
       "</div>\n",
       "<!-- END CLASS=\"TAGS\" -->\n",
       "<div aria-label=\"Share tools\" class=\"share-tools share-tools--secondary\">\n",
       "<ul>\n",
       "<li class=\"share-tools__service share-tools__service--facebook\"><button class=\"fbStory664395755\" data-metrics='{\"action\":\"Click Facebook\",\"category\":\"Share Tools\",\"label\":\"https:\\/\\/www.npr.org\\/2018\\/11\\/05\\/664395755\\/what-if-the-polls-are-wrong-again-4-scenarios-for-what-might-happen-in-the-elect\"}' data-share-facebook='{\"storyId\": 664395755 }'><b class=\"share-tools__service-name\">Facebook</b></button></li>\n",
       "<li class=\"share-tools__service share-tools__service--twitter\"><button class=\"story664395755\" data-metrics='{\"action\":\"Click Twitter\",\"category\":\"Share Tools\",\"label\":\"https:\\/\\/www.npr.org\\/2018\\/11\\/05\\/664395755\\/what-if-the-polls-are-wrong-again-4-scenarios-for-what-might-happen-in-the-elect\"}' data-share-twitter='{\"storyId\": 664395755 }'><b class=\"share-tools__service-name\">Twitter</b></button></li>\n",
       "<li class=\"share-tools__service share-tools__service--flipboard\"><button class=\"story664395755\" data-metrics='{\"action\":\"Click Flipboard\",\"category\":\"Share Tools\",\"label\":\"https:\\/\\/www.npr.org\\/2018\\/11\\/05\\/664395755\\/what-if-the-polls-are-wrong-again-4-scenarios-for-what-might-happen-in-the-elect\"}' data-share-flipboard='{\"storyId\": 664395755 }'><b class=\"share-tools__service-name\">Flipboard</b></button></li>\n",
       "<li class=\"share-tools__service share-tools__service--email\"><button class=\"share-tools__email-link\" data-metrics='{\"action\":\"Click Email a Friend\",\"category\":\"Share Tools\",\"label\":\"https:\\/\\/www.npr.org\\/2018\\/11\\/05\\/664395755\\/what-if-the-polls-are-wrong-again-4-scenarios-for-what-might-happen-in-the-elect\"}' data-story-id=\"664395755\"><b class=\"share-tools__service-name\">Email</b></button></li>\n",
       "</ul>\n",
       "</div>\n",
       "<!-- END CLASS=\"SHARE-TOOLS SHARE-TOOLS--SECONDARY\" ARIA-LABEL=\"SHARE TOOLS\" -->\n",
       "<div data-newsletter='{\"newsletterId\":\"politics\",\"title\":\"Politics\",\"marketingHeader\":\"Sign Up For The NPR Politics Newsletter\",\"frequency\":\"every week\",\"shortDescription\":\"From the White House to your home \\u2014 political news and analysis that matter, sent weekly.\",\"contentImage\":\"https:\\/\\/media.npr.org\\/assets\\/img\\/2018\\/08\\/03\\/newsletters\\/politics.png\",\"staticMarkupDir\":\" \",\"brandingDir\":\"\\/branding\\/sections\\/politics\\/\",\"brandingLink\":\"https:\\/\\/www.npr.org\\/sections\\/politics\\/\",\"organizationId\":1,\"recaptchaSiteKey\":\"6LfD6CYUAAAAAIBeUekwZ9KCjF4UyLFtu7NWNaEK\"}' id=\"newsletter-acquisition-callout-data\">\n",
       "</div>\n",
       "<!-- END ID=\"NEWSLETTER-ACQUISITION-CALLOUT-DATA\" DATA-NEWSLETTER=\"{&QUOT;NEWSLETTERID&QUOT;:&QUOT;POLITICS&QUOT;,&QUOT;TITLE&QUOT;:&QUOT;POLITICS&QUOT;,&QUOT;MARKETINGHEADER&QUOT;:&QUOT;SIGN UP FOR THE NPR POLITICS NEWSLETTER&QUOT;,&QUOT;FREQUENCY&QUOT;:&QUOT;EVERY WEEK&QUOT;,&QUOT;SHORTDESCRIPTION&QUOT;:&QUOT;FROM THE WHITE HOUSE TO YOUR HOME \\U2014 POLITICAL NEWS AND ANALYSIS THAT MATTER, SENT WEEKLY.&QUOT;,&QUOT;CONTENTIMAGE&QUOT;:&QUOT;HTTPS:\\/\\/MEDIA.NPR.ORG\\/ASSETS\\/IMG\\/2018\\/08\\/03\\/NEWSLETTERS\\/POLITICS.PNG&QUOT;,&QUOT;STATICMARKUPDIR&QUOT;:&QUOT; &QUOT;,&QUOT;BRANDINGDIR&QUOT;:&QUOT;\\/BRANDING\\/SECTIONS\\/POLITICS\\/&QUOT;,&QUOT;BRANDINGLINK&QUOT;:&QUOT;HTTPS:\\/\\/WWW.NPR.ORG\\/SECTIONS\\/POLITICS\\/&QUOT;,&QUOT;ORGANIZATIONID&QUOT;:1,&QUOT;RECAPTCHASITEKEY&QUOT;:&QUOT;6LFD6CYUAAAAAIBEUEKWZ9KCJF4UYLFTU7NWNAEK&QUOT;}\" -->\n",
       "<div data-podcast='{\"name\":\"The NPR Politics Podcast\",\"itunesUrl\":\"https:\\/\\/podcasts.apple.com\\/podcast\\/id1057255460?mt=2&amp;at=11l79Y&amp;ct=nprdirectory\",\"googlePodcastsUrl\":\"https:\\/\\/www.google.com\\/podcasts?feed=aHR0cHM6Ly93d3cubnByLm9yZy9yc3MvcG9kY2FzdC5waHA_aWQ9NTEwMzEw\",\"rssUrl\":\"https:\\/\\/www.npr.org\\/rss\\/podcast.php?id=510310\",\"jsonFeedUrl\":\"https:\\/\\/www.npr.org\\/feeds\\/664395755\\/feed.json\",\"nprOneUniversalUrl\":\"https:\\/\\/rpb3r.app.goo.gl\\/XDGl\",\"amazonAlexaUrl\":null,\"pocketCastsUrl\":\"https:\\/\\/pca.st\\/npr-politics\",\"spotifyUrl\":\"https:\\/\\/open.spotify.com\\/show\\/2PnWnDNwU3wKesCHCpy252\"}' id=\"podcast-callout-data\">\n",
       "</div>\n",
       "<!-- END ID=\"PODCAST-CALLOUT-DATA\" DATA-PODCAST=\"{&QUOT;NAME&QUOT;:&QUOT;THE NPR POLITICS PODCAST&QUOT;,&QUOT;ITUNESURL&QUOT;:&QUOT;HTTPS:\\/\\/PODCASTS.APPLE.COM\\/PODCAST\\/ID1057255460?MT=2&AMP;AT=11L79Y&AMP;CT=NPRDIRECTORY&QUOT;,&QUOT;GOOGLEPODCASTSURL&QUOT;:&QUOT;HTTPS:\\/\\/WWW.GOOGLE.COM\\/PODCASTS?FEED=AHR0CHM6LY93D3CUBNBYLM9YZY9YC3MVCG9KY2FZDC5WAHA_AWQ9NTEWMZEW&QUOT;,&QUOT;RSSURL&QUOT;:&QUOT;HTTPS:\\/\\/WWW.NPR.ORG\\/RSS\\/PODCAST.PHP?ID=510310&QUOT;,&QUOT;JSONFEEDURL&QUOT;:&QUOT;HTTPS:\\/\\/WWW.NPR.ORG\\/FEEDS\\/664395755\\/FEED.JSON&QUOT;,&QUOT;NPRONEUNIVERSALURL&QUOT;:&QUOT;HTTPS:\\/\\/RPB3R.APP.GOO.GL\\/XDGL&QUOT;,&QUOT;AMAZONALEXAURL&QUOT;:NULL,&QUOT;POCKETCASTSURL&QUOT;:&QUOT;HTTPS:\\/\\/PCA.ST\\/NPR-POLITICS&QUOT;,&QUOT;SPOTIFYURL&QUOT;:&QUOT;HTTPS:\\/\\/OPEN.SPOTIFY.COM\\/SHOW\\/2PNWNDNWU3WKESCHCPY252&QUOT;}\" -->\n",
       "<div id=\"callout-end-of-story-mount\">\n",
       "</div>\n",
       "<!-- END ID=\"CALLOUT-END-OF-STORY-MOUNT\" -->\n",
       "<aside aria-label=\"recommended stories\" class=\"recommended-stories\" id=\"end-of-story-recommendations-mount\"></aside>\n",
       "<!-- END ID=\"END-OF-STORY-RECOMMENDATIONS-MOUNT\" CLASS=\"RECOMMENDED-STORIES\" ARIA-LABEL=\"RECOMMENDED STORIES\" -->\n",
       "</article><header class=\"contentheader contentheader--two\" data-metrics='{\"category\":\"Elections\"}'></header><footer aria-label=\"NPR footer\" class=\"npr-footer\" id=\"npr-footer\" role=\"contentinfo\"><div class=\"npr-footer__content\" data-metrics-category=\"Global Footer\" data-metrics-label=\"Footer\">\n",
       "<div class=\"npr-footer__module-group\">\n",
       "<div class=\"npr-footer__module\">\n",
       "<h6 class=\"npr-footer__header\">Read &amp; Listen</h6>\n",
       "<ul>\n",
       "<li class=\"npr-footer__item\"><a data-metrics-action=\"Click Homepage\" href=\"/\">Home</a></li>\n",
       "<li class=\"npr-footer__item\"><a data-metrics-action=\"Click News\" href=\"/sections/news/\">News</a></li>\n",
       "<li class=\"npr-footer__item\"><a data-metrics-action=\"Click Arts &amp; Life\" href=\"/sections/arts/\">Arts &amp; Life</a></li>\n",
       "<li class=\"npr-footer__item\"><a data-metrics-action=\"Click Music\" href=\"/music/\">Music</a></li>\n",
       "<li class=\"npr-footer__item\"><a data-metrics-action=\"Click Podcasts\" href=\"/podcasts/\">Podcasts</a></li>\n",
       "<li class=\"npr-footer__item\"><a data-metrics-action=\"Click Programs\" href=\"/programs/\">Programs</a></li>\n",
       "</ul>\n",
       "</div>\n",
       "<div class=\"npr-footer__module\">\n",
       "<h6 class=\"npr-footer__header\">Connect</h6>\n",
       "<ul>\n",
       "<li class=\"npr-footer__item\"><a data-metrics-action=\"Click Newsletters\" href=\"/newsletters/\">Newsletters</a></li>\n",
       "<li class=\"npr-footer__item\"><a data-metrics-action=\"Click Facebook\" href=\"https://www.facebook.com/NPR/\">Facebook</a></li>\n",
       "<li class=\"npr-footer__item\"><a data-metrics-action=\"Click Twitter\" href=\"https://twitter.com/NPR\">Twitter</a></li>\n",
       "<li class=\"npr-footer__item\"><a data-metrics-action=\"Click Instagram\" href=\"https://www.instagram.com/npr/\">Instagram</a></li>\n",
       "<li class=\"npr-footer__item\"><a data-metrics-action=\"Click Contact\" href=\"https://www.npr.org/contact\">Contact</a></li>\n",
       "<li class=\"npr-footer__item\"><a data-metrics-action=\"Click Help\" href=\"https://help.npr.org\">Help</a></li>\n",
       "</ul>\n",
       "</div>\n",
       "<div class=\"npr-footer__module\">\n",
       "<h6 class=\"npr-footer__header\">About NPR</h6>\n",
       "<ul>\n",
       "<li class=\"npr-footer__item\"><a data-metrics-action=\"Click Overview\" href=\"/about/\">Overview</a></li>\n",
       "<li class=\"npr-footer__item\"><a data-metrics-action=\"Click Finances\" href=\"/about-npr/178660742/public-radio-finances\">Finances</a></li>\n",
       "<li class=\"npr-footer__item\"><a data-metrics-action=\"Click People\" href=\"/about-npr/179803822/people-at-npr\">People</a></li>\n",
       "<li class=\"npr-footer__item\"><a data-metrics-action=\"Click Press\" href=\"/press/\">Press</a></li>\n",
       "<li class=\"npr-footer__item\"><a data-metrics-action=\"Click Public Editor\" href=\"/sections/publiceditor/\">Public Editor</a></li>\n",
       "<li class=\"npr-footer__item\"><a data-metrics-action=\"Click Corrections\" href=\"/corrections/\">Corrections</a></li>\n",
       "</ul>\n",
       "</div>\n",
       "<div class=\"npr-footer__module\">\n",
       "<h6 class=\"npr-footer__header\">Get Involved</h6>\n",
       "<ul>\n",
       "<li class=\"npr-footer__item\"><a data-metrics-action=\"Click Support Public Radio\" href=\"/support/\">Support Public Radio</a></li>\n",
       "<li class=\"npr-footer__item\"><a data-metrics-action=\"Click Sponsor NPR\" href=\"/about-npr/186948703/corporate-sponsorship\">Sponsor NPR</a></li>\n",
       "<li class=\"npr-footer__item\"><a data-metrics-action=\"Click NPR Careers\" href=\"/careers/\">NPR Careers</a></li>\n",
       "<li class=\"npr-footer__item\"><a data-metrics-action=\"Click NPR Shop\" href=\"https://shop.npr.org/\">NPR Shop</a></li>\n",
       "<li class=\"npr-footer__item\"><a data-metrics-action=\"Click NPR Events\" href=\"https://www.nprpresents.org\">NPR Events</a></li>\n",
       "<li class=\"npr-footer__item\"><a data-metrics-action=\"Click Visit NPR\" href=\"/about-npr/177066727/visit-npr\">Visit NPR</a></li>\n",
       "</ul>\n",
       "</div>\n",
       "</div>\n",
       "<div class=\"npr-footer__module npr-footer__module--secondary\">\n",
       "<ul>\n",
       "<li class=\"npr-footer__item\"><a data-metrics-action=\"Click Terms of Use\" href=\"/about-npr/179876898/terms-of-use\">Terms of Use</a></li>\n",
       "<li class=\"npr-footer__item\"><a data-metrics-action=\"Click Privacy\" href=\"/about-npr/179878450/privacy-policy\">Privacy</a></li>\n",
       "<li class=\"npr-footer__item\"><a data-metrics-action=\"Click Your Privacy Choices\" href=\"/about-npr/179878450/privacy-policy#yourchoices\">Your Privacy Choices</a></li>\n",
       "<li class=\"npr-footer__item\"><a data-metrics-action=\"Click Text Only\" href=\"https://text.npr.org/\">Text Only</a></li>\n",
       "<li class=\"npr-footer__item\"><span class=\"copy-year\"></span></li>\n",
       "</ul>\n",
       "</div>\n",
       "</div></footer></section> <div id=\"main-sidebar\">\n",
       "<aside aria-label=\"advertisement\" id=\"ad-standard-wrap\">\n",
       "<div class=\"ad-standard\" data-ad-config='{\"network\":\"\\/6735\\/\",\"site\":{\"default\":\"n6735.NPR\",\"mobile\":\"n6735.NPRMOBILE\"},\"zone\":\"News_Politics_Elections\",\"targets\":{\"testserver\":\"false\",\"storyId\":\"664395755\",\"agg\":[\"312150170\",\"191676894\",\"434975886\"]},\"location\":\"standard\",\"deferred\":false,\"isBetweenContent\":false,\"isAggSponsorship\":false,\"borderClass\":\"\"}' id=\"ad-standard-News_Politics_Elections\"></div>\n",
       "<p class=\"left\">NPR thanks our sponsors</p><p class=\"right\"><a href=\"/about-npr/186948703/corporate-sponsorship\">Become an NPR sponsor</a></p>\n",
       "</aside>\n",
       "</div>\n",
       "<!-- END ID=\"MAIN-SIDEBAR\" -->\n",
       "</div>\n",
       "<!-- END ID=\"WRAPPER\" -->\n",
       "<script type=\"text/javascript\">\n",
       "   (function () {\n",
       "    var loadPageJs = function () { webpackJsonp([82,25],{0:function(n,t,c){n.exports=c(1823)},1823:function(n,t,c){\"use strict\";c.p=NPR.serverVars.webpackPublicPath,function(){var n=2,t=function(){--n<1&&function(n){c(45),c(2232),c(366),c(373),c(263),c(794),c(408),c(2237),c(407),c(2236),c(2235),c(1402),c(589),c(2229),c(1563),c(2222),c(355)}(c)}.bind(this);c.e(0,t),c.e(4,t)}.call(this)}}); };\n",
       "    if (document.readyState === 'complete') {\n",
       "        loadPageJs();\n",
       "    } else {\n",
       "        window.addEventListener('load', function load() {\n",
       "            window.removeEventListener('load', load, false);\n",
       "            loadPageJs();\n",
       "        });\n",
       "    }\n",
       "})();\n",
       "</script>\n",
       "</main><noscript><iframe height=\"0\" src=\"//20655831p.rfihub.com/ca.html?rb=3035&amp;ca=20501671&amp;ra=gtmcb\" style=\"display:none;padding:0;margin:0;\" width=\"0\"></iframe></noscript><noscript><iframe><img height=\"1\" src=\"https://www.facebook.com/tr?id=1621557368158968&amp;ev=PageView&amp;noscript=1\" style=\"display:none\" width=\"1\"/></iframe></noscript><script type=\"text/javascript\">\n",
       "    var _sf_async_config = _sf_async_config || {};\n",
       "    /** CONFIGURATION START **/\n",
       "    _sf_async_config.uid = '18888';\n",
       "    _sf_async_config.domain = NPR.ServerConstants.cbHost;\n",
       "    _sf_async_config.useCanonical = true;\n",
       "\n",
       "    /** CONFIGURATION END **/\n",
       "    (function() {\n",
       "        function loadChartbeat() {\n",
       "            // Wait until the metric for chartbeat have been setup\n",
       "            // in templates/javascript/metrics/chartbeat.js\n",
       "            if( !!NPR.ChartbeatLoaded) {\n",
       "                var e = document.createElement('script');\n",
       "                e.setAttribute('language', 'javascript');\n",
       "                e.setAttribute('type', 'text/javascript');\n",
       "                e.setAttribute('src', 'https://static.chartbeat.com/js/chartbeat.js');\n",
       "                document.body.appendChild(e);\n",
       "            } else {\n",
       "                setTimeout(loadChartbeat, 1000);\n",
       "            }\n",
       "        }\n",
       "\n",
       "        var oldonload = window.onload;\n",
       "        window.onload = (typeof window.onload != 'function') ?\n",
       "                loadChartbeat : function() {\n",
       "            oldonload();\n",
       "            window._sf_endpt = (new Date()).getTime();\n",
       "            loadChartbeat();\n",
       "        };\n",
       "    })();\n",
       "</script></body></html>"
      ]
     },
     "execution_count": 15,
     "metadata": {},
     "output_type": "execute_result"
    }
   ],
   "source": [
    "soup = BeautifulSoup(response.content, \"html.parser\")\n",
    "soup"
   ]
  },
  {
   "cell_type": "markdown",
   "metadata": {},
   "source": [
    "Alright! That looks a little better; there's some whitespace formatting, adding some structure to our content! HTML code is structured by `<tags>`. Every tag has an opening and closing portion, denoted by ``< >`` and ``</ >``, respectively. If we want just the text (not the tags), we can use:"
   ]
  },
  {
   "cell_type": "code",
   "execution_count": 48,
   "metadata": {},
   "outputs": [
    {
     "data": {
      "text/plain": [
       "'\\n   try {var _sf_startpt=(new Date()).getTime();} catch(e){}\\n\\nWhat If The Polls Are Wrong Again? 4 Scenarios For What Might Happen In The Elections : NPR\\n   window.NPR = window.NPR || {};\\nNPR.ServerConstants = {\"cbHost\":\"npr.org\",\"webHost\":\"https:\\\\/\\\\/www.npr.org\",\"embedHost\":\"https:\\\\/\\\\/www.npr.org\",\"webHostSecure\":\"https:\\\\/\\\\/secure.npr.org\",\"apiHost\":\"https:\\\\/\\\\/api.npr.org\",\"serverMediaCache\":\"https:\\\\/\\\\/media.npr.org\",\"googleAnalyticsAccount\":\"UA-5828686-4\",\"nielsenSFCode\":\"dcr\",\"nielsenAPN\":\"NPR-dcr\",\"shouldShowHPLocalContent\":true,\"readingServiceHostname\":\"https:\\\\/\\\\/reading.api.npr.org\"};\\nNPR.serverVars = {\"storyId\":\"664395755\",\"facebookAppId\":\"138837436154588\",\"webpackPublicPath\":\"https:\\\\/\\\\/s.npr.org\\\\/templates\\\\/javascript\\\\/dist\\\\/bundles\\\\/\",\"persistenceVersion\":\"e2193dbd58d7e71fdaffbd399767e8dc\",\"isBuildOut\":true,\"topicIds\":[\"P139482413\",\"1001\",\"1002\",\"1003\",\"1014\",\"1059\"],\"primaryTopic\":\"Elections\",\"topics\":[\"Elections\",\"News\",\"Home Page Top Stories\",\"National\",\"Politics\",\"Analysis\"],\"theme\":\"139482413\",\"aggIds\":[\"1001\",\"1002\",\"1003\",\"1014\",\"1059\",\"125950998\",\"125951073\",\"126931907\",\"126944326\",\"126953005\",\"127115490\",\"139482413\",\"162174434\",\"191676894\",\"219323468\",\"312150170\",\"360452518\",\"428799323\",\"432805936\",\"434975886\",\"497806639\",\"520216945\"],\"tagIds\":[\"2016\",\"2018\",\"2020\",\"Democrats\",\"GOP\",\"House\",\"Republican\",\"Senate\",\"election\",\"election day\",\"election night\",\"polling\",\"trump\"],\"byline\":[\"Domenico Montanaro\"],\"pubDate\":\"2018110516\",\"pageTypeId\":\"1\",\"title\":\"What If The Polls Are Wrong Again? 4 Scenarios For What Might Happen In The Elections\",\"publisherOrgId\":\"1\",\"rocketfuelCode\":20501671};\\n\\n\\n\\n\\n\\n\\n   !function(a){function e(d){if(c[d])return c[d].exports;var f=c[d]={exports:{},id:d,loaded:!1};return a[d].call(f.exports,f,f.exports,e),f.loaded=!0,f.exports}var d=window.webpackJsonp;window.webpackJsonp=function(b,t){for(var n,r,o=0,i=[];o<b.length;o++)r=b[o],f[r]&&i.push.apply(i,f[r]),f[r]=0;for(n in t){var s=t[n];switch(typeof s){case\"object\":a[n]=function(e){var d=e.slice(1),c=e[0];return function(e,f,b){a[c].apply(this,[e,f,b].concat(d))}}(s);break;case\"function\":a[n]=s;break;default:a[n]=a[s]}}for(d&&d(b,t);i.length;)i.shift().call(null,e);if(t[0])return c[0]=0,e(0)};var c={},f={25:0};e.e=function(a,d){if(0===f[a])return d.call(null,e);if(void 0!==f[a])f[a].push(d);else{f[a]=[d];var c=document.getElementsByTagName(\"head\")[0],b=document.createElement(\"script\");b.type=\"text/javascript\",b.charset=\"utf-8\",b.async=!0,b.src=e.p+\"\"+a+\".\"+{0:\"49fa2af9befd8dbc30e6\",1:\"69edd3e871fc479eb8c4\",2:\"3872b3b03c3b0931da22\",3:\"956a99d7884e901e36cc\",4:\"f9aecab03b57f03ba253\",5:\"aee467c94af974e07087\",6:\"7996e4a910b135aa5a79\",7:\"21bed47254a36b33bbe4\",8:\"9be2e58ebfb46b745b1c\",9:\"49cab39d7a6f7fb9e7d2\",10:\"547114f11f850b9fa1fa\",11:\"8d080cdbd52ca97eb224\",12:\"8d5b1e7c21e2e4e2046e\",13:\"b0a0d682da6781b44ee2\",14:\"55fd59b9685011904ec3\",15:\"2cf00a04fb3475ebbe1d\",16:\"41426d2a26b3fcc9a511\",17:\"ea9d73affa9029cd58b8\",18:\"52692ca5ed2fd9d95412\",19:\"a42fc478315f6ded6a21\",20:\"50f54ba8c521cc1e4639\",21:\"1ae4d9830b90eb9074d3\",22:\"16a03e418a1e3303b525\",23:\"3663bbe4d7838b502ccd\",24:\"d118095c3fc5bfb33da1\",26:\"4d1f88ba95dfe94137d4\",27:\"aea4226da3ca9bfb67aa\",28:\"ccb1659a86d7746b048d\",29:\"ed2dd58790d98a9e341d\",30:\"03a8f050e4ce4e514187\",31:\"9edc89972627c3aa824a\",32:\"66d600fa8af2ed7b80a4\",33:\"98a85a2015d5d1da13b2\",34:\"332356c3462ede49fdc3\",35:\"b8aedd9580c82b654818\",36:\"719151635f84ad4f3d1a\",37:\"05169bb54299ab3ed446\",38:\"d0e270cf87a3d8d23c39\",39:\"176d9f0688e3977d0720\",40:\"f9db1daaf5f52eb8ea20\",41:\"db8c0f3e8d0191b63bde\",42:\"587fa775bd4d80b3fcad\",43:\"7d1b618a13b168f39061\",44:\"6f8616162a956a01d29a\",45:\"43885405840f8a15b9f3\",46:\"982875db8605ce73126b\",47:\"0f67f0f9a2648922e23b\",48:\"1f78d5f1e53a5bfccfdc\",49:\"49c6a90429ae47c93f12\",50:\"fb051afd23c3a9555c4e\",51:\"e169249c1dbd3d93f496\",52:\"42158cb15f746b5275e7\",53:\"7327d028fd39dda3b1ef\",54:\"333f4325f11d14cc2416\",55:\"ea607402a72ea48af3db\",56:\"b6fe4c5c04bf78d40092\",57:\"c4968b1ebe10a3c844aa\",58:\"6a7c4ae2f77e5e8ef4d4\",59:\"e8f53685884b3615c752\",60:\"12192cd74746693c33d1\",61:\"9bb9a3c7dee82a824793\",62:\"beafbe078b04d8c91a74\",63:\"3b64b41fb887b26e87d9\",64:\"60993ed17bd80c9d1f0d\",65:\"f4505f98cc650d7bdd1a\",66:\"7056e116c0a09ad6a16a\",67:\"2b41ea759717ab03c014\",68:\"42fa59d4ebe0d1246621\",69:\"28bfa03ba196effa6622\",70:\"0d52762c253a8eb70fc7\",71:\"95135f0052fe32b1fad4\",72:\"64978efdc5e0457351f5\",73:\"e6baf483431fab9d40b3\",74:\"ee3688db87d27a26bcce\",75:\"61286cc78ffee0dcdb6e\",76:\"6aca752f7cd5102228c9\",77:\"3b36a7b3221cb06c7944\",78:\"ac06be6a4710d119c354\",79:\"239660d5b1266e6dd66f\",80:\"c9903d8f4df8f6e9cff2\",81:\"55a0717a22649bdb4a34\",82:\"74ad754dfe1a479aa0e4\",83:\"40a44ca4f990252bb248\",84:\"13ea4ee4e3a55788a36a\",85:\"5f80a09e98ed012e83d1\"}[a]+\".chunk.js\",c.appendChild(b)}},e.m=a,e.c=c,e.p=\"/templates/javascript/dist/bundles/\"}(function(a){for(var e in a)if(Object.prototype.hasOwnProperty.call(a,e))switch(typeof a[e]){case\"function\":break;case\"object\":a[e]=function(e){var d=e.slice(1),c=a[e[0]];return function(a,e,f){c.apply(this,[a,e,f].concat(d))}}(a[e]);break;default:a[e]=a[a[e]]}return a}([]));\\n\\n\\n\\n\\n   document.domain=\"npr.org\";\\n\\n\\nAccessibility links \\nSkip to main content\\nKeyboard shortcuts for audio player\\n\\n\\n\\n\\n\\n\\n\\n\\n\\n\\n\\n\\n\\nNPR Shop\\n\\n\\n\\n\\n                    Open Navigation Menu\\n                \\n\\n\\n\\n\\n\\n\\n\\n                    Close Navigation Menu\\n\\n\\n\\n\\nHome\\n\\n\\n\\nNews\\nExpand/collapse submenu for News\\n\\n\\nNational\\nWorld\\nPolitics\\nBusiness\\nHealth\\nScience\\nTechnology\\nRace & Culture\\n\\n\\n\\n\\nArts & Life\\nExpand/collapse submenu for Arts & Life\\n\\n\\nBooks\\nMovies\\nTelevision\\nPop Culture\\nFood\\nArt & Design \\nPerforming Arts\\n\\n\\n\\n\\nMusic\\nExpand/collapse submenu for Music\\n\\n\\n\\n        Tiny Desk\\n    \\n\\n\\n        All Songs Considered\\n    \\n\\n\\n        Turning The Tables\\n    \\n\\n\\n        Music News\\n    \\n\\n\\n        New Music\\n    \\n\\n\\n        Best Music Of 2019\\n    \\n\\n\\n\\n\\nShows & Podcasts\\nExpand/collapse submenu for Shows & Podcasts\\n\\n\\nDaily\\n\\n\\n\\n\\n                                    Morning Edition\\n                                \\n\\n\\n\\n\\n                                    Weekend Edition Saturday\\n                                \\n\\n\\n\\n\\n                                    Weekend Edition Sunday\\n                                \\n\\n\\n\\n\\n                                    All Things Considered\\n                                \\n\\n\\n\\n\\n                                    Fresh Air\\n                                \\n\\n\\n\\n\\n                                    Up First\\n                                \\n\\n\\nFeatured\\n\\n\\n\\n        How I Built This with Guy Raz\\n    \\n\\n\\n\\n        Wait Wait...Don\\'t Tell Me!\\n    \\n\\n\\n\\n        Planet Money\\n    \\n\\n\\n\\n        Hidden Brain\\n    \\n\\n\\nMore Shows & Podcasts\\n\\n\\n\\n\\n\\nSearch\\n\\n\\n\\n\\n\\nNPR Shop\\n\\n\\n\\n\\n\\n\\n\\n\\n\\n\\n\\n\\n\\n\\n\\n\\n        Tiny Desk\\n    \\n\\n\\n        All Songs Considered\\n    \\n\\n\\n        Turning The Tables\\n    \\n\\n\\n        Music News\\n    \\n\\n\\n        New Music\\n    \\n\\n\\n        Best Music Of 2019\\n    \\n\\n\\n\\n\\n\\n\\n\\nAbout NPR\\nOverview\\nSupport\\nCareers\\nConnect\\nPress\\nEthics\\n\\n\\n\\n\\nWhat If The Polls Are Wrong Again? 4 Scenarios For What Might Happen In The Elections The polls show a Democratic advantage in the House and a Republican one in the Senate. But be ready for anything because surprises in politics always happen.\\n\\n\\n \\n\\n\\n\\n\\n\\nWhat If The Polls Are Wrong Again? 4 Scenarios For What Might Happen In The Elections\\n\\n\\n \\n\\nElections\\n\\n\\n\\nWhat If The Polls Are Wrong Again? 4 Scenarios For What Might Happen In The Elections\\n\\n\\n\\n\\n\\n\\n\\n\\n\\nFacebook\\nTwitter\\nFlipboard\\nEmail\\n\\n\\n\\n\\n\\n\\n\\n\\n\\nNovember 5, 20184:49 PM ET\\n\\n\\n\\n\\n\\n\\n\\n\\n\\n\\n\\n\\n\\n\\n\\n\\n      Domenico Montanaro\\n    \\n\\n\\n      Twitter\\n    \\n\\n\\n\\n\\n\\n\\n\\n\\n\\n\\n\\n\\n\\n\\nEnlarge this image\\n\\n\\n\\n\\n\\n\\n                Supporters of Missouri Democratic Sen. Claire McCaskill wait for her to arrive at a campaign stop in St. Louis on Monday.\\n                \\n                \\n                    \\n                    Scott Olson/Getty Images\\n                    \\n                \\nhide caption\\n\\n\\ntoggle caption\\n\\n\\n        \\n        Scott Olson/Getty Images\\n        \\n    \\n\\n\\n\\n\\n\\n\\n\\n\\nSupporters of Missouri Democratic Sen. Claire McCaskill wait for her to arrive at a campaign stop in St. Louis on Monday.\\n\\n            \\n            Scott Olson/Getty Images\\n            \\n        \\n\\n\\n\\nThere\\'s a lot that can happen Tuesday, the culmination of a long midterm election campaign that will provide the first nationwide measure of the U.S. electorate since Donald Trump was elected president. One narrative has become dominant: that Democrats are likely to gain control of the House and Republicans hold the Senate, if not expand their majority there. That narrative is based largely on national polls, and caution should be urged. Pollsters have made a lot of adjustments to hopefully correct what they got wrong in 2016, but they can\\'t tell you precisely who is going to show up to vote. \\n\\n \\nAnalysis \\nKey Questions The 2018 Election Will Answer\\n\\n\\n\\n\\n\\n\\nWhat\\'s more, there have been far fewer statewide and district-specific surveys than in past midterm elections. And, as it is, there are data both parties can take solace in that buoy their respective cases. So everyone should be prepared for surprises — because there always are some. That\\'s the beauty of campaigns and voting. Here are four scenarios for how election night might play out and what each could mean. 1. Democrats win the House, and Republicans hold the Senate  This is the most likely outcome, based not just on the polls but also on conversations with strategists in both parties. But they urge caution, because the races in the many districts across the country that are up for grabs are still very close. \\n\\n \\n\\n \\nPolitics \\nHere\\'s Why Democrats Are Confident They\\'ll Win The House \\n\\n\\n\\n\\n\\n\\nHow it would happen: Forget the polls; Democrats are favored to take back the House for more reasons than that. There have been a record number of retirements, reducing the built-in advantage incumbents tend to have; record numbers of candidates, especially Democratic women, have run for public office; Democrats won the off-year elections in Virginia and New Jersey; they won or fared better than expected in special elections across the country; there was high primary turnout for Democrats in many states; and there is very high early voting turnout. \\n\\n \\nElections \\nFemale Democratic House Candidates Set For A Much Easier Election Day Than GOP Women\\n\\n\\n\\n\\n\\n\\nAnd just look at how wide the playing field is — Democrats need to pick up 23 seats to take back the House, and they are targeting some 80 Republican-held seats. Republicans are competing in just eight held by Democrats. That right there is and has been a huge flashing red light for the GOP. So many of those races are running through the suburbs, where independents and wealthy, college-educated women live, both of which have consistently in polling said they disapproved of the job the president is doing and prefer to vote for a Democrat in their district. \\n\\n \\nElections \\nPoll: Nearly 4 In 5 Voters Concerned Incivility Will Lead To Violence\\n\\n\\n\\n\\n\\n\\nOne other overlooked number from the last NPR/PBS NewsHour/Marist poll: Just 54 percent of Republican women who are registered voters said they were very enthusiastic about voting in this election. Compare that with 78 percent of Republican men who are registered voters. And where do a lot of those women live? The suburbs. If GOP women, an important group that Republicans need to bolster them, stay home, that\\'s one way Democrats clean up in the House. \\n\\n \\nPolitics \\nBattle For The Senate: 10 Races That Will Determine Control\\n\\n\\n\\n\\n\\n\\nIn the Senate, on the other hand, Republicans have a very favorable landscape and are competing in conservative states held by Democrats. The fundamentals favor the GOP in these states, and if Republicans win where they should win, they will hold the Senate. \\n\\n \\nPolitics \\nAs Dems Prepare Investigative Barrage, Key White House Lawyer Jobs Remain Vacant\\n\\n\\n\\n\\n\\n\\nWhat it would mean: This would be a huge win for Democrats, as they\\'d be able to gum up Trump\\'s agenda and begin to investigate his administration, something the GOP has not done very much of. In the Senate, Republicans could still approve federal judges and Trump Supreme Court nominees, but if they want to get any big legislation done they\\'re going to have to negotiate with Democrats in the House, and possibly a Speaker Nancy Pelosi. Democrats feel they need to limit the losses in the Senate. If they can hold Republicans to net even, keeping the Senate at 51-49, or maybe lose a net of one seat, then they will be very happy. They have a much more favorable Senate landscape in 2020 and believe they will be able to take back the Senate then. 2. Republicans hold the House and Senate This would be a huge win for the GOP. \\n\\n \\nShots - Health News \\nNPR Poll: Rural Americans Are Worried About Addiction And Jobs, But Remain Optimistic\\n\\n\\n\\n\\n\\n\\nHow it would happen: A record turnout is expected Tuesday — perhaps higher than any time in the past 50 years for a midterm — but, as in 2016, Trump voters would have to dominate. Rural voters would have to turn out at higher-than-expected rates, causing the polls to be wrong (again). Meanwhile, young voters and Latinos would have to stay home. (It is supposed to rain on the East Coast Tuesday, which could depress low-propensity-voter turnout.) \\n\\n \\nElections \\nTaking Back The House Could Be \\'Life And Death\\' For Democrats \\n\\n\\n\\n\\n\\n\\nAll of those close House races would have to tip Republicans\\' way, something that\\'s very possible given the conservative lean of those districts and the distrust of the media, purposefully stoked by the president. And who pays for polls for the most part? Big media organizations. \\n\\n\\n\\nEnlarge this image\\n\\n\\n\\n\\n\\n\\n                President Trump acknowledges supporters during a campaign rally for Rep. Marsha Blackburn, R-Tenn., and other Tennessee Republican candidates on Monday in Chattanooga, Tenn.\\n                \\n                \\n                    \\n                    Alex Wong/Getty Images\\n                    \\n                \\nhide caption\\n\\n\\ntoggle caption\\n\\n\\n        \\n        Alex Wong/Getty Images\\n        \\n    \\n\\n\\n\\n\\n\\n\\n\\n\\nPresident Trump acknowledges supporters during a campaign rally for Rep. Marsha Blackburn, R-Tenn., and other Tennessee Republican candidates on Monday in Chattanooga, Tenn.\\n\\n            \\n            Alex Wong/Getty Images\\n            \\n        \\n\\n\\n\\nWhat it would mean: President Trump and Republicans would step on the gas, validated by an election cycle dominated by negative news coverage and polling that said the GOP had its back against the wall. The Affordable Care Act (aka Obamacare) would very likely be repealed once and for all. And Trump could set his sights on ousting Attorney General Jeff Sessions and other key figures at the Justice Department, possibly ending the department\\'s investigation of Russia\\'s attack on the 2016 election. \\n\\n \\nNational \\nFACT CHECK: Migrants Are Not Overwhelming The Southwest Border \\n\\n\\n\\n\\n\\n\\nWhat\\'s more, Trump\\'s strategy of demonizing immigrants would have worked — again. That was rewarded, and what message would that send? He is only going to do more of it between Wednesday and November 2020 when he stands for re-election. \\n\\n \\nPolitics \\nHow To Make Sense Of Exit Polls On Election Night\\n\\n\\n\\n\\n\\n\\nIt would also be yet another reckoning for pollsters and media organizations that pay for the surveys. The polls currently show Democrats with a razor-thin, but consistent advantage heading into Election Day. But if the polls are wrong, it should induce more than a shoulder shrug from outlets that conduct them and the news media organizations that report on them. 3. Democrats win both the House and Senate This is not seen as the likeliest of scenarios, but it\\'s not out of the realm of possibility either. It would very likely mean a massive wave and a massive shift against Trump and Republicans tied to him nationally. A lot would have to happen, especially in the Senate, for this to happen. \\n\\n \\nElections \\n\\'Miserable And Emboldened\\': If Republicans Lose The House, They\\'ll Be On Defense\\n\\n\\n\\n\\n\\n\\nHow it would happen: The path for Democrats in the House is through the suburbs, as in Scenario 1. That doesn\\'t change. But for Democrats to pull this off in the Senate, not only would voters have to side with Democratic incumbents in conservative states, but Democratic challengers would have to win in places like Nevada and Arizona, and possibly Tennessee and Texas. What it would mean: It would be a repudiation of Trump and the Republicans tied to him nationwide. It would have to trigger a degree of soul-searching — in at least some Republican corners. Trump would be faced with the choice of moderating and working with Democrats or being a lame-duck president starting in January 2019 when a new Democratic Congress is sworn in — as talk ramps up about Democratic 2020 challengers. 4. Overtime It\\'s very possible control of both the House and Senate will not be clear on election night. \\n\\n\\n\\nEnlarge this image\\n\\n\\n\\n\\n\\n\\n                A number of races are so close that it may not be possible to declare a winner on election night, leaving control of the House and Senate up in the air.\\n                \\n                \\n                    \\n                    Joe Sohm/Visions of America/UIG via Getty Images\\n                    \\n                \\nhide caption\\n\\n\\ntoggle caption\\n\\n\\n        \\n        Joe Sohm/Visions of America/UIG via Getty Images\\n        \\n    \\n\\n\\n\\n\\n\\n\\n\\n\\nA number of races are so close that it may not be possible to declare a winner on election night, leaving control of the House and Senate up in the air.\\n\\n            \\n            Joe Sohm/Visions of America/UIG via Getty Images\\n            \\n        \\n\\n\\n\\nHow it would happen: There are a half-dozen congressional races in California, for example, that are very close heading into Election Day. It\\'s possible those races are so close they will not be called on election night. They might not be called for days and possibly weeks later, especially because the vote there is counted slowly. \\n\\n \\nPolitics \\nVoter Purges Are Up, But Most Americans Won\\'t See Problems At The Polls\\n\\n\\n\\n\\n\\n\\nAdditionally, early and absentee ballots can get counted slowly and there is growing concern that many voters\\' absentee and mailed ballots could be rejected. In 2016, to the surprise of many, 319,000 absentee ballots were rejected for one reason or another. In the Senate, depending on how results from other races shake out, there is the possibility that control is not known on election night or for weeks after. Specifically, it could all come down to Mississippi. There, no candidate is polling above 50 percent heading into Election Day, and if no one gets at least 50 percent, the race heads to a runoff three weeks later. What it would mean: Imagine a scenario in which Democrats lead 50-49 on Election Day in the Senate, and the eyes of the country — and the deep pockets of out-of-state money — descend on Mississippi. The consequences would be enormous, the rancor pitched and the tension thick.\\n\\n\\n\\n2018\\nelection day\\n2016\\ntrump\\nelection night\\n2020\\npolling\\nSenate\\nHouse\\nDemocrats\\nGOP\\nRepublican\\nelection\\n\\n\\n\\n\\n\\nFacebook\\nTwitter\\nFlipboard\\nEmail\\n\\n\\n\\n\\n\\n\\n\\n\\n\\n\\n\\n\\n\\n\\n\\n\\n\\nRead & Listen\\n\\nHome\\nNews\\nArts & Life\\nMusic\\nPodcasts\\nPrograms\\n\\n\\n\\nConnect\\n\\nNewsletters\\nFacebook\\nTwitter\\nInstagram\\nContact\\nHelp\\n\\n\\n\\nAbout NPR\\n\\nOverview\\nFinances\\nPeople\\nPress\\nPublic Editor\\nCorrections\\n\\n\\n\\nGet Involved\\n\\nSupport Public Radio\\nSponsor NPR\\nNPR Careers\\nNPR Shop\\nNPR Events\\nVisit NPR\\n\\n\\n\\n\\n\\nTerms of Use\\nPrivacy\\nYour Privacy Choices\\nText Only\\n\\n\\n\\n \\n\\n\\nNPR thanks our sponsorsBecome an NPR sponsor\\n\\n\\n\\n\\n\\n\\n   (function () {\\n    var loadPageJs = function () { webpackJsonp([82,25],{0:function(n,t,c){n.exports=c(1823)},1823:function(n,t,c){\"use strict\";c.p=NPR.serverVars.webpackPublicPath,function(){var n=2,t=function(){--n<1&&function(n){c(45),c(2232),c(366),c(373),c(263),c(794),c(408),c(2237),c(407),c(2236),c(2235),c(1402),c(589),c(2229),c(1563),c(2222),c(355)}(c)}.bind(this);c.e(0,t),c.e(4,t)}.call(this)}}); };\\n    if (document.readyState === \\'complete\\') {\\n        loadPageJs();\\n    } else {\\n        window.addEventListener(\\'load\\', function load() {\\n            window.removeEventListener(\\'load\\', load, false);\\n            loadPageJs();\\n        });\\n    }\\n})();\\n\\n\\n    var _sf_async_config = _sf_async_config || {};\\n    /** CONFIGURATION START **/\\n    _sf_async_config.uid = \\'18888\\';\\n    _sf_async_config.domain = NPR.ServerConstants.cbHost;\\n    _sf_async_config.useCanonical = true;\\n\\n    /** CONFIGURATION END **/\\n    (function() {\\n        function loadChartbeat() {\\n            // Wait until the metric for chartbeat have been setup\\n            // in templates/javascript/metrics/chartbeat.js\\n            if( !!NPR.ChartbeatLoaded) {\\n                var e = document.createElement(\\'script\\');\\n                e.setAttribute(\\'language\\', \\'javascript\\');\\n                e.setAttribute(\\'type\\', \\'text/javascript\\');\\n                e.setAttribute(\\'src\\', \\'https://static.chartbeat.com/js/chartbeat.js\\');\\n                document.body.appendChild(e);\\n            } else {\\n                setTimeout(loadChartbeat, 1000);\\n            }\\n        }\\n\\n        var oldonload = window.onload;\\n        window.onload = (typeof window.onload != \\'function\\') ?\\n                loadChartbeat : function() {\\n            oldonload();\\n            window._sf_endpt = (new Date()).getTime();\\n            loadChartbeat();\\n        };\\n    })();\\n'"
      ]
     },
     "execution_count": 48,
     "metadata": {},
     "output_type": "execute_result"
    }
   ],
   "source": [
    "soup.get_text()"
   ]
  },
  {
   "cell_type": "markdown",
   "metadata": {},
   "source": [
    "There's some tricky Javascript still nesting within it, but it definitely cleaned up a bit. On other websites, you may find even clearer text extraction.\n",
    "\n",
    "As detailed in the [BeautifulSoup documentation](https://www.crummy.com/software/BeautifulSoup/bs4/doc/), the easiest way to navigate through the tags is to simply name the tag you're interested in. For example:"
   ]
  },
  {
   "cell_type": "code",
   "execution_count": 27,
   "metadata": {},
   "outputs": [
    {
     "data": {
      "text/plain": [
       "<head><script>\n",
       "   try {var _sf_startpt=(new Date()).getTime();} catch(e){}\n",
       "</script>\n",
       "<meta itemref=\"speakable\" itemscope=\"\" itemtype=\"https://schema.org/SpeakableSpecification\"/><title>What If The Polls Are Wrong Again? 4 Scenarios For What Might Happen In The Elections : NPR</title><meta content=\"[data-is-speakable]\" id=\"speakable\" itemprop=\"cssSelector\"/><meta content=\"1VqzbDm4ukeFVHOoq5LjIKA2fVKZD-EYv8cXZhKXSfU\" id=\"google-site-verification\" name=\"google-site-verification\"/><meta charset=\"utf-8\"/><meta content=\"noarchive,index,follow\" name=\"robots\"/><meta content=\"General\" name=\"Rating\"/><meta content=\"width=device-width, initial-scale=1, shrink-to-fit=no\" name=\"viewport\"/><meta name=\"npr-pjax\"/><meta content=\"2018-11-05\" name=\"date\"/><link href=\"https://www.npr.org/2018/11/05/664395755/what-if-the-polls-are-wrong-again-4-scenarios-for-what-might-happen-in-the-elect\" rel=\"canonical\"/><meta content=\"The polls show a Democratic advantage in the House and a Republican one in the Senate. But be ready for anything because surprises in politics always happen.\" name=\"description\"/><link href=\"/rss/rss.php?id=139482413\" rel=\"alternate\" title=\"Elections\" type=\"application/rss+xml\"/><link href=\"https://www.npr.org/feeds/139482413/feed.json\" rel=\"alternate\" title=\"Elections\" type=\"application/json\"/><link href=\"https://media.npr.org/templates/favicon/favicon-180x180.png\" rel=\"apple-touch-icon\" sizes=\"180x180\"/><link href=\"https://media.npr.org/templates/favicon/favicon-96x96.png\" rel=\"icon\" sizes=\"96x96\"/><link href=\"https://media.npr.org/templates/favicon/favicon-32x32.png\" rel=\"icon\" sizes=\"32x32\"/><link href=\"https://media.npr.org/templates/favicon/favicon-16x16.png\" rel=\"icon\" sizes=\"16x16\"/><meta content=\"What If The Polls Are Wrong Again? 4 Scenarios For What Might Happen In The Elections\" property=\"og:title\"/><meta content=\"https://www.npr.org/2018/11/05/664395755/what-if-the-polls-are-wrong-again-4-scenarios-for-what-might-happen-in-the-elect\" property=\"og:url\"/><meta content=\"article\" property=\"og:type\"/><meta content=\"The polls show a Democratic advantage in the House and a Republican one in the Senate. But be ready for anything because surprises in politics always happen.\" property=\"og:description\"/><meta content=\"https://media.npr.org/assets/img/2018/11/05/gettyimages-1057663456vote_wide-9fc473c80fc1f9d825f563fd94d01c766f5ff669.jpg?s=1400\" property=\"og:image\"/><meta content=\"https://media.npr.org/assets/img/2018/11/05/gettyimages-1063521758trumptenn_wide-75d4737201e2a39478b2253c9d5d9c12aec54d44.jpg?s=1400\" property=\"og:image\"/><meta content=\"https://media.npr.org/assets/img/2018/11/05/gettyimages-982602238capitollights_wide-e860d528189800297e88db8d5e739f659b4c228b.jpg?s=1400\" property=\"og:image\"/><meta content=\"NPR.org\" property=\"og:site_name\"/><meta content=\"138837436154588\" property=\"fb:app_id\"/><meta content=\"10643211755\" property=\"fb:pages\"/><meta content=\"free\" property=\"article:content_tier\"/><meta content=\"false\" property=\"article:opinion\"/><meta content=\"summary_large_image\" name=\"twitter:card\"/><meta content=\"What If The Polls Are Wrong Again? 4 Scenarios For What Might Happen In The Elections\" name=\"twitter:title\"/><meta content=\"@NPR\" name=\"twitter:site\"/><meta content=\"npr.org\" name=\"twitter:domain\"/><meta content=\"https://media.npr.org/assets/img/2018/11/05/gettyimages-1057663456vote_wide-9fc473c80fc1f9d825f563fd94d01c766f5ff669.jpg?s=1400\" name=\"twitter:image:src\"/><script id=\"npr-vars\">\n",
       "   window.NPR = window.NPR || {};\n",
       "NPR.ServerConstants = {\"cbHost\":\"npr.org\",\"webHost\":\"https:\\/\\/www.npr.org\",\"embedHost\":\"https:\\/\\/www.npr.org\",\"webHostSecure\":\"https:\\/\\/secure.npr.org\",\"apiHost\":\"https:\\/\\/api.npr.org\",\"serverMediaCache\":\"https:\\/\\/media.npr.org\",\"googleAnalyticsAccount\":\"UA-5828686-4\",\"nielsenSFCode\":\"dcr\",\"nielsenAPN\":\"NPR-dcr\",\"shouldShowHPLocalContent\":true,\"readingServiceHostname\":\"https:\\/\\/reading.api.npr.org\"};\n",
       "NPR.serverVars = {\"storyId\":\"664395755\",\"facebookAppId\":\"138837436154588\",\"webpackPublicPath\":\"https:\\/\\/s.npr.org\\/templates\\/javascript\\/dist\\/bundles\\/\",\"persistenceVersion\":\"e2193dbd58d7e71fdaffbd399767e8dc\",\"isBuildOut\":true,\"topicIds\":[\"P139482413\",\"1001\",\"1002\",\"1003\",\"1014\",\"1059\"],\"primaryTopic\":\"Elections\",\"topics\":[\"Elections\",\"News\",\"Home Page Top Stories\",\"National\",\"Politics\",\"Analysis\"],\"theme\":\"139482413\",\"aggIds\":[\"1001\",\"1002\",\"1003\",\"1014\",\"1059\",\"125950998\",\"125951073\",\"126931907\",\"126944326\",\"126953005\",\"127115490\",\"139482413\",\"162174434\",\"191676894\",\"219323468\",\"312150170\",\"360452518\",\"428799323\",\"432805936\",\"434975886\",\"497806639\",\"520216945\"],\"tagIds\":[\"2016\",\"2018\",\"2020\",\"Democrats\",\"GOP\",\"House\",\"Republican\",\"Senate\",\"election\",\"election day\",\"election night\",\"polling\",\"trump\"],\"byline\":[\"Domenico Montanaro\"],\"pubDate\":\"2018110516\",\"pageTypeId\":\"1\",\"title\":\"What If The Polls Are Wrong Again? 4 Scenarios For What Might Happen In The Elections\",\"publisherOrgId\":\"1\",\"rocketfuelCode\":20501671};\n",
       "</script>\n",
       "<script src=\"https://cdn.optimizely.com/js/11107397707.js\" type=\"text/javascript\">\n",
       "</script>\n",
       "<script src=\"https://s.npr.org/templates/javascript/lib/modernizr/modernizr.custom.js\" type=\"text/javascript\">\n",
       "</script>\n",
       "<script>\n",
       "   !function(a){function e(d){if(c[d])return c[d].exports;var f=c[d]={exports:{},id:d,loaded:!1};return a[d].call(f.exports,f,f.exports,e),f.loaded=!0,f.exports}var d=window.webpackJsonp;window.webpackJsonp=function(b,t){for(var n,r,o=0,i=[];o<b.length;o++)r=b[o],f[r]&&i.push.apply(i,f[r]),f[r]=0;for(n in t){var s=t[n];switch(typeof s){case\"object\":a[n]=function(e){var d=e.slice(1),c=e[0];return function(e,f,b){a[c].apply(this,[e,f,b].concat(d))}}(s);break;case\"function\":a[n]=s;break;default:a[n]=a[s]}}for(d&&d(b,t);i.length;)i.shift().call(null,e);if(t[0])return c[0]=0,e(0)};var c={},f={25:0};e.e=function(a,d){if(0===f[a])return d.call(null,e);if(void 0!==f[a])f[a].push(d);else{f[a]=[d];var c=document.getElementsByTagName(\"head\")[0],b=document.createElement(\"script\");b.type=\"text/javascript\",b.charset=\"utf-8\",b.async=!0,b.src=e.p+\"\"+a+\".\"+{0:\"49fa2af9befd8dbc30e6\",1:\"69edd3e871fc479eb8c4\",2:\"3872b3b03c3b0931da22\",3:\"956a99d7884e901e36cc\",4:\"f9aecab03b57f03ba253\",5:\"aee467c94af974e07087\",6:\"7996e4a910b135aa5a79\",7:\"21bed47254a36b33bbe4\",8:\"9be2e58ebfb46b745b1c\",9:\"49cab39d7a6f7fb9e7d2\",10:\"547114f11f850b9fa1fa\",11:\"8d080cdbd52ca97eb224\",12:\"8d5b1e7c21e2e4e2046e\",13:\"b0a0d682da6781b44ee2\",14:\"55fd59b9685011904ec3\",15:\"2cf00a04fb3475ebbe1d\",16:\"41426d2a26b3fcc9a511\",17:\"ea9d73affa9029cd58b8\",18:\"52692ca5ed2fd9d95412\",19:\"a42fc478315f6ded6a21\",20:\"50f54ba8c521cc1e4639\",21:\"1ae4d9830b90eb9074d3\",22:\"16a03e418a1e3303b525\",23:\"3663bbe4d7838b502ccd\",24:\"d118095c3fc5bfb33da1\",26:\"4d1f88ba95dfe94137d4\",27:\"aea4226da3ca9bfb67aa\",28:\"ccb1659a86d7746b048d\",29:\"ed2dd58790d98a9e341d\",30:\"03a8f050e4ce4e514187\",31:\"9edc89972627c3aa824a\",32:\"66d600fa8af2ed7b80a4\",33:\"98a85a2015d5d1da13b2\",34:\"332356c3462ede49fdc3\",35:\"b8aedd9580c82b654818\",36:\"719151635f84ad4f3d1a\",37:\"05169bb54299ab3ed446\",38:\"d0e270cf87a3d8d23c39\",39:\"176d9f0688e3977d0720\",40:\"f9db1daaf5f52eb8ea20\",41:\"db8c0f3e8d0191b63bde\",42:\"587fa775bd4d80b3fcad\",43:\"7d1b618a13b168f39061\",44:\"6f8616162a956a01d29a\",45:\"43885405840f8a15b9f3\",46:\"982875db8605ce73126b\",47:\"0f67f0f9a2648922e23b\",48:\"1f78d5f1e53a5bfccfdc\",49:\"49c6a90429ae47c93f12\",50:\"fb051afd23c3a9555c4e\",51:\"e169249c1dbd3d93f496\",52:\"42158cb15f746b5275e7\",53:\"7327d028fd39dda3b1ef\",54:\"333f4325f11d14cc2416\",55:\"ea607402a72ea48af3db\",56:\"b6fe4c5c04bf78d40092\",57:\"c4968b1ebe10a3c844aa\",58:\"6a7c4ae2f77e5e8ef4d4\",59:\"e8f53685884b3615c752\",60:\"12192cd74746693c33d1\",61:\"9bb9a3c7dee82a824793\",62:\"beafbe078b04d8c91a74\",63:\"3b64b41fb887b26e87d9\",64:\"60993ed17bd80c9d1f0d\",65:\"f4505f98cc650d7bdd1a\",66:\"7056e116c0a09ad6a16a\",67:\"2b41ea759717ab03c014\",68:\"42fa59d4ebe0d1246621\",69:\"28bfa03ba196effa6622\",70:\"0d52762c253a8eb70fc7\",71:\"95135f0052fe32b1fad4\",72:\"64978efdc5e0457351f5\",73:\"e6baf483431fab9d40b3\",74:\"ee3688db87d27a26bcce\",75:\"61286cc78ffee0dcdb6e\",76:\"6aca752f7cd5102228c9\",77:\"3b36a7b3221cb06c7944\",78:\"ac06be6a4710d119c354\",79:\"239660d5b1266e6dd66f\",80:\"c9903d8f4df8f6e9cff2\",81:\"55a0717a22649bdb4a34\",82:\"74ad754dfe1a479aa0e4\",83:\"40a44ca4f990252bb248\",84:\"13ea4ee4e3a55788a36a\",85:\"5f80a09e98ed012e83d1\"}[a]+\".chunk.js\",c.appendChild(b)}},e.m=a,e.c=c,e.p=\"/templates/javascript/dist/bundles/\"}(function(a){for(var e in a)if(Object.prototype.hasOwnProperty.call(a,e))switch(typeof a[e]){case\"function\":break;case\"object\":a[e]=function(e){var d=e.slice(1),c=a[e[0]];return function(a,e,f){c.apply(this,[a,e,f].concat(d))}}(a[e]);break;default:a[e]=a[a[e]]}return a}([]));\n",
       "</script>\n",
       "<script src=\"https://s.npr.org/templates/javascript/dist/bundles/globalNavigationDropdowns-aea4226da3ca9bfb67aa.js\" type=\"text/javascript\">\n",
       "</script>\n",
       "<link data-persist=\"true\" href=\"https://s.npr.org/templates/javascript/dist/bundles/persistent-css-2497a8623936494b5950.css\" media=\"screen, print\" rel=\"stylesheet\"/><link href=\"https://s.npr.org/templates/javascript/dist/bundles/newsStory-css-2497a8623936494b5950.css\" media=\"screen, print\" rel=\"stylesheet\"/><link href=\"https://s.npr.org/branding/sections/elections/branding.css\" media=\"screen\" rel=\"stylesheet\"/><link href=\"https://s.npr.org/include/overridecss/theme139482413.css\" media=\"screen\" rel=\"stylesheet\"/><script type=\"text/javascript\">\n",
       "   document.domain=\"npr.org\";\n",
       "</script>\n",
       "</head>"
      ]
     },
     "execution_count": 27,
     "metadata": {},
     "output_type": "execute_result"
    }
   ],
   "source": [
    "soup.head # fetches the head tag, which ecompasses the title tag"
   ]
  },
  {
   "cell_type": "markdown",
   "metadata": {},
   "source": [
    "Usually head tags are small and only contain the most important contents; however, here, there's some Javascript code. The ``title`` tag resides within the head tag."
   ]
  },
  {
   "cell_type": "code",
   "execution_count": 29,
   "metadata": {},
   "outputs": [
    {
     "data": {
      "text/plain": [
       "<title>What If The Polls Are Wrong Again? 4 Scenarios For What Might Happen In The Elections : NPR</title>"
      ]
     },
     "execution_count": 29,
     "metadata": {},
     "output_type": "execute_result"
    }
   ],
   "source": [
    "soup.title # we can specifically call for the title tag"
   ]
  },
  {
   "cell_type": "markdown",
   "metadata": {},
   "source": [
    "This result includes the tag itself. To get just the text within the tags, we can use the ``.name`` property."
   ]
  },
  {
   "cell_type": "code",
   "execution_count": 17,
   "metadata": {},
   "outputs": [
    {
     "data": {
      "text/plain": [
       "'What If The Polls Are Wrong Again? 4 Scenarios For What Might Happen In The Elections : NPR'"
      ]
     },
     "execution_count": 17,
     "metadata": {},
     "output_type": "execute_result"
    }
   ],
   "source": [
    "soup.title.string"
   ]
  },
  {
   "cell_type": "markdown",
   "metadata": {},
   "source": [
    "We can navigate to the parent tag (the tag that encompasses the current tag) via the ``.parent`` attribute:"
   ]
  },
  {
   "cell_type": "code",
   "execution_count": 32,
   "metadata": {},
   "outputs": [
    {
     "data": {
      "text/plain": [
       "'head'"
      ]
     },
     "execution_count": 32,
     "metadata": {},
     "output_type": "execute_result"
    }
   ],
   "source": [
    "soup.title.parent.name"
   ]
  },
  {
   "cell_type": "markdown",
   "metadata": {},
   "source": [
    "# 3. Parse the page with Beautiful Soup\n",
    "In HTML code, paragraphs are often denoated with a ``<p>`` tag."
   ]
  },
  {
   "cell_type": "code",
   "execution_count": 34,
   "metadata": {},
   "outputs": [
    {
     "data": {
      "text/plain": [
       "<p class=\"byline__name byline__name--block\">\n",
       "<a data-metrics='{\"action\":\"Click Byline\",\"category\":\"Story Metadata\"}' href=\"https://www.npr.org/people/392602474/domenico-montanaro\" rel=\"author\">\n",
       "      Domenico Montanaro\n",
       "    </a>\n",
       "</p>"
      ]
     },
     "execution_count": 34,
     "metadata": {},
     "output_type": "execute_result"
    }
   ],
   "source": [
    "soup.p"
   ]
  },
  {
   "cell_type": "markdown",
   "metadata": {},
   "source": [
    "This returns the first paragraph, and we can access properties of the given tag with the same syntax we use for dictionaries and dataframes:"
   ]
  },
  {
   "cell_type": "code",
   "execution_count": 36,
   "metadata": {},
   "outputs": [
    {
     "data": {
      "text/plain": [
       "['byline__name', 'byline__name--block']"
      ]
     },
     "execution_count": 36,
     "metadata": {},
     "output_type": "execute_result"
    }
   ],
   "source": [
    "soup.p['class']"
   ]
  },
  {
   "cell_type": "markdown",
   "metadata": {},
   "source": [
    "In addition to 'paragraph' (aka p) tags, link tags are also very common and are denoted by ``<a>`` tags"
   ]
  },
  {
   "cell_type": "code",
   "execution_count": 39,
   "metadata": {},
   "outputs": [
    {
     "data": {
      "text/plain": [
       "<a class=\"skiplink\" href=\"#mainContent\">Skip to main content</a>"
      ]
     },
     "execution_count": 39,
     "metadata": {},
     "output_type": "execute_result"
    }
   ],
   "source": [
    "soup.a"
   ]
  },
  {
   "cell_type": "markdown",
   "metadata": {},
   "source": [
    "It is called the a tag because links are also called 'anchors'. Nearly every page has multiple paragraphs and anchors, so how do we access the subsequent tags? There are two common functions, `.find()` and `.find_all()`."
   ]
  },
  {
   "cell_type": "code",
   "execution_count": 45,
   "metadata": {},
   "outputs": [
    {
     "data": {
      "text/plain": [
       "<title>What If The Polls Are Wrong Again? 4 Scenarios For What Might Happen In The Elections : NPR</title>"
      ]
     },
     "execution_count": 45,
     "metadata": {},
     "output_type": "execute_result"
    }
   ],
   "source": [
    "soup.find('title')"
   ]
  },
  {
   "cell_type": "code",
   "execution_count": 46,
   "metadata": {},
   "outputs": [
    {
     "data": {
      "text/plain": [
       "[<title>What If The Polls Are Wrong Again? 4 Scenarios For What Might Happen In The Elections : NPR</title>]"
      ]
     },
     "execution_count": 46,
     "metadata": {},
     "output_type": "execute_result"
    }
   ],
   "source": [
    "soup.find_all('title')"
   ]
  },
  {
   "cell_type": "markdown",
   "metadata": {},
   "source": [
    "Here, the results were seemingly the same, since there is only one title to a webpage. However, you'll notice that ``.find_all()`` returned a list, not a single item. Sure, there was only one item in the list, but it returned a list. As the name implies, find_all() returns all items that match the passed-in tag."
   ]
  },
  {
   "cell_type": "code",
   "execution_count": 47,
   "metadata": {},
   "outputs": [
    {
     "data": {
      "text/plain": [
       "[<a class=\"skiplink\" href=\"#mainContent\">Skip to main content</a>,\n",
       " <a class=\"skiplink\" href=\"https://help.npr.org/customer/en/portal/articles/2535181-what-are-the-keyboard-shortcuts-for-using-the-npr-org-audio-player-\">Keyboard shortcuts for audio player</a>,\n",
       " <a data-metrics-action=\"click npr logo\" href=\"/\">\n",
       " <img alt=\"NPR logo\" src=\"https://media.npr.org/chrome_svg/npr-logo.svg\"/>\n",
       " </a>,\n",
       " <a data-metrics-action=\"click npr shop\" href=\"https://shop.npr.org\">NPR Shop</a>,\n",
       " <a data-metrics-action=\"click npr logo\" href=\"/\">Home</a>,\n",
       " <a data-metrics-action=\"click news\" href=\"/sections/news/\">News</a>,\n",
       " <a data-metrics-action=\"click national\" href=\"/sections/national/\">National</a>,\n",
       " <a data-metrics-action=\"click world\" href=\"/sections/world/\">World</a>,\n",
       " <a data-metrics-action=\"click politics\" href=\"/sections/politics/\">Politics</a>,\n",
       " <a data-metrics-action=\"click business\" href=\"/sections/business/\">Business</a>,\n",
       " <a data-metrics-action=\"click health\" href=\"/sections/health/\">Health</a>,\n",
       " <a data-metrics-action=\"click science\" href=\"/sections/science/\">Science</a>,\n",
       " <a data-metrics-action=\"click technology\" href=\"/sections/technology/\">Technology</a>,\n",
       " <a data-metrics-action=\"click race &amp; culture\" href=\"/sections/codeswitch/\">Race &amp; Culture</a>,\n",
       " <a data-metrics-action=\"click arts &amp; life\" href=\"/sections/arts/\">Arts &amp; Life</a>,\n",
       " <a data-metrics-action=\"click books\" href=\"/books/\">Books</a>,\n",
       " <a data-metrics-action=\"click movies\" href=\"/sections/movies/\">Movies</a>,\n",
       " <a data-metrics-action=\"click television\" href=\"/sections/television/\">Television</a>,\n",
       " <a data-metrics-action=\"click pop culture\" href=\"/sections/pop-culture/\">Pop Culture</a>,\n",
       " <a data-metrics-action=\"click food\" href=\"/sections/food/\">Food</a>,\n",
       " <a data-metrics-action=\"click art &amp; design\" href=\"/sections/art-design/\">Art &amp; Design</a>,\n",
       " <a data-metrics-action=\"click performing arts\" href=\"/sections/performing-arts/\">Performing Arts</a>,\n",
       " <a data-metrics-action=\"click music\" href=\"/music/\">Music</a>,\n",
       " <a data-metrics-action=\"click tiny desk\" href=\"https://www.npr.org/series/tiny-desk-concerts/\">\n",
       "         Tiny Desk\n",
       "     </a>,\n",
       " <a data-metrics-action=\"click all songs considered\" href=\"https://www.npr.org/sections/allsongs/\">\n",
       "         All Songs Considered\n",
       "     </a>,\n",
       " <a data-metrics-action=\"click turning the tables\" href=\"https://www.npr.org/series/538009815/turning-the-tables\">\n",
       "         Turning The Tables\n",
       "     </a>,\n",
       " <a data-metrics-action=\"click music news\" href=\"https://www.npr.org/sections/music-news/\">\n",
       "         Music News\n",
       "     </a>,\n",
       " <a data-metrics-action=\"click new music\" href=\"https://www.npr.org/sections/new-music/\">\n",
       "         New Music\n",
       "     </a>,\n",
       " <a data-metrics-action=\"click best music of 2019\" href=\"https://www.npr.org/series/689345495/best-music-of-2019\">\n",
       "         Best Music Of 2019\n",
       "     </a>,\n",
       " <a data-metrics-action=\"click shows &amp; podcasts\" href=\"/programs/\">Shows &amp; Podcasts</a>,\n",
       " <a data-metrics-action=\"click morning edition\" href=\"/programs/morning-edition/\">\n",
       " <img alt=\"\" src=\"https://media.npr.org/chrome/programs/logos/morning-edition.jpg\"/>\n",
       "                                     Morning Edition\n",
       "                                 </a>,\n",
       " <a data-metrics-action=\"click weekend edition saturday\" href=\"/programs/weekend-edition-saturday/\">\n",
       " <img alt=\"\" src=\"https://media.npr.org/assets/img/2019/02/26/we_otherentitiestemplatesat_sq-cbde87a2fa31b01047441e6f34d2769b0287bcd4-s100-c85.png\"/>\n",
       "                                     Weekend Edition Saturday\n",
       "                                 </a>,\n",
       " <a data-metrics-action=\"click weekend edition sunday\" href=\"/programs/weekend-edition-sunday/\">\n",
       " <img alt=\"\" src=\"https://media.npr.org/assets/img/2019/02/26/we_otherentitiestemplatesun_sq-4a03b35e7e5adfa446aec374523a578d54dc9bf5-s100-c85.png\"/>\n",
       "                                     Weekend Edition Sunday\n",
       "                                 </a>,\n",
       " <a data-metrics-action=\"click all things considered\" href=\"/programs/all-things-considered/\">\n",
       " <img alt=\"\" src=\"https://media.npr.org/chrome/programs/logos/all-things-considered.png\"/>\n",
       "                                     All Things Considered\n",
       "                                 </a>,\n",
       " <a data-metrics-action=\"click fresh air\" href=\"/programs/fresh-air/\">\n",
       " <img alt=\"\" src=\"https://media.npr.org/chrome/programs/logos/fresh-air.png\"/>\n",
       "                                     Fresh Air\n",
       "                                 </a>,\n",
       " <a data-metrics-action=\"click up first\" href=\"/podcasts/510318/up-first\">\n",
       " <img alt=\"\" src=\"https://media.npr.org/chrome/programs/logos/up-first.jpg\"/>\n",
       "                                     Up First\n",
       "                                 </a>,\n",
       " <a data-metrics-action=\"click how i built this with guy raz\" href=\"https://www.npr.org/podcasts/510313/how-i-built-this\">\n",
       " <img alt=\"\" src=\"https://media.npr.org/assets/img/2018/08/03/npr_hibt_podcasttile_sq-98320b282169a8cea04a406530e6e7b957665b3f.jpg?s=100\"/>\n",
       "         How I Built This with Guy Raz\n",
       "     </a>,\n",
       " <a data-metrics-action=\"click wait wait...don't tell me!\" href=\"https://www.npr.org/podcasts/344098539/wait-wait-don-t-tell-me\">\n",
       " <img alt=\"\" src=\"https://media.npr.org/assets/img/2019/05/23/screen-shot-2019-05-23-at-8.46.21-am_sq-7dcea391e7a87ca3569fe3d2047dda0144e5d86f.png?s=100\"/>\n",
       "         Wait Wait...Don't Tell Me!\n",
       "     </a>,\n",
       " <a data-metrics-action=\"click planet money\" href=\"https://www.npr.org/podcasts/510289/planet-money\">\n",
       " <img alt=\"\" src=\"https://media.npr.org/assets/img/2018/08/02/npr_planetmoney_podcasttile_sq-7b7fab0b52fd72826936c3dbe51cff94889797a0.jpg?s=100\"/>\n",
       "         Planet Money\n",
       "     </a>,\n",
       " <a data-metrics-action=\"click hidden brain\" href=\"https://www.npr.org/podcasts/510308/hidden-brain\">\n",
       " <img alt=\"\" src=\"https://media.npr.org/assets/img/2018/08/03/npr_hiddenbrain_podcasttile_sq-270ab642de6948802f485c6ad1f087239ef6e324.jpg?s=100\"/>\n",
       "         Hidden Brain\n",
       "     </a>,\n",
       " <a data-metrics-action=\"click all programs\" href=\"/programs/\">More Shows &amp; Podcasts</a>,\n",
       " <a data-metrics-action=\"click search\" href=\"/search\" id=\"navigation_dropdown-search\">Search</a>,\n",
       " <a data-metrics-action=\"click npr shop\" href=\"https://shop.npr.org\">NPR Shop</a>,\n",
       " <a data-metrics-action=\"click npr music logo\" href=\"/music/\">\n",
       " <img alt=\"NPR Music\" class=\"music-logo\" src=\"https://media.npr.org/chrome_svg/music-logo-dark.svg\"/>\n",
       " <img alt=\"NPR Music\" class=\"music-logo-alt\" src=\"https://media.npr.org/chrome_svg/music-logo-light.svg\"/>\n",
       " </a>,\n",
       " <a data-metrics-action=\"click tiny desk\" href=\"https://www.npr.org/series/tiny-desk-concerts/\">\n",
       "         Tiny Desk\n",
       "     </a>,\n",
       " <a data-metrics-action=\"click all songs considered\" href=\"https://www.npr.org/sections/allsongs/\">\n",
       "         All Songs Considered\n",
       "     </a>,\n",
       " <a data-metrics-action=\"click turning the tables\" href=\"https://www.npr.org/series/538009815/turning-the-tables\">\n",
       "         Turning The Tables\n",
       "     </a>,\n",
       " <a data-metrics-action=\"click music news\" href=\"https://www.npr.org/sections/music-news/\">\n",
       "         Music News\n",
       "     </a>,\n",
       " <a data-metrics-action=\"click new music\" href=\"https://www.npr.org/sections/new-music/\">\n",
       "         New Music\n",
       "     </a>,\n",
       " <a data-metrics-action=\"click best music of 2019\" href=\"https://www.npr.org/series/689345495/best-music-of-2019\">\n",
       "         Best Music Of 2019\n",
       "     </a>,\n",
       " <a data-metrics-action=\"click about npr\" href=\"/about/\">About NPR</a>,\n",
       " <a data-metrics-action=\"click overview\" href=\"/overview/\">Overview</a>,\n",
       " <a data-metrics-action=\"click support\" href=\"/support/\">Support</a>,\n",
       " <a data-metrics-action=\"click careers\" href=\"/careers/\">Careers</a>,\n",
       " <a data-metrics-action=\"click connect\" href=\"/connect/\">Connect</a>,\n",
       " <a data-metrics-action=\"click press\" href=\"/press/\">Press</a>,\n",
       " <a data-metrics-action=\"click ethics\" href=\"/ethics/\">Ethics</a>,\n",
       " <a class=\"nprhome nprhome-news\" data-metrics='{\"category\":\"global navigation\",\"action\":\"click npr logo\",\"label\":\"\\/\"}' href=\"/\">\n",
       " <img alt=\"NPR logo\" src=\"https://media.npr.org/chrome_svg/npr-logo.svg\"/>\n",
       " </a>,\n",
       " <a class=\"title\" href=\"#\">\n",
       " <b>What If The Polls Are Wrong Again? 4 Scenarios For What Might Happen In The Elections</b>\n",
       " </a>,\n",
       " <a id=\"mainContent\"></a>,\n",
       " <a href=\"https://www.npr.org/sections/elections/\">Elections</a>,\n",
       " <a data-metrics='{\"action\":\"Click Byline\",\"category\":\"Story Metadata\"}' href=\"https://www.npr.org/people/392602474/domenico-montanaro\" rel=\"author\">\n",
       " <img alt=\"Domenico Montanaro - 2015\" class=\"img\" src=\"https://media.npr.org/assets/img/2015/03/24/domenico_montanaro_npr_007_sq-91c49487814945192035ed885c8239a7fcbed9bd-s100-c85.jpg\"/>\n",
       " </a>,\n",
       " <a data-metrics='{\"action\":\"Click Byline\",\"category\":\"Story Metadata\"}' href=\"https://www.npr.org/people/392602474/domenico-montanaro\" rel=\"author\">\n",
       "       Domenico Montanaro\n",
       "     </a>,\n",
       " <a class=\"byline__social-handle byline__social-handle--5\" data-metrics='{\"action\":\"Click Social Handle\",\"category\":\"Story Metadata\"}' href=\"https://www.twitter.com/DomenicoNPR\">\n",
       "       Twitter\n",
       "     </a>,\n",
       " <a class=\"enlargelink\" href=\"https://media.npr.org/assets/img/2018/11/05/gettyimages-1057663456vote_wide-9fc473c80fc1f9d825f563fd94d01c766f5ff669-s1200.jpg\">Enlarge this image</a>,\n",
       " <a data-metrics='{\"category\":\"Story to Story\",\"action\":\"Click Internal Link\",\"label\":\"https:\\/\\/www.npr.org\\/2018\\/11\\/04\\/663968176\\/key-questions-the-2018-election-will-answer\"}' href=\"https://www.npr.org/2018/11/04/663968176/key-questions-the-2018-election-will-answer\" id=\"featuredStackSquareImage663968176\"><img alt=\"Key Questions The 2018 Election Will Answer\" class=\"img lazyOnLoad\" data-original=\"https://media.npr.org/assets/img/2018/11/03/ap_18306730245179_sq-5e7137b77f967ca66c441eaa938895edd248264e-s100.jpg\" src=\"https://media.npr.org/assets/img/2018/11/03/ap_18306730245179_sq-5e7137b77f967ca66c441eaa938895edd248264e-s100-c15.jpg\"/></a>,\n",
       " <a href=\"https://www.npr.org/sections/analysis/\">Analysis </a>,\n",
       " <a data-metrics='{\"category\":\"Story to Story\",\"action\":\"Click Internal Link\",\"label\":\"https:\\/\\/www.npr.org\\/2018\\/11\\/04\\/663968176\\/key-questions-the-2018-election-will-answer\"}' href=\"https://www.npr.org/2018/11/04/663968176/key-questions-the-2018-election-will-answer\">Key Questions The 2018 Election Will Answer</a>,\n",
       " <a data-metrics='{\"category\":\"Story to Story\",\"action\":\"Click Internal Link\",\"label\":\"https:\\/\\/www.npr.org\\/2018\\/11\\/01\\/662794792\\/heres-why-democrats-are-confident-they-ll-win-the-house\"}' href=\"https://www.npr.org/2018/11/01/662794792/heres-why-democrats-are-confident-they-ll-win-the-house\" id=\"featuredStackSquareImage662794792\"><img alt=\"Here's Why Democrats Are Confident They'll Win The House \" class=\"img lazyOnLoad\" data-original=\"https://media.npr.org/assets/img/2018/10/31/gettyimages-974323074_sq-86948ba36a45648f6813632f4ae09a61f6278565-s100.jpg\" src=\"https://media.npr.org/assets/img/2018/10/31/gettyimages-974323074_sq-86948ba36a45648f6813632f4ae09a61f6278565-s100-c15.jpg\"/></a>,\n",
       " <a href=\"https://www.npr.org/sections/politics/\">Politics </a>,\n",
       " <a data-metrics='{\"category\":\"Story to Story\",\"action\":\"Click Internal Link\",\"label\":\"https:\\/\\/www.npr.org\\/2018\\/11\\/01\\/662794792\\/heres-why-democrats-are-confident-they-ll-win-the-house\"}' href=\"https://www.npr.org/2018/11/01/662794792/heres-why-democrats-are-confident-they-ll-win-the-house\">Here's Why Democrats Are Confident They'll Win The House </a>,\n",
       " <a href=\"https://www.npr.org/2018/11/01/662794792/heres-why-democrats-are-confident-they-ll-win-the-house\">Democrats are favored to take back the House</a>,\n",
       " <a href=\"https://www.npr.org/2018/11/03/663466805/democratic-women-house-candidates-set-for-a-much-easier-election-day-than-gop-wo\">especially Democratic women</a>,\n",
       " <a data-metrics='{\"category\":\"Story to Story\",\"action\":\"Click Internal Link\",\"label\":\"https:\\/\\/www.npr.org\\/2018\\/11\\/03\\/663466805\\/democratic-women-house-candidates-set-for-a-much-easier-election-day-than-gop-wo\"}' href=\"https://www.npr.org/2018/11/03/663466805/democratic-women-house-candidates-set-for-a-much-easier-election-day-than-gop-wo\" id=\"featuredStackSquareImage663466805\"><img alt=\"Female Democratic House Candidates Set For A Much Easier Election Day Than GOP Women\" class=\"img lazyOnLoad\" data-original=\"https://media.npr.org/assets/img/2018/11/02/gettyimages-1062257472_sq-23dd8a592523eb63d7b263e3fc2dcd46a7e2600f-s100.jpg\" src=\"https://media.npr.org/assets/img/2018/11/02/gettyimages-1062257472_sq-23dd8a592523eb63d7b263e3fc2dcd46a7e2600f-s100-c15.jpg\"/></a>,\n",
       " <a href=\"https://www.npr.org/sections/elections/\">Elections </a>,\n",
       " <a data-metrics='{\"category\":\"Story to Story\",\"action\":\"Click Internal Link\",\"label\":\"https:\\/\\/www.npr.org\\/2018\\/11\\/03\\/663466805\\/democratic-women-house-candidates-set-for-a-much-easier-election-day-than-gop-wo\"}' href=\"https://www.npr.org/2018/11/03/663466805/democratic-women-house-candidates-set-for-a-much-easier-election-day-than-gop-wo\">Female Democratic House Candidates Set For A Much Easier Election Day Than GOP Women</a>,\n",
       " <a data-metrics='{\"category\":\"Story to Story\",\"action\":\"Click Internal Link\",\"label\":\"https:\\/\\/www.npr.org\\/2018\\/11\\/01\\/662730647\\/poll-nearly-4-in-5-voters-concerned-incivility-will-lead-to-violence\"}' href=\"https://www.npr.org/2018/11/01/662730647/poll-nearly-4-in-5-voters-concerned-incivility-will-lead-to-violence\" id=\"featuredStackSquareImage662730647\"><img alt=\"Poll: Nearly 4 In 5 Voters Concerned Incivility Will Lead To Violence\" class=\"img lazyOnLoad\" data-original=\"https://media.npr.org/assets/img/2018/10/31/gettyimages-1055522638trumpprotest_sq-ee84b30f7a28a6e9f4b9bfc59ce4c4b90fd1cd27-s100.jpg\" src=\"https://media.npr.org/assets/img/2018/10/31/gettyimages-1055522638trumpprotest_sq-ee84b30f7a28a6e9f4b9bfc59ce4c4b90fd1cd27-s100-c15.jpg\"/></a>,\n",
       " <a href=\"https://www.npr.org/sections/elections/\">Elections </a>,\n",
       " <a data-metrics='{\"category\":\"Story to Story\",\"action\":\"Click Internal Link\",\"label\":\"https:\\/\\/www.npr.org\\/2018\\/11\\/01\\/662730647\\/poll-nearly-4-in-5-voters-concerned-incivility-will-lead-to-violence\"}' href=\"https://www.npr.org/2018/11/01/662730647/poll-nearly-4-in-5-voters-concerned-incivility-will-lead-to-violence\">Poll: Nearly 4 In 5 Voters Concerned Incivility Will Lead To Violence</a>,\n",
       " <a href=\"https://www.npr.org/2018/11/01/662730647/poll-nearly-4-in-5-voters-concerned-incivility-will-lead-to-violence\">the last NPR/PBS NewsHour/Marist poll</a>,\n",
       " <a data-metrics='{\"category\":\"Story to Story\",\"action\":\"Click Internal Link\",\"label\":\"https:\\/\\/www.npr.org\\/2018\\/10\\/16\\/656970406\\/battle-for-the-senate-10-races-that-will-determine-control\"}' href=\"https://www.npr.org/2018/10/16/656970406/battle-for-the-senate-10-races-that-will-determine-control\" id=\"featuredStackSquareImage656970406\"><img alt=\"Battle For The Senate: 10 Races That Will Determine Control\" class=\"img lazyOnLoad\" data-original=\"https://media.npr.org/assets/img/2018/10/15/senate-race-nd_sq-17ab1a5762ec244f5e7876df2b4ecef7ea1675d4-s100.png\" src=\"https://media.npr.org/assets/img/2018/10/15/senate-race-nd_sq-17ab1a5762ec244f5e7876df2b4ecef7ea1675d4-s100-c15.png\"/></a>,\n",
       " <a href=\"https://www.npr.org/sections/politics/\">Politics </a>,\n",
       " <a data-metrics='{\"category\":\"Story to Story\",\"action\":\"Click Internal Link\",\"label\":\"https:\\/\\/www.npr.org\\/2018\\/10\\/16\\/656970406\\/battle-for-the-senate-10-races-that-will-determine-control\"}' href=\"https://www.npr.org/2018/10/16/656970406/battle-for-the-senate-10-races-that-will-determine-control\">Battle For The Senate: 10 Races That Will Determine Control</a>,\n",
       " <a href=\"https://www.npr.org/2018/10/16/656970406/battle-for-the-senate-10-races-that-will-determine-control\">are competing in conservative states held by Democrats</a>,\n",
       " <a data-metrics='{\"category\":\"Story to Story\",\"action\":\"Click Internal Link\",\"label\":\"https:\\/\\/www.npr.org\\/2018\\/11\\/02\\/662112853\\/democrats-say-house-majority-would-mean-investigative-barrage-not-impeachment\"}' href=\"https://www.npr.org/2018/11/02/662112853/democrats-say-house-majority-would-mean-investigative-barrage-not-impeachment\" id=\"featuredStackSquareImage662112853\"><img alt=\"As Dems Prepare Investigative Barrage, Key White House Lawyer Jobs Remain Vacant\" class=\"img lazyOnLoad\" data-original=\"https://media.npr.org/assets/img/2018/10/31/gettyimages-973240628_sq-2732f652e321498f69cd62e21eda3b0f2aa49c91-s100.jpg\" src=\"https://media.npr.org/assets/img/2018/10/31/gettyimages-973240628_sq-2732f652e321498f69cd62e21eda3b0f2aa49c91-s100-c15.jpg\"/></a>,\n",
       " <a href=\"https://www.npr.org/sections/politics/\">Politics </a>,\n",
       " <a data-metrics='{\"category\":\"Story to Story\",\"action\":\"Click Internal Link\",\"label\":\"https:\\/\\/www.npr.org\\/2018\\/11\\/02\\/662112853\\/democrats-say-house-majority-would-mean-investigative-barrage-not-impeachment\"}' href=\"https://www.npr.org/2018/11/02/662112853/democrats-say-house-majority-would-mean-investigative-barrage-not-impeachment\">As Dems Prepare Investigative Barrage, Key White House Lawyer Jobs Remain Vacant</a>,\n",
       " <a href=\"https://www.npr.org/2018/11/02/662112853/democrats-say-house-majority-would-mean-investigative-barrage-not-impeachment\">and begin to investigate his administration</a>,\n",
       " <a href=\"https://www.npr.org/2018/10/27/660643999/trump-republicans-continue-remaking-the-federal-courts-even-as-senate-on-recess\">Republicans could still approve federal judges and Trump Supreme Court nominees</a>,\n",
       " <a data-metrics='{\"category\":\"Story to Story\",\"action\":\"Click Internal Link\",\"label\":\"https:\\/\\/www.npr.org\\/sections\\/health-shots\\/2018\\/10\\/16\\/656900971\\/npr-poll-rural-americans-are-worried-about-addiction-and-jobs-but-remain-optimis\"}' href=\"https://www.npr.org/sections/health-shots/2018/10/16/656900971/npr-poll-rural-americans-are-worried-about-addiction-and-jobs-but-remain-optimis\" id=\"featuredStackSquareImage656900971\"><img alt=\"NPR Poll: Rural Americans Are Worried About Addiction And Jobs, But Remain Optimistic\" class=\"img lazyOnLoad\" data-original=\"https://media.npr.org/assets/img/2018/10/15/rural-poll-promo-1_sq-de12fba6c18d0e3e6eb007f2a211b4c867456c1d-s100.png\" src=\"https://media.npr.org/assets/img/2018/10/15/rural-poll-promo-1_sq-de12fba6c18d0e3e6eb007f2a211b4c867456c1d-s100-c15.png\"/></a>,\n",
       " <a href=\"https://www.npr.org/sections/health-shots/\">Shots - Health News </a>,\n",
       " <a data-metrics='{\"category\":\"Story to Story\",\"action\":\"Click Internal Link\",\"label\":\"https:\\/\\/www.npr.org\\/sections\\/health-shots\\/2018\\/10\\/16\\/656900971\\/npr-poll-rural-americans-are-worried-about-addiction-and-jobs-but-remain-optimis\"}' href=\"https://www.npr.org/sections/health-shots/2018/10/16/656900971/npr-poll-rural-americans-are-worried-about-addiction-and-jobs-but-remain-optimis\">NPR Poll: Rural Americans Are Worried About Addiction And Jobs, But Remain Optimistic</a>,\n",
       " <a href=\"https://www.npr.org/2018/10/18/658255884/voter-turnout-could-hit-50-year-record-for-midterm-elections\">A record turnout is expected Tuesday</a>,\n",
       " <a href=\"https://www.usatoday.com/story/news/nation/2018/11/05/election-day-weather-forecast-big-storm-blast-eastern-us/1891149002/\">It is supposed to rain on the East Coast Tuesday</a>,\n",
       " <a data-metrics='{\"category\":\"Story to Story\",\"action\":\"Click Internal Link\",\"label\":\"https:\\/\\/www.npr.org\\/2018\\/11\\/05\\/662122877\\/taking-back-the-house-could-be-life-and-death-for-democrats\"}' href=\"https://www.npr.org/2018/11/05/662122877/taking-back-the-house-could-be-life-and-death-for-democrats\" id=\"featuredStackSquareImage662122877\"><img alt=\"Taking Back The House Could Be 'Life And Death' For Democrats \" class=\"img lazyOnLoad\" data-original=\"https://media.npr.org/assets/img/2018/11/02/ap_18249605913127_sq-92d88328b6f3471cb745cefc23bc840acaaac281-s100.jpg\" src=\"https://media.npr.org/assets/img/2018/11/02/ap_18249605913127_sq-92d88328b6f3471cb745cefc23bc840acaaac281-s100-c15.jpg\"/></a>,\n",
       " <a href=\"https://www.npr.org/sections/elections/\">Elections </a>,\n",
       " <a data-metrics='{\"category\":\"Story to Story\",\"action\":\"Click Internal Link\",\"label\":\"https:\\/\\/www.npr.org\\/2018\\/11\\/05\\/662122877\\/taking-back-the-house-could-be-life-and-death-for-democrats\"}' href=\"https://www.npr.org/2018/11/05/662122877/taking-back-the-house-could-be-life-and-death-for-democrats\">Taking Back The House Could Be 'Life And Death' For Democrats </a>,\n",
       " <a class=\"enlargelink\" href=\"https://media.npr.org/assets/img/2018/11/05/gettyimages-1063521758trumptenn_wide-75d4737201e2a39478b2253c9d5d9c12aec54d44-s1200.jpg\">Enlarge this image</a>,\n",
       " <a data-metrics='{\"category\":\"Story to Story\",\"action\":\"Click Internal Link\",\"label\":\"https:\\/\\/www.npr.org\\/2018\\/11\\/02\\/663532238\\/fact-check-migrants-are-not-overwhelming-the-southwest-border\"}' href=\"https://www.npr.org/2018/11/02/663532238/fact-check-migrants-are-not-overwhelming-the-southwest-border\" id=\"featuredStackSquareImage663532238\"><img alt=\"FACT CHECK: Migrants Are Not Overwhelming The Southwest Border \" class=\"img lazyOnLoad\" data-original=\"https://media.npr.org/assets/img/2018/11/02/ap_18229761384723_sq-3660f8f1a9e4aaa52829cf059b68219818ae1d62-s100.jpg\" src=\"https://media.npr.org/assets/img/2018/11/02/ap_18229761384723_sq-3660f8f1a9e4aaa52829cf059b68219818ae1d62-s100-c15.jpg\"/></a>,\n",
       " <a href=\"https://www.npr.org/sections/national/\">National </a>,\n",
       " <a data-metrics='{\"category\":\"Story to Story\",\"action\":\"Click Internal Link\",\"label\":\"https:\\/\\/www.npr.org\\/2018\\/11\\/02\\/663532238\\/fact-check-migrants-are-not-overwhelming-the-southwest-border\"}' href=\"https://www.npr.org/2018/11/02/663532238/fact-check-migrants-are-not-overwhelming-the-southwest-border\">FACT CHECK: Migrants Are Not Overwhelming The Southwest Border </a>,\n",
       " <a data-metrics='{\"category\":\"Story to Story\",\"action\":\"Click Internal Link\",\"label\":\"https:\\/\\/www.npr.org\\/2018\\/11\\/05\\/662946236\\/how-to-make-sense-of-exit-polls-on-election-night\"}' href=\"https://www.npr.org/2018/11/05/662946236/how-to-make-sense-of-exit-polls-on-election-night\" id=\"featuredStackSquareImage662946236\"><img alt=\"How To Make Sense Of Exit Polls On Election Night\" class=\"img lazyOnLoad\" data-original=\"https://media.npr.org/assets/img/2018/11/03/gettyimages-621808780_sq-b826a8f30ac379d9d49f87f50bdb0956af1bc5ae-s100.jpg\" src=\"https://media.npr.org/assets/img/2018/11/03/gettyimages-621808780_sq-b826a8f30ac379d9d49f87f50bdb0956af1bc5ae-s100-c15.jpg\"/></a>,\n",
       " <a href=\"https://www.npr.org/sections/politics/\">Politics </a>,\n",
       " <a data-metrics='{\"category\":\"Story to Story\",\"action\":\"Click Internal Link\",\"label\":\"https:\\/\\/www.npr.org\\/2018\\/11\\/05\\/662946236\\/how-to-make-sense-of-exit-polls-on-election-night\"}' href=\"https://www.npr.org/2018/11/05/662946236/how-to-make-sense-of-exit-polls-on-election-night\">How To Make Sense Of Exit Polls On Election Night</a>,\n",
       " <a data-metrics='{\"category\":\"Story to Story\",\"action\":\"Click Internal Link\",\"label\":\"https:\\/\\/www.npr.org\\/2018\\/11\\/05\\/662912609\\/miserable-and-emboldened-if-republicans-lose-the-house-they-ll-be-on-defense\"}' href=\"https://www.npr.org/2018/11/05/662912609/miserable-and-emboldened-if-republicans-lose-the-house-they-ll-be-on-defense\" id=\"featuredStackSquareImage662912609\"><img alt=\"'Miserable And Emboldened': If Republicans Lose The House, They'll Be On Defense\" class=\"img lazyOnLoad\" data-original=\"https://media.npr.org/assets/img/2018/11/04/ap_18172039998456_sq-2a60e862dfa4c7fd802425033e42eaf4f65bceb4-s100.jpg\" src=\"https://media.npr.org/assets/img/2018/11/04/ap_18172039998456_sq-2a60e862dfa4c7fd802425033e42eaf4f65bceb4-s100-c15.jpg\"/></a>,\n",
       " <a href=\"https://www.npr.org/sections/elections/\">Elections </a>,\n",
       " <a data-metrics='{\"category\":\"Story to Story\",\"action\":\"Click Internal Link\",\"label\":\"https:\\/\\/www.npr.org\\/2018\\/11\\/05\\/662912609\\/miserable-and-emboldened-if-republicans-lose-the-house-they-ll-be-on-defense\"}' href=\"https://www.npr.org/2018/11/05/662912609/miserable-and-emboldened-if-republicans-lose-the-house-they-ll-be-on-defense\">'Miserable And Emboldened': If Republicans Lose The House, They'll Be On Defense</a>,\n",
       " <a class=\"enlargelink\" href=\"https://media.npr.org/assets/img/2018/11/05/gettyimages-982602238capitollights_wide-e860d528189800297e88db8d5e739f659b4c228b-s1200.jpg\">Enlarge this image</a>,\n",
       " <a data-metrics='{\"category\":\"Story to Story\",\"action\":\"Click Internal Link\",\"label\":\"https:\\/\\/www.npr.org\\/2018\\/11\\/05\\/664172876\\/voter-purges-are-up-but-most-americans-wont-see-problems-at-the-polls\"}' href=\"https://www.npr.org/2018/11/05/664172876/voter-purges-are-up-but-most-americans-wont-see-problems-at-the-polls\" id=\"featuredStackSquareImage664172876\"><img alt=\"Voter Purges Are Up, But Most Americans Won't See Problems At The Polls\" class=\"img lazyOnLoad\" data-original=\"https://media.npr.org/assets/img/2018/11/05/ap_18304708017054-2-_sq-bba35f7cc8247e748007256ada6483606e15ec2f-s100.jpg\" src=\"https://media.npr.org/assets/img/2018/11/05/ap_18304708017054-2-_sq-bba35f7cc8247e748007256ada6483606e15ec2f-s100-c15.jpg\"/></a>,\n",
       " <a href=\"https://www.npr.org/sections/politics/\">Politics </a>,\n",
       " <a data-metrics='{\"category\":\"Story to Story\",\"action\":\"Click Internal Link\",\"label\":\"https:\\/\\/www.npr.org\\/2018\\/11\\/05\\/664172876\\/voter-purges-are-up-but-most-americans-wont-see-problems-at-the-polls\"}' href=\"https://www.npr.org/2018/11/05/664172876/voter-purges-are-up-but-most-americans-wont-see-problems-at-the-polls\">Voter Purges Are Up, But Most Americans Won't See Problems At The Polls</a>,\n",
       " <a href=\"http://time.com/5439236/mail-absentee-ballot-concerns/\">growing concern </a>,\n",
       " <a class=\"tag tag--story\" data-metrics='{\"category\":\"story actions\",\"action\":\"click tag\"}' href=\"https://www.npr.org/tags/520216945/2018\">2018</a>,\n",
       " <a class=\"tag tag--story\" data-metrics='{\"category\":\"story actions\",\"action\":\"click tag\"}' href=\"https://www.npr.org/tags/497806639/election-day\">election day</a>,\n",
       " <a class=\"tag tag--story\" data-metrics='{\"category\":\"story actions\",\"action\":\"click tag\"}' href=\"https://www.npr.org/tags/432805936/2016\">2016</a>,\n",
       " <a class=\"tag tag--story\" data-metrics='{\"category\":\"story actions\",\"action\":\"click tag\"}' href=\"https://www.npr.org/tags/428799323/trump\">trump</a>,\n",
       " <a class=\"tag tag--story\" data-metrics='{\"category\":\"story actions\",\"action\":\"click tag\"}' href=\"https://www.npr.org/tags/360452518/election-night\">election night</a>,\n",
       " <a class=\"tag tag--story\" data-metrics='{\"category\":\"story actions\",\"action\":\"click tag\"}' href=\"https://www.npr.org/tags/219323468/2020\">2020</a>,\n",
       " <a class=\"tag tag--story\" data-metrics='{\"category\":\"story actions\",\"action\":\"click tag\"}' href=\"https://www.npr.org/tags/162174434/polling\">polling</a>,\n",
       " <a class=\"tag tag--story\" data-metrics='{\"category\":\"story actions\",\"action\":\"click tag\"}' href=\"https://www.npr.org/tags/127115490/senate\">Senate</a>,\n",
       " <a class=\"tag tag--story\" data-metrics='{\"category\":\"story actions\",\"action\":\"click tag\"}' href=\"https://www.npr.org/tags/126953005/house\">House</a>,\n",
       " <a class=\"tag tag--story\" data-metrics='{\"category\":\"story actions\",\"action\":\"click tag\"}' href=\"https://www.npr.org/tags/126944326/democrats\">Democrats</a>,\n",
       " <a class=\"tag tag--story\" data-metrics='{\"category\":\"story actions\",\"action\":\"click tag\"}' href=\"https://www.npr.org/tags/126931907/gop\">GOP</a>,\n",
       " <a class=\"tag tag--story\" data-metrics='{\"category\":\"story actions\",\"action\":\"click tag\"}' href=\"https://www.npr.org/tags/125951073/republican\">Republican</a>,\n",
       " <a class=\"tag tag--story\" data-metrics='{\"category\":\"story actions\",\"action\":\"click tag\"}' href=\"https://www.npr.org/tags/125950998/election\">election</a>,\n",
       " <a data-metrics-action=\"Click Homepage\" href=\"/\">Home</a>,\n",
       " <a data-metrics-action=\"Click News\" href=\"/sections/news/\">News</a>,\n",
       " <a data-metrics-action=\"Click Arts &amp; Life\" href=\"/sections/arts/\">Arts &amp; Life</a>,\n",
       " <a data-metrics-action=\"Click Music\" href=\"/music/\">Music</a>,\n",
       " <a data-metrics-action=\"Click Podcasts\" href=\"/podcasts/\">Podcasts</a>,\n",
       " <a data-metrics-action=\"Click Programs\" href=\"/programs/\">Programs</a>,\n",
       " <a data-metrics-action=\"Click Newsletters\" href=\"/newsletters/\">Newsletters</a>,\n",
       " <a data-metrics-action=\"Click Facebook\" href=\"https://www.facebook.com/NPR/\">Facebook</a>,\n",
       " <a data-metrics-action=\"Click Twitter\" href=\"https://twitter.com/NPR\">Twitter</a>,\n",
       " <a data-metrics-action=\"Click Instagram\" href=\"https://www.instagram.com/npr/\">Instagram</a>,\n",
       " <a data-metrics-action=\"Click Contact\" href=\"https://www.npr.org/contact\">Contact</a>,\n",
       " <a data-metrics-action=\"Click Help\" href=\"https://help.npr.org\">Help</a>,\n",
       " <a data-metrics-action=\"Click Overview\" href=\"/about/\">Overview</a>,\n",
       " <a data-metrics-action=\"Click Finances\" href=\"/about-npr/178660742/public-radio-finances\">Finances</a>,\n",
       " <a data-metrics-action=\"Click People\" href=\"/about-npr/179803822/people-at-npr\">People</a>,\n",
       " <a data-metrics-action=\"Click Press\" href=\"/press/\">Press</a>,\n",
       " <a data-metrics-action=\"Click Public Editor\" href=\"/sections/publiceditor/\">Public Editor</a>,\n",
       " <a data-metrics-action=\"Click Corrections\" href=\"/corrections/\">Corrections</a>,\n",
       " <a data-metrics-action=\"Click Support Public Radio\" href=\"/support/\">Support Public Radio</a>,\n",
       " <a data-metrics-action=\"Click Sponsor NPR\" href=\"/about-npr/186948703/corporate-sponsorship\">Sponsor NPR</a>,\n",
       " <a data-metrics-action=\"Click NPR Careers\" href=\"/careers/\">NPR Careers</a>,\n",
       " <a data-metrics-action=\"Click NPR Shop\" href=\"https://shop.npr.org/\">NPR Shop</a>,\n",
       " <a data-metrics-action=\"Click NPR Events\" href=\"https://www.nprpresents.org\">NPR Events</a>,\n",
       " <a data-metrics-action=\"Click Visit NPR\" href=\"/about-npr/177066727/visit-npr\">Visit NPR</a>,\n",
       " <a data-metrics-action=\"Click Terms of Use\" href=\"/about-npr/179876898/terms-of-use\">Terms of Use</a>,\n",
       " <a data-metrics-action=\"Click Privacy\" href=\"/about-npr/179878450/privacy-policy\">Privacy</a>,\n",
       " <a data-metrics-action=\"Click Your Privacy Choices\" href=\"/about-npr/179878450/privacy-policy#yourchoices\">Your Privacy Choices</a>,\n",
       " <a data-metrics-action=\"Click Text Only\" href=\"https://text.npr.org/\">Text Only</a>,\n",
       " <a href=\"/about-npr/186948703/corporate-sponsorship\">Become an NPR sponsor</a>]"
      ]
     },
     "execution_count": 47,
     "metadata": {},
     "output_type": "execute_result"
    }
   ],
   "source": [
    "soup.find_all('a')"
   ]
  },
  {
   "cell_type": "markdown",
   "metadata": {},
   "source": [
    "Look at all of those links! Amazing. It might be hard to read but the **href** portion of an *a* tag denotes the URL, and we can capture it via the ``.get()`` function."
   ]
  },
  {
   "cell_type": "code",
   "execution_count": 27,
   "metadata": {},
   "outputs": [
    {
     "name": "stdout",
     "output_type": "stream",
     "text": [
      "#mainContent\n",
      "https://help.npr.org/customer/en/portal/articles/2535181-what-are-the-keyboard-shortcuts-for-using-the-npr-org-audio-player-\n",
      "/\n",
      "https://shop.npr.org\n",
      "/\n",
      "/sections/news/\n",
      "/sections/national/\n",
      "/sections/world/\n",
      "/sections/politics/\n",
      "/sections/business/\n",
      "/sections/health/\n",
      "/sections/science/\n",
      "/sections/technology/\n",
      "/sections/codeswitch/\n",
      "/sections/arts/\n",
      "/books/\n",
      "/sections/movies/\n",
      "/sections/television/\n",
      "/sections/pop-culture/\n",
      "/sections/food/\n",
      "/sections/art-design/\n",
      "/sections/performing-arts/\n",
      "/music/\n",
      "https://www.npr.org/series/tiny-desk-concerts/\n",
      "https://www.npr.org/sections/allsongs/\n",
      "https://www.npr.org/series/538009815/turning-the-tables\n",
      "https://www.npr.org/sections/music-news/\n",
      "https://www.npr.org/sections/new-music/\n",
      "https://www.npr.org/series/689345495/best-music-of-2019\n",
      "/programs/\n",
      "/programs/morning-edition/\n",
      "/programs/weekend-edition-saturday/\n",
      "/programs/weekend-edition-sunday/\n",
      "/programs/all-things-considered/\n",
      "/programs/fresh-air/\n",
      "/podcasts/510318/up-first\n",
      "https://www.npr.org/podcasts/510313/how-i-built-this\n",
      "https://www.npr.org/podcasts/344098539/wait-wait-don-t-tell-me\n",
      "https://www.npr.org/podcasts/510289/planet-money\n",
      "https://www.npr.org/podcasts/510308/hidden-brain\n",
      "/programs/\n",
      "/search\n",
      "https://shop.npr.org\n",
      "/music/\n",
      "https://www.npr.org/series/tiny-desk-concerts/\n",
      "https://www.npr.org/sections/allsongs/\n",
      "https://www.npr.org/series/538009815/turning-the-tables\n",
      "https://www.npr.org/sections/music-news/\n",
      "https://www.npr.org/sections/new-music/\n",
      "https://www.npr.org/series/689345495/best-music-of-2019\n",
      "/about/\n",
      "/overview/\n",
      "/support/\n",
      "/careers/\n",
      "/connect/\n",
      "/press/\n",
      "/ethics/\n",
      "/\n",
      "#\n",
      "None\n",
      "https://www.npr.org/sections/elections/\n",
      "https://www.npr.org/people/392602474/domenico-montanaro\n",
      "https://www.npr.org/people/392602474/domenico-montanaro\n",
      "https://www.twitter.com/DomenicoNPR\n",
      "https://media.npr.org/assets/img/2018/11/05/gettyimages-1057663456vote_wide-9fc473c80fc1f9d825f563fd94d01c766f5ff669-s1200.jpg\n",
      "https://www.npr.org/2018/11/04/663968176/key-questions-the-2018-election-will-answer\n",
      "https://www.npr.org/sections/analysis/\n",
      "https://www.npr.org/2018/11/04/663968176/key-questions-the-2018-election-will-answer\n",
      "https://www.npr.org/2018/11/01/662794792/heres-why-democrats-are-confident-they-ll-win-the-house\n",
      "https://www.npr.org/sections/politics/\n",
      "https://www.npr.org/2018/11/01/662794792/heres-why-democrats-are-confident-they-ll-win-the-house\n",
      "https://www.npr.org/2018/11/01/662794792/heres-why-democrats-are-confident-they-ll-win-the-house\n",
      "https://www.npr.org/2018/11/03/663466805/democratic-women-house-candidates-set-for-a-much-easier-election-day-than-gop-wo\n",
      "https://www.npr.org/2018/11/03/663466805/democratic-women-house-candidates-set-for-a-much-easier-election-day-than-gop-wo\n",
      "https://www.npr.org/sections/elections/\n",
      "https://www.npr.org/2018/11/03/663466805/democratic-women-house-candidates-set-for-a-much-easier-election-day-than-gop-wo\n",
      "https://www.npr.org/2018/11/01/662730647/poll-nearly-4-in-5-voters-concerned-incivility-will-lead-to-violence\n",
      "https://www.npr.org/sections/elections/\n",
      "https://www.npr.org/2018/11/01/662730647/poll-nearly-4-in-5-voters-concerned-incivility-will-lead-to-violence\n",
      "https://www.npr.org/2018/11/01/662730647/poll-nearly-4-in-5-voters-concerned-incivility-will-lead-to-violence\n",
      "https://www.npr.org/2018/10/16/656970406/battle-for-the-senate-10-races-that-will-determine-control\n",
      "https://www.npr.org/sections/politics/\n",
      "https://www.npr.org/2018/10/16/656970406/battle-for-the-senate-10-races-that-will-determine-control\n",
      "https://www.npr.org/2018/10/16/656970406/battle-for-the-senate-10-races-that-will-determine-control\n",
      "https://www.npr.org/2018/11/02/662112853/democrats-say-house-majority-would-mean-investigative-barrage-not-impeachment\n",
      "https://www.npr.org/sections/politics/\n",
      "https://www.npr.org/2018/11/02/662112853/democrats-say-house-majority-would-mean-investigative-barrage-not-impeachment\n",
      "https://www.npr.org/2018/11/02/662112853/democrats-say-house-majority-would-mean-investigative-barrage-not-impeachment\n",
      "https://www.npr.org/2018/10/27/660643999/trump-republicans-continue-remaking-the-federal-courts-even-as-senate-on-recess\n",
      "https://www.npr.org/sections/health-shots/2018/10/16/656900971/npr-poll-rural-americans-are-worried-about-addiction-and-jobs-but-remain-optimis\n",
      "https://www.npr.org/sections/health-shots/\n",
      "https://www.npr.org/sections/health-shots/2018/10/16/656900971/npr-poll-rural-americans-are-worried-about-addiction-and-jobs-but-remain-optimis\n",
      "https://www.npr.org/2018/10/18/658255884/voter-turnout-could-hit-50-year-record-for-midterm-elections\n",
      "https://www.usatoday.com/story/news/nation/2018/11/05/election-day-weather-forecast-big-storm-blast-eastern-us/1891149002/\n",
      "https://www.npr.org/2018/11/05/662122877/taking-back-the-house-could-be-life-and-death-for-democrats\n",
      "https://www.npr.org/sections/elections/\n",
      "https://www.npr.org/2018/11/05/662122877/taking-back-the-house-could-be-life-and-death-for-democrats\n",
      "https://media.npr.org/assets/img/2018/11/05/gettyimages-1063521758trumptenn_wide-75d4737201e2a39478b2253c9d5d9c12aec54d44-s1200.jpg\n",
      "https://www.npr.org/2018/11/02/663532238/fact-check-migrants-are-not-overwhelming-the-southwest-border\n",
      "https://www.npr.org/sections/national/\n",
      "https://www.npr.org/2018/11/02/663532238/fact-check-migrants-are-not-overwhelming-the-southwest-border\n",
      "https://www.npr.org/2018/11/05/662946236/how-to-make-sense-of-exit-polls-on-election-night\n",
      "https://www.npr.org/sections/politics/\n",
      "https://www.npr.org/2018/11/05/662946236/how-to-make-sense-of-exit-polls-on-election-night\n",
      "https://www.npr.org/2018/11/05/662912609/miserable-and-emboldened-if-republicans-lose-the-house-they-ll-be-on-defense\n",
      "https://www.npr.org/sections/elections/\n",
      "https://www.npr.org/2018/11/05/662912609/miserable-and-emboldened-if-republicans-lose-the-house-they-ll-be-on-defense\n",
      "https://media.npr.org/assets/img/2018/11/05/gettyimages-982602238capitollights_wide-e860d528189800297e88db8d5e739f659b4c228b-s1200.jpg\n",
      "https://www.npr.org/2018/11/05/664172876/voter-purges-are-up-but-most-americans-wont-see-problems-at-the-polls\n",
      "https://www.npr.org/sections/politics/\n",
      "https://www.npr.org/2018/11/05/664172876/voter-purges-are-up-but-most-americans-wont-see-problems-at-the-polls\n",
      "http://time.com/5439236/mail-absentee-ballot-concerns/\n",
      "https://www.npr.org/tags/520216945/2018\n",
      "https://www.npr.org/tags/497806639/election-day\n",
      "https://www.npr.org/tags/432805936/2016\n",
      "https://www.npr.org/tags/428799323/trump\n",
      "https://www.npr.org/tags/360452518/election-night\n",
      "https://www.npr.org/tags/219323468/2020\n",
      "https://www.npr.org/tags/162174434/polling\n",
      "https://www.npr.org/tags/127115490/senate\n",
      "https://www.npr.org/tags/126953005/house\n",
      "https://www.npr.org/tags/126944326/democrats\n",
      "https://www.npr.org/tags/126931907/gop\n",
      "https://www.npr.org/tags/125951073/republican\n",
      "https://www.npr.org/tags/125950998/election\n",
      "/\n",
      "/sections/news/\n",
      "/sections/arts/\n",
      "/music/\n",
      "/podcasts/\n",
      "/programs/\n",
      "/newsletters/\n",
      "https://www.facebook.com/NPR/\n",
      "https://twitter.com/NPR\n",
      "https://www.instagram.com/npr/\n",
      "https://www.npr.org/contact\n",
      "https://help.npr.org\n",
      "/about/\n",
      "/about-npr/178660742/public-radio-finances\n",
      "/about-npr/179803822/people-at-npr\n",
      "/press/\n",
      "/sections/publiceditor/\n",
      "/corrections/\n",
      "/support/\n",
      "/about-npr/186948703/corporate-sponsorship\n",
      "/careers/\n",
      "https://shop.npr.org/\n",
      "https://www.nprpresents.org\n",
      "/about-npr/177066727/visit-npr\n",
      "/about-npr/179876898/terms-of-use\n",
      "/about-npr/179878450/privacy-policy\n",
      "/about-npr/179878450/privacy-policy#yourchoices\n",
      "https://text.npr.org/\n",
      "/about-npr/186948703/corporate-sponsorship\n"
     ]
    }
   ],
   "source": [
    "for link in soup.find_all('a'): # we could optionally pass the href=True flag .find_all('a', href=True)\n",
    "    print(link.get('href'))"
   ]
  },
  {
   "cell_type": "markdown",
   "metadata": {},
   "source": [
    "Many of those links are relative to the current URL (e.g., /section/news/)."
   ]
  },
  {
   "cell_type": "code",
   "execution_count": 28,
   "metadata": {},
   "outputs": [
    {
     "data": {
      "text/plain": [
       "[<p class=\"byline__name byline__name--block\">\n",
       " <a data-metrics='{\"action\":\"Click Byline\",\"category\":\"Story Metadata\"}' href=\"https://www.npr.org/people/392602474/domenico-montanaro\" rel=\"author\">\n",
       "       Domenico Montanaro\n",
       "     </a>\n",
       " </p>, <p>\n",
       "                 Supporters of Missouri Democratic Sen. Claire McCaskill wait for her to arrive at a campaign stop in St. Louis on Monday.\n",
       "                 \n",
       "                 <b aria-label=\"Image credit\" class=\"credit\">\n",
       "                     \n",
       "                     Scott Olson/Getty Images\n",
       "                     \n",
       "                 </b>\n",
       " <b class=\"hide-caption\"><b>hide caption</b></b>\n",
       " </p>, <p class=\"caption\">Supporters of Missouri Democratic Sen. Claire McCaskill wait for her to arrive at a campaign stop in St. Louis on Monday.</p>, <p>There's a lot that can happen Tuesday, the culmination of a long midterm election campaign that will provide the first nationwide measure of the U.S. electorate since Donald Trump was elected president.</p>, <p>One narrative has become dominant: that Democrats are likely to gain control of the House and Republicans hold the Senate, if not expand their majority there. That narrative is based largely on national polls, and caution should be urged. Pollsters have made a lot of adjustments to hopefully correct what they got wrong in 2016, but they can't tell you precisely who is going to show up to vote.</p>, <p>What's more, there have been far fewer statewide and district-specific surveys than in past midterm elections. And, as it is, there are data both parties can take solace in that buoy their respective cases. So everyone should be prepared for surprises — because there always are some. That's the beauty of campaigns and voting.</p>, <p>Here are four scenarios for how election night might play out and what each could mean.</p>, <p>This is the most likely outcome, based not just on the polls but also on conversations with strategists in both parties. But they urge caution, because the races in the many districts across the country that are up for grabs are still very close.</p>, <p><strong>How it would happen: </strong>Forget the polls; <a href=\"https://www.npr.org/2018/11/01/662794792/heres-why-democrats-are-confident-they-ll-win-the-house\">Democrats are favored to take back the House</a> for more reasons than that. There have been a record number of retirements, reducing the built-in advantage incumbents tend to have; record numbers of candidates, <a href=\"https://www.npr.org/2018/11/03/663466805/democratic-women-house-candidates-set-for-a-much-easier-election-day-than-gop-wo\">especially Democratic women</a>, have run for public office; Democrats won the off-year elections in Virginia and New Jersey; they won or fared better than expected in special elections across the country; there was high primary turnout for Democrats in many states; and there is very high early voting turnout.</p>, <p>And just look at how wide the playing field is — Democrats need to pick up 23 seats to take back the House,<strong> </strong>and they are targeting some 80 Republican-held seats. Republicans are competing in just eight held by Democrats. That right there is and has been a huge flashing red light for the GOP. So many of those races are running through the suburbs, where independents and wealthy, college-educated women live, both of which have consistently in polling said they disapproved of the job the president is doing and prefer to vote for a Democrat in their district.</p>, <p>One other overlooked number from <a href=\"https://www.npr.org/2018/11/01/662730647/poll-nearly-4-in-5-voters-concerned-incivility-will-lead-to-violence\">the last NPR/PBS NewsHour/Marist poll</a>: Just 54 percent of Republican women who are registered voters said they were very enthusiastic about voting in this election. Compare that with 78 percent of Republican men who are registered voters. And where do a lot of those women live? The suburbs. If GOP women, an important group that Republicans need to bolster them, stay home, that's one way Democrats clean up in the House.</p>, <p>In the Senate, on the other hand, Republicans have a very favorable landscape and <a href=\"https://www.npr.org/2018/10/16/656970406/battle-for-the-senate-10-races-that-will-determine-control\">are competing in conservative states held by Democrats</a>. The fundamentals favor the GOP in these states, and if Republicans win where they should win, they will hold the Senate.</p>, <p><strong>What it would mean: </strong>This would be a huge win for Democrats, as they'd be able to gum up Trump's agenda <a href=\"https://www.npr.org/2018/11/02/662112853/democrats-say-house-majority-would-mean-investigative-barrage-not-impeachment\">and begin to investigate his administration</a>, something the GOP has not done very much of. In the Senate, <a href=\"https://www.npr.org/2018/10/27/660643999/trump-republicans-continue-remaking-the-federal-courts-even-as-senate-on-recess\">Republicans could still approve federal judges and Trump Supreme Court nominees</a>, but if they want to get any big legislation done they're going to have to negotiate with Democrats in the House, and possibly a Speaker Nancy Pelosi.</p>, <p>Democrats feel they need to limit the losses in the Senate. If they can hold Republicans to net even, keeping the Senate at 51-49, or maybe lose a net of one seat, then they will be very happy. They have a much more favorable Senate landscape in 2020 and believe they will be able to take back the Senate then.</p>, <p>This would be a huge win for the GOP.</p>, <p><strong>How it would happen: </strong><a href=\"https://www.npr.org/2018/10/18/658255884/voter-turnout-could-hit-50-year-record-for-midterm-elections\">A record turnout is expected Tuesday</a> — perhaps higher than any time in the past 50 years for a midterm — but, as in 2016, Trump voters would have to dominate. Rural voters would have to turn out at higher-than-expected rates, causing the polls to be wrong (again). Meanwhile, young voters and Latinos would have to stay home. (<a href=\"https://www.usatoday.com/story/news/nation/2018/11/05/election-day-weather-forecast-big-storm-blast-eastern-us/1891149002/\">It is supposed to rain on the East Coast Tuesday</a>, which could depress low-propensity-voter turnout.)</p>, <p>All of those close House races would have to tip Republicans' way, something that's very possible given the conservative lean of those districts and the distrust of the media, purposefully stoked by the president. And who pays for polls for the most part? Big media organizations.</p>, <p>\n",
       "                 President Trump acknowledges supporters during a campaign rally for Rep. Marsha Blackburn, R-Tenn., and other Tennessee Republican candidates on Monday in Chattanooga, Tenn.\n",
       "                 \n",
       "                 <b aria-label=\"Image credit\" class=\"credit\">\n",
       "                     \n",
       "                     Alex Wong/Getty Images\n",
       "                     \n",
       "                 </b>\n",
       " <b class=\"hide-caption\"><b>hide caption</b></b>\n",
       " </p>, <p class=\"caption\">President Trump acknowledges supporters during a campaign rally for Rep. Marsha Blackburn, R-Tenn., and other Tennessee Republican candidates on Monday in Chattanooga, Tenn.</p>, <p><strong>What it would mean: </strong>President Trump and Republicans would step on the gas, validated by an election cycle dominated by negative news coverage and polling that said the GOP had its back against the wall. The Affordable Care Act (aka Obamacare) would very likely be repealed once and for all. And Trump could set his sights on ousting Attorney General Jeff Sessions and other key figures at the Justice Department, possibly ending the department's investigation of Russia's attack on the 2016 election.</p>, <p>What's more, Trump's strategy of demonizing immigrants would have worked — again. That was rewarded, and what message would that send? He is only going to do more of it between Wednesday and November 2020 when he stands for re-election.</p>, <p>It would also be yet another reckoning for pollsters and media organizations that pay for the surveys. The polls currently show Democrats with a razor-thin, but consistent advantage heading into Election Day. But if the polls are wrong, it should induce more than a shoulder shrug from outlets that conduct them and the news media organizations that report on them.</p>, <p>This is not seen as the likeliest of scenarios, but it's not out of the realm of possibility either. It would very likely mean a massive wave and a massive shift against Trump and Republicans tied to him nationally.</p>, <p>A lot would have to happen, especially in the Senate, for this to happen.</p>, <p><strong>How it would happen: </strong>The path for Democrats in the House is through the suburbs, as in Scenario 1. That doesn't change. But for Democrats to pull this off in the Senate, not only would voters have to side with Democratic incumbents in conservative states, but Democratic challengers would have to win in places like Nevada and Arizona, and possibly Tennessee and Texas.</p>, <p><strong>What it would mean: </strong>It would be a repudiation of Trump and the Republicans tied to him nationwide. It would have to trigger a degree of soul-searching — in at least some Republican corners.</p>, <p>Trump would be faced with the choice of moderating and working with Democrats or being a lame-duck president starting in January 2019 when a new Democratic Congress is sworn in — as talk ramps up about Democratic 2020 challengers.</p>, <p>It's very possible control of both the House and Senate will not be clear on election night.</p>, <p>\n",
       "                 A number of races are so close that it may not be possible to declare a winner on election night, leaving control of the House and Senate up in the air.\n",
       "                 \n",
       "                 <b aria-label=\"Image credit\" class=\"credit\">\n",
       "                     \n",
       "                     Joe Sohm/Visions of America/UIG via Getty Images\n",
       "                     \n",
       "                 </b>\n",
       " <b class=\"hide-caption\"><b>hide caption</b></b>\n",
       " </p>, <p class=\"caption\">A number of races are so close that it may not be possible to declare a winner on election night, leaving control of the House and Senate up in the air.</p>, <p><strong>How it would happen:</strong> There are a half-dozen congressional races in California, for example, that are very close heading into Election Day. It's possible those races are so close they will not be called on election night. They might not be called for days and possibly weeks later, especially because the vote there is counted slowly.</p>, <p>Additionally, early and absentee ballots can get counted slowly and there is <a href=\"http://time.com/5439236/mail-absentee-ballot-concerns/\">growing concern </a>that many voters' absentee and mailed ballots could be rejected. In 2016, to the surprise of many, 319,000 absentee ballots were rejected for one reason or another.</p>, <p>In the Senate, depending on how results from other races shake out, there is the possibility that control is not known on election night or for weeks after. Specifically, it could all come down to Mississippi. There, no candidate is polling above 50 percent heading into Election Day, and if no one gets at least 50 percent, the race heads to a runoff three weeks later.</p>, <p><strong>What it would mean: </strong>Imagine a scenario in which Democrats lead 50-49 on Election Day in the Senate, and the eyes of the country — and the deep pockets of out-of-state money — descend on Mississippi. The consequences would be enormous, the rancor pitched and the tension thick.</p>, <p class=\"left\">NPR thanks our sponsors</p>, <p class=\"right\"><a href=\"/about-npr/186948703/corporate-sponsorship\">Become an NPR sponsor</a></p>]"
      ]
     },
     "execution_count": 28,
     "metadata": {},
     "output_type": "execute_result"
    }
   ],
   "source": [
    "paragraphs = soup.find_all('p')\n",
    "paragraphs"
   ]
  },
  {
   "cell_type": "markdown",
   "metadata": {},
   "source": [
    "If we want just the paragraph text:"
   ]
  },
  {
   "cell_type": "code",
   "execution_count": 30,
   "metadata": {},
   "outputs": [
    {
     "name": "stdout",
     "output_type": "stream",
     "text": [
      "\n",
      "\n",
      "      Domenico Montanaro\n",
      "    \n",
      "\n",
      "\n",
      "                Supporters of Missouri Democratic Sen. Claire McCaskill wait for her to arrive at a campaign stop in St. Louis on Monday.\n",
      "                \n",
      "                \n",
      "                    \n",
      "                    Scott Olson/Getty Images\n",
      "                    \n",
      "                \n",
      "hide caption\n",
      "\n",
      "Supporters of Missouri Democratic Sen. Claire McCaskill wait for her to arrive at a campaign stop in St. Louis on Monday.\n",
      "There's a lot that can happen Tuesday, the culmination of a long midterm election campaign that will provide the first nationwide measure of the U.S. electorate since Donald Trump was elected president.\n",
      "One narrative has become dominant: that Democrats are likely to gain control of the House and Republicans hold the Senate, if not expand their majority there. That narrative is based largely on national polls, and caution should be urged. Pollsters have made a lot of adjustments to hopefully correct what they got wrong in 2016, but they can't tell you precisely who is going to show up to vote.\n",
      "What's more, there have been far fewer statewide and district-specific surveys than in past midterm elections. And, as it is, there are data both parties can take solace in that buoy their respective cases. So everyone should be prepared for surprises — because there always are some. That's the beauty of campaigns and voting.\n",
      "Here are four scenarios for how election night might play out and what each could mean.\n",
      "This is the most likely outcome, based not just on the polls but also on conversations with strategists in both parties. But they urge caution, because the races in the many districts across the country that are up for grabs are still very close.\n",
      "How it would happen: Forget the polls; Democrats are favored to take back the House for more reasons than that. There have been a record number of retirements, reducing the built-in advantage incumbents tend to have; record numbers of candidates, especially Democratic women, have run for public office; Democrats won the off-year elections in Virginia and New Jersey; they won or fared better than expected in special elections across the country; there was high primary turnout for Democrats in many states; and there is very high early voting turnout.\n",
      "And just look at how wide the playing field is — Democrats need to pick up 23 seats to take back the House, and they are targeting some 80 Republican-held seats. Republicans are competing in just eight held by Democrats. That right there is and has been a huge flashing red light for the GOP. So many of those races are running through the suburbs, where independents and wealthy, college-educated women live, both of which have consistently in polling said they disapproved of the job the president is doing and prefer to vote for a Democrat in their district.\n",
      "One other overlooked number from the last NPR/PBS NewsHour/Marist poll: Just 54 percent of Republican women who are registered voters said they were very enthusiastic about voting in this election. Compare that with 78 percent of Republican men who are registered voters. And where do a lot of those women live? The suburbs. If GOP women, an important group that Republicans need to bolster them, stay home, that's one way Democrats clean up in the House.\n",
      "In the Senate, on the other hand, Republicans have a very favorable landscape and are competing in conservative states held by Democrats. The fundamentals favor the GOP in these states, and if Republicans win where they should win, they will hold the Senate.\n",
      "What it would mean: This would be a huge win for Democrats, as they'd be able to gum up Trump's agenda and begin to investigate his administration, something the GOP has not done very much of. In the Senate, Republicans could still approve federal judges and Trump Supreme Court nominees, but if they want to get any big legislation done they're going to have to negotiate with Democrats in the House, and possibly a Speaker Nancy Pelosi.\n",
      "Democrats feel they need to limit the losses in the Senate. If they can hold Republicans to net even, keeping the Senate at 51-49, or maybe lose a net of one seat, then they will be very happy. They have a much more favorable Senate landscape in 2020 and believe they will be able to take back the Senate then.\n",
      "This would be a huge win for the GOP.\n",
      "How it would happen: A record turnout is expected Tuesday — perhaps higher than any time in the past 50 years for a midterm — but, as in 2016, Trump voters would have to dominate. Rural voters would have to turn out at higher-than-expected rates, causing the polls to be wrong (again). Meanwhile, young voters and Latinos would have to stay home. (It is supposed to rain on the East Coast Tuesday, which could depress low-propensity-voter turnout.)\n",
      "All of those close House races would have to tip Republicans' way, something that's very possible given the conservative lean of those districts and the distrust of the media, purposefully stoked by the president. And who pays for polls for the most part? Big media organizations.\n",
      "\n",
      "                President Trump acknowledges supporters during a campaign rally for Rep. Marsha Blackburn, R-Tenn., and other Tennessee Republican candidates on Monday in Chattanooga, Tenn.\n",
      "                \n",
      "                \n",
      "                    \n",
      "                    Alex Wong/Getty Images\n",
      "                    \n",
      "                \n",
      "hide caption\n",
      "\n",
      "President Trump acknowledges supporters during a campaign rally for Rep. Marsha Blackburn, R-Tenn., and other Tennessee Republican candidates on Monday in Chattanooga, Tenn.\n",
      "What it would mean: President Trump and Republicans would step on the gas, validated by an election cycle dominated by negative news coverage and polling that said the GOP had its back against the wall. The Affordable Care Act (aka Obamacare) would very likely be repealed once and for all. And Trump could set his sights on ousting Attorney General Jeff Sessions and other key figures at the Justice Department, possibly ending the department's investigation of Russia's attack on the 2016 election.\n",
      "What's more, Trump's strategy of demonizing immigrants would have worked — again. That was rewarded, and what message would that send? He is only going to do more of it between Wednesday and November 2020 when he stands for re-election.\n",
      "It would also be yet another reckoning for pollsters and media organizations that pay for the surveys. The polls currently show Democrats with a razor-thin, but consistent advantage heading into Election Day. But if the polls are wrong, it should induce more than a shoulder shrug from outlets that conduct them and the news media organizations that report on them.\n",
      "This is not seen as the likeliest of scenarios, but it's not out of the realm of possibility either. It would very likely mean a massive wave and a massive shift against Trump and Republicans tied to him nationally.\n",
      "A lot would have to happen, especially in the Senate, for this to happen.\n",
      "How it would happen: The path for Democrats in the House is through the suburbs, as in Scenario 1. That doesn't change. But for Democrats to pull this off in the Senate, not only would voters have to side with Democratic incumbents in conservative states, but Democratic challengers would have to win in places like Nevada and Arizona, and possibly Tennessee and Texas.\n",
      "What it would mean: It would be a repudiation of Trump and the Republicans tied to him nationwide. It would have to trigger a degree of soul-searching — in at least some Republican corners.\n",
      "Trump would be faced with the choice of moderating and working with Democrats or being a lame-duck president starting in January 2019 when a new Democratic Congress is sworn in — as talk ramps up about Democratic 2020 challengers.\n",
      "It's very possible control of both the House and Senate will not be clear on election night.\n",
      "\n",
      "                A number of races are so close that it may not be possible to declare a winner on election night, leaving control of the House and Senate up in the air.\n",
      "                \n",
      "                \n",
      "                    \n",
      "                    Joe Sohm/Visions of America/UIG via Getty Images\n",
      "                    \n",
      "                \n",
      "hide caption\n",
      "\n",
      "A number of races are so close that it may not be possible to declare a winner on election night, leaving control of the House and Senate up in the air.\n",
      "How it would happen: There are a half-dozen congressional races in California, for example, that are very close heading into Election Day. It's possible those races are so close they will not be called on election night. They might not be called for days and possibly weeks later, especially because the vote there is counted slowly.\n",
      "Additionally, early and absentee ballots can get counted slowly and there is growing concern that many voters' absentee and mailed ballots could be rejected. In 2016, to the surprise of many, 319,000 absentee ballots were rejected for one reason or another.\n",
      "In the Senate, depending on how results from other races shake out, there is the possibility that control is not known on election night or for weeks after. Specifically, it could all come down to Mississippi. There, no candidate is polling above 50 percent heading into Election Day, and if no one gets at least 50 percent, the race heads to a runoff three weeks later.\n",
      "What it would mean: Imagine a scenario in which Democrats lead 50-49 on Election Day in the Senate, and the eyes of the country — and the deep pockets of out-of-state money — descend on Mississippi. The consequences would be enormous, the rancor pitched and the tension thick.\n",
      "NPR thanks our sponsors\n",
      "Become an NPR sponsor\n"
     ]
    }
   ],
   "source": [
    "for pa in paragraphs:\n",
    "    print(pa.get_text())"
   ]
  },
  {
   "cell_type": "markdown",
   "metadata": {},
   "source": [
    "Since there are multiple tags and various attributes, it is useful to check the data type of BeautifulSoup objects:"
   ]
  },
  {
   "cell_type": "code",
   "execution_count": 31,
   "metadata": {},
   "outputs": [
    {
     "data": {
      "text/plain": [
       "bs4.element.Tag"
      ]
     },
     "execution_count": 31,
     "metadata": {},
     "output_type": "execute_result"
    }
   ],
   "source": [
    "type(soup.find('p'))"
   ]
  },
  {
   "cell_type": "markdown",
   "metadata": {},
   "source": [
    "Since the ``.find()`` function returns a BeautifulSoup element, we can tack on multiple calls that continue to return elements:"
   ]
  },
  {
   "cell_type": "code",
   "execution_count": 68,
   "metadata": {},
   "outputs": [
    {
     "data": {
      "text/plain": [
       "<p class=\"byline__name byline__name--block\">\n",
       "<a data-metrics='{\"action\":\"Click Byline\",\"category\":\"Story Metadata\"}' href=\"https://www.npr.org/people/392602474/domenico-montanaro\" rel=\"author\">\n",
       "      Domenico Montanaro\n",
       "    </a>\n",
       "</p>"
      ]
     },
     "execution_count": 68,
     "metadata": {},
     "output_type": "execute_result"
    }
   ],
   "source": [
    "soup.find('p')"
   ]
  },
  {
   "cell_type": "code",
   "execution_count": 69,
   "metadata": {},
   "outputs": [
    {
     "data": {
      "text/plain": [
       "<a data-metrics='{\"action\":\"Click Byline\",\"category\":\"Story Metadata\"}' href=\"https://www.npr.org/people/392602474/domenico-montanaro\" rel=\"author\">\n",
       "      Domenico Montanaro\n",
       "    </a>"
      ]
     },
     "execution_count": 69,
     "metadata": {},
     "output_type": "execute_result"
    }
   ],
   "source": [
    "soup.find('p').find('a')"
   ]
  },
  {
   "cell_type": "code",
   "execution_count": 70,
   "metadata": {},
   "outputs": [
    {
     "data": {
      "text/plain": [
       "'https://www.npr.org/people/392602474/domenico-montanaro'"
      ]
     },
     "execution_count": 70,
     "metadata": {},
     "output_type": "execute_result"
    }
   ],
   "source": [
    "soup.find('p').find('a').attrs['href'] # att"
   ]
  },
  {
   "cell_type": "code",
   "execution_count": 71,
   "metadata": {},
   "outputs": [
    {
     "data": {
      "text/plain": [
       "'\\n      Domenico Montanaro\\n    '"
      ]
     },
     "execution_count": 71,
     "metadata": {},
     "output_type": "execute_result"
    }
   ],
   "source": [
    "soup.find('p').find('a').text"
   ]
  },
  {
   "cell_type": "markdown",
   "metadata": {},
   "source": [
    "That doesn't look pretty, but it makes sense because if you look at what ``.find('a')`` returned, there is plenty of whitespace. We can remove that with Python's built-in ``.strip()`` function."
   ]
  },
  {
   "cell_type": "code",
   "execution_count": 72,
   "metadata": {},
   "outputs": [
    {
     "data": {
      "text/plain": [
       "'Domenico Montanaro'"
      ]
     },
     "execution_count": 72,
     "metadata": {},
     "output_type": "execute_result"
    }
   ],
   "source": [
    "soup.find('p').find('a').text.strip()"
   ]
  },
  {
   "cell_type": "markdown",
   "metadata": {},
   "source": [
    "**NOTE:** above, we accessed the attributes of a link by using the property ``.attrs``. ``.attrs`` takes a dictionary as a parameter, and in the example above, we only provided the _key_, not a _value_, too. That is, we only cared that the ``<a>`` tag had an attribute named ``href`` (which we grabbed by typing that command), and we made no specific demands on what the value must be. In other words, regardless of the value of _href_, we grabbed that element. Alternatively, if you inspect your HTML code and notice select regions for which you'd like to extract text, you can specify it as part of the attributes, too!\n",
    "\n",
    "For example, in the full ``response.text``, we see the following line:\n",
    "\n",
    "``<header class=\"npr-header\" id=\"globalheader\" aria-label=\"NPR header\">``\n",
    "\n",
    "Let's say that we know that the information we care about is within tags that match this template (i.e., **class** is an attribute, and its value is **'npr-header'**)."
   ]
  },
  {
   "cell_type": "code",
   "execution_count": 36,
   "metadata": {},
   "outputs": [
    {
     "data": {
      "text/plain": [
       "<header aria-label=\"NPR header\" class=\"npr-header\" id=\"globalheader\"><nav aria-label=\"main navigation\" class=\"navigation\">\n",
       "<div class=\"navigation__top-level-wrap\" data-metrics-all=\"\" data-metrics-category=\"global navigation\">\n",
       "<ul class=\"navigation__top-level\">\n",
       "<li class=\"navigation__home\">\n",
       "<a data-metrics-action=\"click npr logo\" href=\"/\">\n",
       "<img alt=\"NPR logo\" src=\"https://media.npr.org/chrome_svg/npr-logo.svg\"/>\n",
       "</a>\n",
       "</li>\n",
       "<li id=\"navigation__station-mount\"></li>\n",
       "<li class=\"navigation__account\" id=\"user-account-dropdown-mount\"></li>\n",
       "<li class=\"navigation__shop\">\n",
       "<a data-metrics-action=\"click npr shop\" href=\"https://shop.npr.org\">NPR Shop</a>\n",
       "</li>\n",
       "<li id=\"navigation__station-donate-mount\"></li>\n",
       "<li class=\"navigation__toggle-wrap\">\n",
       "<button aria-expanded=\"false\" aria-haspopup=\"true\" class=\"navigation__toggle navigation__toggle--open\" data-metrics-action=\"open navigation menu\" id=\"navigation__toggle--open\">\n",
       "                    Open Navigation Menu\n",
       "                </button>\n",
       "</li>\n",
       "</ul>\n",
       "</div>\n",
       "<section class=\"menu menu--main\" data-metrics-all=\"\" data-metrics-category=\"global navigation\" id=\"main-menu\">\n",
       "<div class=\"menu__inner\">\n",
       "<header class=\"menu__header\">\n",
       "<button aria-expanded=\"true\" aria-haspopup=\"true\" class=\"navigation__toggle navigation__toggle--close\" data-metrics-action=\"close navigation menu\" id=\"navigation__toggle--close\">\n",
       "                    Close <span>Navigation Menu</span>\n",
       "</button>\n",
       "</header>\n",
       "<ul class=\"menu__list\">\n",
       "<li class=\"menu__item menu__item--home\">\n",
       "<div class=\"menu__item-inner\"><a data-metrics-action=\"click npr logo\" href=\"/\">Home</a></div>\n",
       "</li>\n",
       "<li class=\"menu__item menu__item--news menu__item--has-submenu\" data-metrics-hover=\"toggle news drawer\">\n",
       "<div class=\"menu__item-inner\">\n",
       "<a data-metrics-action=\"click news\" href=\"/sections/news/\">News</a>\n",
       "<button class=\"menu__toggle-submenu\" data-metrics-action=\"toggle news drawer\">Expand/collapse submenu for News</button>\n",
       "</div>\n",
       "<ul class=\"submenu submenu--news\">\n",
       "<li class=\"submenu__item\"><a data-metrics-action=\"click national\" href=\"/sections/national/\">National</a></li>\n",
       "<li class=\"submenu__item\"><a data-metrics-action=\"click world\" href=\"/sections/world/\">World</a></li>\n",
       "<li class=\"submenu__item\"><a data-metrics-action=\"click politics\" href=\"/sections/politics/\">Politics</a></li>\n",
       "<li class=\"submenu__item\"><a data-metrics-action=\"click business\" href=\"/sections/business/\">Business</a></li>\n",
       "<li class=\"submenu__item\"><a data-metrics-action=\"click health\" href=\"/sections/health/\">Health</a></li>\n",
       "<li class=\"submenu__item\"><a data-metrics-action=\"click science\" href=\"/sections/science/\">Science</a></li>\n",
       "<li class=\"submenu__item\"><a data-metrics-action=\"click technology\" href=\"/sections/technology/\">Technology</a></li>\n",
       "<li class=\"submenu__item\"><a data-metrics-action=\"click race &amp; culture\" href=\"/sections/codeswitch/\">Race &amp; Culture</a></li>\n",
       "</ul>\n",
       "</li>\n",
       "<li class=\"menu__item menu__item--arts-life menu__item--has-submenu\" data-metrics-hover=\"toggle arts drawer\">\n",
       "<div class=\"menu__item-inner\">\n",
       "<a data-metrics-action=\"click arts &amp; life\" href=\"/sections/arts/\">Arts &amp; Life</a>\n",
       "<button class=\"menu__toggle-submenu\" data-metrics-action=\"toggle arts drawer\">Expand/collapse submenu for Arts &amp; Life</button>\n",
       "</div>\n",
       "<ul class=\"submenu submenu--arts-life\">\n",
       "<li class=\"submenu__item\"><a data-metrics-action=\"click books\" href=\"/books/\">Books</a></li>\n",
       "<li class=\"submenu__item\"><a data-metrics-action=\"click movies\" href=\"/sections/movies/\">Movies</a></li>\n",
       "<li class=\"submenu__item\"><a data-metrics-action=\"click television\" href=\"/sections/television/\">Television</a></li>\n",
       "<li class=\"submenu__item\"><a data-metrics-action=\"click pop culture\" href=\"/sections/pop-culture/\">Pop Culture</a></li>\n",
       "<li class=\"submenu__item\"><a data-metrics-action=\"click food\" href=\"/sections/food/\">Food</a></li>\n",
       "<li class=\"submenu__item\"><a data-metrics-action=\"click art &amp; design\" href=\"/sections/art-design/\">Art &amp; Design</a> </li>\n",
       "<li class=\"submenu__item\"><a data-metrics-action=\"click performing arts\" href=\"/sections/performing-arts/\">Performing Arts</a></li>\n",
       "</ul>\n",
       "</li>\n",
       "<li class=\"menu__item menu__item--music menu__item--has-submenu\" data-metrics-hover=\"toggle music drawer\">\n",
       "<div class=\"menu__item-inner\">\n",
       "<a data-metrics-action=\"click music\" href=\"/music/\">Music</a>\n",
       "<button class=\"menu__toggle-submenu\" data-metrics-action=\"toggle music drawer\">Expand/collapse submenu for Music</button>\n",
       "</div>\n",
       "<ul class=\"submenu submenu--music\"><li class=\"submenu__item\">\n",
       "<a data-metrics-action=\"click tiny desk\" href=\"https://www.npr.org/series/tiny-desk-concerts/\">\n",
       "        Tiny Desk\n",
       "    </a>\n",
       "</li><li class=\"submenu__item\">\n",
       "<a data-metrics-action=\"click all songs considered\" href=\"https://www.npr.org/sections/allsongs/\">\n",
       "        All Songs Considered\n",
       "    </a>\n",
       "</li><li class=\"submenu__item\">\n",
       "<a data-metrics-action=\"click turning the tables\" href=\"https://www.npr.org/series/538009815/turning-the-tables\">\n",
       "        Turning The Tables\n",
       "    </a>\n",
       "</li><li class=\"submenu__item\">\n",
       "<a data-metrics-action=\"click music news\" href=\"https://www.npr.org/sections/music-news/\">\n",
       "        Music News\n",
       "    </a>\n",
       "</li><li class=\"submenu__item\">\n",
       "<a data-metrics-action=\"click new music\" href=\"https://www.npr.org/sections/new-music/\">\n",
       "        New Music\n",
       "    </a>\n",
       "</li><li class=\"submenu__item\">\n",
       "<a data-metrics-action=\"click best music of 2019\" href=\"https://www.npr.org/series/689345495/best-music-of-2019\">\n",
       "        Best Music Of 2019\n",
       "    </a>\n",
       "</li></ul>\n",
       "</li>\n",
       "<li class=\"menu__item menu__item--shows-podcasts menu__item--has-submenu\" data-metrics-hover=\"toggle programs &amp; podcasts drawer\">\n",
       "<div class=\"menu__item-inner\">\n",
       "<a data-metrics-action=\"click shows &amp; podcasts\" href=\"/programs/\">Shows &amp; Podcasts</a>\n",
       "<button class=\"menu__toggle-submenu\" data-metrics-action=\"toggle programs &amp; podcasts drawer\">Expand/collapse submenu for Shows &amp; Podcasts</button>\n",
       "</div>\n",
       "<div class=\"submenu submenu--shows-podcasts\">\n",
       "<span class=\"submenu__category submenu__category--daily\">Daily</span>\n",
       "<ul class=\"submenu__list submenu__list--daily\">\n",
       "<li class=\"submenu__item submenu__item--timed submenu__item--weekday hidden\">\n",
       "<a data-metrics-action=\"click morning edition\" href=\"/programs/morning-edition/\">\n",
       "<img alt=\"\" src=\"https://media.npr.org/chrome/programs/logos/morning-edition.jpg\"/>\n",
       "                                    Morning Edition\n",
       "                                </a>\n",
       "</li>\n",
       "<li class=\"submenu__item submenu__item--timed submenu__item--saturday hidden\">\n",
       "<a data-metrics-action=\"click weekend edition saturday\" href=\"/programs/weekend-edition-saturday/\">\n",
       "<img alt=\"\" src=\"https://media.npr.org/assets/img/2019/02/26/we_otherentitiestemplatesat_sq-cbde87a2fa31b01047441e6f34d2769b0287bcd4-s100-c85.png\"/>\n",
       "                                    Weekend Edition Saturday\n",
       "                                </a>\n",
       "</li>\n",
       "<li class=\"submenu__item submenu__item--timed submenu__item--sunday hidden\">\n",
       "<a data-metrics-action=\"click weekend edition sunday\" href=\"/programs/weekend-edition-sunday/\">\n",
       "<img alt=\"\" src=\"https://media.npr.org/assets/img/2019/02/26/we_otherentitiestemplatesun_sq-4a03b35e7e5adfa446aec374523a578d54dc9bf5-s100-c85.png\"/>\n",
       "                                    Weekend Edition Sunday\n",
       "                                </a>\n",
       "</li>\n",
       "<li class=\"submenu__item\">\n",
       "<a data-metrics-action=\"click all things considered\" href=\"/programs/all-things-considered/\">\n",
       "<img alt=\"\" src=\"https://media.npr.org/chrome/programs/logos/all-things-considered.png\"/>\n",
       "                                    All Things Considered\n",
       "                                </a>\n",
       "</li>\n",
       "<li class=\"submenu__item\">\n",
       "<a data-metrics-action=\"click fresh air\" href=\"/programs/fresh-air/\">\n",
       "<img alt=\"\" src=\"https://media.npr.org/chrome/programs/logos/fresh-air.png\"/>\n",
       "                                    Fresh Air\n",
       "                                </a>\n",
       "</li>\n",
       "<li class=\"submenu__item\">\n",
       "<a data-metrics-action=\"click up first\" href=\"/podcasts/510318/up-first\">\n",
       "<img alt=\"\" src=\"https://media.npr.org/chrome/programs/logos/up-first.jpg\"/>\n",
       "                                    Up First\n",
       "                                </a>\n",
       "</li>\n",
       "</ul>\n",
       "<span class=\"submenu__category submenu__category--featured\">Featured</span>\n",
       "<ul class=\"submenu__list submenu__list--featured\"><li class=\"submenu__item\">\n",
       "<a data-metrics-action=\"click how i built this with guy raz\" href=\"https://www.npr.org/podcasts/510313/how-i-built-this\">\n",
       "<img alt=\"\" src=\"https://media.npr.org/assets/img/2018/08/03/npr_hibt_podcasttile_sq-98320b282169a8cea04a406530e6e7b957665b3f.jpg?s=100\"/>\n",
       "        How I Built This with Guy Raz\n",
       "    </a>\n",
       "</li><li class=\"submenu__item\">\n",
       "<a data-metrics-action=\"click wait wait...don't tell me!\" href=\"https://www.npr.org/podcasts/344098539/wait-wait-don-t-tell-me\">\n",
       "<img alt=\"\" src=\"https://media.npr.org/assets/img/2019/05/23/screen-shot-2019-05-23-at-8.46.21-am_sq-7dcea391e7a87ca3569fe3d2047dda0144e5d86f.png?s=100\"/>\n",
       "        Wait Wait...Don't Tell Me!\n",
       "    </a>\n",
       "</li><li class=\"submenu__item\">\n",
       "<a data-metrics-action=\"click planet money\" href=\"https://www.npr.org/podcasts/510289/planet-money\">\n",
       "<img alt=\"\" src=\"https://media.npr.org/assets/img/2018/08/02/npr_planetmoney_podcasttile_sq-7b7fab0b52fd72826936c3dbe51cff94889797a0.jpg?s=100\"/>\n",
       "        Planet Money\n",
       "    </a>\n",
       "</li><li class=\"submenu__item\">\n",
       "<a data-metrics-action=\"click hidden brain\" href=\"https://www.npr.org/podcasts/510308/hidden-brain\">\n",
       "<img alt=\"\" src=\"https://media.npr.org/assets/img/2018/08/03/npr_hiddenbrain_podcasttile_sq-270ab642de6948802f485c6ad1f087239ef6e324.jpg?s=100\"/>\n",
       "        Hidden Brain\n",
       "    </a>\n",
       "</li></ul>\n",
       "<ul class=\"submenu__list submenu__list--directories\">\n",
       "<li class=\"submenu__item\"><a data-metrics-action=\"click all programs\" href=\"/programs/\">More Shows &amp; Podcasts</a></li>\n",
       "</ul>\n",
       "</div>\n",
       "</li>\n",
       "<li class=\"menu__item menu__item--search\">\n",
       "<div class=\"menu__item-inner\">\n",
       "<a data-metrics-action=\"click search\" href=\"/search\" id=\"navigation_dropdown-search\">Search</a>\n",
       "</div>\n",
       "</li>\n",
       "<li class=\"menu__item menu__item--account\" id=\"user-account-dropdown-mount-two\"></li>\n",
       "<li class=\"menu__item menu__item--shop\">\n",
       "<div class=\"menu__item-inner\">\n",
       "<a data-metrics-action=\"click npr shop\" href=\"https://shop.npr.org\">NPR Shop</a>\n",
       "</div>\n",
       "</li>\n",
       "</ul>\n",
       "</div>\n",
       "</section>\n",
       "<section class=\"menu menu--music\" data-metrics-all=\"\" data-metrics-category=\"music ecosystem navigation\">\n",
       "<div class=\"menu__list-wrap\">\n",
       "<ul class=\"menu__list menu__list--ecosystem menu__list--music\">\n",
       "<li class=\"menu__item menu__item--music-home\">\n",
       "<a data-metrics-action=\"click npr music logo\" href=\"/music/\">\n",
       "<img alt=\"NPR Music\" class=\"music-logo\" src=\"https://media.npr.org/chrome_svg/music-logo-dark.svg\"/>\n",
       "<img alt=\"NPR Music\" class=\"music-logo-alt\" src=\"https://media.npr.org/chrome_svg/music-logo-light.svg\"/>\n",
       "</a>\n",
       "</li>\n",
       "<li class=\"menu__item\">\n",
       "<a data-metrics-action=\"click tiny desk\" href=\"https://www.npr.org/series/tiny-desk-concerts/\">\n",
       "        Tiny Desk\n",
       "    </a>\n",
       "</li><li class=\"menu__item\">\n",
       "<a data-metrics-action=\"click all songs considered\" href=\"https://www.npr.org/sections/allsongs/\">\n",
       "        All Songs Considered\n",
       "    </a>\n",
       "</li><li class=\"menu__item\">\n",
       "<a data-metrics-action=\"click turning the tables\" href=\"https://www.npr.org/series/538009815/turning-the-tables\">\n",
       "        Turning The Tables\n",
       "    </a>\n",
       "</li><li class=\"menu__item\">\n",
       "<a data-metrics-action=\"click music news\" href=\"https://www.npr.org/sections/music-news/\">\n",
       "        Music News\n",
       "    </a>\n",
       "</li><li class=\"menu__item\">\n",
       "<a data-metrics-action=\"click new music\" href=\"https://www.npr.org/sections/new-music/\">\n",
       "        New Music\n",
       "    </a>\n",
       "</li><li class=\"menu__item\">\n",
       "<a data-metrics-action=\"click best music of 2019\" href=\"https://www.npr.org/series/689345495/best-music-of-2019\">\n",
       "        Best Music Of 2019\n",
       "    </a>\n",
       "</li>\n",
       "</ul>\n",
       "</div>\n",
       "</section>\n",
       "<section class=\"menu menu--about\" data-metrics-all=\"\" data-metrics-category=\"about ecosystem navigation\">\n",
       "<div class=\"menu__list-wrap\">\n",
       "<ul class=\"menu__list menu__list--ecosystem menu__list--about\">\n",
       "<li class=\"menu__item menu__item--about-home\"><a data-metrics-action=\"click about npr\" href=\"/about/\">About NPR</a></li>\n",
       "<li class=\"menu__item menu__item--about-overview\"><a data-metrics-action=\"click overview\" href=\"/overview/\">Overview</a></li>\n",
       "<li class=\"menu__item menu__item--about-support\"><a data-metrics-action=\"click support\" href=\"/support/\">Support</a></li>\n",
       "<li class=\"menu__item menu__item--about-careers\"><a data-metrics-action=\"click careers\" href=\"/careers/\">Careers</a></li>\n",
       "<li class=\"menu__item menu__item--about-connect\"><a data-metrics-action=\"click connect\" href=\"/connect/\">Connect</a></li>\n",
       "<li class=\"menu__item menu__item--about-press\"><a data-metrics-action=\"click press\" href=\"/press/\">Press</a></li>\n",
       "<li class=\"menu__item menu__item--about-ethics\"><a data-metrics-action=\"click ethics\" href=\"/ethics/\">Ethics</a></li>\n",
       "</ul>\n",
       "</div>\n",
       "</section>\n",
       "</nav></header>"
      ]
     },
     "execution_count": 36,
     "metadata": {},
     "output_type": "execute_result"
    }
   ],
   "source": [
    "soup.find('header', attrs={'class':'npr-header'})"
   ]
  },
  {
   "cell_type": "markdown",
   "metadata": {},
   "source": [
    "This matched it! We could then continue further processing by tacking on other commands:"
   ]
  },
  {
   "cell_type": "code",
   "execution_count": 77,
   "metadata": {},
   "outputs": [
    {
     "data": {
      "text/plain": [
       "[<li class=\"navigation__home\">\n",
       " <a data-metrics-action=\"click npr logo\" href=\"/\">\n",
       " <img alt=\"NPR logo\" src=\"https://media.npr.org/chrome_svg/npr-logo.svg\"/>\n",
       " </a>\n",
       " </li>,\n",
       " <li id=\"navigation__station-mount\"></li>,\n",
       " <li class=\"navigation__account\" id=\"user-account-dropdown-mount\"></li>,\n",
       " <li class=\"navigation__shop\">\n",
       " <a data-metrics-action=\"click npr shop\" href=\"https://shop.npr.org\">NPR Shop</a>\n",
       " </li>,\n",
       " <li id=\"navigation__station-donate-mount\"></li>,\n",
       " <li class=\"navigation__toggle-wrap\">\n",
       " <button aria-expanded=\"false\" aria-haspopup=\"true\" class=\"navigation__toggle navigation__toggle--open\" data-metrics-action=\"open navigation menu\" id=\"navigation__toggle--open\">\n",
       "                     Open Navigation Menu\n",
       "                 </button>\n",
       " </li>,\n",
       " <li class=\"menu__item menu__item--home\">\n",
       " <div class=\"menu__item-inner\"><a data-metrics-action=\"click npr logo\" href=\"/\">Home</a></div>\n",
       " </li>,\n",
       " <li class=\"menu__item menu__item--news menu__item--has-submenu\" data-metrics-hover=\"toggle news drawer\">\n",
       " <div class=\"menu__item-inner\">\n",
       " <a data-metrics-action=\"click news\" href=\"/sections/news/\">News</a>\n",
       " <button class=\"menu__toggle-submenu\" data-metrics-action=\"toggle news drawer\">Expand/collapse submenu for News</button>\n",
       " </div>\n",
       " <ul class=\"submenu submenu--news\">\n",
       " <li class=\"submenu__item\"><a data-metrics-action=\"click national\" href=\"/sections/national/\">National</a></li>\n",
       " <li class=\"submenu__item\"><a data-metrics-action=\"click world\" href=\"/sections/world/\">World</a></li>\n",
       " <li class=\"submenu__item\"><a data-metrics-action=\"click politics\" href=\"/sections/politics/\">Politics</a></li>\n",
       " <li class=\"submenu__item\"><a data-metrics-action=\"click business\" href=\"/sections/business/\">Business</a></li>\n",
       " <li class=\"submenu__item\"><a data-metrics-action=\"click health\" href=\"/sections/health/\">Health</a></li>\n",
       " <li class=\"submenu__item\"><a data-metrics-action=\"click science\" href=\"/sections/science/\">Science</a></li>\n",
       " <li class=\"submenu__item\"><a data-metrics-action=\"click technology\" href=\"/sections/technology/\">Technology</a></li>\n",
       " <li class=\"submenu__item\"><a data-metrics-action=\"click race &amp; culture\" href=\"/sections/codeswitch/\">Race &amp; Culture</a></li>\n",
       " </ul>\n",
       " </li>,\n",
       " <li class=\"submenu__item\"><a data-metrics-action=\"click national\" href=\"/sections/national/\">National</a></li>,\n",
       " <li class=\"submenu__item\"><a data-metrics-action=\"click world\" href=\"/sections/world/\">World</a></li>,\n",
       " <li class=\"submenu__item\"><a data-metrics-action=\"click politics\" href=\"/sections/politics/\">Politics</a></li>,\n",
       " <li class=\"submenu__item\"><a data-metrics-action=\"click business\" href=\"/sections/business/\">Business</a></li>,\n",
       " <li class=\"submenu__item\"><a data-metrics-action=\"click health\" href=\"/sections/health/\">Health</a></li>,\n",
       " <li class=\"submenu__item\"><a data-metrics-action=\"click science\" href=\"/sections/science/\">Science</a></li>,\n",
       " <li class=\"submenu__item\"><a data-metrics-action=\"click technology\" href=\"/sections/technology/\">Technology</a></li>,\n",
       " <li class=\"submenu__item\"><a data-metrics-action=\"click race &amp; culture\" href=\"/sections/codeswitch/\">Race &amp; Culture</a></li>,\n",
       " <li class=\"menu__item menu__item--arts-life menu__item--has-submenu\" data-metrics-hover=\"toggle arts drawer\">\n",
       " <div class=\"menu__item-inner\">\n",
       " <a data-metrics-action=\"click arts &amp; life\" href=\"/sections/arts/\">Arts &amp; Life</a>\n",
       " <button class=\"menu__toggle-submenu\" data-metrics-action=\"toggle arts drawer\">Expand/collapse submenu for Arts &amp; Life</button>\n",
       " </div>\n",
       " <ul class=\"submenu submenu--arts-life\">\n",
       " <li class=\"submenu__item\"><a data-metrics-action=\"click books\" href=\"/books/\">Books</a></li>\n",
       " <li class=\"submenu__item\"><a data-metrics-action=\"click movies\" href=\"/sections/movies/\">Movies</a></li>\n",
       " <li class=\"submenu__item\"><a data-metrics-action=\"click television\" href=\"/sections/television/\">Television</a></li>\n",
       " <li class=\"submenu__item\"><a data-metrics-action=\"click pop culture\" href=\"/sections/pop-culture/\">Pop Culture</a></li>\n",
       " <li class=\"submenu__item\"><a data-metrics-action=\"click food\" href=\"/sections/food/\">Food</a></li>\n",
       " <li class=\"submenu__item\"><a data-metrics-action=\"click art &amp; design\" href=\"/sections/art-design/\">Art &amp; Design</a> </li>\n",
       " <li class=\"submenu__item\"><a data-metrics-action=\"click performing arts\" href=\"/sections/performing-arts/\">Performing Arts</a></li>\n",
       " </ul>\n",
       " </li>,\n",
       " <li class=\"submenu__item\"><a data-metrics-action=\"click books\" href=\"/books/\">Books</a></li>,\n",
       " <li class=\"submenu__item\"><a data-metrics-action=\"click movies\" href=\"/sections/movies/\">Movies</a></li>,\n",
       " <li class=\"submenu__item\"><a data-metrics-action=\"click television\" href=\"/sections/television/\">Television</a></li>,\n",
       " <li class=\"submenu__item\"><a data-metrics-action=\"click pop culture\" href=\"/sections/pop-culture/\">Pop Culture</a></li>,\n",
       " <li class=\"submenu__item\"><a data-metrics-action=\"click food\" href=\"/sections/food/\">Food</a></li>,\n",
       " <li class=\"submenu__item\"><a data-metrics-action=\"click art &amp; design\" href=\"/sections/art-design/\">Art &amp; Design</a> </li>,\n",
       " <li class=\"submenu__item\"><a data-metrics-action=\"click performing arts\" href=\"/sections/performing-arts/\">Performing Arts</a></li>,\n",
       " <li class=\"menu__item menu__item--music menu__item--has-submenu\" data-metrics-hover=\"toggle music drawer\">\n",
       " <div class=\"menu__item-inner\">\n",
       " <a data-metrics-action=\"click music\" href=\"/music/\">Music</a>\n",
       " <button class=\"menu__toggle-submenu\" data-metrics-action=\"toggle music drawer\">Expand/collapse submenu for Music</button>\n",
       " </div>\n",
       " <ul class=\"submenu submenu--music\"><li class=\"submenu__item\">\n",
       " <a data-metrics-action=\"click tiny desk\" href=\"https://www.npr.org/series/tiny-desk-concerts/\">\n",
       "         Tiny Desk\n",
       "     </a>\n",
       " </li><li class=\"submenu__item\">\n",
       " <a data-metrics-action=\"click all songs considered\" href=\"https://www.npr.org/sections/allsongs/\">\n",
       "         All Songs Considered\n",
       "     </a>\n",
       " </li><li class=\"submenu__item\">\n",
       " <a data-metrics-action=\"click turning the tables\" href=\"https://www.npr.org/series/538009815/turning-the-tables\">\n",
       "         Turning The Tables\n",
       "     </a>\n",
       " </li><li class=\"submenu__item\">\n",
       " <a data-metrics-action=\"click music news\" href=\"https://www.npr.org/sections/music-news/\">\n",
       "         Music News\n",
       "     </a>\n",
       " </li><li class=\"submenu__item\">\n",
       " <a data-metrics-action=\"click new music\" href=\"https://www.npr.org/sections/new-music/\">\n",
       "         New Music\n",
       "     </a>\n",
       " </li><li class=\"submenu__item\">\n",
       " <a data-metrics-action=\"click best music of 2019\" href=\"https://www.npr.org/series/689345495/best-music-of-2019\">\n",
       "         Best Music Of 2019\n",
       "     </a>\n",
       " </li></ul>\n",
       " </li>,\n",
       " <li class=\"submenu__item\">\n",
       " <a data-metrics-action=\"click tiny desk\" href=\"https://www.npr.org/series/tiny-desk-concerts/\">\n",
       "         Tiny Desk\n",
       "     </a>\n",
       " </li>,\n",
       " <li class=\"submenu__item\">\n",
       " <a data-metrics-action=\"click all songs considered\" href=\"https://www.npr.org/sections/allsongs/\">\n",
       "         All Songs Considered\n",
       "     </a>\n",
       " </li>,\n",
       " <li class=\"submenu__item\">\n",
       " <a data-metrics-action=\"click turning the tables\" href=\"https://www.npr.org/series/538009815/turning-the-tables\">\n",
       "         Turning The Tables\n",
       "     </a>\n",
       " </li>,\n",
       " <li class=\"submenu__item\">\n",
       " <a data-metrics-action=\"click music news\" href=\"https://www.npr.org/sections/music-news/\">\n",
       "         Music News\n",
       "     </a>\n",
       " </li>,\n",
       " <li class=\"submenu__item\">\n",
       " <a data-metrics-action=\"click new music\" href=\"https://www.npr.org/sections/new-music/\">\n",
       "         New Music\n",
       "     </a>\n",
       " </li>,\n",
       " <li class=\"submenu__item\">\n",
       " <a data-metrics-action=\"click best music of 2019\" href=\"https://www.npr.org/series/689345495/best-music-of-2019\">\n",
       "         Best Music Of 2019\n",
       "     </a>\n",
       " </li>,\n",
       " <li class=\"menu__item menu__item--shows-podcasts menu__item--has-submenu\" data-metrics-hover=\"toggle programs &amp; podcasts drawer\">\n",
       " <div class=\"menu__item-inner\">\n",
       " <a data-metrics-action=\"click shows &amp; podcasts\" href=\"/programs/\">Shows &amp; Podcasts</a>\n",
       " <button class=\"menu__toggle-submenu\" data-metrics-action=\"toggle programs &amp; podcasts drawer\">Expand/collapse submenu for Shows &amp; Podcasts</button>\n",
       " </div>\n",
       " <div class=\"submenu submenu--shows-podcasts\">\n",
       " <span class=\"submenu__category submenu__category--daily\">Daily</span>\n",
       " <ul class=\"submenu__list submenu__list--daily\">\n",
       " <li class=\"submenu__item submenu__item--timed submenu__item--weekday hidden\">\n",
       " <a data-metrics-action=\"click morning edition\" href=\"/programs/morning-edition/\">\n",
       " <img alt=\"\" src=\"https://media.npr.org/chrome/programs/logos/morning-edition.jpg\"/>\n",
       "                                     Morning Edition\n",
       "                                 </a>\n",
       " </li>\n",
       " <li class=\"submenu__item submenu__item--timed submenu__item--saturday hidden\">\n",
       " <a data-metrics-action=\"click weekend edition saturday\" href=\"/programs/weekend-edition-saturday/\">\n",
       " <img alt=\"\" src=\"https://media.npr.org/assets/img/2019/02/26/we_otherentitiestemplatesat_sq-cbde87a2fa31b01047441e6f34d2769b0287bcd4-s100-c85.png\"/>\n",
       "                                     Weekend Edition Saturday\n",
       "                                 </a>\n",
       " </li>\n",
       " <li class=\"submenu__item submenu__item--timed submenu__item--sunday hidden\">\n",
       " <a data-metrics-action=\"click weekend edition sunday\" href=\"/programs/weekend-edition-sunday/\">\n",
       " <img alt=\"\" src=\"https://media.npr.org/assets/img/2019/02/26/we_otherentitiestemplatesun_sq-4a03b35e7e5adfa446aec374523a578d54dc9bf5-s100-c85.png\"/>\n",
       "                                     Weekend Edition Sunday\n",
       "                                 </a>\n",
       " </li>\n",
       " <li class=\"submenu__item\">\n",
       " <a data-metrics-action=\"click all things considered\" href=\"/programs/all-things-considered/\">\n",
       " <img alt=\"\" src=\"https://media.npr.org/chrome/programs/logos/all-things-considered.png\"/>\n",
       "                                     All Things Considered\n",
       "                                 </a>\n",
       " </li>\n",
       " <li class=\"submenu__item\">\n",
       " <a data-metrics-action=\"click fresh air\" href=\"/programs/fresh-air/\">\n",
       " <img alt=\"\" src=\"https://media.npr.org/chrome/programs/logos/fresh-air.png\"/>\n",
       "                                     Fresh Air\n",
       "                                 </a>\n",
       " </li>\n",
       " <li class=\"submenu__item\">\n",
       " <a data-metrics-action=\"click up first\" href=\"/podcasts/510318/up-first\">\n",
       " <img alt=\"\" src=\"https://media.npr.org/chrome/programs/logos/up-first.jpg\"/>\n",
       "                                     Up First\n",
       "                                 </a>\n",
       " </li>\n",
       " </ul>\n",
       " <span class=\"submenu__category submenu__category--featured\">Featured</span>\n",
       " <ul class=\"submenu__list submenu__list--featured\"><li class=\"submenu__item\">\n",
       " <a data-metrics-action=\"click how i built this with guy raz\" href=\"https://www.npr.org/podcasts/510313/how-i-built-this\">\n",
       " <img alt=\"\" src=\"https://media.npr.org/assets/img/2018/08/03/npr_hibt_podcasttile_sq-98320b282169a8cea04a406530e6e7b957665b3f.jpg?s=100\"/>\n",
       "         How I Built This with Guy Raz\n",
       "     </a>\n",
       " </li><li class=\"submenu__item\">\n",
       " <a data-metrics-action=\"click wait wait...don't tell me!\" href=\"https://www.npr.org/podcasts/344098539/wait-wait-don-t-tell-me\">\n",
       " <img alt=\"\" src=\"https://media.npr.org/assets/img/2019/05/23/screen-shot-2019-05-23-at-8.46.21-am_sq-7dcea391e7a87ca3569fe3d2047dda0144e5d86f.png?s=100\"/>\n",
       "         Wait Wait...Don't Tell Me!\n",
       "     </a>\n",
       " </li><li class=\"submenu__item\">\n",
       " <a data-metrics-action=\"click planet money\" href=\"https://www.npr.org/podcasts/510289/planet-money\">\n",
       " <img alt=\"\" src=\"https://media.npr.org/assets/img/2018/08/02/npr_planetmoney_podcasttile_sq-7b7fab0b52fd72826936c3dbe51cff94889797a0.jpg?s=100\"/>\n",
       "         Planet Money\n",
       "     </a>\n",
       " </li><li class=\"submenu__item\">\n",
       " <a data-metrics-action=\"click hidden brain\" href=\"https://www.npr.org/podcasts/510308/hidden-brain\">\n",
       " <img alt=\"\" src=\"https://media.npr.org/assets/img/2018/08/03/npr_hiddenbrain_podcasttile_sq-270ab642de6948802f485c6ad1f087239ef6e324.jpg?s=100\"/>\n",
       "         Hidden Brain\n",
       "     </a>\n",
       " </li></ul>\n",
       " <ul class=\"submenu__list submenu__list--directories\">\n",
       " <li class=\"submenu__item\"><a data-metrics-action=\"click all programs\" href=\"/programs/\">More Shows &amp; Podcasts</a></li>\n",
       " </ul>\n",
       " </div>\n",
       " </li>,\n",
       " <li class=\"submenu__item submenu__item--timed submenu__item--weekday hidden\">\n",
       " <a data-metrics-action=\"click morning edition\" href=\"/programs/morning-edition/\">\n",
       " <img alt=\"\" src=\"https://media.npr.org/chrome/programs/logos/morning-edition.jpg\"/>\n",
       "                                     Morning Edition\n",
       "                                 </a>\n",
       " </li>,\n",
       " <li class=\"submenu__item submenu__item--timed submenu__item--saturday hidden\">\n",
       " <a data-metrics-action=\"click weekend edition saturday\" href=\"/programs/weekend-edition-saturday/\">\n",
       " <img alt=\"\" src=\"https://media.npr.org/assets/img/2019/02/26/we_otherentitiestemplatesat_sq-cbde87a2fa31b01047441e6f34d2769b0287bcd4-s100-c85.png\"/>\n",
       "                                     Weekend Edition Saturday\n",
       "                                 </a>\n",
       " </li>,\n",
       " <li class=\"submenu__item submenu__item--timed submenu__item--sunday hidden\">\n",
       " <a data-metrics-action=\"click weekend edition sunday\" href=\"/programs/weekend-edition-sunday/\">\n",
       " <img alt=\"\" src=\"https://media.npr.org/assets/img/2019/02/26/we_otherentitiestemplatesun_sq-4a03b35e7e5adfa446aec374523a578d54dc9bf5-s100-c85.png\"/>\n",
       "                                     Weekend Edition Sunday\n",
       "                                 </a>\n",
       " </li>,\n",
       " <li class=\"submenu__item\">\n",
       " <a data-metrics-action=\"click all things considered\" href=\"/programs/all-things-considered/\">\n",
       " <img alt=\"\" src=\"https://media.npr.org/chrome/programs/logos/all-things-considered.png\"/>\n",
       "                                     All Things Considered\n",
       "                                 </a>\n",
       " </li>,\n",
       " <li class=\"submenu__item\">\n",
       " <a data-metrics-action=\"click fresh air\" href=\"/programs/fresh-air/\">\n",
       " <img alt=\"\" src=\"https://media.npr.org/chrome/programs/logos/fresh-air.png\"/>\n",
       "                                     Fresh Air\n",
       "                                 </a>\n",
       " </li>,\n",
       " <li class=\"submenu__item\">\n",
       " <a data-metrics-action=\"click up first\" href=\"/podcasts/510318/up-first\">\n",
       " <img alt=\"\" src=\"https://media.npr.org/chrome/programs/logos/up-first.jpg\"/>\n",
       "                                     Up First\n",
       "                                 </a>\n",
       " </li>,\n",
       " <li class=\"submenu__item\">\n",
       " <a data-metrics-action=\"click how i built this with guy raz\" href=\"https://www.npr.org/podcasts/510313/how-i-built-this\">\n",
       " <img alt=\"\" src=\"https://media.npr.org/assets/img/2018/08/03/npr_hibt_podcasttile_sq-98320b282169a8cea04a406530e6e7b957665b3f.jpg?s=100\"/>\n",
       "         How I Built This with Guy Raz\n",
       "     </a>\n",
       " </li>,\n",
       " <li class=\"submenu__item\">\n",
       " <a data-metrics-action=\"click wait wait...don't tell me!\" href=\"https://www.npr.org/podcasts/344098539/wait-wait-don-t-tell-me\">\n",
       " <img alt=\"\" src=\"https://media.npr.org/assets/img/2019/05/23/screen-shot-2019-05-23-at-8.46.21-am_sq-7dcea391e7a87ca3569fe3d2047dda0144e5d86f.png?s=100\"/>\n",
       "         Wait Wait...Don't Tell Me!\n",
       "     </a>\n",
       " </li>,\n",
       " <li class=\"submenu__item\">\n",
       " <a data-metrics-action=\"click planet money\" href=\"https://www.npr.org/podcasts/510289/planet-money\">\n",
       " <img alt=\"\" src=\"https://media.npr.org/assets/img/2018/08/02/npr_planetmoney_podcasttile_sq-7b7fab0b52fd72826936c3dbe51cff94889797a0.jpg?s=100\"/>\n",
       "         Planet Money\n",
       "     </a>\n",
       " </li>,\n",
       " <li class=\"submenu__item\">\n",
       " <a data-metrics-action=\"click hidden brain\" href=\"https://www.npr.org/podcasts/510308/hidden-brain\">\n",
       " <img alt=\"\" src=\"https://media.npr.org/assets/img/2018/08/03/npr_hiddenbrain_podcasttile_sq-270ab642de6948802f485c6ad1f087239ef6e324.jpg?s=100\"/>\n",
       "         Hidden Brain\n",
       "     </a>\n",
       " </li>,\n",
       " <li class=\"submenu__item\"><a data-metrics-action=\"click all programs\" href=\"/programs/\">More Shows &amp; Podcasts</a></li>,\n",
       " <li class=\"menu__item menu__item--search\">\n",
       " <div class=\"menu__item-inner\">\n",
       " <a data-metrics-action=\"click search\" href=\"/search\" id=\"navigation_dropdown-search\">Search</a>\n",
       " </div>\n",
       " </li>,\n",
       " <li class=\"menu__item menu__item--account\" id=\"user-account-dropdown-mount-two\"></li>,\n",
       " <li class=\"menu__item menu__item--shop\">\n",
       " <div class=\"menu__item-inner\">\n",
       " <a data-metrics-action=\"click npr shop\" href=\"https://shop.npr.org\">NPR Shop</a>\n",
       " </div>\n",
       " </li>,\n",
       " <li class=\"menu__item menu__item--music-home\">\n",
       " <a data-metrics-action=\"click npr music logo\" href=\"/music/\">\n",
       " <img alt=\"NPR Music\" class=\"music-logo\" src=\"https://media.npr.org/chrome_svg/music-logo-dark.svg\"/>\n",
       " <img alt=\"NPR Music\" class=\"music-logo-alt\" src=\"https://media.npr.org/chrome_svg/music-logo-light.svg\"/>\n",
       " </a>\n",
       " </li>,\n",
       " <li class=\"menu__item\">\n",
       " <a data-metrics-action=\"click tiny desk\" href=\"https://www.npr.org/series/tiny-desk-concerts/\">\n",
       "         Tiny Desk\n",
       "     </a>\n",
       " </li>,\n",
       " <li class=\"menu__item\">\n",
       " <a data-metrics-action=\"click all songs considered\" href=\"https://www.npr.org/sections/allsongs/\">\n",
       "         All Songs Considered\n",
       "     </a>\n",
       " </li>,\n",
       " <li class=\"menu__item\">\n",
       " <a data-metrics-action=\"click turning the tables\" href=\"https://www.npr.org/series/538009815/turning-the-tables\">\n",
       "         Turning The Tables\n",
       "     </a>\n",
       " </li>,\n",
       " <li class=\"menu__item\">\n",
       " <a data-metrics-action=\"click music news\" href=\"https://www.npr.org/sections/music-news/\">\n",
       "         Music News\n",
       "     </a>\n",
       " </li>,\n",
       " <li class=\"menu__item\">\n",
       " <a data-metrics-action=\"click new music\" href=\"https://www.npr.org/sections/new-music/\">\n",
       "         New Music\n",
       "     </a>\n",
       " </li>,\n",
       " <li class=\"menu__item\">\n",
       " <a data-metrics-action=\"click best music of 2019\" href=\"https://www.npr.org/series/689345495/best-music-of-2019\">\n",
       "         Best Music Of 2019\n",
       "     </a>\n",
       " </li>,\n",
       " <li class=\"menu__item menu__item--about-home\"><a data-metrics-action=\"click about npr\" href=\"/about/\">About NPR</a></li>,\n",
       " <li class=\"menu__item menu__item--about-overview\"><a data-metrics-action=\"click overview\" href=\"/overview/\">Overview</a></li>,\n",
       " <li class=\"menu__item menu__item--about-support\"><a data-metrics-action=\"click support\" href=\"/support/\">Support</a></li>,\n",
       " <li class=\"menu__item menu__item--about-careers\"><a data-metrics-action=\"click careers\" href=\"/careers/\">Careers</a></li>,\n",
       " <li class=\"menu__item menu__item--about-connect\"><a data-metrics-action=\"click connect\" href=\"/connect/\">Connect</a></li>,\n",
       " <li class=\"menu__item menu__item--about-press\"><a data-metrics-action=\"click press\" href=\"/press/\">Press</a></li>,\n",
       " <li class=\"menu__item menu__item--about-ethics\"><a data-metrics-action=\"click ethics\" href=\"/ethics/\">Ethics</a></li>]"
      ]
     },
     "execution_count": 77,
     "metadata": {},
     "output_type": "execute_result"
    }
   ],
   "source": [
    "soup.find('header', attrs={'class':'npr-header'}).find_all(\"li\") # li stands for list items"
   ]
  },
  {
   "cell_type": "markdown",
   "metadata": {},
   "source": [
    "This returns all of our list items, and since it's within a particular header section of the page, it appears they are links to menu items for navigating the webpage. If we wanted to grab just the links within these:"
   ]
  },
  {
   "cell_type": "code",
   "execution_count": 82,
   "metadata": {},
   "outputs": [
    {
     "data": {
      "text/plain": [
       "{<a data-metrics-action=\"click about npr\" href=\"/about/\">About NPR</a>,\n",
       " <a data-metrics-action=\"click all programs\" href=\"/programs/\">More Shows &amp; Podcasts</a>,\n",
       " <a data-metrics-action=\"click all songs considered\" href=\"https://www.npr.org/sections/allsongs/\">\n",
       "         All Songs Considered\n",
       "     </a>,\n",
       " <a data-metrics-action=\"click all things considered\" href=\"/programs/all-things-considered/\">\n",
       " <img alt=\"\" src=\"https://media.npr.org/chrome/programs/logos/all-things-considered.png\"/>\n",
       "                                     All Things Considered\n",
       "                                 </a>,\n",
       " <a data-metrics-action=\"click art &amp; design\" href=\"/sections/art-design/\">Art &amp; Design</a>,\n",
       " <a data-metrics-action=\"click arts &amp; life\" href=\"/sections/arts/\">Arts &amp; Life</a>,\n",
       " <a data-metrics-action=\"click best music of 2019\" href=\"https://www.npr.org/series/689345495/best-music-of-2019\">\n",
       "         Best Music Of 2019\n",
       "     </a>,\n",
       " <a data-metrics-action=\"click books\" href=\"/books/\">Books</a>,\n",
       " <a data-metrics-action=\"click business\" href=\"/sections/business/\">Business</a>,\n",
       " <a data-metrics-action=\"click careers\" href=\"/careers/\">Careers</a>,\n",
       " <a data-metrics-action=\"click connect\" href=\"/connect/\">Connect</a>,\n",
       " <a data-metrics-action=\"click ethics\" href=\"/ethics/\">Ethics</a>,\n",
       " <a data-metrics-action=\"click food\" href=\"/sections/food/\">Food</a>,\n",
       " <a data-metrics-action=\"click fresh air\" href=\"/programs/fresh-air/\">\n",
       " <img alt=\"\" src=\"https://media.npr.org/chrome/programs/logos/fresh-air.png\"/>\n",
       "                                     Fresh Air\n",
       "                                 </a>,\n",
       " <a data-metrics-action=\"click health\" href=\"/sections/health/\">Health</a>,\n",
       " <a data-metrics-action=\"click hidden brain\" href=\"https://www.npr.org/podcasts/510308/hidden-brain\">\n",
       " <img alt=\"\" src=\"https://media.npr.org/assets/img/2018/08/03/npr_hiddenbrain_podcasttile_sq-270ab642de6948802f485c6ad1f087239ef6e324.jpg?s=100\"/>\n",
       "         Hidden Brain\n",
       "     </a>,\n",
       " <a data-metrics-action=\"click how i built this with guy raz\" href=\"https://www.npr.org/podcasts/510313/how-i-built-this\">\n",
       " <img alt=\"\" src=\"https://media.npr.org/assets/img/2018/08/03/npr_hibt_podcasttile_sq-98320b282169a8cea04a406530e6e7b957665b3f.jpg?s=100\"/>\n",
       "         How I Built This with Guy Raz\n",
       "     </a>,\n",
       " <a data-metrics-action=\"click morning edition\" href=\"/programs/morning-edition/\">\n",
       " <img alt=\"\" src=\"https://media.npr.org/chrome/programs/logos/morning-edition.jpg\"/>\n",
       "                                     Morning Edition\n",
       "                                 </a>,\n",
       " <a data-metrics-action=\"click movies\" href=\"/sections/movies/\">Movies</a>,\n",
       " <a data-metrics-action=\"click music news\" href=\"https://www.npr.org/sections/music-news/\">\n",
       "         Music News\n",
       "     </a>,\n",
       " <a data-metrics-action=\"click music\" href=\"/music/\">Music</a>,\n",
       " <a data-metrics-action=\"click national\" href=\"/sections/national/\">National</a>,\n",
       " <a data-metrics-action=\"click new music\" href=\"https://www.npr.org/sections/new-music/\">\n",
       "         New Music\n",
       "     </a>,\n",
       " <a data-metrics-action=\"click news\" href=\"/sections/news/\">News</a>,\n",
       " <a data-metrics-action=\"click npr logo\" href=\"/\">\n",
       " <img alt=\"NPR logo\" src=\"https://media.npr.org/chrome_svg/npr-logo.svg\"/>\n",
       " </a>,\n",
       " <a data-metrics-action=\"click npr logo\" href=\"/\">Home</a>,\n",
       " <a data-metrics-action=\"click npr music logo\" href=\"/music/\">\n",
       " <img alt=\"NPR Music\" class=\"music-logo\" src=\"https://media.npr.org/chrome_svg/music-logo-dark.svg\"/>\n",
       " <img alt=\"NPR Music\" class=\"music-logo-alt\" src=\"https://media.npr.org/chrome_svg/music-logo-light.svg\"/>\n",
       " </a>,\n",
       " <a data-metrics-action=\"click npr shop\" href=\"https://shop.npr.org\">NPR Shop</a>,\n",
       " <a data-metrics-action=\"click overview\" href=\"/overview/\">Overview</a>,\n",
       " <a data-metrics-action=\"click performing arts\" href=\"/sections/performing-arts/\">Performing Arts</a>,\n",
       " <a data-metrics-action=\"click planet money\" href=\"https://www.npr.org/podcasts/510289/planet-money\">\n",
       " <img alt=\"\" src=\"https://media.npr.org/assets/img/2018/08/02/npr_planetmoney_podcasttile_sq-7b7fab0b52fd72826936c3dbe51cff94889797a0.jpg?s=100\"/>\n",
       "         Planet Money\n",
       "     </a>,\n",
       " <a data-metrics-action=\"click politics\" href=\"/sections/politics/\">Politics</a>,\n",
       " <a data-metrics-action=\"click pop culture\" href=\"/sections/pop-culture/\">Pop Culture</a>,\n",
       " <a data-metrics-action=\"click press\" href=\"/press/\">Press</a>,\n",
       " <a data-metrics-action=\"click race &amp; culture\" href=\"/sections/codeswitch/\">Race &amp; Culture</a>,\n",
       " <a data-metrics-action=\"click science\" href=\"/sections/science/\">Science</a>,\n",
       " <a data-metrics-action=\"click search\" href=\"/search\" id=\"navigation_dropdown-search\">Search</a>,\n",
       " <a data-metrics-action=\"click shows &amp; podcasts\" href=\"/programs/\">Shows &amp; Podcasts</a>,\n",
       " <a data-metrics-action=\"click support\" href=\"/support/\">Support</a>,\n",
       " <a data-metrics-action=\"click technology\" href=\"/sections/technology/\">Technology</a>,\n",
       " <a data-metrics-action=\"click television\" href=\"/sections/television/\">Television</a>,\n",
       " <a data-metrics-action=\"click tiny desk\" href=\"https://www.npr.org/series/tiny-desk-concerts/\">\n",
       "         Tiny Desk\n",
       "     </a>,\n",
       " <a data-metrics-action=\"click turning the tables\" href=\"https://www.npr.org/series/538009815/turning-the-tables\">\n",
       "         Turning The Tables\n",
       "     </a>,\n",
       " <a data-metrics-action=\"click up first\" href=\"/podcasts/510318/up-first\">\n",
       " <img alt=\"\" src=\"https://media.npr.org/chrome/programs/logos/up-first.jpg\"/>\n",
       "                                     Up First\n",
       "                                 </a>,\n",
       " <a data-metrics-action=\"click wait wait...don't tell me!\" href=\"https://www.npr.org/podcasts/344098539/wait-wait-don-t-tell-me\">\n",
       " <img alt=\"\" src=\"https://media.npr.org/assets/img/2019/05/23/screen-shot-2019-05-23-at-8.46.21-am_sq-7dcea391e7a87ca3569fe3d2047dda0144e5d86f.png?s=100\"/>\n",
       "         Wait Wait...Don't Tell Me!\n",
       "     </a>,\n",
       " <a data-metrics-action=\"click weekend edition saturday\" href=\"/programs/weekend-edition-saturday/\">\n",
       " <img alt=\"\" src=\"https://media.npr.org/assets/img/2019/02/26/we_otherentitiestemplatesat_sq-cbde87a2fa31b01047441e6f34d2769b0287bcd4-s100-c85.png\"/>\n",
       "                                     Weekend Edition Saturday\n",
       "                                 </a>,\n",
       " <a data-metrics-action=\"click weekend edition sunday\" href=\"/programs/weekend-edition-sunday/\">\n",
       " <img alt=\"\" src=\"https://media.npr.org/assets/img/2019/02/26/we_otherentitiestemplatesun_sq-4a03b35e7e5adfa446aec374523a578d54dc9bf5-s100-c85.png\"/>\n",
       "                                     Weekend Edition Sunday\n",
       "                                 </a>,\n",
       " <a data-metrics-action=\"click world\" href=\"/sections/world/\">World</a>}"
      ]
     },
     "execution_count": 82,
     "metadata": {},
     "output_type": "execute_result"
    }
   ],
   "source": [
    "menu_links = set()\n",
    "for list_item in soup.find('header', attrs={'class':'npr-header'}).find_all(\"li\"):\n",
    "    for link in list_item.find_all('a', href=True):\n",
    "        menu_links.add(link)\n",
    "menu_links # a unique set of all the seemingly important links in the header"
   ]
  },
  {
   "cell_type": "markdown",
   "metadata": {},
   "source": [
    "## TAKEAWAY LESSON\n",
    "The above tutorial isn't meant to be a study guide to memorize; its point is to show you the most important functionaity that exist within BeautifulSoup, and to illustrate how one can access different pieces of content. No two web scraping tasks are identical, so it's useful to play around with code and try different things, while using the above as examples of how you may navigate between different tags and properties of a page. Don't worry; we are always here to help when you get stuck!\n",
    "\n",
    "# String formatting\n",
    "As we parse webpages, we may often want to further adjust and format the text to a certain way.\n",
    "\n",
    "For example, say we wanted to scrape a polical website that lists all US Senators' name and office phone number. We may want to store information for each senator in a dictionary. All senators' information may be stored in a list. Thus, we'd have a list of dictionaries. Below, we will initialize such a list of dictionary (it has only 3 senators, for illustrative purposes, but imagine it contains many more)."
   ]
  },
  {
   "cell_type": "code",
   "execution_count": 2,
   "metadata": {},
   "outputs": [
    {
     "name": "stdout",
     "output_type": "stream",
     "text": [
      "[{'name': 'Lamar Alexander', 'number': '555-229-2812'}, {'name': 'Tammy Baldwin', 'number': '555-922-8393'}, {'name': 'John Barrasso', 'number': '555-827-2281'}]\n"
     ]
    }
   ],
   "source": [
    "# this is a bit clumsy of an initialization, but we spell it out this way for clarity purposes\n",
    "# NOTE: imagine the dictionary were constructed in a more organic manner\n",
    "senator1 = {\"name\":\"Lamar Alexander\", \"number\":\"555-229-2812\"}\n",
    "senator2 = {\"name\":\"Tammy Baldwin\", \"number\":\"555-922-8393\"}\n",
    "senator3 = {\"name\":\"John Barrasso\", \"number\":\"555-827-2281\"}\n",
    "senators = [senator1, senator2, senator3]\n",
    "print(senators)"
   ]
  },
  {
   "cell_type": "markdown",
   "metadata": {},
   "source": [
    "In the real-world, we may not want the final form of our information to be in a Python dictionary; rather, we may need to send an email to people in our mailing list, urging them to call their senators. If we have a templated format in mind, we can do the following:"
   ]
  },
  {
   "cell_type": "code",
   "execution_count": 3,
   "metadata": {},
   "outputs": [
    {
     "name": "stdout",
     "output_type": "stream",
     "text": [
      "Please call Lamar Alexander at 555-229-2812\n",
      "Please call Tammy Baldwin at 555-922-8393\n",
      "Please call John Barrasso at 555-827-2281\n"
     ]
    }
   ],
   "source": [
    "email_template = \"\"\"Please call {name} at {number}\"\"\"\n",
    "for senator in senators:\n",
    "    print(email_template.format(**senator))"
   ]
  },
  {
   "cell_type": "markdown",
   "metadata": {},
   "source": [
    "**Please [visit here](https://docs.python.org/3/library/stdtypes.html#str.format)** for further documentation\n",
    "                      \n",
    "Alternatively, one can also format their text via the ``f'-strings`` property. [See documentation here](https://docs.python.org/3/reference/lexical_analysis.html#f-strings). For example, using the above data structure and goal, one could yield identical results via:"
   ]
  },
  {
   "cell_type": "code",
   "execution_count": 11,
   "metadata": {},
   "outputs": [
    {
     "name": "stdout",
     "output_type": "stream",
     "text": [
      "Please call Lamar Alexander at 555-229-2812\n",
      "Please call Tammy Baldwin at 555-922-8393\n",
      "Please call John Barrasso at 555-827-2281\n"
     ]
    }
   ],
   "source": [
    "for senator in senators:\n",
    "    print(f\"Please call {senator['name']} at {senator['number']}\")"
   ]
  },
  {
   "cell_type": "markdown",
   "metadata": {},
   "source": [
    "Additionally, sometimes we wish to search large strings of text. If we wish to find all occurrences within a given string, a very mechanical, procedural way of doing it would be to use the ``.find()`` function in Python and to repeatedly update the starting index from which we are looking.\n",
    "\n",
    "## Regular Expressions\n",
    "A way more suitable and powerful way is to use Regular Expressions, which is a pattern matching mechanism used throughout Computer Science and programming (it's not just specific to Python). A tutorial on Regular Expressions (aka regex) is beond this lab, but below are many great resources that we recommend, if you are interested in them (could be very useful for a homework problem):\n",
    "- https://docs.python.org/3.3/library/re.html\n",
    "- https://regexone.com\n",
    "- https://docs.python.org/3/howto/regex.html.\n",
    "\n",
    "# Additonal Python/Homework Comment\n",
    "In Homework #1, we ask you to complete functions that have signatures with a syntax you may not have seen before:\n",
    "\n",
    "``def create_star_table(starlist: list) -> list:``\n",
    "\n",
    "To be clear, this syntax merely means that the input parameter must be a list, and the output must be a list. It's no different than any other function, it just puts a requirement on the behavior of the function.\n",
    "\n",
    "It is **typing** our function. Please [see this documention if you have more questions.](https://docs.python.org/3/library/typing.html)\n",
    "\n",
    "# Walkthrough Example (of Web Scraping)\n",
    "We're going to see the structure of Goodread's best books list (**NOTE: Goodreads is described a little more within the other Lab2_More_Pandas.ipynb notebook)**. We'll use the Developer tools in chrome, safari and firefox have similar tools available. To get this page we use the `requests` module. But first we should check if the company's policy allows scraping. Check the [robots.txt](https://www.goodreads.com/robots.txt) to find what sites/elements are not accessible. Please read and verify.\n",
    "\n",
    "![](images/goodreads1.png)"
   ]
  },
  {
   "cell_type": "code",
   "execution_count": 23,
   "metadata": {},
   "outputs": [
    {
     "ename": "IndentationError",
     "evalue": "unexpected indent (<ipython-input-23-630b934c476c>, line 2)",
     "output_type": "error",
     "traceback": [
      "\u001b[0;36m  File \u001b[0;32m\"<ipython-input-23-630b934c476c>\"\u001b[0;36m, line \u001b[0;32m2\u001b[0m\n\u001b[0;31m    response = requests.get(url)\u001b[0m\n\u001b[0m    ^\u001b[0m\n\u001b[0;31mIndentationError\u001b[0m\u001b[0;31m:\u001b[0m unexpected indent\n"
     ]
    }
   ],
   "source": [
    "url=\"https://www.npr.org/2018/11/05/664395755/what-if-the-polls-are-wrong-again-4-scenarios-for-what-might-happen-in-the-elect\"\n",
    "response = requests.get(url)\n",
    "# response.status_code\n",
    "# response.content\n",
    "\n",
    "# Beautiful Soup (library) time!\n",
    "soup = BeautifulSoup(response.content, \"html.parser\")\n",
    "    #print(soup)\n",
    "    # soup.prettify()\n",
    "soup.find(\"title\")\n",
    "\n",
    "    # Q1: how do we get the title's text?\n",
    "\n",
    "    # Q2: how do we get the webpage's entire content?"
   ]
  },
  {
   "cell_type": "code",
   "execution_count": 6,
   "metadata": {},
   "outputs": [
    {
     "name": "stdout",
     "output_type": "stream",
     "text": [
      "https://www.goodreads.com/list/show/1.Best_Books_Ever?page=1\n"
     ]
    }
   ],
   "source": [
    "URLSTART=\"https://www.goodreads.com\"\n",
    "BESTBOOKS=\"/list/show/1.Best_Books_Ever?page=\"\n",
    "url = URLSTART+BESTBOOKS+'1'\n",
    "print(url)\n",
    "page = requests.get(url)"
   ]
  },
  {
   "cell_type": "markdown",
   "metadata": {},
   "source": [
    "We can see properties of the page. Most relevant are `status_code` and `text`. The former tells us  if the web-page was found, and if found , ok. (See lecture notes.)"
   ]
  },
  {
   "cell_type": "code",
   "execution_count": 7,
   "metadata": {},
   "outputs": [
    {
     "data": {
      "text/plain": [
       "200"
      ]
     },
     "execution_count": 7,
     "metadata": {},
     "output_type": "execute_result"
    }
   ],
   "source": [
    "page.status_code # 200 is good"
   ]
  },
  {
   "cell_type": "code",
   "execution_count": 8,
   "metadata": {},
   "outputs": [
    {
     "data": {
      "text/plain": [
       "'<!DOCTYPE html>\\n<html class=\"desktop\\n\">\\n<head>\\n  <title>Best Books Ever (56897 books)</title>\\n\\n<meta content=\\'55,397 books based on 191605 votes: The Hunger Games by Suzanne Collins, Harry Potter and the Order of the Phoenix by J.K. Rowling, To Kill a Mockingbird...\\' name=\\'description\\'>\\n<meta content=\\'telephone=no\\' name=\\'format-detection\\'>\\n<link href=\\'https://www.goodreads.com/list/show/1.Best_Books_Ever\\' rel=\\'canonical\\'>\\n\\n\\n\\n    <script type=\"text/javascript\"> var ue_t0=window.ue_t0||+new Date();\\n </script>\\n  <script type=\"text/javascript\">\\n    var ue_mid = \"A1PQBFHBHS6YH1\";\\n    var ue_sn = \"www.goodreads.com\";\\n    var ue_furl = \"fls-na.amazon.com\";\\n    var ue_sid = \"865-1115738-3157714\";\\n    var ue_id = \"KYNGZWAZ0H7376V1SV7J\";\\n\\n    (function(e){var c=e;var a=c.ue||{};a.main_scope=\"mainscopecsm\";a.q=[];a.t0=c.ue_t0||+new Date();a.d=g;function g(h){return +new Date()-(h?0:a.t0)}function d(h){return function(){a.q.push({n:h,a:arguments,t:a.d()})}}function b(m,l,h,j,i){var k={m:m,f:l,l:h,c:\"\"+j,err:i,fromOnError:1,args:arguments};c.ueLogError(k);return false}b.skipTrace=1;e.onerror=b;function f(){c.uex(\"ld\")}if(e.addEventListener){e.addEventListener(\"load\",f,false)}else{if(e.attachEvent){e.attachEvent(\"onload\",f)}}a.tag=d(\"tag\");a.log=d(\"log\");a.reset=d(\"rst\");c.ue_csm=c;c.ue=a;c.ueLogError=d(\"err\");c.ues=d(\"ues\");c.uet=d(\"uet\");c.uex=d(\"uex\");c.uet(\"ue\")})(window);(function(e,d){var a=e.ue||{};function c(g){if(!g){return}var f=d.head||d.getElementsByTagName(\"head\")[0]||d.documentElement,h=d.createElement(\"script\");h.async=\"async\";h.src=g;f.insertBefore(h,f.firstChild)}function b(){var k=e.ue_cdn||\"z-ecx.images-amazon.com\",g=e.ue_cdns||\"images-na.ssl-images-amazon.com\",j=\"/images/G/01/csminstrumentation/\",h=e.ue_file||\"ue-full-11e51f253e8ad9d145f4ed644b40f692._V1_.js\",f,i;if(h.indexOf(\"NSTRUMENTATION_FIL\")>=0){return}if(\"ue_https\" in e){f=e.ue_https}else{f=e.location&&e.location.protocol==\"https:\"?1:0}i=f?\"https://\":\"http://\";i+=f?g:k;i+=j;i+=h;c(i)}if(!e.ue_inline){if(a.loadUEFull){a.loadUEFull()}else{b()}}a.uels=c;e.ue=a})(window,document);\\n\\n    if (window.ue && window.ue.tag) { window.ue.tag(\\'list:show:signed_out\\', ue.main_scope);window.ue.tag(\\'list:show:signed_out:desktop\\', ue.main_scope); }\\n  </script>\\n\\n\\n          <script type=\"text/javascript\">\\n        if (window.Mobvious === undefined) {\\n          window.Mobvious = {};\\n        }\\n        window.Mobvious.device_type = \\'desktop\\';\\n        </script>\\n\\n\\n  \\n<script src=\"https://s.gr-assets.com/assets/webfontloader-d1c43fc04f3369977d0513c94df0a504.js\"></script>\\n<script>\\n//<![CDATA[\\n\\n  WebFont.load({\\n    classes: false,\\n    custom: {\\n      families: [\"Lato:n4,n7,i4\", \"Merriweather:n4,n7,i4\"],\\n      urls: [\"https://s.gr-assets.com/assets/gr/fonts-e256f84093cc13b27f5b82343398031a.css\"]\\n    }\\n  });\\n\\n//]]>\\n</script>\\n\\n  <link rel=\"stylesheet\" media=\"all\" href=\"https://s.gr-assets.com/assets/goodreads-e0602235f1a104e5dfaa800cb7ec4372.css\" />\\n\\n    <style type=\"text/css\" media=\"screen\">\\n    .bigTabs {\\n      margin-bottom: 10px;\\n    }\\n\\n    .list_read{\\n      background-color: #D7D2C4;\\n      float: left;\\n    }\\n  </style>\\n\\n\\n  <link rel=\"stylesheet\" media=\"screen\" href=\"https://s.gr-assets.com/assets/common_images-670d97636259cafc355c94fc43e871d7.css\" />\\n\\n  <script src=\"https://s.gr-assets.com/assets/desktop/libraries-66d94f0e16192d36d665cef61079399b.js\"></script>\\n  <script src=\"https://s.gr-assets.com/assets/application-23a0b1de3a7fc05e444ee92bf98be9e5.js\"></script>\\n\\n    <script>\\n  //<![CDATA[\\n    var gptAdSlots = gptAdSlots || [];\\n    var googletag = googletag || {};\\n    googletag.cmd = googletag.cmd || [];\\n    (function() {\\n      var gads = document.createElement(\"script\");\\n      gads.async = true;\\n      gads.type = \"text/javascript\";\\n      var useSSL = \"https:\" == document.location.protocol;\\n      gads.src = (useSSL ? \"https:\" : \"http:\") +\\n      \"//securepubads.g.doubleclick.net/tag/js/gpt.js\";\\n      var node = document.getElementsByTagName(\"script\")[0];\\n      node.parentNode.insertBefore(gads, node);\\n    })();\\n    // page settings\\n  //]]>\\n</script>\\n<script>\\n  //<![CDATA[\\n    googletag.cmd.push(function() {\\n      googletag.pubads().setTargeting(\"sid\", \"osid.fde9822c62adf01f09b34f6861ee37cf\");\\n    googletag.pubads().setTargeting(\"grsession\", \"osid.fde9822c62adf01f09b34f6861ee37cf\");\\n    googletag.pubads().setTargeting(\"surface\", \"desktop\");\\n    googletag.pubads().setTargeting(\"signedin\", \"false\");\\n    googletag.pubads().setTargeting(\"gr_author\", \"false\");\\n    googletag.pubads().setTargeting(\"author\", []);\\n    googletag.pubads().setTargeting(\"shelf\", [\"best\",\"earliestlist\",\"favourites\",\"fiction\",\"writer\"]);\\n    googletag.pubads().setTargeting(\"gtargeting\", \"1z141z5\");\\n    googletag.pubads().setTargeting(\"resource\", \"List_1\");\\n      googletag.pubads().enableAsyncRendering();\\n      googletag.pubads().enableSingleRequest();\\n      googletag.pubads().collapseEmptyDivs(true);\\n      googletag.pubads().disableInitialLoad();\\n      googletag.enableServices();\\n    });\\n  //]]>\\n</script'"
      ]
     },
     "execution_count": 8,
     "metadata": {},
     "output_type": "execute_result"
    }
   ],
   "source": [
    "page.text[:5000]"
   ]
  },
  {
   "cell_type": "markdown",
   "metadata": {},
   "source": [
    "Let us write a loop to fetch 2 pages of \"best-books\" from goodreads. Notice the use of a format string. This is an example of old-style python format strings"
   ]
  },
  {
   "cell_type": "code",
   "execution_count": 9,
   "metadata": {},
   "outputs": [
    {
     "name": "stdout",
     "output_type": "stream",
     "text": [
      "FTW files/page01.html\n",
      "FTW files/page02.html\n"
     ]
    }
   ],
   "source": [
    "URLSTART=\"https://www.goodreads.com\"\n",
    "BESTBOOKS=\"/list/show/1.Best_Books_Ever?page=\"\n",
    "for i in range(1,3):\n",
    "    bookpage=str(i)\n",
    "    stuff=requests.get(URLSTART+BESTBOOKS+bookpage)\n",
    "    filetowrite=\"files/page\"+ '%02d' % i + \".html\"\n",
    "    print(\"FTW\", filetowrite)\n",
    "    fd=open(filetowrite,\"w\")\n",
    "    fd.write(stuff.text)\n",
    "    fd.close()\n",
    "    time.sleep(2)"
   ]
  },
  {
   "cell_type": "markdown",
   "metadata": {},
   "source": [
    "## 2. Parse the page, extract book urls\n",
    "\n",
    "Notice how we do file input-output, and use beautiful soup in the code below. The `with` construct ensures that the file being read is closed, something we do explicitly for the file being written. We look for the elements with class `bookTitle`, extract the urls, and write them into a file"
   ]
  },
  {
   "cell_type": "code",
   "execution_count": 11,
   "metadata": {},
   "outputs": [
    {
     "name": "stdout",
     "output_type": "stream",
     "text": [
      "FTW files/page01.html\n",
      "['/book/show/2767052-the-hunger-games', '/book/show/2.Harry_Potter_and_the_Order_of_the_Phoenix', '/book/show/2657.To_Kill_a_Mockingbird', '/book/show/1885.Pride_and_Prejudice', '/book/show/41865.Twilight', '/book/show/19063.The_Book_Thief', '/book/show/7613.Animal_Farm', '/book/show/11127.The_Chronicles_of_Narnia', '/book/show/30.J_R_R_Tolkien_4_Book_Boxed_Set', '/book/show/18405.Gone_with_the_Wind']\n",
      "FTW files/page02.html\n",
      "['/book/show/43763.Interview_with_the_Vampire', '/book/show/153747.Moby_Dick_or_the_Whale', '/book/show/5.Harry_Potter_and_the_Prisoner_of_Azkaban', '/book/show/4989.The_Red_Tent', '/book/show/37435.The_Secret_Life_of_Bees', '/book/show/7171637-clockwork-angel', '/book/show/6.Harry_Potter_and_the_Goblet_of_Fire', '/book/show/2187.Middlesex', '/book/show/49552.The_Stranger', '/book/show/16299.And_Then_There_Were_None']\n"
     ]
    }
   ],
   "source": [
    "bookdict={}\n",
    "for i in range(1,3):\n",
    "    books=[]\n",
    "    stri = '%02d' % i\n",
    "    filetoread=\"files/page\"+ stri + '.html'\n",
    "    print(\"FTW\", filetoread)\n",
    "    with open(filetoread) as fdr:\n",
    "        data = fdr.read()\n",
    "    soup = BeautifulSoup(data, 'html.parser')\n",
    "    for e in soup.select('.bookTitle'):\n",
    "        books.append(e['href'])\n",
    "    print(books[:10])\n",
    "    bookdict[stri]=books\n",
    "    fd=open(\"files/list\"+stri+\".txt\",\"w\")\n",
    "    fd.write(\"\\n\".join(books))\n",
    "    fd.close()"
   ]
  },
  {
   "cell_type": "markdown",
   "metadata": {},
   "source": [
    "Here is George Orwell's 1984"
   ]
  },
  {
   "cell_type": "code",
   "execution_count": 12,
   "metadata": {},
   "outputs": [
    {
     "data": {
      "text/plain": [
       "'/book/show/43763.Interview_with_the_Vampire'"
      ]
     },
     "execution_count": 12,
     "metadata": {},
     "output_type": "execute_result"
    }
   ],
   "source": [
    "bookdict['02'][0]"
   ]
  },
  {
   "cell_type": "markdown",
   "metadata": {},
   "source": [
    " Lets go look at the first URLs on both pages"
   ]
  },
  {
   "cell_type": "markdown",
   "metadata": {},
   "source": [
    "![](images/goodreads2.png)"
   ]
  },
  {
   "cell_type": "markdown",
   "metadata": {},
   "source": [
    "## 3. Parse a book page, extract book properties\n",
    "\n",
    "Ok so now lets dive in and get one of these these files and parse them."
   ]
  },
  {
   "cell_type": "code",
   "execution_count": 13,
   "metadata": {},
   "outputs": [
    {
     "data": {
      "text/plain": [
       "'https://www.goodreads.com/book/show/43763.Interview_with_the_Vampire'"
      ]
     },
     "execution_count": 13,
     "metadata": {},
     "output_type": "execute_result"
    }
   ],
   "source": [
    "furl=URLSTART+bookdict['02'][0]\n",
    "furl"
   ]
  },
  {
   "cell_type": "markdown",
   "metadata": {},
   "source": [
    "![](images/goodreads3.png)"
   ]
  },
  {
   "cell_type": "code",
   "execution_count": 14,
   "metadata": {},
   "outputs": [
    {
     "name": "stdout",
     "output_type": "stream",
     "text": [
      "200\n"
     ]
    }
   ],
   "source": [
    "fstuff=requests.get(furl)\n",
    "print(fstuff.status_code)"
   ]
  },
  {
   "cell_type": "code",
   "execution_count": 15,
   "metadata": {
    "collapsed": true
   },
   "outputs": [],
   "source": [
    "#d=BeautifulSoup(fstuff.text, 'html.parser')\n",
    "# try this to take care of arabic strings\n",
    "d = BeautifulSoup(fstuff.text, 'html.parser', from_encoding=\"utf-8\")"
   ]
  },
  {
   "cell_type": "code",
   "execution_count": 16,
   "metadata": {},
   "outputs": [
    {
     "data": {
      "text/plain": [
       "'Interview with the Vampire (The Vampire Chronicles, #1)'"
      ]
     },
     "execution_count": 16,
     "metadata": {},
     "output_type": "execute_result"
    }
   ],
   "source": [
    "d.select(\"meta[property='og:title']\")[0]['content']"
   ]
  },
  {
   "cell_type": "markdown",
   "metadata": {},
   "source": [
    "Lets get everything we want..."
   ]
  },
  {
   "cell_type": "code",
   "execution_count": 19,
   "metadata": {},
   "outputs": [
    {
     "name": "stdout",
     "output_type": "stream",
     "text": [
      "title Interview with the Vampire (The Vampire Chronicles, #1) \n",
      " isbn 9780345476876 \n",
      " type books.book \n",
      " author https://www.goodreads.com/author/show/7577.Anne_Rice \n",
      " ratingCount 446635 \n",
      "\n"
     ]
    }
   ],
   "source": [
    "#d=BeautifulSoup(fstuff.text, 'html.parser', from_encoding=\"utf-8\")\n",
    "print(\n",
    "\"title\", d.select_one(\"meta[property='og:title']\")['content'],\"\\n\",\n",
    "\"isbn\", d.select(\"meta[property='books:isbn']\")[0]['content'],\"\\n\",\n",
    "\"type\", d.select(\"meta[property='og:type']\")[0]['content'],\"\\n\",\n",
    "\"author\", d.select(\"meta[property='books:author']\")[0]['content'],\"\\n\",\n",
    "#\"average rating\", d.select_one(\"span.average\").text,\"\\n\",\n",
    "\"ratingCount\", d.select(\"meta[itemprop='ratingCount']\")[0][\"content\"],\"\\n\"\n",
    "#\"reviewCount\", d.select_one(\"span.count\")[\"title\"]\n",
    ")"
   ]
  },
  {
   "cell_type": "markdown",
   "metadata": {},
   "source": [
    "Ok, now that we know what to do, lets wrap our fetching into a proper script. So that we dont overwhelm their servers, we will only fetch 5 from each page, but you get the idea...\n",
    "\n",
    "We'll segue of a bit to explore new style format strings. See https://pyformat.info for more info."
   ]
  },
  {
   "cell_type": "code",
   "execution_count": 20,
   "metadata": {},
   "outputs": [
    {
     "data": {
      "text/plain": [
       "'list03.txt'"
      ]
     },
     "execution_count": 20,
     "metadata": {},
     "output_type": "execute_result"
    }
   ],
   "source": [
    "\"list{:0>2}.txt\".format(3)"
   ]
  },
  {
   "cell_type": "code",
   "execution_count": 21,
   "metadata": {
    "collapsed": true
   },
   "outputs": [],
   "source": [
    "a = \"4\"\n",
    "b = 4\n",
    "class Four:\n",
    "    def __str__(self):\n",
    "        return \"Fourteen\"\n",
    "c=Four()"
   ]
  },
  {
   "cell_type": "code",
   "execution_count": 22,
   "metadata": {},
   "outputs": [
    {
     "data": {
      "text/plain": [
       "'The hazy cat jumped over the 4 and 4 and Fourteen'"
      ]
     },
     "execution_count": 22,
     "metadata": {},
     "output_type": "execute_result"
    }
   ],
   "source": [
    "\"The hazy cat jumped over the {} and {} and {}\".format(a, b, c)"
   ]
  },
  {
   "cell_type": "markdown",
   "metadata": {},
   "source": [
    "## 4. Set up a pipeline for fetching and parsing\n",
    "\n",
    "Ok lets get back to the fetching..."
   ]
  },
  {
   "cell_type": "code",
   "execution_count": 23,
   "metadata": {},
   "outputs": [
    {
     "name": "stdout",
     "output_type": "stream",
     "text": [
      "FTW files/1_2767052-the-hunger-games.html\n",
      "FTW files/1_2.Harry_Potter_and_the_Order_of_the_Phoenix.html\n",
      "FTW files/1_2657.To_Kill_a_Mockingbird.html\n",
      "FTW files/1_1885.Pride_and_Prejudice.html\n",
      "FTW files/1_41865.Twilight.html\n",
      "FTW files/2_43763.Interview_with_the_Vampire.html\n",
      "FTW files/2_153747.Moby_Dick_or_the_Whale.html\n",
      "FTW files/2_5.Harry_Potter_and_the_Prisoner_of_Azkaban.html\n",
      "FTW files/2_4989.The_Red_Tent.html\n",
      "FTW files/2_37435.The_Secret_Life_of_Bees.html\n",
      "['files/1_2767052-the-hunger-games.html', 'files/1_2.Harry_Potter_and_the_Order_of_the_Phoenix.html', 'files/1_2657.To_Kill_a_Mockingbird.html', 'files/1_1885.Pride_and_Prejudice.html', 'files/1_41865.Twilight.html', 'files/2_43763.Interview_with_the_Vampire.html', 'files/2_153747.Moby_Dick_or_the_Whale.html', 'files/2_5.Harry_Potter_and_the_Prisoner_of_Azkaban.html', 'files/2_4989.The_Red_Tent.html', 'files/2_37435.The_Secret_Life_of_Bees.html']\n"
     ]
    }
   ],
   "source": [
    "fetched=[]\n",
    "for i in range(1,3):\n",
    "    with open(\"files/list{:0>2}.txt\".format(i)) as fd:\n",
    "        counter=0\n",
    "        for bookurl_line in fd:\n",
    "            if counter > 4:\n",
    "                break\n",
    "            bookurl=bookurl_line.strip()\n",
    "            stuff=requests.get(URLSTART+bookurl)\n",
    "            filetowrite=bookurl.split('/')[-1]\n",
    "            filetowrite=\"files/\"+str(i)+\"_\"+filetowrite+\".html\"\n",
    "            print(\"FTW\", filetowrite)\n",
    "            fd=open(filetowrite,\"w\")\n",
    "            fd.write(stuff.text)\n",
    "            fd.close()\n",
    "            fetched.append(filetowrite)\n",
    "            time.sleep(2)\n",
    "            counter=counter+1\n",
    "            \n",
    "print(fetched)"
   ]
  },
  {
   "cell_type": "markdown",
   "metadata": {},
   "source": [
    "Ok we are off to parse each one of the html pages we fetched. We have provided the skeleton of the code and the code to parse the year, since it is a bit more complex...see the difference in the screenshots above. "
   ]
  },
  {
   "cell_type": "code",
   "execution_count": 24,
   "metadata": {
    "collapsed": true
   },
   "outputs": [],
   "source": [
    "import re\n",
    "yearre = r'\\d{4}'\n",
    "def get_year(d):\n",
    "    if d.select_one(\"nobr.greyText\"):\n",
    "        return d.select_one(\"nobr.greyText\").text.strip().split()[-1][:-1]\n",
    "    else:\n",
    "        thetext=d.select(\"div#details div.row\")[1].text.strip()\n",
    "        rowmatch=re.findall(yearre, thetext)\n",
    "        if len(rowmatch) > 0:\n",
    "            rowtext=rowmatch[0].strip()\n",
    "        else:\n",
    "            rowtext=\"NA\"\n",
    "        return rowtext"
   ]
  },
  {
   "cell_type": "markdown",
   "metadata": {},
   "source": [
    "<div class=\"exercise\"><b>Exercise</b></div>\n",
    "\n",
    "Your job is to fill in the code to get the genres."
   ]
  },
  {
   "cell_type": "code",
   "execution_count": 25,
   "metadata": {
    "collapsed": true
   },
   "outputs": [],
   "source": [
    "def get_genres(d):\n",
    "    # your code here\n",
    "    genres=d.select(\"div.elementList div.left a\")\n",
    "    glist=[]\n",
    "    for g in genres:\n",
    "        glist.append(g['href'])\n",
    "    return glist"
   ]
  },
  {
   "cell_type": "code",
   "execution_count": 26,
   "metadata": {},
   "outputs": [
    {
     "name": "stdout",
     "output_type": "stream",
     "text": [
      "files/1_2767052-the-hunger-games.html\n",
      "files/1_2.Harry_Potter_and_the_Order_of_the_Phoenix.html\n",
      "files/1_2657.To_Kill_a_Mockingbird.html\n",
      "files/1_1885.Pride_and_Prejudice.html\n",
      "files/1_41865.Twilight.html\n",
      "files/2_43763.Interview_with_the_Vampire.html\n",
      "files/2_153747.Moby_Dick_or_the_Whale.html\n",
      "files/2_5.Harry_Potter_and_the_Prisoner_of_Azkaban.html\n",
      "files/2_4989.The_Red_Tent.html\n",
      "files/2_37435.The_Secret_Life_of_Bees.html\n"
     ]
    }
   ],
   "source": [
    "\n",
    "listofdicts=[]\n",
    "for filetoread in fetched:\n",
    "    print(filetoread)\n",
    "    td={}\n",
    "    with open(filetoread) as fd:\n",
    "        datext = fd.read()\n",
    "    d=BeautifulSoup(datext, 'html.parser')\n",
    "    td['title']=d.select_one(\"meta[property='og:title']\")['content']\n",
    "    td['isbn']=d.select_one(\"meta[property='books:isbn']\")['content']\n",
    "    td['booktype']=d.select_one(\"meta[property='og:type']\")['content']\n",
    "    td['author']=d.select_one(\"meta[property='books:author']\")['content']\n",
    "    #td['rating']=d.select_one(\"span.average\").text\n",
    "    td['year'] = get_year(d)\n",
    "    td['file']=filetoread\n",
    "    glist = get_genres(d)\n",
    "    td['genres']=\"|\".join(glist)\n",
    "    listofdicts.append(td)"
   ]
  },
  {
   "cell_type": "code",
   "execution_count": 27,
   "metadata": {},
   "outputs": [
    {
     "data": {
      "text/plain": [
       "{'title': 'The Hunger Games (The Hunger Games, #1)',\n",
       " 'isbn': '9780439023481',\n",
       " 'booktype': 'books.book',\n",
       " 'author': 'https://www.goodreads.com/author/show/153394.Suzanne_Collins',\n",
       " 'year': '2008',\n",
       " 'file': 'files/1_2767052-the-hunger-games.html',\n",
       " 'genres': '/genres/young-adult|/genres/fiction|/genres/science-fiction|/genres/dystopia|/genres/fantasy|/genres/science-fiction|/genres/romance|/genres/adventure|/genres/young-adult|/genres/teen|/genres/apocalyptic|/genres/post-apocalyptic|/genres/action'}"
      ]
     },
     "execution_count": 27,
     "metadata": {},
     "output_type": "execute_result"
    }
   ],
   "source": [
    "listofdicts[0]"
   ]
  },
  {
   "cell_type": "markdown",
   "metadata": {},
   "source": [
    "Finally lets write all this stuff into a csv file which we will use to do analysis."
   ]
  },
  {
   "cell_type": "code",
   "execution_count": 28,
   "metadata": {},
   "outputs": [
    {
     "data": {
      "text/html": [
       "<div>\n",
       "<style scoped>\n",
       "    .dataframe tbody tr th:only-of-type {\n",
       "        vertical-align: middle;\n",
       "    }\n",
       "\n",
       "    .dataframe tbody tr th {\n",
       "        vertical-align: top;\n",
       "    }\n",
       "\n",
       "    .dataframe thead th {\n",
       "        text-align: right;\n",
       "    }\n",
       "</style>\n",
       "<table border=\"1\" class=\"dataframe\">\n",
       "  <thead>\n",
       "    <tr style=\"text-align: right;\">\n",
       "      <th></th>\n",
       "      <th>author</th>\n",
       "      <th>booktype</th>\n",
       "      <th>file</th>\n",
       "      <th>genres</th>\n",
       "      <th>isbn</th>\n",
       "      <th>title</th>\n",
       "      <th>year</th>\n",
       "    </tr>\n",
       "  </thead>\n",
       "  <tbody>\n",
       "    <tr>\n",
       "      <th>0</th>\n",
       "      <td>https://www.goodreads.com/author/show/153394.S...</td>\n",
       "      <td>books.book</td>\n",
       "      <td>files/1_2767052-the-hunger-games.html</td>\n",
       "      <td>/genres/young-adult|/genres/fiction|/genres/sc...</td>\n",
       "      <td>9780439023481</td>\n",
       "      <td>The Hunger Games (The Hunger Games, #1)</td>\n",
       "      <td>2008</td>\n",
       "    </tr>\n",
       "    <tr>\n",
       "      <th>1</th>\n",
       "      <td>https://www.goodreads.com/author/show/1077326....</td>\n",
       "      <td>books.book</td>\n",
       "      <td>files/1_2.Harry_Potter_and_the_Order_of_the_Ph...</td>\n",
       "      <td>/genres/fantasy|/genres/young-adult|/genres/fi...</td>\n",
       "      <td>9780439358071</td>\n",
       "      <td>Harry Potter and the Order of the Phoenix (Har...</td>\n",
       "      <td>2003</td>\n",
       "    </tr>\n",
       "    <tr>\n",
       "      <th>2</th>\n",
       "      <td>https://www.goodreads.com/author/show/1825.Har...</td>\n",
       "      <td>books.book</td>\n",
       "      <td>files/1_2657.To_Kill_a_Mockingbird.html</td>\n",
       "      <td>/genres/classics|/genres/fiction|/genres/histo...</td>\n",
       "      <td>null</td>\n",
       "      <td>To Kill a Mockingbird (To Kill a Mockingbird, #1)</td>\n",
       "      <td>1960</td>\n",
       "    </tr>\n",
       "    <tr>\n",
       "      <th>3</th>\n",
       "      <td>https://www.goodreads.com/author/show/1265.Jan...</td>\n",
       "      <td>books.book</td>\n",
       "      <td>files/1_1885.Pride_and_Prejudice.html</td>\n",
       "      <td>/genres/classics|/genres/fiction|/genres/roman...</td>\n",
       "      <td>null</td>\n",
       "      <td>Pride and Prejudice</td>\n",
       "      <td>1813</td>\n",
       "    </tr>\n",
       "    <tr>\n",
       "      <th>4</th>\n",
       "      <td>https://www.goodreads.com/author/show/941441.S...</td>\n",
       "      <td>books.book</td>\n",
       "      <td>files/1_41865.Twilight.html</td>\n",
       "      <td>/genres/young-adult|/genres/fantasy|/genres/ro...</td>\n",
       "      <td>9780316015844</td>\n",
       "      <td>Twilight (Twilight, #1)</td>\n",
       "      <td>2005</td>\n",
       "    </tr>\n",
       "    <tr>\n",
       "      <th>5</th>\n",
       "      <td>https://www.goodreads.com/author/show/7577.Ann...</td>\n",
       "      <td>books.book</td>\n",
       "      <td>files/2_43763.Interview_with_the_Vampire.html</td>\n",
       "      <td>/genres/horror|/genres/fantasy|/genres/fiction...</td>\n",
       "      <td>9780345476876</td>\n",
       "      <td>Interview with the Vampire (The Vampire Chroni...</td>\n",
       "      <td>1976</td>\n",
       "    </tr>\n",
       "    <tr>\n",
       "      <th>6</th>\n",
       "      <td>https://www.goodreads.com/author/show/1624.Her...</td>\n",
       "      <td>books.book</td>\n",
       "      <td>files/2_153747.Moby_Dick_or_the_Whale.html</td>\n",
       "      <td>/genres/classics|/genres/fiction|/genres/liter...</td>\n",
       "      <td>9780142437247</td>\n",
       "      <td>Moby-Dick, or, the Whale</td>\n",
       "      <td>1851</td>\n",
       "    </tr>\n",
       "    <tr>\n",
       "      <th>7</th>\n",
       "      <td>https://www.goodreads.com/author/show/1077326....</td>\n",
       "      <td>books.book</td>\n",
       "      <td>files/2_5.Harry_Potter_and_the_Prisoner_of_Azk...</td>\n",
       "      <td>/genres/fantasy|/genres/young-adult|/genres/fi...</td>\n",
       "      <td>9780439655484</td>\n",
       "      <td>Harry Potter and the Prisoner of Azkaban (Harr...</td>\n",
       "      <td>1999</td>\n",
       "    </tr>\n",
       "    <tr>\n",
       "      <th>8</th>\n",
       "      <td>https://www.goodreads.com/author/show/626222.A...</td>\n",
       "      <td>books.book</td>\n",
       "      <td>files/2_4989.The_Red_Tent.html</td>\n",
       "      <td>/genres/historical|/genres/historical-fiction|...</td>\n",
       "      <td>9780312353766</td>\n",
       "      <td>The Red Tent</td>\n",
       "      <td>1997</td>\n",
       "    </tr>\n",
       "    <tr>\n",
       "      <th>9</th>\n",
       "      <td>https://www.goodreads.com/author/show/4711.Sue...</td>\n",
       "      <td>books.book</td>\n",
       "      <td>files/2_37435.The_Secret_Life_of_Bees.html</td>\n",
       "      <td>/genres/fiction|/genres/historical|/genres/his...</td>\n",
       "      <td>9780142001745</td>\n",
       "      <td>The Secret Life of Bees</td>\n",
       "      <td>2001</td>\n",
       "    </tr>\n",
       "  </tbody>\n",
       "</table>\n",
       "</div>"
      ],
      "text/plain": [
       "                                              author    booktype                                               file                                             genres           isbn                                              title  year\n",
       "0  https://www.goodreads.com/author/show/153394.S...  books.book              files/1_2767052-the-hunger-games.html  /genres/young-adult|/genres/fiction|/genres/sc...  9780439023481            The Hunger Games (The Hunger Games, #1)  2008\n",
       "1  https://www.goodreads.com/author/show/1077326....  books.book  files/1_2.Harry_Potter_and_the_Order_of_the_Ph...  /genres/fantasy|/genres/young-adult|/genres/fi...  9780439358071  Harry Potter and the Order of the Phoenix (Har...  2003\n",
       "2  https://www.goodreads.com/author/show/1825.Har...  books.book            files/1_2657.To_Kill_a_Mockingbird.html  /genres/classics|/genres/fiction|/genres/histo...           null  To Kill a Mockingbird (To Kill a Mockingbird, #1)  1960\n",
       "3  https://www.goodreads.com/author/show/1265.Jan...  books.book              files/1_1885.Pride_and_Prejudice.html  /genres/classics|/genres/fiction|/genres/roman...           null                                Pride and Prejudice  1813\n",
       "4  https://www.goodreads.com/author/show/941441.S...  books.book                        files/1_41865.Twilight.html  /genres/young-adult|/genres/fantasy|/genres/ro...  9780316015844                            Twilight (Twilight, #1)  2005\n",
       "5  https://www.goodreads.com/author/show/7577.Ann...  books.book      files/2_43763.Interview_with_the_Vampire.html  /genres/horror|/genres/fantasy|/genres/fiction...  9780345476876  Interview with the Vampire (The Vampire Chroni...  1976\n",
       "6  https://www.goodreads.com/author/show/1624.Her...  books.book         files/2_153747.Moby_Dick_or_the_Whale.html  /genres/classics|/genres/fiction|/genres/liter...  9780142437247                           Moby-Dick, or, the Whale  1851\n",
       "7  https://www.goodreads.com/author/show/1077326....  books.book  files/2_5.Harry_Potter_and_the_Prisoner_of_Azk...  /genres/fantasy|/genres/young-adult|/genres/fi...  9780439655484  Harry Potter and the Prisoner of Azkaban (Harr...  1999\n",
       "8  https://www.goodreads.com/author/show/626222.A...  books.book                     files/2_4989.The_Red_Tent.html  /genres/historical|/genres/historical-fiction|...  9780312353766                                       The Red Tent  1997\n",
       "9  https://www.goodreads.com/author/show/4711.Sue...  books.book         files/2_37435.The_Secret_Life_of_Bees.html  /genres/fiction|/genres/historical|/genres/his...  9780142001745                            The Secret Life of Bees  2001"
      ]
     },
     "execution_count": 28,
     "metadata": {},
     "output_type": "execute_result"
    }
   ],
   "source": [
    "df = pd.DataFrame.from_records(listofdicts)\n",
    "df"
   ]
  },
  {
   "cell_type": "code",
   "execution_count": 29,
   "metadata": {
    "collapsed": true
   },
   "outputs": [],
   "source": [
    "df.to_csv(\"files/meta_utf8_EK.csv\", index=False, header=True)"
   ]
  }
 ],
 "metadata": {
  "kernelspec": {
   "display_name": "Python 3",
   "language": "python",
   "name": "python3"
  },
  "language_info": {
   "codemirror_mode": {
    "name": "ipython",
    "version": 3
   },
   "file_extension": ".py",
   "mimetype": "text/x-python",
   "name": "python",
   "nbconvert_exporter": "python",
   "pygments_lexer": "ipython3",
   "version": "3.6.8"
  }
 },
 "nbformat": 4,
 "nbformat_minor": 1
}
