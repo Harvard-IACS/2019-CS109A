{
 "cells": [
  {
   "cell_type": "markdown",
   "metadata": {},
   "source": [
    "# <img style=\"float: left; padding-right: 10px; width: 45px\" src=\"https://raw.githubusercontent.com/Harvard-IACS/2018-CS109A/master/content/styles/iacs.png\"> CS109A Introduction to Data Science\n",
    "\n",
    "## Standard Section 5: Logistic Regression, Multiple Logistic Regression, and KNN-classification\n",
    "\n",
    "**Harvard University**<br/>\n",
    "**Fall 2019**<br/>\n",
    "**Instructors**: Pavlos Protopapas, Kevin Rader, and Chris Tanner<br/>\n",
    "**Section Leaders**: Marios Mattheakis, Abhimanyu (Abhi) Vasishth, Robbert (Rob) Struyven<br/>"
   ]
  },
  {
   "cell_type": "markdown",
   "metadata": {},
   "source": [
    "In this section we will be covering Linear Regression, KNN-Classification, and Logistic Regression on the famous iris dataset.\n",
    "\n",
    "Specifically, we will: \n",
    "    \n",
    "   1. Import data and data exploration.\n",
    "   2. Fit a linear regression model for classification, understand drawbacks, and interpret results.\n",
    "   3. Fit a simple logistic regression model for classification, compare performance, and interpret results.\n",
    "   4. Visualize Predictions and Decision boundaries.\n",
    "   5. Fit a higher order polynomial logistic regression model for classification, compare performance, plot decision boundaries, and interpret results.\n",
    "   6. Fit a higher order polynomial logistic regression model for classification with different regularization parameters C ( [10000, 100, 1] )\n",
    "   7. Optional: Fit a KNN-classification model for classification, plot decision boundaries, and interpret results.\n",
    "   8. Optional Homework Tip: Pipeline building to sequentially apply a list of transforms (e.g. scaling, polynomial feature creation) and a final estimator.\n",
    "   \n",
    "---------"
   ]
  },
  {
   "cell_type": "markdown",
   "metadata": {},
   "source": [
    "For this section we will be using the following packages:"
   ]
  },
  {
   "cell_type": "code",
   "execution_count": null,
   "metadata": {},
   "outputs": [],
   "source": [
    "# Data and Stats packages\n",
    "import numpy as np\n",
    "import pandas as pd\n",
    "\n",
    "import statsmodels.api as sm\n",
    "from statsmodels.api import OLS\n",
    "from sklearn import datasets\n",
    "from sklearn.model_selection import train_test_split\n",
    "from sklearn.linear_model import LogisticRegression\n",
    "from sklearn.linear_model import LinearRegression\n",
    "from sklearn.neighbors import KNeighborsClassifier\n",
    "from sklearn.metrics import accuracy_score\n",
    "\n",
    "# Visualization packages\n",
    "%matplotlib inline\n",
    "import matplotlib.pyplot as plt\n",
    "import seaborn as sns\n",
    "\n",
    "# Aesthetic settings\n",
    "from IPython.display import display\n",
    "pd.set_option('display.max_columns', 500)\n",
    "pd.set_option('display.width', 500)\n",
    "import warnings\n",
    "warnings.filterwarnings(\"ignore\")"
   ]
  },
  {
   "cell_type": "markdown",
   "metadata": {},
   "source": [
    "## 1. Import data and data exploration."
   ]
  },
  {
   "cell_type": "code",
   "execution_count": null,
   "metadata": {},
   "outputs": [],
   "source": [
    "dataset = datasets.load_iris()\n",
    "dataset.keys()"
   ]
  },
  {
   "cell_type": "markdown",
   "metadata": {},
   "source": [
    "#### What our the target and features? "
   ]
  },
  {
   "cell_type": "code",
   "execution_count": null,
   "metadata": {},
   "outputs": [],
   "source": [
    "print(dataset.target_names)\n",
    "print(dataset.feature_names)"
   ]
  },
  {
   "cell_type": "markdown",
   "metadata": {},
   "source": [
    "As we can see, the response variable (y) is the flower type, it has 3 classes: \n",
    "- setosa\n",
    "- versicolor\n",
    "- virginica\n",
    "\n",
    "The 4 predictor variables are flower characteristics (x):  \n",
    "- 'sepal length (cm)'\n",
    "- 'sepal width (cm)'\n",
    "- 'petal length (cm)'\n",
    "- 'petal width (cm)'"
   ]
  },
  {
   "cell_type": "code",
   "execution_count": null,
   "metadata": {},
   "outputs": [],
   "source": [
    "X = pd.DataFrame(data=dataset.data, columns=dataset.feature_names)\n",
    "y = pd.DataFrame(data=dataset.target, columns=['species'])\n",
    "print(X.shape)\n",
    "print(y.shape)"
   ]
  },
  {
   "cell_type": "code",
   "execution_count": null,
   "metadata": {},
   "outputs": [],
   "source": [
    "display(X.head())\n",
    "display(X.describe())"
   ]
  },
  {
   "cell_type": "code",
   "execution_count": null,
   "metadata": {},
   "outputs": [],
   "source": [
    "display(y.head())\n",
    "display(y.describe())"
   ]
  },
  {
   "cell_type": "markdown",
   "metadata": {},
   "source": [
    "## Explore Data \n",
    "\n",
    "Check which variables have high correlations and distinctive patterns with the response. \n",
    "\n",
    "Any patterns worth mentioning?"
   ]
  },
  {
   "cell_type": "code",
   "execution_count": null,
   "metadata": {},
   "outputs": [],
   "source": [
    "full_df = pd.concat([X,y], axis=1)\n",
    "full_df.head()"
   ]
  },
  {
   "cell_type": "code",
   "execution_count": null,
   "metadata": {},
   "outputs": [],
   "source": [
    "sns.pairplot(full_df)\n",
    "plt.show()"
   ]
  },
  {
   "cell_type": "markdown",
   "metadata": {},
   "source": [
    "**Are the features sepal/petal length and width uniformally distributed or do you observe some clusters of data points?**\n",
    "\n",
    "What do you expect? Let's add color according to our response variable: 'species' = flower species."
   ]
  },
  {
   "cell_type": "code",
   "execution_count": null,
   "metadata": {},
   "outputs": [],
   "source": [
    "sns.pairplot(full_df, hue='species')\n",
    "plt.show()"
   ]
  },
  {
   "cell_type": "markdown",
   "metadata": {},
   "source": [
    "Some features like 'petal length' and 'petal width' do have very high correlations and distinctive patterns with the response variable 'flower species'. When we would use these features for predicting the flower species, the classification wouldn't be very difficult. Certain ranges of 'petal length' and 'petal width' are very much correlated with a specific flower species and they are almost seperating our classes perfectly.\n",
    "\n",
    "**Just for illustration purposes we will continue to use only 'sepal width (cm)' and 'sepal length (cm)'. We are making the problem harder for ourselves by only using 'weaker' or less-discriminative features.**"
   ]
  },
  {
   "cell_type": "code",
   "execution_count": null,
   "metadata": {},
   "outputs": [],
   "source": [
    "X = X[['sepal width (cm)', 'sepal length (cm)']]"
   ]
  },
  {
   "cell_type": "markdown",
   "metadata": {},
   "source": [
    "### Train-Test Split"
   ]
  },
  {
   "cell_type": "code",
   "execution_count": null,
   "metadata": {},
   "outputs": [],
   "source": [
    "X_train, X_test, y_train, y_test = train_test_split(X, y, test_size=0.33, random_state=42)"
   ]
  },
  {
   "cell_type": "code",
   "execution_count": null,
   "metadata": {},
   "outputs": [],
   "source": [
    "print(X_train.shape)\n",
    "print(y_train.shape)\n",
    "\n",
    "print(X_test.shape)\n",
    "print(y_test.shape)"
   ]
  },
  {
   "cell_type": "markdown",
   "metadata": {},
   "source": [
    "## 2. Fit a linear regression model for classification, understand drawbacks, and interpret results."
   ]
  },
  {
   "cell_type": "code",
   "execution_count": null,
   "metadata": {},
   "outputs": [],
   "source": [
    "model_linear_sklearn = LinearRegression()\n",
    "\n",
    "#Add constant to x_train and x_test\n",
    "X_train_cst = sm.add_constant(X_train)\n",
    "X_test_cst = sm.add_constant(X_test)\n",
    "\n",
    "#Training\n",
    "model_linear_sklearn.fit(X_train_cst, y_train)\n",
    "\n",
    "#Predict\n",
    "y_pred_train = model_linear_sklearn.predict(X_train_cst)\n",
    "y_pred_test = model_linear_sklearn.predict(X_test_cst)\n",
    "\n",
    "#Performance Evaluation\n",
    "train_score = accuracy_score(y_train, y_pred_train)*100\n",
    "test_score = accuracy_score(y_test, y_pred_test)*100\n",
    "\n",
    "print(\"Training Set Accuracy:\",str(train_score)+'%')\n",
    "print(\"Testing Set Accuracy:\",str(test_score)+'%')"
   ]
  },
  {
   "cell_type": "markdown",
   "metadata": {},
   "source": [
    "**Why do we get this error? Something is wrong with y_train and y_pred_train...**"
   ]
  },
  {
   "cell_type": "code",
   "execution_count": null,
   "metadata": {},
   "outputs": [],
   "source": [
    "y_train[:5]"
   ]
  },
  {
   "cell_type": "code",
   "execution_count": null,
   "metadata": {},
   "outputs": [],
   "source": [
    "y_pred_train[:5]"
   ]
  },
  {
   "cell_type": "markdown",
   "metadata": {},
   "source": [
    "The fact that our linear regression is outputting continuous predicstions is one of the major drawbacks of linear regression for classification. We can solve this in two manners:\n",
    "- simply rounding our prediction by using ```np.round())``` and converting it to an int data type with ```.astype(int)```\n",
    "- or use a modified algorithm that has bounded outputs (more about Logistic Regression later)"
   ]
  },
  {
   "cell_type": "code",
   "execution_count": null,
   "metadata": {},
   "outputs": [],
   "source": [
    "np.round(y_pred_train[:5])"
   ]
  },
  {
   "cell_type": "code",
   "execution_count": null,
   "metadata": {},
   "outputs": [],
   "source": [
    "np.round(y_pred_train[:5]).astype(int)"
   ]
  },
  {
   "cell_type": "code",
   "execution_count": null,
   "metadata": {},
   "outputs": [],
   "source": [
    "model_linear_sklearn = LinearRegression()\n",
    "\n",
    "#Add constant to x_train and x_test\n",
    "X_train_cst = sm.add_constant(X_train)\n",
    "X_test_cst = sm.add_constant(X_test)\n",
    "\n",
    "#Training\n",
    "model_linear_sklearn.fit(X_train_cst, y_train)\n",
    "\n",
    "#Predict\n",
    "y_pred_train = np.round(model_linear_sklearn.predict(X_train_cst)).astype(int)\n",
    "y_pred_test = np.round(model_linear_sklearn.predict(X_test_cst)).astype(int)\n",
    "\n",
    "#Performance Evaluation\n",
    "train_score = accuracy_score(y_train, y_pred_train)*100\n",
    "test_score = accuracy_score(y_test, y_pred_test)*100\n",
    "\n",
    "print(\"Training Set Accuracy:\",str(train_score)+'%')\n",
    "print(\"Testing Set Accuracy:\",str(test_score)+'%')"
   ]
  },
  {
   "cell_type": "markdown",
   "metadata": {},
   "source": [
    "### Get Performance by Class (Lookup Confusion Matrix)\n",
    "\n",
    "- Each row of the matrix represents the instances in an actual class\n",
    "- Each column represents the instances in a predicted class (or vice versa)\n",
    "- The name stems from the fact that it makes it easy to see if the system is confusing two classes (i.e. commonly mislabeling one as another)."
   ]
  },
  {
   "cell_type": "code",
   "execution_count": null,
   "metadata": {},
   "outputs": [],
   "source": [
    "confusion_matrix_linear = pd.crosstab(  y_test.values.flatten(), \n",
    "                                        y_pred_test.flatten(), \n",
    "                                        rownames=['Actual Class'], \n",
    "                                        colnames=['Predicted Class'])\n",
    "display(confusion_matrix_linear)"
   ]
  },
  {
   "cell_type": "markdown",
   "metadata": {},
   "source": [
    "**How many classes do we have in our y_test and in our y_pred_test?**\n",
    "Why do we have 4 different predicted classes?"
   ]
  },
  {
   "cell_type": "markdown",
   "metadata": {},
   "source": [
    "**Can we use Linear Regression for classification?**\n",
    "\n",
    "**Four Assumptions of Linear Regression:**\n",
    "1. Linearity: Our dependent variable Y is a linear combination of the  explanatory variables X (and the error terms)\n",
    "2. Observations are independent of one another\n",
    "3. I.I.D error terms that are Normally Distributed ~ $N(0,\\sigma^2)$\n",
    "4. Design matrix X is Full Rank. \n",
    "\n",
    "**Suppose we have a binary outcome variable. Can we use Linear Regression?** \n",
    "\n",
    "Then we will have the following problems:\n",
    "1. The error terms are heteroskedastic\n",
    "2. $\\epsilon$ is not normally distributed because Y takes on only two values\n",
    "3. The predicted probabilities can be greater than 1 or less than 0\n",
    "\n",
    "**Datasets where linear regression is problematic:** \n",
    "1. Binary response data where there are only two outcomes (yes/no, 0/1, etc.)\n",
    "2. Categorical or Ordinal Data of any type, where the outcome is one of a number of discrete (possibly ordered) classes\n",
    "3. Count data in which the outcome is restricted to non-negative integers.\n",
    "4. Continuous data in which the noise is not normally distributed\n",
    "\n",
    "**Generalized Linear Models (GLMs), of which Logistic regression is a specific type, to the resque: Logistic regression is most useful for binary response and categorical data.**\n",
    " \n",
    "![Linear versus Logistic](http://res.cloudinary.com/dyd911kmh/image/upload/f_auto,q_auto:best/v1534281070/linear_vs_logistic_regression_edxw03.png)"
   ]
  },
  {
   "cell_type": "markdown",
   "metadata": {},
   "source": [
    "## 3. Fit a simple logistic regression model for classification, compare performance, plot decision boundaries, and interpret results.\n",
    "\n",
    "The logistic regression formula: \n",
    "\n",
    "$$\\hat{p}= \\dfrac{e^{w^T x}}{1+e^{w^T x}}$$\n",
    "\n",
    "This is equivalent to: \n",
    "\n",
    "$$\\hat{p}= \\dfrac{1}{1+e^{-w^T x}}$$\n",
    "\n",
    "--------\n",
    "\n",
    "![Sigmoid Function](https://miro.medium.com/max/3000/1*RqXFpiNGwdiKBWyLJc_E7g.png)\n",
    "\n",
    "[Medium Article: Detailed overview of Logistic Regression](https://towardsdatascience.com/logistic-regression-detailed-overview-46c4da4303bc)"
   ]
  },
  {
   "cell_type": "code",
   "execution_count": null,
   "metadata": {},
   "outputs": [],
   "source": [
    "#Training\n",
    "model_logistic = LogisticRegression(C=100).fit(X_train_cst, y_train)\n",
    "\n",
    "#Predict\n",
    "y_pred_train = model_logistic.predict(X_train_cst)\n",
    "y_pred_test = model_logistic.predict(X_test_cst)\n",
    "\n",
    "#Performance Evaluation\n",
    "train_score = accuracy_score(y_train, y_pred_train)*100\n",
    "test_score = accuracy_score(y_test, y_pred_test)*100\n",
    "\n",
    "print(\"Training Set Accuracy:\",str(train_score)+'%')\n",
    "print(\"Testing Set Accuracy:\",str(test_score)+'%')"
   ]
  },
  {
   "cell_type": "markdown",
   "metadata": {},
   "source": [
    "### Let's compare logistic regression against linear regression predictions\n",
    "\n",
    "- We fix X_train['sepal width (cm)'] to its mean value. \n",
    "    - ```x_1 = X_train['sepal width (cm)']````\n",
    "    - ```x_1_range  = np.ones_like(x_2_range)*x_1.mean()```\n",
    "- We varie X_train['sepal length (cm)'] from its minimum to its maximum and look how the predicted class evolves.\n",
    "    - ```x_2 = X_train['sepal length (cm)']```\n",
    "    - ```x_2_min, x_2_max = x_2.min(), x_2.max()+0.3```\n",
    "    - ```x_2_range  = np.arange(x_2_min, x_2_max, 0.003)```"
   ]
  },
  {
   "cell_type": "code",
   "execution_count": null,
   "metadata": {},
   "outputs": [],
   "source": [
    "# Making our input features (x_2 varying, x_1 constat = mean of x_1)\n",
    "x_1 = X_train['sepal width (cm)']\n",
    "x_2 = X_train['sepal length (cm)']\n",
    "\n",
    "x_2_min, x_2_max = x_2.min()-0.1, x_2.max()+0.3\n",
    "\n",
    "x_2_range  = np.arange(x_2_min, x_2_max, 0.003)\n",
    "x_constant = np.ones_like(x_2_range)\n",
    "x_1_range  = np.ones_like(x_2_range)*x_1.mean() \n",
    "\n",
    "# Construct our input features\n",
    "X_with_varying_x_2 = np.stack([x_constant.ravel(),\n",
    "                               x_1_range.ravel() ,\n",
    "                               x_2_range.ravel() ], axis = 1)\n",
    "\n",
    "# Make linear Predictions\n",
    "prediction_linear = model_linear_sklearn.predict(X_with_varying_x_2)\n",
    "\n",
    "# Make logistic Predictions\n",
    "prediction_proba = model_logistic.predict_proba(X_with_varying_x_2)\n",
    "prediction_thresholded = model_logistic.predict(X_with_varying_x_2)\n",
    "\n",
    "f,ax = plt.subplots(1,2, figsize=(14,6))\n",
    "# Plot Linear Predictions\n",
    "ax[0].plot(x_2_range, prediction_linear, label= 'Predicted Output (raw = continuous)')\n",
    "ax[0].plot(x_2_range, np.round(prediction_linear), label= 'Predicted Class (round = integer)')\n",
    "ax[0].legend()\n",
    "ax[0].set_title('Linear Regression: raw output and rounded output.')\n",
    "ax[0].set_ylim((-0.1,3.1))\n",
    "ax[0].set_xlabel('sepal length (cm)')\n",
    "\n",
    "# Plot Logistic Predictions\n",
    "ax[1].plot(x_2_range, prediction_proba[:,0], label= 'Class 0')\n",
    "ax[1].plot(x_2_range, prediction_proba[:,1], label= 'Class 1')\n",
    "ax[1].plot(x_2_range, prediction_proba[:,2], label= 'Class 2')\n",
    "ax[1].plot(x_2_range,prediction_thresholded, label= 'Predicted Class')\n",
    "ax[1].legend()\n",
    "ax[1].set_title('Logistic Regression: Predict_Proba Output per Class and the Predicted Class')\n",
    "ax[1].set_xlabel('sepal length (cm)')\n",
    "ax[1].set_ylim((-0.1,3.1))\n",
    "plt.show()"
   ]
  },
  {
   "cell_type": "markdown",
   "metadata": {},
   "source": [
    "#### How does our Logistic Regression come up with mutiple class predictions?\n",
    "\n",
    "\n",
    "- Each class $y_i$ has a sigmoid function that tries to predict the probability of the tested input belonging to that specific class $y_i$.\n",
    "  - In our case when we have 3 classes, thus we have 3 sigmoid functions (the blue, orange and green line in the right figure).\n",
    "\n",
    "\n",
    "- ```LogisticRegression().predict_proba(...)``` : returns probability estimates $P(y_i|x)$ for each $y_i$. In our case ```.predict_proba(...)``` returns 3 values (one for each class). In the figure we observe that : \n",
    "  - we have a **high probability of predicting Class 0** in regions with **low 'sepal length' values (left)**.\n",
    "  - we have a **high probability of predicting Class 1** in regions with **medium 'sepal length' regions (middle)**.\n",
    "  - have a **high probability of predicting Class 2** in regions with **high 'sepal length' regions (right)**.\n",
    "  \n",
    "  \n",
    "- ```LogisticRegression().predict(...)```: returns 1 value: the predicted class label. The class with the highest probability given by ```.predict_proba(...)``` is exactly the predicted class output of ```.predict(...)```\n",
    "  - In the figure our final prediction is the **red line**."
   ]
  },
  {
   "cell_type": "markdown",
   "metadata": {},
   "source": [
    "### Get Performance by Class (Lookup Confusion Matrix)"
   ]
  },
  {
   "cell_type": "code",
   "execution_count": null,
   "metadata": {},
   "outputs": [],
   "source": [
    "confusion_matrix_logistic = pd.crosstab(  y_test.values.flatten(), \n",
    "                                          y_pred_test.flatten(), \n",
    "                                          rownames=['Actual Class'], \n",
    "                                          colnames=['Predicted Class'])\n",
    "display(confusion_matrix_logistic)"
   ]
  },
  {
   "cell_type": "markdown",
   "metadata": {},
   "source": [
    "Let's compare the confusion matrix of our linear model to the confusion matrix of our logistic regression model: "
   ]
  },
  {
   "cell_type": "code",
   "execution_count": null,
   "metadata": {},
   "outputs": [],
   "source": [
    "print('######################################')\n",
    "print('Confusion Matrix Linear Regression:')\n",
    "display(confusion_matrix_linear)\n",
    "\n",
    "print('\\n######################################')\n",
    "print('Confusion Matrix Logistic Regression:')\n",
    "display(confusion_matrix_logistic)\n",
    "print('######################################')"
   ]
  },
  {
   "cell_type": "markdown",
   "metadata": {},
   "source": [
    "Now we do observe that the logistic regression has the correct number of predicted classes."
   ]
  },
  {
   "cell_type": "markdown",
   "metadata": {},
   "source": [
    "## 4. Visualize Predictions and Decision boundaries.\n",
    "\n",
    "**What are decision boundaries:**\n",
    " - In general, a pattern classifier carves up (or tesselates or partitions) the feature space into volumes called decision regions. \n",
    " - All feature vectors in a decision region are assigned to the same category."
   ]
  },
  {
   "cell_type": "code",
   "execution_count": null,
   "metadata": {},
   "outputs": [],
   "source": [
    "X_train.head()"
   ]
  },
  {
   "cell_type": "code",
   "execution_count": null,
   "metadata": {},
   "outputs": [],
   "source": [
    "def plot_points(ax):\n",
    "    for i, y_class in enumerate(set(y_train.values.flatten())):\n",
    "        index = (y_train == y_class).values\n",
    "        ax.scatter(X_train[index]['sepal width (cm)'],\n",
    "                   X_train[index]['sepal length (cm)'],\n",
    "                   c=colors[i],\n",
    "                   s=65, \n",
    "                   edgecolor='w',\n",
    "                   label=names[i])"
   ]
  },
  {
   "cell_type": "code",
   "execution_count": null,
   "metadata": {},
   "outputs": [],
   "source": [
    "f, ax = plt.subplots(1, 1, figsize=(6,6))\n",
    "\n",
    "colors = [\"red\", \"green\",\"blue\"]\n",
    "names = dataset.target_names\n",
    "\n",
    "plot_points(ax)\n",
    "\n",
    "ax.legend(bbox_to_anchor=(1, 1), loc='upper left', ncol=1)\n",
    "ax.set_title('Classes of Flowers')\n",
    "ax.set_ylabel('sepal length (cm)')\n",
    "ax.set_xlabel('sepal width (cm)')\n",
    "plt.show()"
   ]
  },
  {
   "cell_type": "markdown",
   "metadata": {},
   "source": [
    "**Plotting the decision boundary:** by using the following functions:\n",
    " - ```np.meshgrid(..)```: 'constructing a grid': np.meshgrid() returns coordinate matrices from coordinate vectors.\n",
    " - ```plt.contourf(..)```: contourf draws filled contours."
   ]
  },
  {
   "cell_type": "code",
   "execution_count": null,
   "metadata": {},
   "outputs": [],
   "source": [
    "x_1 = X_train['sepal width (cm)']\n",
    "x_2 = X_train['sepal length (cm)']\n",
    "\n",
    "# Just for illustration purposes we use a margin of 0.2 to the\n",
    "# left, right, top and bottum of our minimal and maximal points.\n",
    "# This way our minimal and maximal points won't lie exactly \n",
    "# on the axis. \n",
    "\n",
    "x_1_min, x_1_max = x_1.min() - 0.2, x_1.max() + 0.2\n",
    "x_2_min, x_2_max = x_2.min() - 0.2, x_2.max() + 0.2\n",
    "\n",
    "xx_1, xx_2 = np.meshgrid(np.arange(x_1_min, x_1_max, 0.003),\n",
    "                     np.arange(x_2_min, x_2_max, 0.003))"
   ]
  },
  {
   "cell_type": "code",
   "execution_count": null,
   "metadata": {},
   "outputs": [],
   "source": [
    "# Plotting decision regions\n",
    "f, ax = plt.subplots(1, 1, figsize=(6, 6))\n",
    "\n",
    "X_mesh = sm.add_constant(np.stack((xx_1.ravel(), xx_2.ravel()),axis=1))\n",
    "\n",
    "Z = model_logistic.predict(X_mesh)\n",
    "Z = Z.reshape(xx_1.shape)\n",
    "\n",
    "ax.contourf(xx_1, xx_2, Z, alpha=0.5, colors=colors, levels=2)\n",
    "\n",
    "plot_points(ax)\n",
    "    \n",
    "ax.legend(bbox_to_anchor=(1, 1), loc='upper left', ncol=1)\n",
    "ax.set_title('Classes of Flowers')\n",
    "ax.set_ylabel('sepal length (cm)')\n",
    "ax.set_xlabel('sepal width (cm)')\n",
    "    \n",
    "plt.show()"
   ]
  },
  {
   "cell_type": "markdown",
   "metadata": {},
   "source": [
    "**Why are the decision boundaries of this Logistic Regression linear?**\n",
    "\n",
    "Imagine the simple case where we have only a 2 class classification problem: \n",
    "The logistic regression formula can be written as: \n",
    "\n",
    "$$\\hat{p}= \\dfrac{e^{w^T x}}{1+e^{w^T x}}$$\n",
    "\n",
    "This is equivalent to: \n",
    "\n",
    "$$\\hat{p}= \\dfrac{1}{1+e^{-w^T x}}$$\n",
    "\n",
    "We have x_1 (sepal width), x_2 (sepal length), and our intercept (constant =1)\n",
    "\n",
    "$$\\hat{p}= \\dfrac{1}{1+e^{-(w_0 *1 + w_1 *x_1 +  w_2* x_2)}}$$\n",
    "\n",
    "Since we don't use multiple higher order polynomial features like $x_1^2, x_2^2$, our logistic model only depends on the first order simple features $x_1$ and $x_2$. \n",
    "\n",
    "**What do we have to do to find the the decision boundary?**\n",
    "\n",
    "The decision boundaries are exactly at the position where our algorithm \"hesitates\" when predicting which class to classify. The output probability of our sigmoid (or softmax) is exactly 0.5. Solving our sigmoid function for $p=0.5$:\n",
    "\n",
    "$$\\hat{p}= \\dfrac{1}{1+e^{-w^T x}} = 0.5 =  \\dfrac{1}{1+1} $$\n",
    "\n",
    "$$ e^{-w^T x} = 1$$\n",
    "\n",
    "$$ -w^T x = 0$$\n",
    "\n",
    "$$ w^T x = 0$$\n",
    "\n",
    "$$ w_0*1 + w_1 *x_1 +  w_2 *1x_2 = 0$$\n",
    "\n",
    "When we only use two predictor features this constraint of $p=0.5$ results in a linear system; thus we observe a **linear decision boundary.**\n",
    "\n",
    "In our case when we have three classes."
   ]
  },
  {
   "cell_type": "markdown",
   "metadata": {},
   "source": [
    "## 5. Fit a higher order polynomial logistic regression model for classification, compare performance, plot decision boundaries, and interpret results."
   ]
  },
  {
   "cell_type": "code",
   "execution_count": null,
   "metadata": {},
   "outputs": [],
   "source": [
    "X_train_cst.head()"
   ]
  },
  {
   "cell_type": "code",
   "execution_count": null,
   "metadata": {},
   "outputs": [],
   "source": [
    "X_train_poly_cst=X_train_cst.copy()\n",
    "X_train_poly_cst['sepal width (cm)^2'] = X_train_cst['sepal width (cm)']**2\n",
    "X_train_poly_cst['sepal length (cm)^2'] = X_train_cst['sepal length (cm)']**2\n",
    "\n",
    "X_test_poly_cst=X_test_cst.copy()\n",
    "X_test_poly_cst['sepal width (cm)^2'] = X_test_poly_cst['sepal width (cm)']**2\n",
    "X_test_poly_cst['sepal length (cm)^2'] = X_test_poly_cst['sepal length (cm)']**2\n",
    "X_test_poly_cst.head()"
   ]
  },
  {
   "cell_type": "code",
   "execution_count": null,
   "metadata": {},
   "outputs": [],
   "source": [
    "#Training\n",
    "model_logistic_poly = LogisticRegression(C=10000).fit(X_train_poly_cst, y_train)\n",
    "\n",
    "#Predict\n",
    "y_pred_train = model_logistic_poly.predict(X_train_poly_cst)\n",
    "y_pred_test = model_logistic_poly.predict(X_test_poly_cst)\n",
    "\n",
    "#Performance Evaluation\n",
    "train_score = accuracy_score(y_train, y_pred_train)*100\n",
    "test_score = accuracy_score(y_test, y_pred_test)*100\n",
    "\n",
    "print(\"Training Set Accuracy:\",str(train_score)+'%')\n",
    "print(\"Testing Set Accuracy:\",str(test_score)+'%')"
   ]
  },
  {
   "cell_type": "markdown",
   "metadata": {},
   "source": [
    "**Our test performance is decreasing, what might be happening?**\n",
    " - How would you test if this is happening? \n",
    " - How would you inhibit this phenomenon from happening?"
   ]
  },
  {
   "cell_type": "code",
   "execution_count": null,
   "metadata": {},
   "outputs": [],
   "source": [
    "# Plotting decision regions\n",
    "f, ax = plt.subplots(1, 1, figsize=(6, 6))\n",
    "\n",
    "X_mesh_poly = sm.add_constant(np.stack((xx_1.ravel(), xx_2.ravel(), xx_1.ravel()**2,xx_2.ravel()**2),axis=1))\n",
    "\n",
    "Z = model_logistic_poly.predict(X_mesh_poly)\n",
    "Z = Z.reshape(xx_1.shape)\n",
    "\n",
    "ax.contourf(xx_1, xx_2, Z, alpha=0.5, colors=colors, levels=2)\n",
    "\n",
    "plot_points(ax)\n",
    "    \n",
    "ax.legend(bbox_to_anchor=(1, 1), loc='upper left', ncol=1)\n",
    "ax.set_title('Classes of Flowers')\n",
    "ax.set_ylabel('sepal length (cm)')\n",
    "ax.set_xlabel('sepal width (cm)')\n",
    "    \n",
    "plt.show()"
   ]
  },
  {
   "cell_type": "markdown",
   "metadata": {},
   "source": [
    "**What do you observe regarding the form of the decision boundaries? Does this make sense?**\n",
    "\n",
    "$$\\hat{p}= \\dfrac{e^{w^T x}}{1+e^{w^T x}}$$\n",
    "\n",
    "This is equivalent to: \n",
    "\n",
    "$$\\hat{p}= \\dfrac{1}{1+e^{-w^T x}}$$\n",
    "\n",
    "Now we use $x_1$ (sepal width), $x_2$ (sepal length), an intercept (constant =1), PLUS two higher order terms while making predictions: \n",
    "- $x_1^2$ = (sepal_width)^2\n",
    "- $x_2^2$ = (sepal_length)^2\n",
    "\n",
    "$$\\hat{p}= \\dfrac{1}{1+e^{-(w_0 *1 + w_1 *x_1 +  w_2* x_2 + w_3 *x_1^2 +  w_4* x_2^2))}}$$\n",
    "\n",
    "Now solving for $p=0.5$ results in an equation also dependent on $x_1^2$ and $x_2^2$: thus we observe **non-linear decision boundaries.**"
   ]
  },
  {
   "cell_type": "markdown",
   "metadata": {},
   "source": [
    "## 6. Fit a higher order polynomial logistic regression model for classification with different regularization parameters C ( [10000, 100, 1] )"
   ]
  },
  {
   "cell_type": "code",
   "execution_count": null,
   "metadata": {},
   "outputs": [],
   "source": [
    "f, ax = plt.subplots(1, 3, figsize=(6*3, 6))\n",
    "\n",
    "model_logistics =[]\n",
    "model_logistics_test_accs_scores =[]\n",
    "model_logistics_train_accs_scores =[]\n",
    "\n",
    "for test, C in enumerate([10000, 100, 1]):\n",
    "    model_logistics.append(LogisticRegression(C=C).fit(X_train_poly_cst, y_train))\n",
    "    \n",
    "    y_pred_train = model_logistics[test].predict(X_train_poly_cst)\n",
    "    y_pred_test = model_logistics[test].predict(X_test_poly_cst)\n",
    "    model_logistics_train_accs_scores.append(accuracy_score(y_train, y_pred_train)*100)\n",
    "    model_logistics_test_accs_scores.append(accuracy_score(y_test, y_pred_test)*100)\n",
    "\n",
    "    Z = model_logistics[test].predict(X_mesh_poly)\n",
    "    Z = Z.reshape(xx_1.shape)\n",
    "\n",
    "    ax[test].contourf(xx_1, xx_2, Z, alpha=0.5, colors=colors, levels=2)\n",
    "    plot_points(ax[test])\n",
    "\n",
    "    ax[test].legend(loc='upper left', ncol=1)\n",
    "    ax[test].set_title('Classes of Flowers, with C = '+ str(C))\n",
    "    ax[test].set_ylabel('sepal length (cm)')\n",
    "    ax[test].set_xlabel('sepal width (cm)')\n",
    "    \n",
    "plt.show()"
   ]
  },
  {
   "cell_type": "markdown",
   "metadata": {},
   "source": [
    "**What do you observe?**\n",
    " - How are the decision boundaries looking?\n",
    " - What happens when the regularization term C changes? \n",
    " - You may want to look at the documentation of sklearn.linear.LogisticRegression():"
   ]
  },
  {
   "cell_type": "code",
   "execution_count": null,
   "metadata": {},
   "outputs": [],
   "source": [
    "# To get the documentation uncomment and run the following command:\n",
    "# LogisticRegression?"
   ]
  },
  {
   "cell_type": "markdown",
   "metadata": {},
   "source": [
    "**What do expect regarding the evolution of the norm of the coefficients of our models when the regularizatoin term C changes?**\n",
    "\n",
    "Our list contains all 3 models with different values for C (**take a look at the first parameter within brackets**)"
   ]
  },
  {
   "cell_type": "code",
   "execution_count": null,
   "metadata": {},
   "outputs": [],
   "source": [
    "model_logistics"
   ]
  },
  {
   "cell_type": "code",
   "execution_count": null,
   "metadata": {},
   "outputs": [],
   "source": [
    "for test, model in enumerate(model_logistics):\n",
    "    print('\\nRegularization parameter : \\tC = {}'.format(model.C))\n",
    "    print(\"Training Set Accuracy : \\t{}\".format(model_logistics_train_accs_scores[test])+'%')\n",
    "    print(\"Testing Set Accuracy : \\t\\t{}\".format(model_logistics_test_accs_scores[test])+'%')\n",
    "    print('Mean absolute coeficient : \\t{:0.2f}'.format(np.mean(np.abs(model.coef_))))"
   ]
  },
  {
   "cell_type": "markdown",
   "metadata": {},
   "source": [
    "**Interpretation of Results: What happens when our Regularization Parameter decreases?**\n",
    "\n",
    "The amount of regularizaiton increases. This results in:\n",
    "  - The Training Set Accuracy decreasing a little bit (not much of a problem)\n",
    "  - The Test Set Accuracy decreasing a little bit (better generalization!)\n",
    "  - Our size of coefficents decreases on average.\n"
   ]
  },
  {
   "cell_type": "markdown",
   "metadata": {},
   "source": [
    "**END OF STANDARD SECTION**\n",
    "\n",
    "-------"
   ]
  },
  {
   "cell_type": "markdown",
   "metadata": {},
   "source": [
    "### Optional: Fit a KNN-classification model for classification, plot decision boundaries, and interpret results."
   ]
  },
  {
   "cell_type": "code",
   "execution_count": null,
   "metadata": {},
   "outputs": [],
   "source": [
    "#Training\n",
    "model_KNN_classifier = KNeighborsClassifier(n_neighbors=1).fit(X_train_cst, y_train)"
   ]
  },
  {
   "cell_type": "code",
   "execution_count": null,
   "metadata": {},
   "outputs": [],
   "source": [
    "#Predict\n",
    "y_pred_train = model_KNN_classifier.predict(X_train_cst)\n",
    "y_pred_test = model_KNN_classifier.predict(X_test_cst)\n",
    "\n",
    "#Performance Evaluation\n",
    "train_score = accuracy_score(y_train, y_pred_train)*100\n",
    "test_score = accuracy_score(y_test, y_pred_test)*100\n",
    "\n",
    "print(\"Training Set Accuracy:\",str(train_score)+'%')\n",
    "print(\"Testing Set Accuracy:\",str(test_score)+'%')"
   ]
  },
  {
   "cell_type": "markdown",
   "metadata": {},
   "source": [
    "The fact we have a big gap of performance between the test and training set means we are overfitting, and can be explained by using \"n_neighbors=1\"."
   ]
  },
  {
   "cell_type": "markdown",
   "metadata": {},
   "source": [
    "**Based on your knowledge of KNN-regression can you guess how the decision boundary of the KNN-classification will look when using \"n_neighbors=1\"?**\n"
   ]
  },
  {
   "cell_type": "code",
   "execution_count": null,
   "metadata": {},
   "outputs": [],
   "source": [
    "# Plotting decision regions\n",
    "f, ax = plt.subplots(1, 1, figsize=(6, 6))\n",
    "\n",
    "Z = model_KNN_classifier.predict(X_mesh)\n",
    "Z = Z.reshape(xx_1.shape)\n",
    "\n",
    "ax.contourf(xx_1, xx_2, Z, alpha=0.5, colors=colors, levels=2)\n",
    "\n",
    "plot_points(ax)\n",
    "    \n",
    "ax.legend(bbox_to_anchor=(1, 1), loc='upper left', ncol=1)\n",
    "ax.set_title('Classes of Flowers')\n",
    "ax.set_ylabel('sepal length (cm)')\n",
    "ax.set_xlabel('sepal width (cm)')\n",
    "plt.show()"
   ]
  },
  {
   "cell_type": "markdown",
   "metadata": {},
   "source": [
    "### 8. Optional Homework Tip: Pipeline building to sequentially apply a list of transforms (e.g. scaling, polynomial feature creation) and a final estimator.\n",
    "\n",
    "Instead of manually building our polynomial features which might take a lot of lines of code we can use a **pipeline** to sequentially create polynomials before fitting our logistic regression. Scaling can also be done inside the ```make_pipeline```.\n",
    "\n",
    "Previously we did: \n",
    "```\n",
    "X_train_poly_cst=X_train_cst.copy()\n",
    "X_train_poly_cst['sepal width (cm)^2'] = X_train_cst['sepal width (cm)']**2\n",
    "X_train_poly_cst['sepal length (cm)^2'] = X_train_cst['sepal length (cm)']**2\n",
    "\n",
    "X_test_poly_cst=X_test_cst.copy()\n",
    "X_test_poly_cst['sepal width (cm)^2'] = X_test_poly_cst['sepal width (cm)']**2\n",
    "X_test_poly_cst['sepal length (cm)^2'] = X_test_poly_cst['sepal length (cm)']**2 \n",
    "```\n",
    "\n",
    "Now it is a one-liner: \n",
    "```\n",
    "make_pipeline(PolynomialFeatures(degree=2), LogisticRegression())\n",
    "```"
   ]
  },
  {
   "cell_type": "code",
   "execution_count": null,
   "metadata": {},
   "outputs": [],
   "source": [
    "# your code here\n",
    "from sklearn.pipeline import make_pipeline\n",
    "from sklearn.preprocessing import PolynomialFeatures\n",
    "\n",
    "polynomial_logreg_estimator = make_pipeline(\n",
    "    PolynomialFeatures(degree=2, include_bias=False),\n",
    "    LogisticRegression())\n",
    "\n",
    "#Training\n",
    "polynomial_logreg_estimator.fit(X_train_poly_cst, y_train)\n",
    "\n",
    "#Predict\n",
    "y_pred_train = polynomial_logreg_estimator.predict(X_train_poly_cst)\n",
    "y_pred_test = polynomial_logreg_estimator.predict(X_test_poly_cst)\n",
    "\n",
    "#Performance Evaluation\n",
    "train_score = accuracy_score(y_train, y_pred_train)*100\n",
    "test_score = accuracy_score(y_test, y_pred_test)*100\n",
    "\n",
    "print(\"Training Set Accuracy:\",str(train_score)+'%')\n",
    "print(\"Testing Set Accuracy:\",str(test_score)+'%')"
   ]
  },
  {
   "cell_type": "markdown",
   "metadata": {},
   "source": [
    "----------------------"
   ]
  }
 ],
 "metadata": {
  "anaconda-cloud": {},
  "kernelspec": {
   "display_name": "Python 3",
   "language": "python",
   "name": "python3"
  },
  "language_info": {
   "codemirror_mode": {
    "name": "ipython",
    "version": 3
   },
   "file_extension": ".py",
   "mimetype": "text/x-python",
   "name": "python",
   "nbconvert_exporter": "python",
   "pygments_lexer": "ipython3",
   "version": "3.7.4"
  },
  "varInspector": {
   "cols": {
    "lenName": 16,
    "lenType": 16,
    "lenVar": 40
   },
   "kernels_config": {
    "python": {
     "delete_cmd_postfix": "",
     "delete_cmd_prefix": "del ",
     "library": "var_list.py",
     "varRefreshCmd": "print(var_dic_list())"
    },
    "r": {
     "delete_cmd_postfix": ") ",
     "delete_cmd_prefix": "rm(",
     "library": "var_list.r",
     "varRefreshCmd": "cat(var_dic_list()) "
    }
   },
   "types_to_exclude": [
    "module",
    "function",
    "builtin_function_or_method",
    "instance",
    "_Feature"
   ],
   "window_display": false
  }
 },
 "nbformat": 4,
 "nbformat_minor": 1
}
